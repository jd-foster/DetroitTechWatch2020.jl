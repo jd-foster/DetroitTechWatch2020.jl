{
 "cells": [
  {
   "cell_type": "code",
   "execution_count": 1,
   "metadata": {
    "slideshow": {
     "slide_type": "skip"
    }
   },
   "outputs": [
    {
     "name": "stderr",
     "output_type": "stream",
     "text": [
      "\u001b[32m\u001b[1m  Activating\u001b[22m\u001b[39m project at `~/julia/rdeits_talk/DetroitTechWatch2020.jl`\n"
     ]
    }
   ],
   "source": [
    "using Pkg\n",
    "Pkg.activate(\".\")\n",
    "Pkg.instantiate()"
   ]
  },
  {
   "cell_type": "markdown",
   "metadata": {
    "slideshow": {
     "slide_type": "slide"
    }
   },
   "source": [
    "# Intro to Julia\n",
    "\n",
    "## Research Software Engineering Community of Practice Meeting\n",
    "### CSIRO Energy Systems\n",
    "### 4th August 2022\n",
    "\n",
    "\n",
    "### Credit: Slides thanks to Robin Deits, Detroit Tech Watch May 26, 2020\n",
    "\n",
    "Original at: https://tinyurl.com/tech-watch-julia [1]\n",
    "\n",
    "[1] https://github.com/rdeits/DetroitTechWatch2020.jl/blob/master/Intro%20to%20Julia.ipynb"
   ]
  },
  {
   "cell_type": "markdown",
   "metadata": {
    "slideshow": {
     "slide_type": "slide"
    }
   },
   "source": [
    "# Overview\n",
    "\n",
    "* What is Julia?\n",
    "* Tour of Julia\n",
    "  * Functions, types, multiple dispatch\n",
    "* Julia is fast! \n",
    "  * Benchmarking Julia vs. C and Python\n",
    "* Bonus Features of Julia\n",
    "  * Async tasks, multiprocessing, and metaprogramming\n",
    "* What's hard to do in Julia?\n",
    "* Essential Julia packages and tools"
   ]
  },
  {
   "cell_type": "markdown",
   "metadata": {
    "slideshow": {
     "slide_type": "slide"
    }
   },
   "source": [
    "# What is Julia\n",
    "\n",
    "<https://docs.julialang.org/en/v1/>\n",
    "\n",
    "* Julia is a high-level language like Python with the performance of a fast language like C\n",
    "* Julia is a great choice for scientific computing, with:\n",
    "  * Excellent performance\n",
    "  * N-dimensional arrays\n",
    "  * Parallel and distributed computing\n",
    "* And it's also a nice environment for general purpose programming, with:\n",
    "  * An active ecosystem of packages and good tools for managing them\n",
    "  * A rich type system\n",
    "  * Iterators, asynchronous tasks, and coroutines\n"
   ]
  },
  {
   "cell_type": "markdown",
   "metadata": {
    "slideshow": {
     "slide_type": "subslide"
    }
   },
   "source": [
    "# Julia at a Glance\n",
    "\n",
    "* First public release in 2012, version 1.0 released in 2018\n",
    "* Free\n",
    "    * Julia itself is BSD licensed\n",
    "    * It bundles some GPLed libraries (which can be disabled if desired)\n",
    "* Built-in JIT compiler transforms Julia code to native assembly at run time\n",
    "  * Uses LLVM under the hood\n",
    "* Garbage collected\n",
    "* Dynamically typed\n",
    "* Organized via multiple dispatch"
   ]
  },
  {
   "cell_type": "markdown",
   "metadata": {
    "slideshow": {
     "slide_type": "slide"
    }
   },
   "source": [
    "# A Tour of Julia"
   ]
  },
  {
   "cell_type": "markdown",
   "metadata": {
    "slideshow": {
     "slide_type": "subslide"
    }
   },
   "source": [
    "##  The Basics"
   ]
  },
  {
   "cell_type": "markdown",
   "metadata": {
    "slideshow": {
     "slide_type": "fragment"
    }
   },
   "source": [
    "Arithmetic:"
   ]
  },
  {
   "cell_type": "code",
   "execution_count": 2,
   "metadata": {
    "slideshow": {
     "slide_type": "-"
    }
   },
   "outputs": [
    {
     "data": {
      "text/plain": [
       "4"
      ]
     },
     "execution_count": 2,
     "metadata": {},
     "output_type": "execute_result"
    }
   ],
   "source": [
    "2 + 2"
   ]
  },
  {
   "cell_type": "markdown",
   "metadata": {
    "slideshow": {
     "slide_type": "fragment"
    }
   },
   "source": [
    "Strings:"
   ]
  },
  {
   "cell_type": "code",
   "execution_count": 3,
   "metadata": {
    "slideshow": {
     "slide_type": "-"
    }
   },
   "outputs": [
    {
     "name": "stdout",
     "output_type": "stream",
     "text": [
      "hello world\n"
     ]
    }
   ],
   "source": [
    "# Strings\n",
    "println(\"hello world\")"
   ]
  },
  {
   "cell_type": "markdown",
   "metadata": {
    "slideshow": {
     "slide_type": "fragment"
    }
   },
   "source": [
    "Arrays:"
   ]
  },
  {
   "cell_type": "code",
   "execution_count": 4,
   "metadata": {
    "slideshow": {
     "slide_type": "-"
    }
   },
   "outputs": [
    {
     "data": {
      "text/plain": [
       "4-element Vector{Int64}:\n",
       " 1\n",
       " 2\n",
       " 3\n",
       " 4"
      ]
     },
     "execution_count": 4,
     "metadata": {},
     "output_type": "execute_result"
    }
   ],
   "source": [
    "x = [1, 2, 3, 4]"
   ]
  },
  {
   "cell_type": "markdown",
   "metadata": {
    "slideshow": {
     "slide_type": "subslide"
    }
   },
   "source": [
    "## Functions"
   ]
  },
  {
   "cell_type": "code",
   "execution_count": 5,
   "metadata": {},
   "outputs": [
    {
     "data": {
      "text/plain": [
       "say_hello (generic function with 1 method)"
      ]
     },
     "execution_count": 5,
     "metadata": {},
     "output_type": "execute_result"
    }
   ],
   "source": [
    "function say_hello(name)\n",
    "    println(\"hello \", name)\n",
    "end"
   ]
  },
  {
   "cell_type": "code",
   "execution_count": 6,
   "metadata": {
    "slideshow": {
     "slide_type": "fragment"
    }
   },
   "outputs": [
    {
     "name": "stdout",
     "output_type": "stream",
     "text": [
      "hello world\n"
     ]
    }
   ],
   "source": [
    "say_hello(\"world\")"
   ]
  },
  {
   "cell_type": "markdown",
   "metadata": {
    "slideshow": {
     "slide_type": "fragment"
    }
   },
   "source": [
    "By default, a function is generic, so you can pass in any type you want:"
   ]
  },
  {
   "cell_type": "code",
   "execution_count": 7,
   "metadata": {},
   "outputs": [
    {
     "name": "stdout",
     "output_type": "stream",
     "text": [
      "hello [1, 2, 3]\n"
     ]
    }
   ],
   "source": [
    "say_hello([1, 2, 3])"
   ]
  },
  {
   "cell_type": "markdown",
   "metadata": {
    "slideshow": {
     "slide_type": "subslide"
    }
   },
   "source": [
    "## Types\n",
    "\n",
    "Every value in Julia has a type:"
   ]
  },
  {
   "cell_type": "code",
   "execution_count": 8,
   "metadata": {},
   "outputs": [
    {
     "data": {
      "text/plain": [
       "Float64"
      ]
     },
     "execution_count": 8,
     "metadata": {},
     "output_type": "execute_result"
    }
   ],
   "source": [
    "typeof(1.0)"
   ]
  },
  {
   "cell_type": "code",
   "execution_count": 9,
   "metadata": {
    "slideshow": {
     "slide_type": "fragment"
    }
   },
   "outputs": [
    {
     "data": {
      "text/plain": [
       "Int64"
      ]
     },
     "execution_count": 9,
     "metadata": {},
     "output_type": "execute_result"
    }
   ],
   "source": [
    "typeof(1)"
   ]
  },
  {
   "cell_type": "code",
   "execution_count": 10,
   "metadata": {
    "slideshow": {
     "slide_type": "fragment"
    }
   },
   "outputs": [
    {
     "data": {
      "text/plain": [
       "Irrational{:π}"
      ]
     },
     "execution_count": 10,
     "metadata": {},
     "output_type": "execute_result"
    }
   ],
   "source": [
    "typeof(π)"
   ]
  },
  {
   "cell_type": "code",
   "execution_count": 11,
   "metadata": {
    "slideshow": {
     "slide_type": "fragment"
    }
   },
   "outputs": [
    {
     "data": {
      "text/plain": [
       "Vector{Int64} (alias for Array{Int64, 1})"
      ]
     },
     "execution_count": 11,
     "metadata": {},
     "output_type": "execute_result"
    }
   ],
   "source": [
    "typeof([1, 2, 3])"
   ]
  },
  {
   "cell_type": "markdown",
   "metadata": {
    "slideshow": {
     "slide_type": "subslide"
    }
   },
   "source": [
    "You can create your own types to organize your data:"
   ]
  },
  {
   "cell_type": "code",
   "execution_count": 12,
   "metadata": {},
   "outputs": [
    {
     "data": {
      "text/plain": [
       "Person(\"Alice\")"
      ]
     },
     "execution_count": 12,
     "metadata": {},
     "output_type": "execute_result"
    }
   ],
   "source": [
    "struct Person\n",
    "  name::String\n",
    "end\n",
    "\n",
    "alice = Person(\"Alice\")"
   ]
  },
  {
   "cell_type": "markdown",
   "metadata": {
    "slideshow": {
     "slide_type": "fragment"
    }
   },
   "source": [
    "Julia's types are extremely lightweight, and user-defined types are *exactly* as performant as anything built-in:"
   ]
  },
  {
   "cell_type": "code",
   "execution_count": 13,
   "metadata": {},
   "outputs": [
    {
     "data": {
      "text/plain": [
       "true"
      ]
     },
     "execution_count": 13,
     "metadata": {},
     "output_type": "execute_result"
    }
   ],
   "source": [
    "sizeof(Person) == sizeof(Ptr{String})"
   ]
  },
  {
   "cell_type": "markdown",
   "metadata": {
    "slideshow": {
     "slide_type": "slide"
    }
   },
   "source": [
    "## Multiple Dispatch\n",
    "\n",
    "Julia does not have classes like Java, Python, or C++. Instead, code is organized around *multiple dispatch*, where the compiler chooses the appropriate method of a given function based on the types of *all* of its input arguments. \n",
    "\n",
    "For more, see: [The Unreasonable Effectiveness of Multiple Dispatch (Stefan Karpinski, JuliaCon 2019)](https://www.youtube.com/watch?v=kc9HwsxE1OY)"
   ]
  },
  {
   "cell_type": "code",
   "execution_count": 14,
   "metadata": {
    "slideshow": {
     "slide_type": "subslide"
    }
   },
   "outputs": [
    {
     "data": {
      "text/plain": [
       "greet (generic function with 1 method)"
      ]
     },
     "execution_count": 14,
     "metadata": {},
     "output_type": "execute_result"
    }
   ],
   "source": [
    "greet(x, y) = println(\"$x greets $y\")"
   ]
  },
  {
   "cell_type": "code",
   "execution_count": 15,
   "metadata": {
    "slideshow": {
     "slide_type": "fragment"
    }
   },
   "outputs": [
    {
     "name": "stdout",
     "output_type": "stream",
     "text": [
      "Person(\"alice\") greets Person(\"bob\")\n"
     ]
    }
   ],
   "source": [
    "alice = Person(\"alice\")\n",
    "bob = Person(\"bob\")\n",
    "\n",
    "greet(alice, bob)"
   ]
  },
  {
   "cell_type": "markdown",
   "metadata": {
    "slideshow": {
     "slide_type": "fragment"
    }
   },
   "source": [
    "Currently there is only one `greet()` function, and it will work on `x` and `y` of any type:"
   ]
  },
  {
   "cell_type": "code",
   "execution_count": 16,
   "metadata": {},
   "outputs": [
    {
     "name": "stdout",
     "output_type": "stream",
     "text": [
      "[1, 2, 3] greets hello world\n"
     ]
    }
   ],
   "source": [
    "greet([1, 2, 3], \"hello world\")"
   ]
  },
  {
   "cell_type": "markdown",
   "metadata": {
    "slideshow": {
     "slide_type": "subslide"
    }
   },
   "source": [
    "We can use abstract types to organize the behavior of related types:"
   ]
  },
  {
   "cell_type": "code",
   "execution_count": 17,
   "metadata": {},
   "outputs": [],
   "source": [
    "abstract type Animal end\n",
    "\n",
    "struct Cat <: Animal\n",
    "    name::String\n",
    "end"
   ]
  },
  {
   "cell_type": "markdown",
   "metadata": {
    "slideshow": {
     "slide_type": "fragment"
    }
   },
   "source": [
    "We've already defined `greet(x, y)` for any `x` and `y`, but we can add another definition for a more specific set of input types.\n",
    "\n",
    "We can be as specific or as general as we like with the argument types:"
   ]
  },
  {
   "cell_type": "code",
   "execution_count": 18,
   "metadata": {},
   "outputs": [
    {
     "data": {
      "text/plain": [
       "greet (generic function with 2 methods)"
      ]
     },
     "execution_count": 18,
     "metadata": {},
     "output_type": "execute_result"
    }
   ],
   "source": [
    "greet(x::Person, y::Animal) = println(\"$x pats $y\")"
   ]
  },
  {
   "cell_type": "code",
   "execution_count": 19,
   "metadata": {
    "slideshow": {
     "slide_type": "fragment"
    }
   },
   "outputs": [
    {
     "data": {
      "text/plain": [
       "greet (generic function with 3 methods)"
      ]
     },
     "execution_count": 19,
     "metadata": {},
     "output_type": "execute_result"
    }
   ],
   "source": [
    "greet(x::Cat, y) = println(\"$x meows at $y\")"
   ]
  },
  {
   "cell_type": "markdown",
   "metadata": {
    "slideshow": {
     "slide_type": "subslide"
    }
   },
   "source": [
    "Julia will always pick the *most specific* method that matches the provided function arguments."
   ]
  },
  {
   "cell_type": "code",
   "execution_count": 20,
   "metadata": {},
   "outputs": [
    {
     "name": "stdout",
     "output_type": "stream",
     "text": [
      "Person(\"alice\") pats Cat(\"fluffy\")\n"
     ]
    }
   ],
   "source": [
    "fluffy = Cat(\"fluffy\")\n",
    "\n",
    "greet(alice, fluffy)"
   ]
  },
  {
   "cell_type": "code",
   "execution_count": 21,
   "metadata": {
    "slideshow": {
     "slide_type": "fragment"
    }
   },
   "outputs": [
    {
     "name": "stdout",
     "output_type": "stream",
     "text": [
      "Cat(\"fluffy\") meows at Person(\"alice\")\n"
     ]
    }
   ],
   "source": [
    "greet(fluffy, alice)"
   ]
  },
  {
   "cell_type": "code",
   "execution_count": 22,
   "metadata": {
    "slideshow": {
     "slide_type": "subslide"
    }
   },
   "outputs": [
    {
     "data": {
      "text/plain": [
       "greet (generic function with 6 methods)"
      ]
     },
     "execution_count": 22,
     "metadata": {},
     "output_type": "execute_result"
    }
   ],
   "source": [
    "struct Dog <: Animal\n",
    "    name::String\n",
    "end\n",
    "\n",
    "greet(x::Dog, y) = println(\"$x barks at $y\")\n",
    "\n",
    "greet(x::Dog, y::Person) = println(\"$x licks $y's face\")\n",
    "\n",
    "greet(x::Dog, y::Dog) = println(\"$x sniffs $y's butt\")"
   ]
  },
  {
   "cell_type": "code",
   "execution_count": 23,
   "metadata": {
    "slideshow": {
     "slide_type": "fragment"
    }
   },
   "outputs": [
    {
     "name": "stdout",
     "output_type": "stream",
     "text": [
      "Person(\"alice\") pats Dog(\"fido\")\n"
     ]
    }
   ],
   "source": [
    "fido = Dog(\"fido\")\n",
    "rex = Dog(\"rex\")\n",
    "\n",
    "greet(alice, fido)"
   ]
  },
  {
   "cell_type": "code",
   "execution_count": 24,
   "metadata": {
    "slideshow": {
     "slide_type": "fragment"
    }
   },
   "outputs": [
    {
     "name": "stdout",
     "output_type": "stream",
     "text": [
      "Dog(\"fido\") barks at Cat(\"fluffy\")\n"
     ]
    }
   ],
   "source": [
    "greet(fido, fluffy)"
   ]
  },
  {
   "cell_type": "code",
   "execution_count": 25,
   "metadata": {
    "slideshow": {
     "slide_type": "fragment"
    }
   },
   "outputs": [
    {
     "name": "stdout",
     "output_type": "stream",
     "text": [
      "Dog(\"fido\") licks Person(\"bob\")'s face\n"
     ]
    }
   ],
   "source": [
    "greet(fido, bob)"
   ]
  },
  {
   "cell_type": "code",
   "execution_count": 26,
   "metadata": {
    "slideshow": {
     "slide_type": "fragment"
    }
   },
   "outputs": [
    {
     "name": "stdout",
     "output_type": "stream",
     "text": [
      "Dog(\"fido\") sniffs Dog(\"rex\")'s butt\n"
     ]
    }
   ],
   "source": [
    "greet(fido, rex)"
   ]
  },
  {
   "cell_type": "markdown",
   "metadata": {
    "slideshow": {
     "slide_type": "subslide"
    }
   },
   "source": [
    "If you want to know which `greet` method will be called for a given set of arguments, you can use `@which` to check:"
   ]
  },
  {
   "cell_type": "code",
   "execution_count": 27,
   "metadata": {},
   "outputs": [
    {
     "data": {
      "text/html": [
       "greet(x::<b>Person</b>, y::<b>Animal</b>) in Main at In[18]:1"
      ],
      "text/plain": [
       "greet(x::Person, y::Animal) in Main at In[18]:1"
      ]
     },
     "execution_count": 27,
     "metadata": {},
     "output_type": "execute_result"
    }
   ],
   "source": [
    "@which greet(alice, fido)"
   ]
  },
  {
   "cell_type": "markdown",
   "metadata": {
    "slideshow": {
     "slide_type": "fragment"
    }
   },
   "source": [
    "You can list all of the methods of a given function with `methods`:"
   ]
  },
  {
   "cell_type": "code",
   "execution_count": 28,
   "metadata": {},
   "outputs": [
    {
     "data": {
      "text/html": [
       "# 6 methods for generic function <b>greet</b>:<ul><li> greet(x::<b>Person</b>, y::<b>Animal</b>) in Main at In[18]:1</li> <li> greet(x::<b>Cat</b>, y) in Main at In[19]:1</li> <li> greet(x::<b>Dog</b>, y::<b>Person</b>) in Main at In[22]:7</li> <li> greet(x::<b>Dog</b>, y::<b>Dog</b>) in Main at In[22]:9</li> <li> greet(x::<b>Dog</b>, y) in Main at In[22]:5</li> <li> greet(x, y) in Main at In[14]:1</li> </ul>"
      ],
      "text/plain": [
       "# 6 methods for generic function \"greet\":\n",
       "[1] greet(x::Person, y::Animal) in Main at In[18]:1\n",
       "[2] greet(x::Cat, y) in Main at In[19]:1\n",
       "[3] greet(x::Dog, y::Person) in Main at In[22]:7\n",
       "[4] greet(x::Dog, y::Dog) in Main at In[22]:9\n",
       "[5] greet(x::Dog, y) in Main at In[22]:5\n",
       "[6] greet(x, y) in Main at In[14]:1"
      ]
     },
     "execution_count": 28,
     "metadata": {},
     "output_type": "execute_result"
    }
   ],
   "source": [
    "methods(greet)"
   ]
  },
  {
   "cell_type": "markdown",
   "metadata": {
    "slideshow": {
     "slide_type": "subslide"
    }
   },
   "source": [
    "## Modules\n",
    "\n",
    "Modules in Julia are used to organize code into namespaces."
   ]
  },
  {
   "cell_type": "code",
   "execution_count": 29,
   "metadata": {},
   "outputs": [
    {
     "name": "stdout",
     "output_type": "stream",
     "text": [
      "hello world\n"
     ]
    }
   ],
   "source": [
    "module MyUsefulModule\n",
    "\n",
    "export hello\n",
    "\n",
    "hello() = println(\"hello world\")\n",
    "goodbye() = println(\"goodbye world\")\n",
    "\n",
    "end\n",
    "\n",
    "MyUsefulModule.hello()"
   ]
  },
  {
   "cell_type": "markdown",
   "metadata": {
    "slideshow": {
     "slide_type": "fragment"
    }
   },
   "source": [
    "The `using` command brings any `export`ed symbols from a module into the current namespace:"
   ]
  },
  {
   "cell_type": "code",
   "execution_count": 30,
   "metadata": {},
   "outputs": [
    {
     "name": "stdout",
     "output_type": "stream",
     "text": [
      "hello world\n"
     ]
    }
   ],
   "source": [
    "using .MyUsefulModule\n",
    "hello()"
   ]
  },
  {
   "cell_type": "markdown",
   "metadata": {
    "slideshow": {
     "slide_type": "subslide"
    }
   },
   "source": [
    "## Using Packages\n",
    "\n",
    "Julia has a built-in package manager called `Pkg`. It handles installing packages and managing all your package environments. "
   ]
  },
  {
   "cell_type": "markdown",
   "metadata": {
    "slideshow": {
     "slide_type": "fragment"
    }
   },
   "source": [
    "A package *environment* represents a single set of installed packages. Let's activate the environment for this talk:"
   ]
  },
  {
   "cell_type": "code",
   "execution_count": 31,
   "metadata": {},
   "outputs": [
    {
     "name": "stderr",
     "output_type": "stream",
     "text": [
      "\u001b[32m\u001b[1m  Activating\u001b[22m\u001b[39m project at `~/julia/rdeits_talk/DetroitTechWatch2020.jl`\n"
     ]
    }
   ],
   "source": [
    "using Pkg\n",
    "Pkg.activate(\".\")"
   ]
  },
  {
   "cell_type": "markdown",
   "metadata": {},
   "source": [
    "(this is similar to `source venv/bin/activate` in a Python virtual environment)"
   ]
  },
  {
   "cell_type": "markdown",
   "metadata": {
    "slideshow": {
     "slide_type": "subslide"
    }
   },
   "source": [
    "We can install a package in our current environment. This will only affect that environment, so we can safely do this without breaking any other Julia projects we might be working on:"
   ]
  },
  {
   "cell_type": "code",
   "execution_count": 32,
   "metadata": {},
   "outputs": [
    {
     "name": "stderr",
     "output_type": "stream",
     "text": [
      "\u001b[32m\u001b[1m    Updating\u001b[22m\u001b[39m registry at `~/.julia/registries/General.toml`\n",
      "\u001b[32m\u001b[1m   Resolving\u001b[22m\u001b[39m package versions...\n",
      "\u001b[32m\u001b[1m  No Changes\u001b[22m\u001b[39m to `~/julia/rdeits_talk/DetroitTechWatch2020.jl/Project.toml`\n",
      "\u001b[32m\u001b[1m  No Changes\u001b[22m\u001b[39m to `~/julia/rdeits_talk/DetroitTechWatch2020.jl/Manifest.toml`\n"
     ]
    }
   ],
   "source": [
    "Pkg.add(\"Colors\")"
   ]
  },
  {
   "cell_type": "markdown",
   "metadata": {
    "slideshow": {
     "slide_type": "subslide"
    }
   },
   "source": [
    "The `Project.toml` file gives a concise description of the packages we've added to this environment:"
   ]
  },
  {
   "cell_type": "code",
   "execution_count": 33,
   "metadata": {},
   "outputs": [
    {
     "name": "stdout",
     "output_type": "stream",
     "text": [
      "[deps]\n",
      "BenchmarkTools = \"6e4b80f9-dd63-53aa-95a3-0cdb28fa8baf\"\n",
      "Colors = \"5ae59095-9a9b-59fe-a467-6f913c188581\"\n",
      "Conda = \"8f4d0f93-b110-5947-807f-2305c1781a2d\"\n",
      "HTTP = \"cd3eb016-35fb-5094-929b-558a96fad6f3\"\n",
      "Plots = \"91a5bcdd-55d7-5caf-9e0b-520d859cae80\"\n",
      "ProgressMeter = \"92933f4c-e287-5a05-a399-4b506db050ca\"\n",
      "PyCall = \"438e738f-606a-5dbb-bf0a-cddfbfd45ab0\"\n"
     ]
    },
    {
     "data": {
      "text/plain": [
       "Process(`\u001b[4mcat\u001b[24m \u001b[4mProject.toml\u001b[24m`, ProcessExited(0))"
      ]
     },
     "execution_count": 33,
     "metadata": {},
     "output_type": "execute_result"
    }
   ],
   "source": [
    "run(`cat Project.toml`)"
   ]
  },
  {
   "cell_type": "markdown",
   "metadata": {
    "slideshow": {
     "slide_type": "fragment"
    }
   },
   "source": [
    "The package manager also generates a complete manifest of every package that is installed, including all the transitive dependencies and their versions. You can use this to reproduce a given package environment exactly:"
   ]
  },
  {
   "cell_type": "code",
   "execution_count": 103,
   "metadata": {},
   "outputs": [
    {
     "name": "stdout",
     "output_type": "stream",
     "text": [
      "# This file is machine-generated - editing it directly is not advised\n",
      "\n",
      "julia_version = \"1.7.1\"\n",
      "manifest_format = \"2.0\"\n",
      "\n",
      "[[deps.Adapt]]\n",
      "deps = [\"LinearAlgebra\"]\n",
      "git-tree-sha1 = \"195c5505521008abea5aee4f96930717958eac6f\"\n",
      "uuid = \"79e6a3ab-5dfb-504d-930d-738a2a938a0e\"\n",
      "version = \"3.4.0\"\n",
      "\n",
      "[[deps.ArgTools]]\n",
      "uuid = \"0dad84c5-d112-42e6-8d28-ef12dabb789f\"\n",
      "\n",
      "[[deps.Artifacts]]\n",
      "uuid = \"56f22d72-fd6d-98f1-02f0-08ddc0907c33\"\n",
      "\n",
      "[[deps.Base64]]\n",
      "uuid = \"2a0f44e3-6c83-55bd-87e4-b1978d98bd5f\"\n",
      "\n",
      "[[deps.BenchmarkTools]]\n",
      "deps = [\"JSON\", \"Logging\", \"Printf\", \"Profile\", \"Statistics\", \"UUIDs\"]\n",
      "git-tree-sha1 = \"4c10eee4af024676200bc7752e536f858c6b8f93\"\n",
      "uuid = \"6e4b80f9-dd63-53aa-95a3-0cdb28fa8baf\"\n",
      "version = \"1.3.1\"\n",
      "\n",
      "[[deps.Bzip2_jll]]\n",
      "deps = [\"Artifacts\", \"JLLWrappers\", \"Libdl\", \"Pkg\"]\n",
      "git-tree-sha1 = \"19a35467a82e236ff51bc17a3a44b69ef35185a2\"\n",
      "uuid = \"6e34b625-4abd-537c-b88f-471c36dfa7a0\"\n",
      "version = \"1.0.8+0\"\n",
      "\n",
      "[[deps.Cairo_jll]]\n",
      "deps = [\"Artifacts\", \"Bzip2_jll\", \"Fontconfig_jll\", \"FreeType2_jll\", \"Glib_jll\", \"JLLWrappers\", \"LZO_jll\", \"Libdl\", \"Pixman_jll\", \"Pkg\", \"Xorg_libXext_jll\", \"Xorg_libXrender_jll\", \"Zlib_jll\", \"libpng_jll\"]\n",
      "git-tree-sha1 = \"4b859a208b2397a7a623a03449e4636bdb17bcf2\"\n",
      "uuid = \"83423d85-b0ee-5818-9007-b63ccbeb887a\"\n",
      "version = \"1.16.1+1\"\n",
      "\n",
      "[[deps.ChainRulesCore]]\n",
      "deps = [\"Compat\", \"LinearAlgebra\", \"SparseArrays\"]\n",
      "git-tree-sha1 = \"80ca332f6dcb2508adba68f22f551adb2d00a624\"\n",
      "uuid = \"d360d2e6-b24c-11e9-a2a3-2a2ae2dbcce4\"\n",
      "version = \"1.15.3\"\n",
      "\n",
      "[[deps.ChangesOfVariables]]\n",
      "deps = [\"ChainRulesCore\", \"LinearAlgebra\", \"Test\"]\n",
      "git-tree-sha1 = \"38f7a08f19d8810338d4f5085211c7dfa5d5bdd8\"\n",
      "uuid = \"9e997f8a-9a97-42d5-a9f1-ce6bfc15e2c0\"\n",
      "version = \"0.1.4\"\n",
      "\n",
      "[[deps.CodecZlib]]\n",
      "deps = [\"TranscodingStreams\", \"Zlib_jll\"]\n",
      "git-tree-sha1 = \"ded953804d019afa9a3f98981d99b33e3db7b6da\"\n",
      "uuid = \"944b1d66-785c-5afd-91f1-9de20f533193\"\n",
      "version = \"0.7.0\"\n",
      "\n",
      "[[deps.ColorSchemes]]\n",
      "deps = [\"ColorTypes\", \"ColorVectorSpace\", \"Colors\", \"FixedPointNumbers\", \"Random\"]\n",
      "git-tree-sha1 = \"1fd869cc3875b57347f7027521f561cf46d1fcd8\"\n",
      "uuid = \"35d6a980-a343-548e-a6ea-1d62b119f2f4\"\n",
      "version = \"3.19.0\"\n",
      "\n",
      "[[deps.ColorTypes]]\n",
      "deps = [\"FixedPointNumbers\", \"Random\"]\n",
      "git-tree-sha1 = \"eb7f0f8307f71fac7c606984ea5fb2817275d6e4\"\n",
      "uuid = \"3da002f7-5984-5a60-b8a6-cbb66c0b333f\"\n",
      "version = \"0.11.4\"\n",
      "\n",
      "[[deps.ColorVectorSpace]]\n",
      "deps = [\"ColorTypes\", \"FixedPointNumbers\", \"LinearAlgebra\", \"SpecialFunctions\", \"Statistics\", \"TensorCore\"]\n",
      "git-tree-sha1 = \"d08c20eef1f2cbc6e60fd3612ac4340b89fea322\"\n",
      "uuid = \"c3611d14-8923-5661-9e6a-0046d554d3a4\"\n",
      "version = \"0.9.9\"\n",
      "\n",
      "[[deps.Colors]]\n",
      "deps = [\"ColorTypes\", \"FixedPointNumbers\", \"Reexport\"]\n",
      "git-tree-sha1 = \"417b0ed7b8b838aa6ca0a87aadf1bb9eb111ce40\"\n",
      "uuid = \"5ae59095-9a9b-59fe-a467-6f913c188581\"\n",
      "version = \"0.12.8\"\n",
      "\n",
      "[[deps.Compat]]\n",
      "deps = [\"Dates\", \"LinearAlgebra\", \"UUIDs\"]\n",
      "git-tree-sha1 = \"924cdca592bc16f14d2f7006754a621735280b74\"\n",
      "uuid = \"34da2185-b29b-5c13-b0c7-acf172513d20\"\n",
      "version = \"4.1.0\"\n",
      "\n",
      "[[deps.CompilerSupportLibraries_jll]]\n",
      "deps = [\"Artifacts\", \"Libdl\"]\n",
      "uuid = \"e66e0078-7015-5450-92f7-15fbd957f2ae\"\n",
      "\n",
      "[[deps.Conda]]\n",
      "deps = [\"Downloads\", \"JSON\", \"VersionParsing\"]\n",
      "git-tree-sha1 = \"6e47d11ea2776bc5627421d59cdcc1296c058071\"\n",
      "uuid = \"8f4d0f93-b110-5947-807f-2305c1781a2d\"\n",
      "version = \"1.7.0\"\n",
      "\n",
      "[[deps.Contour]]\n",
      "git-tree-sha1 = \"d05d9e7b7aedff4e5b51a029dced05cfb6125781\"\n",
      "uuid = \"d38c429a-6771-53c6-b99e-75d170b6e991\"\n",
      "version = \"0.6.2\"\n",
      "\n",
      "[[deps.DataAPI]]\n",
      "git-tree-sha1 = \"fb5f5316dd3fd4c5e7c30a24d50643b73e37cd40\"\n",
      "uuid = \"9a962f9c-6df0-11e9-0e5d-c546b8b5ee8a\"\n",
      "version = \"1.10.0\"\n",
      "\n",
      "[[deps.DataStructures]]\n",
      "deps = [\"Compat\", \"InteractiveUtils\", \"OrderedCollections\"]\n",
      "git-tree-sha1 = \"d1fff3a548102f48987a52a2e0d114fa97d730f0\"\n",
      "uuid = \"864edb3b-99cc-5e75-8d2d-829cb0a9cfe8\"\n",
      "version = \"0.18.13\"\n",
      "\n",
      "[[deps.DataValueInterfaces]]\n",
      "git-tree-sha1 = \"bfc1187b79289637fa0ef6d4436ebdfe6905cbd6\"\n",
      "uuid = \"e2d170a0-9d28-54be-80f0-106bbe20a464\"\n",
      "version = \"1.0.0\"\n",
      "\n",
      "[[deps.Dates]]\n",
      "deps = [\"Printf\"]\n",
      "uuid = \"ade2ca70-3891-5945-98fb-dc099432e06a\"\n",
      "\n",
      "[[deps.DelimitedFiles]]\n",
      "deps = [\"Mmap\"]\n",
      "uuid = \"8bb1440f-4735-579b-a4ab-409b98df4dab\"\n",
      "\n",
      "[[deps.Distributed]]\n",
      "deps = [\"Random\", \"Serialization\", \"Sockets\"]\n",
      "uuid = \"8ba89e20-285c-5b6f-9357-94700520ee1b\"\n",
      "\n",
      "[[deps.DocStringExtensions]]\n",
      "deps = [\"LibGit2\"]\n",
      "git-tree-sha1 = \"5158c2b41018c5f7eb1470d558127ac274eca0c9\"\n",
      "uuid = \"ffbed154-4ef7-542d-bbb7-c09d3a79fcae\"\n",
      "version = \"0.9.1\"\n",
      "\n",
      "[[deps.Downloads]]\n",
      "deps = [\"ArgTools\", \"LibCURL\", \"NetworkOptions\"]\n",
      "uuid = \"f43a241f-c20a-4ad4-852c-f6b1247861c6\"\n",
      "\n",
      "[[deps.EarCut_jll]]\n",
      "deps = [\"Artifacts\", \"JLLWrappers\", \"Libdl\", \"Pkg\"]\n",
      "git-tree-sha1 = \"3f3a2501fa7236e9b911e0f7a588c657e822bb6d\"\n",
      "uuid = \"5ae413db-bbd1-5e63-b57d-d24a61df00f5\"\n",
      "version = \"2.2.3+0\"\n",
      "\n",
      "[[deps.Expat_jll]]\n",
      "deps = [\"Artifacts\", \"JLLWrappers\", \"Libdl\", \"Pkg\"]\n",
      "git-tree-sha1 = \"bad72f730e9e91c08d9427d5e8db95478a3c323d\"\n",
      "uuid = \"2e619515-83b5-522b-bb60-26c02a35a201\"\n",
      "version = \"2.4.8+0\"\n",
      "\n",
      "[[deps.FFMPEG]]\n",
      "deps = [\"FFMPEG_jll\"]\n",
      "git-tree-sha1 = \"b57e3acbe22f8484b4b5ff66a7499717fe1a9cc8\"\n",
      "uuid = \"c87230d0-a227-11e9-1b43-d7ebe4e7570a\"\n",
      "version = \"0.4.1\"\n",
      "\n",
      "[[deps.FFMPEG_jll]]\n",
      "deps = [\"Artifacts\", \"Bzip2_jll\", \"FreeType2_jll\", \"FriBidi_jll\", \"JLLWrappers\", \"LAME_jll\", \"Libdl\", \"Ogg_jll\", \"OpenSSL_jll\", \"Opus_jll\", \"Pkg\", \"Zlib_jll\", \"libaom_jll\", \"libass_jll\", \"libfdk_aac_jll\", \"libvorbis_jll\", \"x264_jll\", \"x265_jll\"]\n",
      "git-tree-sha1 = \"ccd479984c7838684b3ac204b716c89955c76623\"\n",
      "uuid = \"b22a6f82-2f65-5046-a5b2-351ab43fb4e5\"\n",
      "version = \"4.4.2+0\"\n",
      "\n",
      "[[deps.FixedPointNumbers]]\n",
      "deps = [\"Statistics\"]\n",
      "git-tree-sha1 = \"335bfdceacc84c5cdf16aadc768aa5ddfc5383cc\"\n",
      "uuid = \"53c48c17-4a7d-5ca2-90c5-79b7896eea93\"\n",
      "version = \"0.8.4\"\n",
      "\n",
      "[[deps.Fontconfig_jll]]\n",
      "deps = [\"Artifacts\", \"Bzip2_jll\", \"Expat_jll\", \"FreeType2_jll\", \"JLLWrappers\", \"Libdl\", \"Libuuid_jll\", \"Pkg\", \"Zlib_jll\"]\n",
      "git-tree-sha1 = \"21efd19106a55620a188615da6d3d06cd7f6ee03\"\n",
      "uuid = \"a3f928ae-7b40-5064-980b-68af3947d34b\"\n",
      "version = \"2.13.93+0\"\n",
      "\n",
      "[[deps.Formatting]]\n",
      "deps = [\"Printf\"]\n",
      "git-tree-sha1 = \"8339d61043228fdd3eb658d86c926cb282ae72a8\"\n",
      "uuid = \"59287772-0a20-5a39-b81b-1366585eb4c0\"\n",
      "version = \"0.4.2\"\n",
      "\n",
      "[[deps.FreeType2_jll]]\n",
      "deps = [\"Artifacts\", \"Bzip2_jll\", \"JLLWrappers\", \"Libdl\", \"Pkg\", \"Zlib_jll\"]\n",
      "git-tree-sha1 = \"87eb71354d8ec1a96d4a7636bd57a7347dde3ef9\"\n",
      "uuid = \"d7e528f0-a631-5988-bf34-fe36492bcfd7\"\n",
      "version = \"2.10.4+0\"\n",
      "\n",
      "[[deps.FriBidi_jll]]\n",
      "deps = [\"Artifacts\", \"JLLWrappers\", \"Libdl\", \"Pkg\"]\n",
      "git-tree-sha1 = \"aa31987c2ba8704e23c6c8ba8a4f769d5d7e4f91\"\n",
      "uuid = \"559328eb-81f9-559d-9380-de523a88c83c\"\n",
      "version = \"1.0.10+0\"\n",
      "\n",
      "[[deps.GLFW_jll]]\n",
      "deps = [\"Artifacts\", \"JLLWrappers\", \"Libdl\", \"Libglvnd_jll\", \"Pkg\", \"Xorg_libXcursor_jll\", \"Xorg_libXi_jll\", \"Xorg_libXinerama_jll\", \"Xorg_libXrandr_jll\"]\n",
      "git-tree-sha1 = \"51d2dfe8e590fbd74e7a842cf6d13d8a2f45dc01\"\n",
      "uuid = \"0656b61e-2033-5cc2-a64a-77c0f6c09b89\"\n",
      "version = \"3.3.6+0\"\n",
      "\n",
      "[[deps.GR]]\n",
      "deps = [\"Base64\", \"DelimitedFiles\", \"GR_jll\", \"HTTP\", \"JSON\", \"Libdl\", \"LinearAlgebra\", \"Pkg\", \"Printf\", \"Random\", \"RelocatableFolders\", \"Serialization\", \"Sockets\", \"Test\", \"UUIDs\"]\n",
      "git-tree-sha1 = \"037a1ca47e8a5989cc07d19729567bb71bfabd0c\"\n",
      "uuid = \"28b8d3ca-fb5f-59d9-8090-bfdbd6d07a71\"\n",
      "version = \"0.66.0\"\n",
      "\n",
      "[[deps.GR_jll]]\n",
      "deps = [\"Artifacts\", \"Bzip2_jll\", \"Cairo_jll\", \"FFMPEG_jll\", \"Fontconfig_jll\", \"GLFW_jll\", \"JLLWrappers\", \"JpegTurbo_jll\", \"Libdl\", \"Libtiff_jll\", \"Pixman_jll\", \"Pkg\", \"Qt5Base_jll\", \"Zlib_jll\", \"libpng_jll\"]\n",
      "git-tree-sha1 = \"c8ab731c9127cd931c93221f65d6a1008dad7256\"\n",
      "uuid = \"d2c73de3-f751-5644-a686-071e5b155ba9\"\n",
      "version = \"0.66.0+0\"\n",
      "\n",
      "[[deps.GeometryBasics]]\n",
      "deps = [\"EarCut_jll\", \"IterTools\", \"LinearAlgebra\", \"StaticArrays\", \"StructArrays\", \"Tables\"]\n",
      "git-tree-sha1 = \"83ea630384a13fc4f002b77690bc0afeb4255ac9\"\n",
      "uuid = \"5c1252a2-5f33-56bf-86c9-59e7332b4326\"\n",
      "version = \"0.4.2\"\n",
      "\n",
      "[[deps.Gettext_jll]]\n",
      "deps = [\"Artifacts\", \"CompilerSupportLibraries_jll\", \"JLLWrappers\", \"Libdl\", \"Libiconv_jll\", \"Pkg\", \"XML2_jll\"]\n",
      "git-tree-sha1 = \"9b02998aba7bf074d14de89f9d37ca24a1a0b046\"\n",
      "uuid = \"78b55507-aeef-58d4-861c-77aaff3498b1\"\n",
      "version = \"0.21.0+0\"\n",
      "\n",
      "[[deps.Glib_jll]]\n",
      "deps = [\"Artifacts\", \"Gettext_jll\", \"JLLWrappers\", \"Libdl\", \"Libffi_jll\", \"Libiconv_jll\", \"Libmount_jll\", \"PCRE_jll\", \"Pkg\", \"Zlib_jll\"]\n",
      "git-tree-sha1 = \"a32d672ac2c967f3deb8a81d828afc739c838a06\"\n",
      "uuid = \"7746bdde-850d-59dc-9ae8-88ece973131d\"\n",
      "version = \"2.68.3+2\"\n",
      "\n",
      "[[deps.Graphite2_jll]]\n",
      "deps = [\"Artifacts\", \"JLLWrappers\", \"Libdl\", \"Pkg\"]\n",
      "git-tree-sha1 = \"344bf40dcab1073aca04aa0df4fb092f920e4011\"\n",
      "uuid = \"3b182d85-2403-5c21-9c21-1e1f0cc25472\"\n",
      "version = \"1.3.14+0\"\n",
      "\n",
      "[[deps.Grisu]]\n",
      "git-tree-sha1 = \"53bb909d1151e57e2484c3d1b53e19552b887fb2\"\n",
      "uuid = \"42e2da0e-8278-4e71-bc24-59509adca0fe\"\n",
      "version = \"1.0.2\"\n",
      "\n",
      "[[deps.HTTP]]\n",
      "deps = [\"Base64\", \"CodecZlib\", \"Dates\", \"IniFile\", \"Logging\", \"LoggingExtras\", \"MbedTLS\", \"NetworkOptions\", \"Random\", \"SimpleBufferStream\", \"Sockets\", \"URIs\", \"UUIDs\"]\n",
      "git-tree-sha1 = \"ed47af35905b7cc8f1a522ca684b35a212269bd8\"\n",
      "uuid = \"cd3eb016-35fb-5094-929b-558a96fad6f3\"\n",
      "version = \"1.2.0\"\n",
      "\n",
      "[[deps.HarfBuzz_jll]]\n",
      "deps = [\"Artifacts\", \"Cairo_jll\", \"Fontconfig_jll\", \"FreeType2_jll\", \"Glib_jll\", \"Graphite2_jll\", \"JLLWrappers\", \"Libdl\", \"Libffi_jll\", \"Pkg\"]\n",
      "git-tree-sha1 = \"129acf094d168394e80ee1dc4bc06ec835e510a3\"\n",
      "uuid = \"2e76f6c2-a576-52d4-95c1-20adfe4de566\"\n",
      "version = \"2.8.1+1\"\n",
      "\n",
      "[[deps.IniFile]]\n",
      "git-tree-sha1 = \"f550e6e32074c939295eb5ea6de31849ac2c9625\"\n",
      "uuid = \"83e8ac13-25f8-5344-8a64-a9f2b223428f\"\n",
      "version = \"0.5.1\"\n",
      "\n",
      "[[deps.InteractiveUtils]]\n",
      "deps = [\"Markdown\"]\n",
      "uuid = \"b77e0a4c-d291-57a0-90e8-8db25a27a240\"\n",
      "\n",
      "[[deps.InverseFunctions]]\n",
      "deps = [\"Test\"]\n",
      "git-tree-sha1 = \"b3364212fb5d870f724876ffcd34dd8ec6d98918\"\n",
      "uuid = \"3587e190-3f89-42d0-90ee-14403ec27112\"\n",
      "version = \"0.1.7\"\n",
      "\n",
      "[[deps.IrrationalConstants]]\n",
      "git-tree-sha1 = \"7fd44fd4ff43fc60815f8e764c0f352b83c49151\"\n",
      "uuid = \"92d709cd-6900-40b7-9082-c6be49f344b6\"\n",
      "version = \"0.1.1\"\n",
      "\n",
      "[[deps.IterTools]]\n",
      "git-tree-sha1 = \"fa6287a4469f5e048d763df38279ee729fbd44e5\"\n",
      "uuid = \"c8e1da08-722c-5040-9ed9-7db0dc04731e\"\n",
      "version = \"1.4.0\"\n",
      "\n",
      "[[deps.IteratorInterfaceExtensions]]\n",
      "git-tree-sha1 = \"a3f24677c21f5bbe9d2a714f95dcd58337fb2856\"\n",
      "uuid = \"82899510-4779-5014-852e-03e436cf321d\"\n",
      "version = \"1.0.0\"\n",
      "\n",
      "[[deps.JLLWrappers]]\n",
      "deps = [\"Preferences\"]\n",
      "git-tree-sha1 = \"abc9885a7ca2052a736a600f7fa66209f96506e1\"\n",
      "uuid = \"692b3bcd-3c85-4b1f-b108-f13ce0eb3210\"\n",
      "version = \"1.4.1\"\n",
      "\n",
      "[[deps.JSON]]\n",
      "deps = [\"Dates\", \"Mmap\", \"Parsers\", \"Unicode\"]\n",
      "git-tree-sha1 = \"3c837543ddb02250ef42f4738347454f95079d4e\"\n",
      "uuid = \"682c06a0-de6a-54ab-a142-c8b1cf79cde6\"\n",
      "version = \"0.21.3\"\n",
      "\n",
      "[[deps.JpegTurbo_jll]]\n",
      "deps = [\"Artifacts\", \"JLLWrappers\", \"Libdl\", \"Pkg\"]\n",
      "git-tree-sha1 = \"b53380851c6e6664204efb2e62cd24fa5c47e4ba\"\n",
      "uuid = \"aacddb02-875f-59d6-b918-886e6ef4fbf8\"\n",
      "version = \"2.1.2+0\"\n",
      "\n",
      "[[deps.LAME_jll]]\n",
      "deps = [\"Artifacts\", \"JLLWrappers\", \"Libdl\", \"Pkg\"]\n",
      "git-tree-sha1 = \"f6250b16881adf048549549fba48b1161acdac8c\"\n",
      "uuid = \"c1c5ebd0-6772-5130-a774-d5fcae4a789d\"\n",
      "version = \"3.100.1+0\"\n",
      "\n",
      "[[deps.LERC_jll]]\n",
      "deps = [\"Artifacts\", \"JLLWrappers\", \"Libdl\", \"Pkg\"]\n",
      "git-tree-sha1 = \"bf36f528eec6634efc60d7ec062008f171071434\"\n",
      "uuid = \"88015f11-f218-50d7-93a8-a6af411a945d\"\n",
      "version = \"3.0.0+1\"\n",
      "\n",
      "[[deps.LZO_jll]]\n",
      "deps = [\"Artifacts\", \"JLLWrappers\", \"Libdl\", \"Pkg\"]\n",
      "git-tree-sha1 = \"e5b909bcf985c5e2605737d2ce278ed791b89be6\"\n",
      "uuid = \"dd4b983a-f0e5-5f8d-a1b7-129d4a5fb1ac\"\n",
      "version = \"2.10.1+0\"\n",
      "\n",
      "[[deps.LaTeXStrings]]\n",
      "git-tree-sha1 = \"f2355693d6778a178ade15952b7ac47a4ff97996\"\n",
      "uuid = \"b964fa9f-0449-5b57-a5c2-d3ea65f4040f\"\n",
      "version = \"1.3.0\"\n",
      "\n",
      "[[deps.Latexify]]\n",
      "deps = [\"Formatting\", \"InteractiveUtils\", \"LaTeXStrings\", \"MacroTools\", \"Markdown\", \"Printf\", \"Requires\"]\n",
      "git-tree-sha1 = \"1a43be956d433b5d0321197150c2f94e16c0aaa0\"\n",
      "uuid = \"23fbe1c1-3f47-55db-b15f-69d7ec21a316\"\n",
      "version = \"0.15.16\"\n",
      "\n",
      "[[deps.LibCURL]]\n",
      "deps = [\"LibCURL_jll\", \"MozillaCACerts_jll\"]\n",
      "uuid = \"b27032c2-a3e7-50c8-80cd-2d36dbcbfd21\"\n",
      "\n",
      "[[deps.LibCURL_jll]]\n",
      "deps = [\"Artifacts\", \"LibSSH2_jll\", \"Libdl\", \"MbedTLS_jll\", \"Zlib_jll\", \"nghttp2_jll\"]\n",
      "uuid = \"deac9b47-8bc7-5906-a0fe-35ac56dc84c0\"\n",
      "\n",
      "[[deps.LibGit2]]\n",
      "deps = [\"Base64\", \"NetworkOptions\", \"Printf\", \"SHA\"]\n",
      "uuid = \"76f85450-5226-5b5a-8eaa-529ad045b433\"\n",
      "\n",
      "[[deps.LibSSH2_jll]]\n",
      "deps = [\"Artifacts\", \"Libdl\", \"MbedTLS_jll\"]\n",
      "uuid = \"29816b5a-b9ab-546f-933c-edad1886dfa8\"\n",
      "\n",
      "[[deps.Libdl]]\n",
      "uuid = \"8f399da3-3557-5675-b5ff-fb832c97cbdb\"\n",
      "\n",
      "[[deps.Libffi_jll]]\n",
      "deps = [\"Artifacts\", \"JLLWrappers\", \"Libdl\", \"Pkg\"]\n",
      "git-tree-sha1 = \"0b4a5d71f3e5200a7dff793393e09dfc2d874290\"\n",
      "uuid = \"e9f186c6-92d2-5b65-8a66-fee21dc1b490\"\n",
      "version = \"3.2.2+1\"\n",
      "\n",
      "[[deps.Libgcrypt_jll]]\n",
      "deps = [\"Artifacts\", \"JLLWrappers\", \"Libdl\", \"Libgpg_error_jll\", \"Pkg\"]\n",
      "git-tree-sha1 = \"64613c82a59c120435c067c2b809fc61cf5166ae\"\n",
      "uuid = \"d4300ac3-e22c-5743-9152-c294e39db1e4\"\n",
      "version = \"1.8.7+0\"\n",
      "\n",
      "[[deps.Libglvnd_jll]]\n",
      "deps = [\"Artifacts\", \"JLLWrappers\", \"Libdl\", \"Pkg\", \"Xorg_libX11_jll\", \"Xorg_libXext_jll\"]\n",
      "git-tree-sha1 = \"7739f837d6447403596a75d19ed01fd08d6f56bf\"\n",
      "uuid = \"7e76a0d4-f3c7-5321-8279-8d96eeed0f29\"\n",
      "version = \"1.3.0+3\"\n",
      "\n",
      "[[deps.Libgpg_error_jll]]\n",
      "deps = [\"Artifacts\", \"JLLWrappers\", \"Libdl\", \"Pkg\"]\n",
      "git-tree-sha1 = \"c333716e46366857753e273ce6a69ee0945a6db9\"\n",
      "uuid = \"7add5ba3-2f88-524e-9cd5-f83b8a55f7b8\"\n",
      "version = \"1.42.0+0\"\n",
      "\n",
      "[[deps.Libiconv_jll]]\n",
      "deps = [\"Artifacts\", \"JLLWrappers\", \"Libdl\", \"Pkg\"]\n",
      "git-tree-sha1 = \"42b62845d70a619f063a7da093d995ec8e15e778\"\n",
      "uuid = \"94ce4f54-9a6c-5748-9c1c-f9c7231a4531\"\n",
      "version = \"1.16.1+1\"\n",
      "\n",
      "[[deps.Libmount_jll]]\n",
      "deps = [\"Artifacts\", \"JLLWrappers\", \"Libdl\", \"Pkg\"]\n",
      "git-tree-sha1 = \"9c30530bf0effd46e15e0fdcf2b8636e78cbbd73\"\n",
      "uuid = \"4b2f31a3-9ecc-558c-b454-b3730dcb73e9\"\n",
      "version = \"2.35.0+0\"\n",
      "\n",
      "[[deps.Libtiff_jll]]\n",
      "deps = [\"Artifacts\", \"JLLWrappers\", \"JpegTurbo_jll\", \"LERC_jll\", \"Libdl\", \"Pkg\", \"Zlib_jll\", \"Zstd_jll\"]\n",
      "git-tree-sha1 = \"3eb79b0ca5764d4799c06699573fd8f533259713\"\n",
      "uuid = \"89763e89-9b03-5906-acba-b20f662cd828\"\n",
      "version = \"4.4.0+0\"\n",
      "\n",
      "[[deps.Libuuid_jll]]\n",
      "deps = [\"Artifacts\", \"JLLWrappers\", \"Libdl\", \"Pkg\"]\n",
      "git-tree-sha1 = \"7f3efec06033682db852f8b3bc3c1d2b0a0ab066\"\n",
      "uuid = \"38a345b3-de98-5d2b-a5d3-14cd9215e700\"\n",
      "version = \"2.36.0+0\"\n",
      "\n",
      "[[deps.LinearAlgebra]]\n",
      "deps = [\"Libdl\", \"libblastrampoline_jll\"]\n",
      "uuid = \"37e2e46d-f89d-539d-b4ee-838fcccc9c8e\"\n",
      "\n",
      "[[deps.LogExpFunctions]]\n",
      "deps = [\"ChainRulesCore\", \"ChangesOfVariables\", \"DocStringExtensions\", \"InverseFunctions\", \"IrrationalConstants\", \"LinearAlgebra\"]\n",
      "git-tree-sha1 = \"361c2b088575b07946508f135ac556751240091c\"\n",
      "uuid = \"2ab3a3ac-af41-5b50-aa03-7779005ae688\"\n",
      "version = \"0.3.17\"\n",
      "\n",
      "[[deps.Logging]]\n",
      "uuid = \"56ddb016-857b-54e1-b83d-db4d58db5568\"\n",
      "\n",
      "[[deps.LoggingExtras]]\n",
      "deps = [\"Dates\", \"Logging\"]\n",
      "git-tree-sha1 = \"5d4d2d9904227b8bd66386c1138cf4d5ffa826bf\"\n",
      "uuid = \"e6f89c97-d47a-5376-807f-9c37f3926c36\"\n",
      "version = \"0.4.9\"\n",
      "\n",
      "[[deps.MacroTools]]\n",
      "deps = [\"Markdown\", \"Random\"]\n",
      "git-tree-sha1 = \"3d3e902b31198a27340d0bf00d6ac452866021cf\"\n",
      "uuid = \"1914dd2f-81c6-5fcd-8719-6d5c9610ff09\"\n",
      "version = \"0.5.9\"\n",
      "\n",
      "[[deps.Markdown]]\n",
      "deps = [\"Base64\"]\n",
      "uuid = \"d6f4376e-aef5-505a-96c1-9c027394607a\"\n",
      "\n",
      "[[deps.MbedTLS]]\n",
      "deps = [\"Dates\", \"MbedTLS_jll\", \"MozillaCACerts_jll\", \"Random\", \"Sockets\"]\n",
      "git-tree-sha1 = \"14cb991ee7ccc6dabda93d310400575c3cae435b\"\n",
      "uuid = \"739be429-bea8-5141-9913-cc70e7f3736d\"\n",
      "version = \"1.1.2\"\n",
      "\n",
      "[[deps.MbedTLS_jll]]\n",
      "deps = [\"Artifacts\", \"Libdl\"]\n",
      "uuid = \"c8ffd9c3-330d-5841-b78e-0817d7145fa1\"\n",
      "\n",
      "[[deps.Measures]]\n",
      "git-tree-sha1 = \"e498ddeee6f9fdb4551ce855a46f54dbd900245f\"\n",
      "uuid = \"442fdcdd-2543-5da2-b0f3-8c86c306513e\"\n",
      "version = \"0.3.1\"\n",
      "\n",
      "[[deps.Missings]]\n",
      "deps = [\"DataAPI\"]\n",
      "git-tree-sha1 = \"bf210ce90b6c9eed32d25dbcae1ebc565df2687f\"\n",
      "uuid = \"e1d29d7a-bbdc-5cf2-9ac0-f12de2c33e28\"\n",
      "version = \"1.0.2\"\n",
      "\n",
      "[[deps.Mmap]]\n",
      "uuid = \"a63ad114-7e13-5084-954f-fe012c677804\"\n",
      "\n",
      "[[deps.MozillaCACerts_jll]]\n",
      "uuid = \"14a3606d-f60d-562e-9121-12d972cd8159\"\n",
      "\n",
      "[[deps.NaNMath]]\n",
      "deps = [\"OpenLibm_jll\"]\n",
      "git-tree-sha1 = \"a7c3d1da1189a1c2fe843a3bfa04d18d20eb3211\"\n",
      "uuid = \"77ba4419-2d1f-58cd-9bb1-8ffee604a2e3\"\n",
      "version = \"1.0.1\"\n",
      "\n",
      "[[deps.NetworkOptions]]\n",
      "uuid = \"ca575930-c2e3-43a9-ace4-1e988b2c1908\"\n",
      "\n",
      "[[deps.Ogg_jll]]\n",
      "deps = [\"Artifacts\", \"JLLWrappers\", \"Libdl\", \"Pkg\"]\n",
      "git-tree-sha1 = \"887579a3eb005446d514ab7aeac5d1d027658b8f\"\n",
      "uuid = \"e7412a2a-1a6e-54c0-be00-318e2571c051\"\n",
      "version = \"1.3.5+1\"\n",
      "\n",
      "[[deps.OpenBLAS_jll]]\n",
      "deps = [\"Artifacts\", \"CompilerSupportLibraries_jll\", \"Libdl\"]\n",
      "uuid = \"4536629a-c528-5b80-bd46-f80d51c5b363\"\n",
      "\n",
      "[[deps.OpenLibm_jll]]\n",
      "deps = [\"Artifacts\", \"Libdl\"]\n",
      "uuid = \"05823500-19ac-5b8b-9628-191a04bc5112\"\n",
      "\n",
      "[[deps.OpenSSL_jll]]\n",
      "deps = [\"Artifacts\", \"JLLWrappers\", \"Libdl\", \"Pkg\"]\n",
      "git-tree-sha1 = \"e60321e3f2616584ff98f0a4f18d98ae6f89bbb3\"\n",
      "uuid = \"458c3c95-2e84-50aa-8efc-19380b2a3a95\"\n",
      "version = \"1.1.17+0\"\n",
      "\n",
      "[[deps.OpenSpecFun_jll]]\n",
      "deps = [\"Artifacts\", \"CompilerSupportLibraries_jll\", \"JLLWrappers\", \"Libdl\", \"Pkg\"]\n",
      "git-tree-sha1 = \"13652491f6856acfd2db29360e1bbcd4565d04f1\"\n",
      "uuid = \"efe28fd5-8261-553b-a9e1-b2916fc3738e\"\n",
      "version = \"0.5.5+0\"\n",
      "\n",
      "[[deps.Opus_jll]]\n",
      "deps = [\"Artifacts\", \"JLLWrappers\", \"Libdl\", \"Pkg\"]\n",
      "git-tree-sha1 = \"51a08fb14ec28da2ec7a927c4337e4332c2a4720\"\n",
      "uuid = \"91d4177d-7536-5919-b921-800302f37372\"\n",
      "version = \"1.3.2+0\"\n",
      "\n",
      "[[deps.OrderedCollections]]\n",
      "git-tree-sha1 = \"85f8e6578bf1f9ee0d11e7bb1b1456435479d47c\"\n",
      "uuid = \"bac558e1-5e72-5ebc-8fee-abe8a469f55d\"\n",
      "version = \"1.4.1\"\n",
      "\n",
      "[[deps.PCRE_jll]]\n",
      "deps = [\"Artifacts\", \"JLLWrappers\", \"Libdl\", \"Pkg\"]\n",
      "git-tree-sha1 = \"b2a7af664e098055a7529ad1a900ded962bca488\"\n",
      "uuid = \"2f80f16e-611a-54ab-bc61-aa92de5b98fc\"\n",
      "version = \"8.44.0+0\"\n",
      "\n",
      "[[deps.Parsers]]\n",
      "deps = [\"Dates\"]\n",
      "git-tree-sha1 = \"0044b23da09b5608b4ecacb4e5e6c6332f833a7e\"\n",
      "uuid = \"69de0a69-1ddd-5017-9359-2bf0b02dc9f0\"\n",
      "version = \"2.3.2\"\n",
      "\n",
      "[[deps.Pixman_jll]]\n",
      "deps = [\"Artifacts\", \"JLLWrappers\", \"Libdl\", \"Pkg\"]\n",
      "git-tree-sha1 = \"b4f5d02549a10e20780a24fce72bea96b6329e29\"\n",
      "uuid = \"30392449-352a-5448-841d-b1acce4e97dc\"\n",
      "version = \"0.40.1+0\"\n",
      "\n",
      "[[deps.Pkg]]\n",
      "deps = [\"Artifacts\", \"Dates\", \"Downloads\", \"LibGit2\", \"Libdl\", \"Logging\", \"Markdown\", \"Printf\", \"REPL\", \"Random\", \"SHA\", \"Serialization\", \"TOML\", \"Tar\", \"UUIDs\", \"p7zip_jll\"]\n",
      "uuid = \"44cfe95a-1eb2-52ea-b672-e2afdf69b78f\"\n",
      "\n",
      "[[deps.PlotThemes]]\n",
      "deps = [\"PlotUtils\", \"Statistics\"]\n",
      "git-tree-sha1 = \"8162b2f8547bc23876edd0c5181b27702ae58dce\"\n",
      "uuid = \"ccf2f8ad-2431-5c83-bf29-c5338b663b6a\"\n",
      "version = \"3.0.0\"\n",
      "\n",
      "[[deps.PlotUtils]]\n",
      "deps = [\"ColorSchemes\", \"Colors\", \"Dates\", \"Printf\", \"Random\", \"Reexport\", \"Statistics\"]\n",
      "git-tree-sha1 = \"9888e59493658e476d3073f1ce24348bdc086660\"\n",
      "uuid = \"995b91a9-d308-5afd-9ec6-746e21dbc043\"\n",
      "version = \"1.3.0\"\n",
      "\n",
      "[[deps.Plots]]\n",
      "deps = [\"Base64\", \"Contour\", \"Dates\", \"Downloads\", \"FFMPEG\", \"FixedPointNumbers\", \"GR\", \"GeometryBasics\", \"JSON\", \"LaTeXStrings\", \"Latexify\", \"LinearAlgebra\", \"Measures\", \"NaNMath\", \"Pkg\", \"PlotThemes\", \"PlotUtils\", \"Printf\", \"REPL\", \"Random\", \"RecipesBase\", \"RecipesPipeline\", \"Reexport\", \"Requires\", \"Scratch\", \"Showoff\", \"SparseArrays\", \"Statistics\", \"StatsBase\", \"UUIDs\", \"UnicodeFun\", \"Unzip\"]\n",
      "git-tree-sha1 = \"05873db92e703f134649d88b8a164f3b7acb4d73\"\n",
      "uuid = \"91a5bcdd-55d7-5caf-9e0b-520d859cae80\"\n",
      "version = \"1.31.5\"\n",
      "\n",
      "[[deps.Preferences]]\n",
      "deps = [\"TOML\"]\n",
      "git-tree-sha1 = \"47e5f437cc0e7ef2ce8406ce1e7e24d44915f88d\"\n",
      "uuid = \"21216c6a-2e73-6563-6e65-726566657250\"\n",
      "version = \"1.3.0\"\n",
      "\n",
      "[[deps.Printf]]\n",
      "deps = [\"Unicode\"]\n",
      "uuid = \"de0858da-6303-5e67-8744-51eddeeeb8d7\"\n",
      "\n",
      "[[deps.Profile]]\n",
      "deps = [\"Printf\"]\n",
      "uuid = \"9abbd945-dff8-562f-b5e8-e1ebf5ef1b79\"\n",
      "\n",
      "[[deps.ProgressMeter]]\n",
      "deps = [\"Distributed\", \"Printf\"]\n",
      "git-tree-sha1 = \"d7a7aef8f8f2d537104f170139553b14dfe39fe9\"\n",
      "uuid = \"92933f4c-e287-5a05-a399-4b506db050ca\"\n",
      "version = \"1.7.2\"\n",
      "\n",
      "[[deps.PyCall]]\n",
      "deps = [\"Conda\", \"Dates\", \"Libdl\", \"LinearAlgebra\", \"MacroTools\", \"Serialization\", \"VersionParsing\"]\n",
      "git-tree-sha1 = \"1fc929f47d7c151c839c5fc1375929766fb8edcc\"\n",
      "uuid = \"438e738f-606a-5dbb-bf0a-cddfbfd45ab0\"\n",
      "version = \"1.93.1\"\n",
      "\n",
      "[[deps.Qt5Base_jll]]\n",
      "deps = [\"Artifacts\", \"CompilerSupportLibraries_jll\", \"Fontconfig_jll\", \"Glib_jll\", \"JLLWrappers\", \"Libdl\", \"Libglvnd_jll\", \"OpenSSL_jll\", \"Pkg\", \"Xorg_libXext_jll\", \"Xorg_libxcb_jll\", \"Xorg_xcb_util_image_jll\", \"Xorg_xcb_util_keysyms_jll\", \"Xorg_xcb_util_renderutil_jll\", \"Xorg_xcb_util_wm_jll\", \"Zlib_jll\", \"xkbcommon_jll\"]\n",
      "git-tree-sha1 = \"c6c0f690d0cc7caddb74cef7aa847b824a16b256\"\n",
      "uuid = \"ea2cea3b-5b76-57ae-a6ef-0a8af62496e1\"\n",
      "version = \"5.15.3+1\"\n",
      "\n",
      "[[deps.REPL]]\n",
      "deps = [\"InteractiveUtils\", \"Markdown\", \"Sockets\", \"Unicode\"]\n",
      "uuid = \"3fa0cd96-eef1-5676-8a61-b3b8758bbffb\"\n",
      "\n",
      "[[deps.Random]]\n",
      "deps = [\"SHA\", \"Serialization\"]\n",
      "uuid = \"9a3f8284-a2c9-5f02-9a11-845980a1fd5c\"\n",
      "\n",
      "[[deps.RecipesBase]]\n",
      "git-tree-sha1 = \"6bf3f380ff52ce0832ddd3a2a7b9538ed1bcca7d\"\n",
      "uuid = \"3cdcf5f2-1ef4-517c-9805-6587b60abb01\"\n",
      "version = \"1.2.1\"\n",
      "\n",
      "[[deps.RecipesPipeline]]\n",
      "deps = [\"Dates\", \"NaNMath\", \"PlotUtils\", \"RecipesBase\"]\n",
      "git-tree-sha1 = \"e7eac76a958f8664f2718508435d058168c7953d\"\n",
      "uuid = \"01d81517-befc-4cb6-b9ec-a95719d0359c\"\n",
      "version = \"0.6.3\"\n",
      "\n",
      "[[deps.Reexport]]\n",
      "git-tree-sha1 = \"45e428421666073eab6f2da5c9d310d99bb12f9b\"\n",
      "uuid = \"189a3867-3050-52da-a836-e630ba90ab69\"\n",
      "version = \"1.2.2\"\n",
      "\n",
      "[[deps.RelocatableFolders]]\n",
      "deps = [\"SHA\", \"Scratch\"]\n",
      "git-tree-sha1 = \"22c5201127d7b243b9ee1de3b43c408879dff60f\"\n",
      "uuid = \"05181044-ff0b-4ac5-8273-598c1e38db00\"\n",
      "version = \"0.3.0\"\n",
      "\n",
      "[[deps.Requires]]\n",
      "deps = [\"UUIDs\"]\n",
      "git-tree-sha1 = \"838a3a4188e2ded87a4f9f184b4b0d78a1e91cb7\"\n",
      "uuid = \"ae029012-a4dd-5104-9daa-d747884805df\"\n",
      "version = \"1.3.0\"\n",
      "\n",
      "[[deps.SHA]]\n",
      "uuid = \"ea8e919c-243c-51af-8825-aaa63cd721ce\"\n",
      "\n",
      "[[deps.Scratch]]\n",
      "deps = [\"Dates\"]\n",
      "git-tree-sha1 = \"f94f779c94e58bf9ea243e77a37e16d9de9126bd\"\n",
      "uuid = \"6c6a2e73-6563-6170-7368-637461726353\"\n",
      "version = \"1.1.1\"\n",
      "\n",
      "[[deps.Serialization]]\n",
      "uuid = \"9e88b42a-f829-5b0c-bbe9-9e923198166b\"\n",
      "\n",
      "[[deps.Showoff]]\n",
      "deps = [\"Dates\", \"Grisu\"]\n",
      "git-tree-sha1 = \"91eddf657aca81df9ae6ceb20b959ae5653ad1de\"\n",
      "uuid = \"992d4aef-0814-514b-bc4d-f2e9a6c4116f\"\n",
      "version = \"1.0.3\"\n",
      "\n",
      "[[deps.SimpleBufferStream]]\n",
      "git-tree-sha1 = \"874e8867b33a00e784c8a7e4b60afe9e037b74e1\"\n",
      "uuid = \"777ac1f9-54b0-4bf8-805c-2214025038e7\"\n",
      "version = \"1.1.0\"\n",
      "\n",
      "[[deps.Sockets]]\n",
      "uuid = \"6462fe0b-24de-5631-8697-dd941f90decc\"\n",
      "\n",
      "[[deps.SortingAlgorithms]]\n",
      "deps = [\"DataStructures\"]\n",
      "git-tree-sha1 = \"b3363d7460f7d098ca0912c69b082f75625d7508\"\n",
      "uuid = \"a2af1166-a08f-5f64-846c-94a0d3cef48c\"\n",
      "version = \"1.0.1\"\n",
      "\n",
      "[[deps.SparseArrays]]\n",
      "deps = [\"LinearAlgebra\", \"Random\"]\n",
      "uuid = \"2f01184e-e22b-5df5-ae63-d93ebab69eaf\"\n",
      "\n",
      "[[deps.SpecialFunctions]]\n",
      "deps = [\"ChainRulesCore\", \"IrrationalConstants\", \"LogExpFunctions\", \"OpenLibm_jll\", \"OpenSpecFun_jll\"]\n",
      "git-tree-sha1 = \"d75bda01f8c31ebb72df80a46c88b25d1c79c56d\"\n",
      "uuid = \"276daf66-3868-5448-9aa4-cd146d93841b\"\n",
      "version = \"2.1.7\"\n",
      "\n",
      "[[deps.StaticArrays]]\n",
      "deps = [\"LinearAlgebra\", \"Random\", \"StaticArraysCore\", \"Statistics\"]\n",
      "git-tree-sha1 = \"23368a3313d12a2326ad0035f0db0c0966f438ef\"\n",
      "uuid = \"90137ffa-7385-5640-81b9-e52037218182\"\n",
      "version = \"1.5.2\"\n",
      "\n",
      "[[deps.StaticArraysCore]]\n",
      "git-tree-sha1 = \"66fe9eb253f910fe8cf161953880cfdaef01cdf0\"\n",
      "uuid = \"1e83bf80-4336-4d27-bf5d-d5a4f845583c\"\n",
      "version = \"1.0.1\"\n",
      "\n",
      "[[deps.Statistics]]\n",
      "deps = [\"LinearAlgebra\", \"SparseArrays\"]\n",
      "uuid = \"10745b16-79ce-11e8-11f9-7d13ad32a3b2\"\n",
      "\n",
      "[[deps.StatsAPI]]\n",
      "deps = [\"LinearAlgebra\"]\n",
      "git-tree-sha1 = \"2c11d7290036fe7aac9038ff312d3b3a2a5bf89e\"\n",
      "uuid = \"82ae8749-77ed-4fe6-ae5f-f523153014b0\"\n",
      "version = \"1.4.0\"\n",
      "\n",
      "[[deps.StatsBase]]\n",
      "deps = [\"DataAPI\", \"DataStructures\", \"LinearAlgebra\", \"LogExpFunctions\", \"Missings\", \"Printf\", \"Random\", \"SortingAlgorithms\", \"SparseArrays\", \"Statistics\", \"StatsAPI\"]\n",
      "git-tree-sha1 = \"0005d75f43ff23688914536c5e9d5ac94f8077f7\"\n",
      "uuid = \"2913bbd2-ae8a-5f71-8c99-4fb6c76f3a91\"\n",
      "version = \"0.33.20\"\n",
      "\n",
      "[[deps.StructArrays]]\n",
      "deps = [\"Adapt\", \"DataAPI\", \"StaticArrays\", \"Tables\"]\n",
      "git-tree-sha1 = \"ec47fb6069c57f1cee2f67541bf8f23415146de7\"\n",
      "uuid = \"09ab397b-f2b6-538f-b94a-2f83cf4a842a\"\n",
      "version = \"0.6.11\"\n",
      "\n",
      "[[deps.TOML]]\n",
      "deps = [\"Dates\"]\n",
      "uuid = \"fa267f1f-6049-4f14-aa54-33bafae1ed76\"\n",
      "\n",
      "[[deps.TableTraits]]\n",
      "deps = [\"IteratorInterfaceExtensions\"]\n",
      "git-tree-sha1 = \"c06b2f539df1c6efa794486abfb6ed2022561a39\"\n",
      "uuid = \"3783bdb8-4a98-5b6b-af9a-565f29a5fe9c\"\n",
      "version = \"1.0.1\"\n",
      "\n",
      "[[deps.Tables]]\n",
      "deps = [\"DataAPI\", \"DataValueInterfaces\", \"IteratorInterfaceExtensions\", \"LinearAlgebra\", \"OrderedCollections\", \"TableTraits\", \"Test\"]\n",
      "git-tree-sha1 = \"5ce79ce186cc678bbb5c5681ca3379d1ddae11a1\"\n",
      "uuid = \"bd369af6-aec1-5ad0-b16a-f7cc5008161c\"\n",
      "version = \"1.7.0\"\n",
      "\n",
      "[[deps.Tar]]\n",
      "deps = [\"ArgTools\", \"SHA\"]\n",
      "uuid = \"a4e569a6-e804-4fa4-b0f3-eef7a1d5b13e\"\n",
      "\n",
      "[[deps.TensorCore]]\n",
      "deps = [\"LinearAlgebra\"]\n",
      "git-tree-sha1 = \"1feb45f88d133a655e001435632f019a9a1bcdb6\"\n",
      "uuid = \"62fd8b95-f654-4bbd-a8a5-9c27f68ccd50\"\n",
      "version = \"0.1.1\"\n",
      "\n",
      "[[deps.Test]]\n",
      "deps = [\"InteractiveUtils\", \"Logging\", \"Random\", \"Serialization\"]\n",
      "uuid = \"8dfed614-e22c-5e08-85e1-65c5234f0b40\"\n",
      "\n",
      "[[deps.TranscodingStreams]]\n",
      "deps = [\"Random\", \"Test\"]\n",
      "git-tree-sha1 = \"216b95ea110b5972db65aa90f88d8d89dcb8851c\"\n",
      "uuid = \"3bb67fe8-82b1-5028-8e26-92a6c54297fa\"\n",
      "version = \"0.9.6\"\n",
      "\n",
      "[[deps.URIs]]\n",
      "git-tree-sha1 = \"e59ecc5a41b000fa94423a578d29290c7266fc10\"\n",
      "uuid = \"5c2747f8-b7ea-4ff2-ba2e-563bfd36b1d4\"\n",
      "version = \"1.4.0\"\n",
      "\n",
      "[[deps.UUIDs]]\n",
      "deps = [\"Random\", \"SHA\"]\n",
      "uuid = \"cf7118a7-6976-5b1a-9a39-7adc72f591a4\"\n",
      "\n",
      "[[deps.Unicode]]\n",
      "uuid = \"4ec0a83e-493e-50e2-b9ac-8f72acf5a8f5\"\n",
      "\n",
      "[[deps.UnicodeFun]]\n",
      "deps = [\"REPL\"]\n",
      "git-tree-sha1 = \"53915e50200959667e78a92a418594b428dffddf\"\n",
      "uuid = \"1cfade01-22cf-5700-b092-accc4b62d6e1\"\n",
      "version = \"0.4.1\"\n",
      "\n",
      "[[deps.Unzip]]\n",
      "git-tree-sha1 = \"34db80951901073501137bdbc3d5a8e7bbd06670\"\n",
      "uuid = \"41fe7b60-77ed-43a1-b4f0-825fd5a5650d\"\n",
      "version = \"0.1.2\"\n",
      "\n",
      "[[deps.VersionParsing]]\n",
      "git-tree-sha1 = \"58d6e80b4ee071f5efd07fda82cb9fbe17200868\"\n",
      "uuid = \"81def892-9a0e-5fdd-b105-ffc91e053289\"\n",
      "version = \"1.3.0\"\n",
      "\n",
      "[[deps.Wayland_jll]]\n",
      "deps = [\"Artifacts\", \"Expat_jll\", \"JLLWrappers\", \"Libdl\", \"Libffi_jll\", \"Pkg\", \"XML2_jll\"]\n",
      "git-tree-sha1 = \"3e61f0b86f90dacb0bc0e73a0c5a83f6a8636e23\"\n",
      "uuid = \"a2964d1f-97da-50d4-b82a-358c7fce9d89\"\n",
      "version = \"1.19.0+0\"\n",
      "\n",
      "[[deps.Wayland_protocols_jll]]\n",
      "deps = [\"Artifacts\", \"JLLWrappers\", \"Libdl\", \"Pkg\"]\n",
      "git-tree-sha1 = \"4528479aa01ee1b3b4cd0e6faef0e04cf16466da\"\n",
      "uuid = \"2381bf8a-dfd0-557d-9999-79630e7b1b91\"\n",
      "version = \"1.25.0+0\"\n",
      "\n",
      "[[deps.XML2_jll]]\n",
      "deps = [\"Artifacts\", \"JLLWrappers\", \"Libdl\", \"Libiconv_jll\", \"Pkg\", \"Zlib_jll\"]\n",
      "git-tree-sha1 = \"58443b63fb7e465a8a7210828c91c08b92132dff\"\n",
      "uuid = \"02c8fc9c-b97f-50b9-bbe4-9be30ff0a78a\"\n",
      "version = \"2.9.14+0\"\n",
      "\n",
      "[[deps.XSLT_jll]]\n",
      "deps = [\"Artifacts\", \"JLLWrappers\", \"Libdl\", \"Libgcrypt_jll\", \"Libgpg_error_jll\", \"Libiconv_jll\", \"Pkg\", \"XML2_jll\", \"Zlib_jll\"]\n",
      "git-tree-sha1 = \"91844873c4085240b95e795f692c4cec4d805f8a\"\n",
      "uuid = \"aed1982a-8fda-507f-9586-7b0439959a61\"\n",
      "version = \"1.1.34+0\"\n",
      "\n",
      "[[deps.Xorg_libX11_jll]]\n",
      "deps = [\"Artifacts\", \"JLLWrappers\", \"Libdl\", \"Pkg\", \"Xorg_libxcb_jll\", \"Xorg_xtrans_jll\"]\n",
      "git-tree-sha1 = \"5be649d550f3f4b95308bf0183b82e2582876527\"\n",
      "uuid = \"4f6342f7-b3d2-589e-9d20-edeb45f2b2bc\"\n",
      "version = \"1.6.9+4\"\n",
      "\n",
      "[[deps.Xorg_libXau_jll]]\n",
      "deps = [\"Artifacts\", \"JLLWrappers\", \"Libdl\", \"Pkg\"]\n",
      "git-tree-sha1 = \"4e490d5c960c314f33885790ed410ff3a94ce67e\"\n",
      "uuid = \"0c0b7dd1-d40b-584c-a123-a41640f87eec\"\n",
      "version = \"1.0.9+4\"\n",
      "\n",
      "[[deps.Xorg_libXcursor_jll]]\n",
      "deps = [\"Artifacts\", \"JLLWrappers\", \"Libdl\", \"Pkg\", \"Xorg_libXfixes_jll\", \"Xorg_libXrender_jll\"]\n",
      "git-tree-sha1 = \"12e0eb3bc634fa2080c1c37fccf56f7c22989afd\"\n",
      "uuid = \"935fb764-8cf2-53bf-bb30-45bb1f8bf724\"\n",
      "version = \"1.2.0+4\"\n",
      "\n",
      "[[deps.Xorg_libXdmcp_jll]]\n",
      "deps = [\"Artifacts\", \"JLLWrappers\", \"Libdl\", \"Pkg\"]\n",
      "git-tree-sha1 = \"4fe47bd2247248125c428978740e18a681372dd4\"\n",
      "uuid = \"a3789734-cfe1-5b06-b2d0-1dd0d9d62d05\"\n",
      "version = \"1.1.3+4\"\n",
      "\n",
      "[[deps.Xorg_libXext_jll]]\n",
      "deps = [\"Artifacts\", \"JLLWrappers\", \"Libdl\", \"Pkg\", \"Xorg_libX11_jll\"]\n",
      "git-tree-sha1 = \"b7c0aa8c376b31e4852b360222848637f481f8c3\"\n",
      "uuid = \"1082639a-0dae-5f34-9b06-72781eeb8cb3\"\n",
      "version = \"1.3.4+4\"\n",
      "\n",
      "[[deps.Xorg_libXfixes_jll]]\n",
      "deps = [\"Artifacts\", \"JLLWrappers\", \"Libdl\", \"Pkg\", \"Xorg_libX11_jll\"]\n",
      "git-tree-sha1 = \"0e0dc7431e7a0587559f9294aeec269471c991a4\"\n",
      "uuid = \"d091e8ba-531a-589c-9de9-94069b037ed8\"\n",
      "version = \"5.0.3+4\"\n",
      "\n",
      "[[deps.Xorg_libXi_jll]]\n",
      "deps = [\"Artifacts\", \"JLLWrappers\", \"Libdl\", \"Pkg\", \"Xorg_libXext_jll\", \"Xorg_libXfixes_jll\"]\n",
      "git-tree-sha1 = \"89b52bc2160aadc84d707093930ef0bffa641246\"\n",
      "uuid = \"a51aa0fd-4e3c-5386-b890-e753decda492\"\n",
      "version = \"1.7.10+4\"\n",
      "\n",
      "[[deps.Xorg_libXinerama_jll]]\n",
      "deps = [\"Artifacts\", \"JLLWrappers\", \"Libdl\", \"Pkg\", \"Xorg_libXext_jll\"]\n",
      "git-tree-sha1 = \"26be8b1c342929259317d8b9f7b53bf2bb73b123\"\n",
      "uuid = \"d1454406-59df-5ea1-beac-c340f2130bc3\"\n",
      "version = \"1.1.4+4\"\n",
      "\n",
      "[[deps.Xorg_libXrandr_jll]]\n",
      "deps = [\"Artifacts\", \"JLLWrappers\", \"Libdl\", \"Pkg\", \"Xorg_libXext_jll\", \"Xorg_libXrender_jll\"]\n",
      "git-tree-sha1 = \"34cea83cb726fb58f325887bf0612c6b3fb17631\"\n",
      "uuid = \"ec84b674-ba8e-5d96-8ba1-2a689ba10484\"\n",
      "version = \"1.5.2+4\"\n",
      "\n",
      "[[deps.Xorg_libXrender_jll]]\n",
      "deps = [\"Artifacts\", \"JLLWrappers\", \"Libdl\", \"Pkg\", \"Xorg_libX11_jll\"]\n",
      "git-tree-sha1 = \"19560f30fd49f4d4efbe7002a1037f8c43d43b96\"\n",
      "uuid = \"ea2f1a96-1ddc-540d-b46f-429655e07cfa\"\n",
      "version = \"0.9.10+4\"\n",
      "\n",
      "[[deps.Xorg_libpthread_stubs_jll]]\n",
      "deps = [\"Artifacts\", \"JLLWrappers\", \"Libdl\", \"Pkg\"]\n",
      "git-tree-sha1 = \"6783737e45d3c59a4a4c4091f5f88cdcf0908cbb\"\n",
      "uuid = \"14d82f49-176c-5ed1-bb49-ad3f5cbd8c74\"\n",
      "version = \"0.1.0+3\"\n",
      "\n",
      "[[deps.Xorg_libxcb_jll]]\n",
      "deps = [\"Artifacts\", \"JLLWrappers\", \"Libdl\", \"Pkg\", \"XSLT_jll\", \"Xorg_libXau_jll\", \"Xorg_libXdmcp_jll\", \"Xorg_libpthread_stubs_jll\"]\n",
      "git-tree-sha1 = \"daf17f441228e7a3833846cd048892861cff16d6\"\n",
      "uuid = \"c7cfdc94-dc32-55de-ac96-5a1b8d977c5b\"\n",
      "version = \"1.13.0+3\"\n",
      "\n",
      "[[deps.Xorg_libxkbfile_jll]]\n",
      "deps = [\"Artifacts\", \"JLLWrappers\", \"Libdl\", \"Pkg\", \"Xorg_libX11_jll\"]\n",
      "git-tree-sha1 = \"926af861744212db0eb001d9e40b5d16292080b2\"\n",
      "uuid = \"cc61e674-0454-545c-8b26-ed2c68acab7a\"\n",
      "version = \"1.1.0+4\"\n",
      "\n",
      "[[deps.Xorg_xcb_util_image_jll]]\n",
      "deps = [\"Artifacts\", \"JLLWrappers\", \"Libdl\", \"Pkg\", \"Xorg_xcb_util_jll\"]\n",
      "git-tree-sha1 = \"0fab0a40349ba1cba2c1da699243396ff8e94b97\"\n",
      "uuid = \"12413925-8142-5f55-bb0e-6d7ca50bb09b\"\n",
      "version = \"0.4.0+1\"\n",
      "\n",
      "[[deps.Xorg_xcb_util_jll]]\n",
      "deps = [\"Artifacts\", \"JLLWrappers\", \"Libdl\", \"Pkg\", \"Xorg_libxcb_jll\"]\n",
      "git-tree-sha1 = \"e7fd7b2881fa2eaa72717420894d3938177862d1\"\n",
      "uuid = \"2def613f-5ad1-5310-b15b-b15d46f528f5\"\n",
      "version = \"0.4.0+1\"\n",
      "\n",
      "[[deps.Xorg_xcb_util_keysyms_jll]]\n",
      "deps = [\"Artifacts\", \"JLLWrappers\", \"Libdl\", \"Pkg\", \"Xorg_xcb_util_jll\"]\n",
      "git-tree-sha1 = \"d1151e2c45a544f32441a567d1690e701ec89b00\"\n",
      "uuid = \"975044d2-76e6-5fbe-bf08-97ce7c6574c7\"\n",
      "version = \"0.4.0+1\"\n",
      "\n",
      "[[deps.Xorg_xcb_util_renderutil_jll]]\n",
      "deps = [\"Artifacts\", \"JLLWrappers\", \"Libdl\", \"Pkg\", \"Xorg_xcb_util_jll\"]\n",
      "git-tree-sha1 = \"dfd7a8f38d4613b6a575253b3174dd991ca6183e\"\n",
      "uuid = \"0d47668e-0667-5a69-a72c-f761630bfb7e\"\n",
      "version = \"0.3.9+1\"\n",
      "\n",
      "[[deps.Xorg_xcb_util_wm_jll]]\n",
      "deps = [\"Artifacts\", \"JLLWrappers\", \"Libdl\", \"Pkg\", \"Xorg_xcb_util_jll\"]\n",
      "git-tree-sha1 = \"e78d10aab01a4a154142c5006ed44fd9e8e31b67\"\n",
      "uuid = \"c22f9ab0-d5fe-5066-847c-f4bb1cd4e361\"\n",
      "version = \"0.4.1+1\"\n",
      "\n",
      "[[deps.Xorg_xkbcomp_jll]]\n",
      "deps = [\"Artifacts\", \"JLLWrappers\", \"Libdl\", \"Pkg\", \"Xorg_libxkbfile_jll\"]\n",
      "git-tree-sha1 = \"4bcbf660f6c2e714f87e960a171b119d06ee163b\"\n",
      "uuid = \"35661453-b289-5fab-8a00-3d9160c6a3a4\"\n",
      "version = \"1.4.2+4\"\n",
      "\n",
      "[[deps.Xorg_xkeyboard_config_jll]]\n",
      "deps = [\"Artifacts\", \"JLLWrappers\", \"Libdl\", \"Pkg\", \"Xorg_xkbcomp_jll\"]\n",
      "git-tree-sha1 = \"5c8424f8a67c3f2209646d4425f3d415fee5931d\"\n",
      "uuid = \"33bec58e-1273-512f-9401-5d533626f822\"\n",
      "version = \"2.27.0+4\"\n",
      "\n",
      "[[deps.Xorg_xtrans_jll]]\n",
      "deps = [\"Artifacts\", \"JLLWrappers\", \"Libdl\", \"Pkg\"]\n",
      "git-tree-sha1 = \"79c31e7844f6ecf779705fbc12146eb190b7d845\"\n",
      "uuid = \"c5fb5394-a638-5e4d-96e5-b29de1b5cf10\"\n",
      "version = \"1.4.0+3\"\n",
      "\n",
      "[[deps.Zlib_jll]]\n",
      "deps = [\"Libdl\"]\n",
      "uuid = \"83775a58-1f1d-513f-b197-d71354ab007a\"\n",
      "\n",
      "[[deps.Zstd_jll]]\n",
      "deps = [\"Artifacts\", \"JLLWrappers\", \"Libdl\", \"Pkg\"]\n",
      "git-tree-sha1 = \"e45044cd873ded54b6a5bac0eb5c971392cf1927\"\n",
      "uuid = \"3161d3a3-bdf6-5164-811a-617609db77b4\"\n",
      "version = \"1.5.2+0\"\n",
      "\n",
      "[[deps.libaom_jll]]\n",
      "deps = [\"Artifacts\", \"JLLWrappers\", \"Libdl\", \"Pkg\"]\n",
      "git-tree-sha1 = \"3a2ea60308f0996d26f1e5354e10c24e9ef905d4\"\n",
      "uuid = \"a4ae2306-e953-59d6-aa16-d00cac43593b\"\n",
      "version = \"3.4.0+0\"\n",
      "\n",
      "[[deps.libass_jll]]\n",
      "deps = [\"Artifacts\", \"Bzip2_jll\", \"FreeType2_jll\", \"FriBidi_jll\", \"HarfBuzz_jll\", \"JLLWrappers\", \"Libdl\", \"Pkg\", \"Zlib_jll\"]\n",
      "git-tree-sha1 = \"5982a94fcba20f02f42ace44b9894ee2b140fe47\"\n",
      "uuid = \"0ac62f75-1d6f-5e53-bd7c-93b484bb37c0\"\n",
      "version = \"0.15.1+0\"\n",
      "\n",
      "[[deps.libblastrampoline_jll]]\n",
      "deps = [\"Artifacts\", \"Libdl\", \"OpenBLAS_jll\"]\n",
      "uuid = \"8e850b90-86db-534c-a0d3-1478176c7d93\"\n",
      "\n",
      "[[deps.libfdk_aac_jll]]\n",
      "deps = [\"Artifacts\", \"JLLWrappers\", \"Libdl\", \"Pkg\"]\n",
      "git-tree-sha1 = \"daacc84a041563f965be61859a36e17c4e4fcd55\"\n",
      "uuid = \"f638f0a6-7fb0-5443-88ba-1cc74229b280\"\n",
      "version = \"2.0.2+0\"\n",
      "\n",
      "[[deps.libpng_jll]]\n",
      "deps = [\"Artifacts\", \"JLLWrappers\", \"Libdl\", \"Pkg\", \"Zlib_jll\"]\n",
      "git-tree-sha1 = \"94d180a6d2b5e55e447e2d27a29ed04fe79eb30c\"\n",
      "uuid = \"b53b4c65-9356-5827-b1ea-8c7a1a84506f\"\n",
      "version = \"1.6.38+0\"\n",
      "\n",
      "[[deps.libvorbis_jll]]\n",
      "deps = [\"Artifacts\", \"JLLWrappers\", \"Libdl\", \"Ogg_jll\", \"Pkg\"]\n",
      "git-tree-sha1 = \"b910cb81ef3fe6e78bf6acee440bda86fd6ae00c\"\n",
      "uuid = \"f27f6e37-5d2b-51aa-960f-b287f2bc3b7a\"\n",
      "version = \"1.3.7+1\"\n",
      "\n",
      "[[deps.nghttp2_jll]]\n",
      "deps = [\"Artifacts\", \"Libdl\"]\n",
      "uuid = \"8e850ede-7688-5339-a07c-302acd2aaf8d\"\n",
      "\n",
      "[[deps.p7zip_jll]]\n",
      "deps = [\"Artifacts\", \"Libdl\"]\n",
      "uuid = \"3f19e933-33d8-53b3-aaab-bd5110c3b7a0\"\n",
      "\n",
      "[[deps.x264_jll]]\n",
      "deps = [\"Artifacts\", \"JLLWrappers\", \"Libdl\", \"Pkg\"]\n",
      "git-tree-sha1 = \"4fea590b89e6ec504593146bf8b988b2c00922b2\"\n",
      "uuid = \"1270edf5-f2f9-52d2-97e9-ab00b5d0237a\"\n",
      "version = \"2021.5.5+0\"\n",
      "\n",
      "[[deps.x265_jll]]\n",
      "deps = [\"Artifacts\", \"JLLWrappers\", \"Libdl\", \"Pkg\"]\n",
      "git-tree-sha1 = \"ee567a171cce03570d77ad3a43e90218e38937a9\"\n",
      "uuid = \"dfaa095f-4041-5dcd-9319-2fabd8486b76\"\n",
      "version = \"3.5.0+0\"\n",
      "\n",
      "[[deps.xkbcommon_jll]]\n",
      "deps = [\"Artifacts\", \"JLLWrappers\", \"Libdl\", \"Pkg\", \"Wayland_jll\", \"Wayland_protocols_jll\", \"Xorg_libxcb_jll\", \"Xorg_xkeyboard_config_jll\"]\n",
      "git-tree-sha1 = \"ece2350174195bb31de1a63bea3a41ae1aa593b6\"\n",
      "uuid = \"d8fb68d0-12a3-5cfd-a85a-d49703b185fd\"\n",
      "version = \"0.9.1+5\"\n"
     ]
    },
    {
     "data": {
      "text/plain": [
       "Process(`\u001b[4mcat\u001b[24m \u001b[4mManifest.toml\u001b[24m`, ProcessExited(0))"
      ]
     },
     "execution_count": 103,
     "metadata": {},
     "output_type": "execute_result"
    }
   ],
   "source": [
    "run(`cat Manifest.toml`)"
   ]
  },
  {
   "cell_type": "markdown",
   "metadata": {
    "slideshow": {
     "slide_type": "slide"
    }
   },
   "source": [
    "## Comparing Packages with Python\n",
    "| Python    | Julia                                                                                                                                                                                        |\n",
    "| --------- | -------------------------------------------------------------------------------------------------------------------------------------------------------------------------------------------- |\n",
    "| Pandas    | [Dataframes.jl](https://github.com/JuliaData/DataFrames.jl)                                                                                                                                  |\n",
    "| Numpy     | **Base** / [Standard Library - Statistics](https://github.com/JuliaStats/Statistics.jl)                                                                                                      |\n",
    "| Sklearn   | [MLJ.jl](https://github.com/alan-turing-institute/MLJ.jl) / [ScikitLearn.jl](https://github.com/cstjean/ScikitLearn.jl) / [Flux.jl](https://github.com/FluxML/Flux.jl)                       |\n",
    "| Plotly    | [Plots.jl](https://github.com/JuliaPlots/Plots.jl) / [UnicodePlots.jl](https://github.com/JuliaPlots/UnicodePlots.jl)                                                                        |\n",
    "| Loguru    | [Standard Library - Logging](https://docs.julialang.org/en/v1/stdlib/Logging/)                                                                                                               |\n",
    "| Pickle    | [Standard Library - Serialisation](https://docs.julialang.org/en/v1/stdlib/Serialization/) / [HDF5.jl](https://github.com/JuliaIO/HDF5.jl) / [Pickle.jl](https://juliapackages.com/p/pickle) |\n",
    "| Profiling | [Standard Library - Profiling](https://docs.julialang.org/en/v1/stdlib/Profile/)                                                                                                             |\n",
    "| Requests  | [Standard Library - Downloads](https://docs.julialang.org/en/v1/stdlib/Downloads/) / [HTTP.jl](https://github.com/JuliaWeb/HTTP.jl)                                                          |\n",
    "| Dask      | [Standard Library - Distributed](https://docs.julialang.org/en/v1/stdlib/Distributed/) / [Dagger.jl](https://github.com/JuliaParallel/Dagger.jl)                                             |\n",
    "| unittest  | [Standard Library - Test](https://docs.julialang.org/en/v1/stdlib/Test/)                                                                                                                     |\n",
    "| tqdm      | [ProgressMeter.jl](https://github.com/timholy/ProgressMeter.jl)                                                                                                                              |\n"
   ]
  },
  {
   "cell_type": "markdown",
   "metadata": {
    "slideshow": {
     "slide_type": "subslide"
    }
   },
   "source": [
    "## Example: Representing Colors and Images with Colors.jl\n",
    "\n",
    "Let's take a tour of one of my favorite packages, Colors.jl, and show off some feature's of Julia's arrays along the way. "
   ]
  },
  {
   "cell_type": "markdown",
   "metadata": {
    "slideshow": {
     "slide_type": "fragment"
    }
   },
   "source": [
    "We can load a package from the current environment with `using`:"
   ]
  },
  {
   "cell_type": "code",
   "execution_count": 35,
   "metadata": {},
   "outputs": [],
   "source": [
    "using Colors: RGB  # For now, just bring the `RGB` name into scope"
   ]
  },
  {
   "cell_type": "code",
   "execution_count": 36,
   "metadata": {
    "slideshow": {
     "slide_type": "subslide"
    }
   },
   "outputs": [
    {
     "data": {
      "image/svg+xml": [
       "<?xml version=\"1.0\" encoding=\"UTF-8\"?>\n",
       "<!DOCTYPE svg PUBLIC \"-//W3C//DTD SVG 1.1//EN\"\n",
       " \"http://www.w3.org/Graphics/SVG/1.1/DTD/svg11.dtd\">\n",
       "<svg xmlns=\"http://www.w3.org/2000/svg\" version=\"1.1\"\n",
       "     width=\"25mm\" height=\"25mm\" viewBox=\"0 0 1 1\">\n",
       "    <rect width=\"1\" height=\"1\" fill=\"#FF0000\" stroke=\"none\"/>\n",
       "</svg>\n"
      ],
      "text/plain": [
       "RGB{N0f8}(1.0,0.0,0.0)"
      ]
     },
     "execution_count": 36,
     "metadata": {},
     "output_type": "execute_result"
    }
   ],
   "source": [
    "RGB(1, 0, 0)"
   ]
  },
  {
   "cell_type": "markdown",
   "metadata": {
    "slideshow": {
     "slide_type": "fragment"
    }
   },
   "source": [
    "The `RGB` type from Colors.jl knows how to render itself as an actual colored `div` when running in Jupyter. We can also print its value as a string if we want:"
   ]
  },
  {
   "cell_type": "code",
   "execution_count": 37,
   "metadata": {},
   "outputs": [
    {
     "name": "stdout",
     "output_type": "stream",
     "text": [
      "RGB{N0f8}(1.0,0.0,0.0)"
     ]
    }
   ],
   "source": [
    "print(RGB(1, 0, 0))"
   ]
  },
  {
   "cell_type": "markdown",
   "metadata": {
    "slideshow": {
     "slide_type": "subslide"
    }
   },
   "source": [
    "Julia arrays are fully generic, so we can create an array of colors:"
   ]
  },
  {
   "cell_type": "code",
   "execution_count": 38,
   "metadata": {
    "slideshow": {
     "slide_type": "fragment"
    }
   },
   "outputs": [
    {
     "data": {
      "image/svg+xml": [
       "<?xml version=\"1.0\" encoding=\"UTF-8\"?>\n",
       "<!DOCTYPE svg PUBLIC \"-//W3C//DTD SVG 1.1//EN\"\n",
       " \"http://www.w3.org/Graphics/SVG/1.1/DTD/svg11.dtd\">\n",
       "<svg xmlns=\"http://www.w3.org/2000/svg\" version=\"1.1\"\n",
       "     width=\"150mm\" height=\"150mm\"\n",
       "     viewBox=\"0 0 11 11\" preserveAspectRatio=\"none\"\n",
       "     shape-rendering=\"crispEdges\" stroke=\"none\">\n",
       "<rect width=\".93\" height=\".93\" x=\"0\" y=\"0\" fill=\"#000000\" />\n",
       "<rect width=\".93\" height=\".93\" x=\"1\" y=\"0\" fill=\"#001A00\" />\n",
       "<rect width=\".93\" height=\".93\" x=\"2\" y=\"0\" fill=\"#003300\" />\n",
       "<rect width=\".93\" height=\".93\" x=\"3\" y=\"0\" fill=\"#004C00\" />\n",
       "<rect width=\".93\" height=\".93\" x=\"4\" y=\"0\" fill=\"#006600\" />\n",
       "<rect width=\".93\" height=\".93\" x=\"5\" y=\"0\" fill=\"#008000\" />\n",
       "<rect width=\".93\" height=\".93\" x=\"6\" y=\"0\" fill=\"#009900\" />\n",
       "<rect width=\".93\" height=\".93\" x=\"7\" y=\"0\" fill=\"#00B200\" />\n",
       "<rect width=\".93\" height=\".93\" x=\"8\" y=\"0\" fill=\"#00CC00\" />\n",
       "<rect width=\".93\" height=\".93\" x=\"9\" y=\"0\" fill=\"#00E600\" />\n",
       "<rect width=\".93\" height=\".93\" x=\"10\" y=\"0\" fill=\"#00FF00\" />\n",
       "<rect width=\".93\" height=\".93\" x=\"0\" y=\"1\" fill=\"#1A0000\" />\n",
       "<rect width=\".93\" height=\".93\" x=\"1\" y=\"1\" fill=\"#1A1A00\" />\n",
       "<rect width=\".93\" height=\".93\" x=\"2\" y=\"1\" fill=\"#1A3300\" />\n",
       "<rect width=\".93\" height=\".93\" x=\"3\" y=\"1\" fill=\"#1A4C00\" />\n",
       "<rect width=\".93\" height=\".93\" x=\"4\" y=\"1\" fill=\"#1A6600\" />\n",
       "<rect width=\".93\" height=\".93\" x=\"5\" y=\"1\" fill=\"#1A8000\" />\n",
       "<rect width=\".93\" height=\".93\" x=\"6\" y=\"1\" fill=\"#1A9900\" />\n",
       "<rect width=\".93\" height=\".93\" x=\"7\" y=\"1\" fill=\"#1AB200\" />\n",
       "<rect width=\".93\" height=\".93\" x=\"8\" y=\"1\" fill=\"#1ACC00\" />\n",
       "<rect width=\".93\" height=\".93\" x=\"9\" y=\"1\" fill=\"#1AE600\" />\n",
       "<rect width=\".93\" height=\".93\" x=\"10\" y=\"1\" fill=\"#1AFF00\" />\n",
       "<rect width=\".93\" height=\".93\" x=\"0\" y=\"2\" fill=\"#330000\" />\n",
       "<rect width=\".93\" height=\".93\" x=\"1\" y=\"2\" fill=\"#331A00\" />\n",
       "<rect width=\".93\" height=\".93\" x=\"2\" y=\"2\" fill=\"#333300\" />\n",
       "<rect width=\".93\" height=\".93\" x=\"3\" y=\"2\" fill=\"#334C00\" />\n",
       "<rect width=\".93\" height=\".93\" x=\"4\" y=\"2\" fill=\"#336600\" />\n",
       "<rect width=\".93\" height=\".93\" x=\"5\" y=\"2\" fill=\"#338000\" />\n",
       "<rect width=\".93\" height=\".93\" x=\"6\" y=\"2\" fill=\"#339900\" />\n",
       "<rect width=\".93\" height=\".93\" x=\"7\" y=\"2\" fill=\"#33B200\" />\n",
       "<rect width=\".93\" height=\".93\" x=\"8\" y=\"2\" fill=\"#33CC00\" />\n",
       "<rect width=\".93\" height=\".93\" x=\"9\" y=\"2\" fill=\"#33E600\" />\n",
       "<rect width=\".93\" height=\".93\" x=\"10\" y=\"2\" fill=\"#33FF00\" />\n",
       "<rect width=\".93\" height=\".93\" x=\"0\" y=\"3\" fill=\"#4C0000\" />\n",
       "<rect width=\".93\" height=\".93\" x=\"1\" y=\"3\" fill=\"#4C1A00\" />\n",
       "<rect width=\".93\" height=\".93\" x=\"2\" y=\"3\" fill=\"#4C3300\" />\n",
       "<rect width=\".93\" height=\".93\" x=\"3\" y=\"3\" fill=\"#4C4C00\" />\n",
       "<rect width=\".93\" height=\".93\" x=\"4\" y=\"3\" fill=\"#4C6600\" />\n",
       "<rect width=\".93\" height=\".93\" x=\"5\" y=\"3\" fill=\"#4C8000\" />\n",
       "<rect width=\".93\" height=\".93\" x=\"6\" y=\"3\" fill=\"#4C9900\" />\n",
       "<rect width=\".93\" height=\".93\" x=\"7\" y=\"3\" fill=\"#4CB200\" />\n",
       "<rect width=\".93\" height=\".93\" x=\"8\" y=\"3\" fill=\"#4CCC00\" />\n",
       "<rect width=\".93\" height=\".93\" x=\"9\" y=\"3\" fill=\"#4CE600\" />\n",
       "<rect width=\".93\" height=\".93\" x=\"10\" y=\"3\" fill=\"#4CFF00\" />\n",
       "<rect width=\".93\" height=\".93\" x=\"0\" y=\"4\" fill=\"#660000\" />\n",
       "<rect width=\".93\" height=\".93\" x=\"1\" y=\"4\" fill=\"#661A00\" />\n",
       "<rect width=\".93\" height=\".93\" x=\"2\" y=\"4\" fill=\"#663300\" />\n",
       "<rect width=\".93\" height=\".93\" x=\"3\" y=\"4\" fill=\"#664C00\" />\n",
       "<rect width=\".93\" height=\".93\" x=\"4\" y=\"4\" fill=\"#666600\" />\n",
       "<rect width=\".93\" height=\".93\" x=\"5\" y=\"4\" fill=\"#668000\" />\n",
       "<rect width=\".93\" height=\".93\" x=\"6\" y=\"4\" fill=\"#669900\" />\n",
       "<rect width=\".93\" height=\".93\" x=\"7\" y=\"4\" fill=\"#66B200\" />\n",
       "<rect width=\".93\" height=\".93\" x=\"8\" y=\"4\" fill=\"#66CC00\" />\n",
       "<rect width=\".93\" height=\".93\" x=\"9\" y=\"4\" fill=\"#66E600\" />\n",
       "<rect width=\".93\" height=\".93\" x=\"10\" y=\"4\" fill=\"#66FF00\" />\n",
       "<rect width=\".93\" height=\".93\" x=\"0\" y=\"5\" fill=\"#800000\" />\n",
       "<rect width=\".93\" height=\".93\" x=\"1\" y=\"5\" fill=\"#801A00\" />\n",
       "<rect width=\".93\" height=\".93\" x=\"2\" y=\"5\" fill=\"#803300\" />\n",
       "<rect width=\".93\" height=\".93\" x=\"3\" y=\"5\" fill=\"#804C00\" />\n",
       "<rect width=\".93\" height=\".93\" x=\"4\" y=\"5\" fill=\"#806600\" />\n",
       "<rect width=\".93\" height=\".93\" x=\"5\" y=\"5\" fill=\"#808000\" />\n",
       "<rect width=\".93\" height=\".93\" x=\"6\" y=\"5\" fill=\"#809900\" />\n",
       "<rect width=\".93\" height=\".93\" x=\"7\" y=\"5\" fill=\"#80B200\" />\n",
       "<rect width=\".93\" height=\".93\" x=\"8\" y=\"5\" fill=\"#80CC00\" />\n",
       "<rect width=\".93\" height=\".93\" x=\"9\" y=\"5\" fill=\"#80E600\" />\n",
       "<rect width=\".93\" height=\".93\" x=\"10\" y=\"5\" fill=\"#80FF00\" />\n",
       "<rect width=\".93\" height=\".93\" x=\"0\" y=\"6\" fill=\"#990000\" />\n",
       "<rect width=\".93\" height=\".93\" x=\"1\" y=\"6\" fill=\"#991A00\" />\n",
       "<rect width=\".93\" height=\".93\" x=\"2\" y=\"6\" fill=\"#993300\" />\n",
       "<rect width=\".93\" height=\".93\" x=\"3\" y=\"6\" fill=\"#994C00\" />\n",
       "<rect width=\".93\" height=\".93\" x=\"4\" y=\"6\" fill=\"#996600\" />\n",
       "<rect width=\".93\" height=\".93\" x=\"5\" y=\"6\" fill=\"#998000\" />\n",
       "<rect width=\".93\" height=\".93\" x=\"6\" y=\"6\" fill=\"#999900\" />\n",
       "<rect width=\".93\" height=\".93\" x=\"7\" y=\"6\" fill=\"#99B200\" />\n",
       "<rect width=\".93\" height=\".93\" x=\"8\" y=\"6\" fill=\"#99CC00\" />\n",
       "<rect width=\".93\" height=\".93\" x=\"9\" y=\"6\" fill=\"#99E600\" />\n",
       "<rect width=\".93\" height=\".93\" x=\"10\" y=\"6\" fill=\"#99FF00\" />\n",
       "<rect width=\".93\" height=\".93\" x=\"0\" y=\"7\" fill=\"#B20000\" />\n",
       "<rect width=\".93\" height=\".93\" x=\"1\" y=\"7\" fill=\"#B21A00\" />\n",
       "<rect width=\".93\" height=\".93\" x=\"2\" y=\"7\" fill=\"#B23300\" />\n",
       "<rect width=\".93\" height=\".93\" x=\"3\" y=\"7\" fill=\"#B24C00\" />\n",
       "<rect width=\".93\" height=\".93\" x=\"4\" y=\"7\" fill=\"#B26600\" />\n",
       "<rect width=\".93\" height=\".93\" x=\"5\" y=\"7\" fill=\"#B28000\" />\n",
       "<rect width=\".93\" height=\".93\" x=\"6\" y=\"7\" fill=\"#B29900\" />\n",
       "<rect width=\".93\" height=\".93\" x=\"7\" y=\"7\" fill=\"#B2B200\" />\n",
       "<rect width=\".93\" height=\".93\" x=\"8\" y=\"7\" fill=\"#B2CC00\" />\n",
       "<rect width=\".93\" height=\".93\" x=\"9\" y=\"7\" fill=\"#B2E600\" />\n",
       "<rect width=\".93\" height=\".93\" x=\"10\" y=\"7\" fill=\"#B2FF00\" />\n",
       "<rect width=\".93\" height=\".93\" x=\"0\" y=\"8\" fill=\"#CC0000\" />\n",
       "<rect width=\".93\" height=\".93\" x=\"1\" y=\"8\" fill=\"#CC1A00\" />\n",
       "<rect width=\".93\" height=\".93\" x=\"2\" y=\"8\" fill=\"#CC3300\" />\n",
       "<rect width=\".93\" height=\".93\" x=\"3\" y=\"8\" fill=\"#CC4C00\" />\n",
       "<rect width=\".93\" height=\".93\" x=\"4\" y=\"8\" fill=\"#CC6600\" />\n",
       "<rect width=\".93\" height=\".93\" x=\"5\" y=\"8\" fill=\"#CC8000\" />\n",
       "<rect width=\".93\" height=\".93\" x=\"6\" y=\"8\" fill=\"#CC9900\" />\n",
       "<rect width=\".93\" height=\".93\" x=\"7\" y=\"8\" fill=\"#CCB200\" />\n",
       "<rect width=\".93\" height=\".93\" x=\"8\" y=\"8\" fill=\"#CCCC00\" />\n",
       "<rect width=\".93\" height=\".93\" x=\"9\" y=\"8\" fill=\"#CCE600\" />\n",
       "<rect width=\".93\" height=\".93\" x=\"10\" y=\"8\" fill=\"#CCFF00\" />\n",
       "<rect width=\".93\" height=\".93\" x=\"0\" y=\"9\" fill=\"#E60000\" />\n",
       "<rect width=\".93\" height=\".93\" x=\"1\" y=\"9\" fill=\"#E61A00\" />\n",
       "<rect width=\".93\" height=\".93\" x=\"2\" y=\"9\" fill=\"#E63300\" />\n",
       "<rect width=\".93\" height=\".93\" x=\"3\" y=\"9\" fill=\"#E64C00\" />\n",
       "<rect width=\".93\" height=\".93\" x=\"4\" y=\"9\" fill=\"#E66600\" />\n",
       "<rect width=\".93\" height=\".93\" x=\"5\" y=\"9\" fill=\"#E68000\" />\n",
       "<rect width=\".93\" height=\".93\" x=\"6\" y=\"9\" fill=\"#E69900\" />\n",
       "<rect width=\".93\" height=\".93\" x=\"7\" y=\"9\" fill=\"#E6B200\" />\n",
       "<rect width=\".93\" height=\".93\" x=\"8\" y=\"9\" fill=\"#E6CC00\" />\n",
       "<rect width=\".93\" height=\".93\" x=\"9\" y=\"9\" fill=\"#E6E600\" />\n",
       "<rect width=\".93\" height=\".93\" x=\"10\" y=\"9\" fill=\"#E6FF00\" />\n",
       "<rect width=\".93\" height=\".93\" x=\"0\" y=\"10\" fill=\"#FF0000\" />\n",
       "<rect width=\".93\" height=\".93\" x=\"1\" y=\"10\" fill=\"#FF1A00\" />\n",
       "<rect width=\".93\" height=\".93\" x=\"2\" y=\"10\" fill=\"#FF3300\" />\n",
       "<rect width=\".93\" height=\".93\" x=\"3\" y=\"10\" fill=\"#FF4C00\" />\n",
       "<rect width=\".93\" height=\".93\" x=\"4\" y=\"10\" fill=\"#FF6600\" />\n",
       "<rect width=\".93\" height=\".93\" x=\"5\" y=\"10\" fill=\"#FF8000\" />\n",
       "<rect width=\".93\" height=\".93\" x=\"6\" y=\"10\" fill=\"#FF9900\" />\n",
       "<rect width=\".93\" height=\".93\" x=\"7\" y=\"10\" fill=\"#FFB200\" />\n",
       "<rect width=\".93\" height=\".93\" x=\"8\" y=\"10\" fill=\"#FFCC00\" />\n",
       "<rect width=\".93\" height=\".93\" x=\"9\" y=\"10\" fill=\"#FFE600\" />\n",
       "<rect width=\".93\" height=\".93\" x=\"10\" y=\"10\" fill=\"#FFFF00\" />\n",
       "</svg>"
      ],
      "text/plain": [
       "11×11 Array{RGB{Float64},2} with eltype RGB{Float64}:\n",
       " RGB{Float64}(0.0,0.0,0.0)  …  RGB{Float64}(0.0,1.0,0.0)\n",
       " RGB{Float64}(0.1,0.0,0.0)     RGB{Float64}(0.1,1.0,0.0)\n",
       " RGB{Float64}(0.2,0.0,0.0)     RGB{Float64}(0.2,1.0,0.0)\n",
       " RGB{Float64}(0.3,0.0,0.0)     RGB{Float64}(0.3,1.0,0.0)\n",
       " RGB{Float64}(0.4,0.0,0.0)     RGB{Float64}(0.4,1.0,0.0)\n",
       " RGB{Float64}(0.5,0.0,0.0)  …  RGB{Float64}(0.5,1.0,0.0)\n",
       " RGB{Float64}(0.6,0.0,0.0)     RGB{Float64}(0.6,1.0,0.0)\n",
       " RGB{Float64}(0.7,0.0,0.0)     RGB{Float64}(0.7,1.0,0.0)\n",
       " RGB{Float64}(0.8,0.0,0.0)     RGB{Float64}(0.8,1.0,0.0)\n",
       " RGB{Float64}(0.9,0.0,0.0)     RGB{Float64}(0.9,1.0,0.0)\n",
       " RGB{Float64}(1.0,0.0,0.0)  …  RGB{Float64}(1.0,1.0,0.0)"
      ]
     },
     "execution_count": 38,
     "metadata": {},
     "output_type": "execute_result"
    }
   ],
   "source": [
    "C = [RGB(i, j, 0) for i in 0:0.1:1, j in 0:0.1:1]"
   ]
  },
  {
   "cell_type": "code",
   "execution_count": 39,
   "metadata": {
    "slideshow": {
     "slide_type": "fragment"
    }
   },
   "outputs": [
    {
     "data": {
      "text/plain": [
       "Matrix{RGB{Float64}} (alias for Array{RGB{Float64}, 2})"
      ]
     },
     "execution_count": 39,
     "metadata": {},
     "output_type": "execute_result"
    }
   ],
   "source": [
    "typeof(C)"
   ]
  },
  {
   "cell_type": "markdown",
   "metadata": {
    "slideshow": {
     "slide_type": "subslide"
    }
   },
   "source": [
    "C is an array like any other, so we can index into it and slice it:"
   ]
  },
  {
   "cell_type": "code",
   "execution_count": 40,
   "metadata": {},
   "outputs": [
    {
     "data": {
      "image/svg+xml": [
       "<?xml version=\"1.0\" encoding=\"UTF-8\"?>\n",
       "<!DOCTYPE svg PUBLIC \"-//W3C//DTD SVG 1.1//EN\"\n",
       " \"http://www.w3.org/Graphics/SVG/1.1/DTD/svg11.dtd\">\n",
       "<svg xmlns=\"http://www.w3.org/2000/svg\" version=\"1.1\"\n",
       "     width=\"25mm\" height=\"25mm\" viewBox=\"0 0 1 1\">\n",
       "    <rect width=\"1\" height=\"1\" fill=\"#B21A00\" stroke=\"none\"/>\n",
       "</svg>\n"
      ],
      "text/plain": [
       "RGB{Float64}(0.7,0.1,0.0)"
      ]
     },
     "execution_count": 40,
     "metadata": {},
     "output_type": "execute_result"
    }
   ],
   "source": [
    "C[8, 2]"
   ]
  },
  {
   "cell_type": "code",
   "execution_count": 41,
   "metadata": {
    "slideshow": {
     "slide_type": "fragment"
    }
   },
   "outputs": [
    {
     "data": {
      "image/svg+xml": [
       "<?xml version=\"1.0\" encoding=\"UTF-8\"?>\n",
       "<!DOCTYPE svg PUBLIC \"-//W3C//DTD SVG 1.1//EN\"\n",
       " \"http://www.w3.org/Graphics/SVG/1.1/DTD/svg11.dtd\">\n",
       "<svg xmlns=\"http://www.w3.org/2000/svg\" version=\"1.1\"\n",
       "     width=\"180mm\" height=\"25mm\"\n",
       "     viewBox=\"0 0 11 1\" preserveAspectRatio=\"none\"\n",
       "     shape-rendering=\"crispEdges\" stroke=\"none\">\n",
       "<rect width=\".94\" height=\".96\" x=\"0\" y=\"0\" fill=\"#000000\" />\n",
       "<rect width=\".94\" height=\".96\" x=\"1\" y=\"0\" fill=\"#001A00\" />\n",
       "<rect width=\".94\" height=\".96\" x=\"2\" y=\"0\" fill=\"#003300\" />\n",
       "<rect width=\".94\" height=\".96\" x=\"3\" y=\"0\" fill=\"#004C00\" />\n",
       "<rect width=\".94\" height=\".96\" x=\"4\" y=\"0\" fill=\"#006600\" />\n",
       "<rect width=\".94\" height=\".96\" x=\"5\" y=\"0\" fill=\"#008000\" />\n",
       "<rect width=\".94\" height=\".96\" x=\"6\" y=\"0\" fill=\"#009900\" />\n",
       "<rect width=\".94\" height=\".96\" x=\"7\" y=\"0\" fill=\"#00B200\" />\n",
       "<rect width=\".94\" height=\".96\" x=\"8\" y=\"0\" fill=\"#00CC00\" />\n",
       "<rect width=\".94\" height=\".96\" x=\"9\" y=\"0\" fill=\"#00E600\" />\n",
       "<rect width=\".94\" height=\".96\" x=\"10\" y=\"0\" fill=\"#00FF00\" />\n",
       "</svg>"
      ],
      "text/plain": [
       "11-element Array{RGB{Float64},1} with eltype RGB{Float64}:\n",
       " RGB{Float64}(0.0,0.0,0.0)\n",
       " RGB{Float64}(0.0,0.1,0.0)\n",
       " RGB{Float64}(0.0,0.2,0.0)\n",
       " RGB{Float64}(0.0,0.3,0.0)\n",
       " RGB{Float64}(0.0,0.4,0.0)\n",
       " RGB{Float64}(0.0,0.5,0.0)\n",
       " RGB{Float64}(0.0,0.6,0.0)\n",
       " RGB{Float64}(0.0,0.7,0.0)\n",
       " RGB{Float64}(0.0,0.8,0.0)\n",
       " RGB{Float64}(0.0,0.9,0.0)\n",
       " RGB{Float64}(0.0,1.0,0.0)"
      ]
     },
     "execution_count": 41,
     "metadata": {},
     "output_type": "execute_result"
    }
   ],
   "source": [
    "C[1, :]"
   ]
  },
  {
   "cell_type": "markdown",
   "metadata": {
    "slideshow": {
     "slide_type": "subslide"
    }
   },
   "source": [
    "Let's pull out the red channel from our image `C`:"
   ]
  },
  {
   "cell_type": "code",
   "execution_count": 42,
   "metadata": {},
   "outputs": [],
   "source": [
    "using Colors: red, green, blue"
   ]
  },
  {
   "cell_type": "markdown",
   "metadata": {
    "slideshow": {
     "slide_type": "fragment"
    }
   },
   "source": [
    "If you don't know what a function does, you can use the `?` operator to access its docstring:"
   ]
  },
  {
   "cell_type": "code",
   "execution_count": 43,
   "metadata": {
    "slideshow": {
     "slide_type": "-"
    }
   },
   "outputs": [
    {
     "name": "stdout",
     "output_type": "stream",
     "text": [
      "search: \u001b[0m\u001b[1mr\u001b[22m\u001b[0m\u001b[1me\u001b[22m\u001b[0m\u001b[1md\u001b[22muce \u001b[0m\u001b[1mr\u001b[22m\u001b[0m\u001b[1me\u001b[22m\u001b[0m\u001b[1md\u001b[22misplay \u001b[0m\u001b[1mr\u001b[22m\u001b[0m\u001b[1me\u001b[22m\u001b[0m\u001b[1md\u001b[22mirect_stdio \u001b[0m\u001b[1mr\u001b[22m\u001b[0m\u001b[1me\u001b[22m\u001b[0m\u001b[1md\u001b[22mirect_stdin \u001b[0m\u001b[1mr\u001b[22m\u001b[0m\u001b[1me\u001b[22m\u001b[0m\u001b[1md\u001b[22mirect_stdout\n",
      "\n"
     ]
    },
    {
     "data": {
      "text/latex": [
       "\\texttt{red(c)} returns the red component of an \\texttt{AbstractRGB} opaque or transparent color.\n",
       "\n"
      ],
      "text/markdown": [
       "`red(c)` returns the red component of an `AbstractRGB` opaque or transparent color.\n"
      ],
      "text/plain": [
       "  \u001b[36mred(c)\u001b[39m returns the red component of an \u001b[36mAbstractRGB\u001b[39m opaque or transparent\n",
       "  color."
      ]
     },
     "execution_count": 43,
     "metadata": {},
     "output_type": "execute_result"
    }
   ],
   "source": [
    "?red"
   ]
  },
  {
   "cell_type": "code",
   "execution_count": 44,
   "metadata": {
    "slideshow": {
     "slide_type": "fragment"
    }
   },
   "outputs": [
    {
     "data": {
      "text/plain": [
       "0.0"
      ]
     },
     "execution_count": 44,
     "metadata": {},
     "output_type": "execute_result"
    }
   ],
   "source": [
    "red(C[1, 1])"
   ]
  },
  {
   "cell_type": "markdown",
   "metadata": {
    "slideshow": {
     "slide_type": "subslide"
    }
   },
   "source": [
    "### Broadcasting\n",
    "\n",
    "To get the red channel of each element of `C`, we can use *broadcasting*. The syntax `f.(x)` applies the function `f` to each element of `x`:"
   ]
  },
  {
   "cell_type": "code",
   "execution_count": 45,
   "metadata": {
    "slideshow": {
     "slide_type": "fragment"
    }
   },
   "outputs": [
    {
     "data": {
      "text/plain": [
       "11×11 Matrix{Float64}:\n",
       " 0.0  0.0  0.0  0.0  0.0  0.0  0.0  0.0  0.0  0.0  0.0\n",
       " 0.1  0.1  0.1  0.1  0.1  0.1  0.1  0.1  0.1  0.1  0.1\n",
       " 0.2  0.2  0.2  0.2  0.2  0.2  0.2  0.2  0.2  0.2  0.2\n",
       " 0.3  0.3  0.3  0.3  0.3  0.3  0.3  0.3  0.3  0.3  0.3\n",
       " 0.4  0.4  0.4  0.4  0.4  0.4  0.4  0.4  0.4  0.4  0.4\n",
       " 0.5  0.5  0.5  0.5  0.5  0.5  0.5  0.5  0.5  0.5  0.5\n",
       " 0.6  0.6  0.6  0.6  0.6  0.6  0.6  0.6  0.6  0.6  0.6\n",
       " 0.7  0.7  0.7  0.7  0.7  0.7  0.7  0.7  0.7  0.7  0.7\n",
       " 0.8  0.8  0.8  0.8  0.8  0.8  0.8  0.8  0.8  0.8  0.8\n",
       " 0.9  0.9  0.9  0.9  0.9  0.9  0.9  0.9  0.9  0.9  0.9\n",
       " 1.0  1.0  1.0  1.0  1.0  1.0  1.0  1.0  1.0  1.0  1.0"
      ]
     },
     "execution_count": 45,
     "metadata": {},
     "output_type": "execute_result"
    }
   ],
   "source": [
    "red.(C)"
   ]
  },
  {
   "cell_type": "markdown",
   "metadata": {
    "slideshow": {
     "slide_type": "subslide"
    }
   },
   "source": [
    "That's not very visual. Let's render that red channel as a grayscale image:"
   ]
  },
  {
   "cell_type": "code",
   "execution_count": 46,
   "metadata": {
    "slideshow": {
     "slide_type": "fragment"
    }
   },
   "outputs": [
    {
     "data": {
      "image/svg+xml": [
       "<?xml version=\"1.0\" encoding=\"UTF-8\"?>\n",
       "<!DOCTYPE svg PUBLIC \"-//W3C//DTD SVG 1.1//EN\"\n",
       " \"http://www.w3.org/Graphics/SVG/1.1/DTD/svg11.dtd\">\n",
       "<svg xmlns=\"http://www.w3.org/2000/svg\" version=\"1.1\"\n",
       "     width=\"150mm\" height=\"150mm\"\n",
       "     viewBox=\"0 0 11 11\" preserveAspectRatio=\"none\"\n",
       "     shape-rendering=\"crispEdges\" stroke=\"none\">\n",
       "<rect width=\".93\" height=\".93\" x=\"0\" y=\"0\" fill=\"#000000\" />\n",
       "<rect width=\".93\" height=\".93\" x=\"1\" y=\"0\" fill=\"#000000\" />\n",
       "<rect width=\".93\" height=\".93\" x=\"2\" y=\"0\" fill=\"#000000\" />\n",
       "<rect width=\".93\" height=\".93\" x=\"3\" y=\"0\" fill=\"#000000\" />\n",
       "<rect width=\".93\" height=\".93\" x=\"4\" y=\"0\" fill=\"#000000\" />\n",
       "<rect width=\".93\" height=\".93\" x=\"5\" y=\"0\" fill=\"#000000\" />\n",
       "<rect width=\".93\" height=\".93\" x=\"6\" y=\"0\" fill=\"#000000\" />\n",
       "<rect width=\".93\" height=\".93\" x=\"7\" y=\"0\" fill=\"#000000\" />\n",
       "<rect width=\".93\" height=\".93\" x=\"8\" y=\"0\" fill=\"#000000\" />\n",
       "<rect width=\".93\" height=\".93\" x=\"9\" y=\"0\" fill=\"#000000\" />\n",
       "<rect width=\".93\" height=\".93\" x=\"10\" y=\"0\" fill=\"#000000\" />\n",
       "<rect width=\".93\" height=\".93\" x=\"0\" y=\"1\" fill=\"#1A1A1A\" />\n",
       "<rect width=\".93\" height=\".93\" x=\"1\" y=\"1\" fill=\"#1A1A1A\" />\n",
       "<rect width=\".93\" height=\".93\" x=\"2\" y=\"1\" fill=\"#1A1A1A\" />\n",
       "<rect width=\".93\" height=\".93\" x=\"3\" y=\"1\" fill=\"#1A1A1A\" />\n",
       "<rect width=\".93\" height=\".93\" x=\"4\" y=\"1\" fill=\"#1A1A1A\" />\n",
       "<rect width=\".93\" height=\".93\" x=\"5\" y=\"1\" fill=\"#1A1A1A\" />\n",
       "<rect width=\".93\" height=\".93\" x=\"6\" y=\"1\" fill=\"#1A1A1A\" />\n",
       "<rect width=\".93\" height=\".93\" x=\"7\" y=\"1\" fill=\"#1A1A1A\" />\n",
       "<rect width=\".93\" height=\".93\" x=\"8\" y=\"1\" fill=\"#1A1A1A\" />\n",
       "<rect width=\".93\" height=\".93\" x=\"9\" y=\"1\" fill=\"#1A1A1A\" />\n",
       "<rect width=\".93\" height=\".93\" x=\"10\" y=\"1\" fill=\"#1A1A1A\" />\n",
       "<rect width=\".93\" height=\".93\" x=\"0\" y=\"2\" fill=\"#333333\" />\n",
       "<rect width=\".93\" height=\".93\" x=\"1\" y=\"2\" fill=\"#333333\" />\n",
       "<rect width=\".93\" height=\".93\" x=\"2\" y=\"2\" fill=\"#333333\" />\n",
       "<rect width=\".93\" height=\".93\" x=\"3\" y=\"2\" fill=\"#333333\" />\n",
       "<rect width=\".93\" height=\".93\" x=\"4\" y=\"2\" fill=\"#333333\" />\n",
       "<rect width=\".93\" height=\".93\" x=\"5\" y=\"2\" fill=\"#333333\" />\n",
       "<rect width=\".93\" height=\".93\" x=\"6\" y=\"2\" fill=\"#333333\" />\n",
       "<rect width=\".93\" height=\".93\" x=\"7\" y=\"2\" fill=\"#333333\" />\n",
       "<rect width=\".93\" height=\".93\" x=\"8\" y=\"2\" fill=\"#333333\" />\n",
       "<rect width=\".93\" height=\".93\" x=\"9\" y=\"2\" fill=\"#333333\" />\n",
       "<rect width=\".93\" height=\".93\" x=\"10\" y=\"2\" fill=\"#333333\" />\n",
       "<rect width=\".93\" height=\".93\" x=\"0\" y=\"3\" fill=\"#4C4C4C\" />\n",
       "<rect width=\".93\" height=\".93\" x=\"1\" y=\"3\" fill=\"#4C4C4C\" />\n",
       "<rect width=\".93\" height=\".93\" x=\"2\" y=\"3\" fill=\"#4C4C4C\" />\n",
       "<rect width=\".93\" height=\".93\" x=\"3\" y=\"3\" fill=\"#4C4C4C\" />\n",
       "<rect width=\".93\" height=\".93\" x=\"4\" y=\"3\" fill=\"#4C4C4C\" />\n",
       "<rect width=\".93\" height=\".93\" x=\"5\" y=\"3\" fill=\"#4C4C4C\" />\n",
       "<rect width=\".93\" height=\".93\" x=\"6\" y=\"3\" fill=\"#4C4C4C\" />\n",
       "<rect width=\".93\" height=\".93\" x=\"7\" y=\"3\" fill=\"#4C4C4C\" />\n",
       "<rect width=\".93\" height=\".93\" x=\"8\" y=\"3\" fill=\"#4C4C4C\" />\n",
       "<rect width=\".93\" height=\".93\" x=\"9\" y=\"3\" fill=\"#4C4C4C\" />\n",
       "<rect width=\".93\" height=\".93\" x=\"10\" y=\"3\" fill=\"#4C4C4C\" />\n",
       "<rect width=\".93\" height=\".93\" x=\"0\" y=\"4\" fill=\"#666666\" />\n",
       "<rect width=\".93\" height=\".93\" x=\"1\" y=\"4\" fill=\"#666666\" />\n",
       "<rect width=\".93\" height=\".93\" x=\"2\" y=\"4\" fill=\"#666666\" />\n",
       "<rect width=\".93\" height=\".93\" x=\"3\" y=\"4\" fill=\"#666666\" />\n",
       "<rect width=\".93\" height=\".93\" x=\"4\" y=\"4\" fill=\"#666666\" />\n",
       "<rect width=\".93\" height=\".93\" x=\"5\" y=\"4\" fill=\"#666666\" />\n",
       "<rect width=\".93\" height=\".93\" x=\"6\" y=\"4\" fill=\"#666666\" />\n",
       "<rect width=\".93\" height=\".93\" x=\"7\" y=\"4\" fill=\"#666666\" />\n",
       "<rect width=\".93\" height=\".93\" x=\"8\" y=\"4\" fill=\"#666666\" />\n",
       "<rect width=\".93\" height=\".93\" x=\"9\" y=\"4\" fill=\"#666666\" />\n",
       "<rect width=\".93\" height=\".93\" x=\"10\" y=\"4\" fill=\"#666666\" />\n",
       "<rect width=\".93\" height=\".93\" x=\"0\" y=\"5\" fill=\"#808080\" />\n",
       "<rect width=\".93\" height=\".93\" x=\"1\" y=\"5\" fill=\"#808080\" />\n",
       "<rect width=\".93\" height=\".93\" x=\"2\" y=\"5\" fill=\"#808080\" />\n",
       "<rect width=\".93\" height=\".93\" x=\"3\" y=\"5\" fill=\"#808080\" />\n",
       "<rect width=\".93\" height=\".93\" x=\"4\" y=\"5\" fill=\"#808080\" />\n",
       "<rect width=\".93\" height=\".93\" x=\"5\" y=\"5\" fill=\"#808080\" />\n",
       "<rect width=\".93\" height=\".93\" x=\"6\" y=\"5\" fill=\"#808080\" />\n",
       "<rect width=\".93\" height=\".93\" x=\"7\" y=\"5\" fill=\"#808080\" />\n",
       "<rect width=\".93\" height=\".93\" x=\"8\" y=\"5\" fill=\"#808080\" />\n",
       "<rect width=\".93\" height=\".93\" x=\"9\" y=\"5\" fill=\"#808080\" />\n",
       "<rect width=\".93\" height=\".93\" x=\"10\" y=\"5\" fill=\"#808080\" />\n",
       "<rect width=\".93\" height=\".93\" x=\"0\" y=\"6\" fill=\"#999999\" />\n",
       "<rect width=\".93\" height=\".93\" x=\"1\" y=\"6\" fill=\"#999999\" />\n",
       "<rect width=\".93\" height=\".93\" x=\"2\" y=\"6\" fill=\"#999999\" />\n",
       "<rect width=\".93\" height=\".93\" x=\"3\" y=\"6\" fill=\"#999999\" />\n",
       "<rect width=\".93\" height=\".93\" x=\"4\" y=\"6\" fill=\"#999999\" />\n",
       "<rect width=\".93\" height=\".93\" x=\"5\" y=\"6\" fill=\"#999999\" />\n",
       "<rect width=\".93\" height=\".93\" x=\"6\" y=\"6\" fill=\"#999999\" />\n",
       "<rect width=\".93\" height=\".93\" x=\"7\" y=\"6\" fill=\"#999999\" />\n",
       "<rect width=\".93\" height=\".93\" x=\"8\" y=\"6\" fill=\"#999999\" />\n",
       "<rect width=\".93\" height=\".93\" x=\"9\" y=\"6\" fill=\"#999999\" />\n",
       "<rect width=\".93\" height=\".93\" x=\"10\" y=\"6\" fill=\"#999999\" />\n",
       "<rect width=\".93\" height=\".93\" x=\"0\" y=\"7\" fill=\"#B2B2B2\" />\n",
       "<rect width=\".93\" height=\".93\" x=\"1\" y=\"7\" fill=\"#B2B2B2\" />\n",
       "<rect width=\".93\" height=\".93\" x=\"2\" y=\"7\" fill=\"#B2B2B2\" />\n",
       "<rect width=\".93\" height=\".93\" x=\"3\" y=\"7\" fill=\"#B2B2B2\" />\n",
       "<rect width=\".93\" height=\".93\" x=\"4\" y=\"7\" fill=\"#B2B2B2\" />\n",
       "<rect width=\".93\" height=\".93\" x=\"5\" y=\"7\" fill=\"#B2B2B2\" />\n",
       "<rect width=\".93\" height=\".93\" x=\"6\" y=\"7\" fill=\"#B2B2B2\" />\n",
       "<rect width=\".93\" height=\".93\" x=\"7\" y=\"7\" fill=\"#B2B2B2\" />\n",
       "<rect width=\".93\" height=\".93\" x=\"8\" y=\"7\" fill=\"#B2B2B2\" />\n",
       "<rect width=\".93\" height=\".93\" x=\"9\" y=\"7\" fill=\"#B2B2B2\" />\n",
       "<rect width=\".93\" height=\".93\" x=\"10\" y=\"7\" fill=\"#B2B2B2\" />\n",
       "<rect width=\".93\" height=\".93\" x=\"0\" y=\"8\" fill=\"#CCCCCC\" />\n",
       "<rect width=\".93\" height=\".93\" x=\"1\" y=\"8\" fill=\"#CCCCCC\" />\n",
       "<rect width=\".93\" height=\".93\" x=\"2\" y=\"8\" fill=\"#CCCCCC\" />\n",
       "<rect width=\".93\" height=\".93\" x=\"3\" y=\"8\" fill=\"#CCCCCC\" />\n",
       "<rect width=\".93\" height=\".93\" x=\"4\" y=\"8\" fill=\"#CCCCCC\" />\n",
       "<rect width=\".93\" height=\".93\" x=\"5\" y=\"8\" fill=\"#CCCCCC\" />\n",
       "<rect width=\".93\" height=\".93\" x=\"6\" y=\"8\" fill=\"#CCCCCC\" />\n",
       "<rect width=\".93\" height=\".93\" x=\"7\" y=\"8\" fill=\"#CCCCCC\" />\n",
       "<rect width=\".93\" height=\".93\" x=\"8\" y=\"8\" fill=\"#CCCCCC\" />\n",
       "<rect width=\".93\" height=\".93\" x=\"9\" y=\"8\" fill=\"#CCCCCC\" />\n",
       "<rect width=\".93\" height=\".93\" x=\"10\" y=\"8\" fill=\"#CCCCCC\" />\n",
       "<rect width=\".93\" height=\".93\" x=\"0\" y=\"9\" fill=\"#E6E6E6\" />\n",
       "<rect width=\".93\" height=\".93\" x=\"1\" y=\"9\" fill=\"#E6E6E6\" />\n",
       "<rect width=\".93\" height=\".93\" x=\"2\" y=\"9\" fill=\"#E6E6E6\" />\n",
       "<rect width=\".93\" height=\".93\" x=\"3\" y=\"9\" fill=\"#E6E6E6\" />\n",
       "<rect width=\".93\" height=\".93\" x=\"4\" y=\"9\" fill=\"#E6E6E6\" />\n",
       "<rect width=\".93\" height=\".93\" x=\"5\" y=\"9\" fill=\"#E6E6E6\" />\n",
       "<rect width=\".93\" height=\".93\" x=\"6\" y=\"9\" fill=\"#E6E6E6\" />\n",
       "<rect width=\".93\" height=\".93\" x=\"7\" y=\"9\" fill=\"#E6E6E6\" />\n",
       "<rect width=\".93\" height=\".93\" x=\"8\" y=\"9\" fill=\"#E6E6E6\" />\n",
       "<rect width=\".93\" height=\".93\" x=\"9\" y=\"9\" fill=\"#E6E6E6\" />\n",
       "<rect width=\".93\" height=\".93\" x=\"10\" y=\"9\" fill=\"#E6E6E6\" />\n",
       "<rect width=\".93\" height=\".93\" x=\"0\" y=\"10\" fill=\"#FFFFFF\" />\n",
       "<rect width=\".93\" height=\".93\" x=\"1\" y=\"10\" fill=\"#FFFFFF\" />\n",
       "<rect width=\".93\" height=\".93\" x=\"2\" y=\"10\" fill=\"#FFFFFF\" />\n",
       "<rect width=\".93\" height=\".93\" x=\"3\" y=\"10\" fill=\"#FFFFFF\" />\n",
       "<rect width=\".93\" height=\".93\" x=\"4\" y=\"10\" fill=\"#FFFFFF\" />\n",
       "<rect width=\".93\" height=\".93\" x=\"5\" y=\"10\" fill=\"#FFFFFF\" />\n",
       "<rect width=\".93\" height=\".93\" x=\"6\" y=\"10\" fill=\"#FFFFFF\" />\n",
       "<rect width=\".93\" height=\".93\" x=\"7\" y=\"10\" fill=\"#FFFFFF\" />\n",
       "<rect width=\".93\" height=\".93\" x=\"8\" y=\"10\" fill=\"#FFFFFF\" />\n",
       "<rect width=\".93\" height=\".93\" x=\"9\" y=\"10\" fill=\"#FFFFFF\" />\n",
       "<rect width=\".93\" height=\".93\" x=\"10\" y=\"10\" fill=\"#FFFFFF\" />\n",
       "</svg>"
      ],
      "text/plain": [
       "11×11 Array{Gray{Float64},2} with eltype Gray{Float64}:\n",
       " Gray{Float64}(0.0)  Gray{Float64}(0.0)  …  Gray{Float64}(0.0)\n",
       " Gray{Float64}(0.1)  Gray{Float64}(0.1)     Gray{Float64}(0.1)\n",
       " Gray{Float64}(0.2)  Gray{Float64}(0.2)     Gray{Float64}(0.2)\n",
       " Gray{Float64}(0.3)  Gray{Float64}(0.3)     Gray{Float64}(0.3)\n",
       " Gray{Float64}(0.4)  Gray{Float64}(0.4)     Gray{Float64}(0.4)\n",
       " Gray{Float64}(0.5)  Gray{Float64}(0.5)  …  Gray{Float64}(0.5)\n",
       " Gray{Float64}(0.6)  Gray{Float64}(0.6)     Gray{Float64}(0.6)\n",
       " Gray{Float64}(0.7)  Gray{Float64}(0.7)     Gray{Float64}(0.7)\n",
       " Gray{Float64}(0.8)  Gray{Float64}(0.8)     Gray{Float64}(0.8)\n",
       " Gray{Float64}(0.9)  Gray{Float64}(0.9)     Gray{Float64}(0.9)\n",
       " Gray{Float64}(1.0)  Gray{Float64}(1.0)  …  Gray{Float64}(1.0)"
      ]
     },
     "execution_count": 46,
     "metadata": {},
     "output_type": "execute_result"
    }
   ],
   "source": [
    "using Colors: Gray\n",
    "\n",
    "Gray.(red.(C))"
   ]
  },
  {
   "cell_type": "markdown",
   "metadata": {
    "slideshow": {
     "slide_type": "subslide"
    }
   },
   "source": [
    "Julia's broadcasting provides guaranteed *loop fusion*. That means that if you do `Gray.(red.(x))`, the language guarantees that it will do only one loop over the elements of `x`, computing `Gray(red(x_i))` for each `x_i` in `x`. \n",
    "\n",
    "See https://julialang.org/blog/2017/01/moredots/ for more. "
   ]
  },
  {
   "cell_type": "markdown",
   "metadata": {
    "slideshow": {
     "slide_type": "slide"
    }
   },
   "source": [
    "# Julia is Fast\n",
    "\n",
    "* I claimed at the beginning of this talk that Julia has performance on par with C. Let's prove it!\n",
    "* To show this, I'll implement the basic `sum` function in Julia, C, and Python so we can compare them:"
   ]
  },
  {
   "cell_type": "markdown",
   "metadata": {
    "slideshow": {
     "slide_type": "subslide"
    }
   },
   "source": [
    "Let's start with Julia:"
   ]
  },
  {
   "cell_type": "code",
   "execution_count": 47,
   "metadata": {
    "slideshow": {
     "slide_type": "-"
    }
   },
   "outputs": [
    {
     "data": {
      "text/plain": [
       "my_sum"
      ]
     },
     "execution_count": 47,
     "metadata": {},
     "output_type": "execute_result"
    }
   ],
   "source": [
    "\"\"\"\n",
    "Naive implementation of sum. Works for any iterable `x` with any element type.\n",
    "\"\"\"\n",
    "function my_sum(x)\n",
    "    result = zero(eltype(x))\n",
    "    for element in x\n",
    "        result += element\n",
    "    end\n",
    "    return result\n",
    "end"
   ]
  },
  {
   "cell_type": "markdown",
   "metadata": {
    "slideshow": {
     "slide_type": "subslide"
    }
   },
   "source": [
    "And let's create some data to test with:"
   ]
  },
  {
   "cell_type": "code",
   "execution_count": 48,
   "metadata": {},
   "outputs": [
    {
     "data": {
      "text/plain": [
       "10000000-element Vector{Float64}:\n",
       " 0.07257543386453114\n",
       " 0.1148971734988824\n",
       " 0.2635464959334063\n",
       " 0.8824661394640491\n",
       " 0.19290241633979832\n",
       " 0.46732975017152956\n",
       " 0.5812259203772812\n",
       " 0.6804214458215465\n",
       " 0.3857603226327504\n",
       " 0.4952403173050002\n",
       " 0.3694560418033557\n",
       " 0.02702894744668749\n",
       " 0.6728355077859063\n",
       " ⋮\n",
       " 0.5827154318296365\n",
       " 0.455339259985305\n",
       " 0.3083597561638516\n",
       " 0.8746504272778622\n",
       " 0.15367950196704272\n",
       " 0.02202215308517086\n",
       " 0.4264348510671818\n",
       " 0.9666314900994907\n",
       " 0.7762637683101905\n",
       " 0.45830421771544116\n",
       " 0.9766484652459984\n",
       " 0.29652584885229827"
      ]
     },
     "execution_count": 48,
     "metadata": {},
     "output_type": "execute_result"
    }
   ],
   "source": [
    "data = rand(Float64, 10^7)"
   ]
  },
  {
   "cell_type": "markdown",
   "metadata": {
    "slideshow": {
     "slide_type": "subslide"
    }
   },
   "source": [
    "To measure the performance of `my_sum`, we'll use the BenchmarkTools.jl package. "
   ]
  },
  {
   "cell_type": "code",
   "execution_count": 49,
   "metadata": {},
   "outputs": [],
   "source": [
    "using BenchmarkTools"
   ]
  },
  {
   "cell_type": "code",
   "execution_count": 50,
   "metadata": {
    "slideshow": {
     "slide_type": "fragment"
    }
   },
   "outputs": [
    {
     "data": {
      "text/plain": [
       "BenchmarkTools.Trial: 423 samples with 1 evaluation.\n",
       " Range \u001b[90m(\u001b[39m\u001b[36m\u001b[1mmin\u001b[22m\u001b[39m … \u001b[35mmax\u001b[39m\u001b[90m):  \u001b[39m\u001b[36m\u001b[1m11.582 ms\u001b[22m\u001b[39m … \u001b[35m 14.054 ms\u001b[39m  \u001b[90m┊\u001b[39m GC \u001b[90m(\u001b[39mmin … max\u001b[90m): \u001b[39m0.00% … 0.00%\n",
       " Time  \u001b[90m(\u001b[39m\u001b[34m\u001b[1mmedian\u001b[22m\u001b[39m\u001b[90m):     \u001b[39m\u001b[34m\u001b[1m11.776 ms               \u001b[22m\u001b[39m\u001b[90m┊\u001b[39m GC \u001b[90m(\u001b[39mmedian\u001b[90m):    \u001b[39m0.00%\n",
       " Time  \u001b[90m(\u001b[39m\u001b[32m\u001b[1mmean\u001b[22m\u001b[39m ± \u001b[32mσ\u001b[39m\u001b[90m):   \u001b[39m\u001b[32m\u001b[1m11.815 ms\u001b[22m\u001b[39m ± \u001b[32m172.372 μs\u001b[39m  \u001b[90m┊\u001b[39m GC \u001b[90m(\u001b[39mmean ± σ\u001b[90m):  \u001b[39m0.00% ± 0.00%\n",
       "\n",
       "  \u001b[39m \u001b[39m \u001b[39m \u001b[39m \u001b[39m \u001b[39m \u001b[39m \u001b[39m \u001b[39m \u001b[39m \u001b[39m \u001b[39m \u001b[39m \u001b[39m \u001b[39m \u001b[39m▄\u001b[39m█\u001b[39m▇\u001b[34m▆\u001b[39m\u001b[39m▅\u001b[39m▃\u001b[32m▁\u001b[39m\u001b[39m▂\u001b[39m \u001b[39m \u001b[39m \u001b[39m \u001b[39m \u001b[39m \u001b[39m \u001b[39m \u001b[39m \u001b[39m \u001b[39m \u001b[39m \u001b[39m \u001b[39m \u001b[39m \u001b[39m \u001b[39m \u001b[39m \u001b[39m \u001b[39m \u001b[39m \u001b[39m \u001b[39m \u001b[39m \u001b[39m \u001b[39m \u001b[39m \u001b[39m \u001b[39m \u001b[39m \u001b[39m \u001b[39m \u001b[39m \u001b[39m \u001b[39m \u001b[39m \u001b[39m \u001b[39m \u001b[39m \n",
       "  \u001b[39m▄\u001b[39m▁\u001b[39m▁\u001b[39m▁\u001b[39m▁\u001b[39m▁\u001b[39m▁\u001b[39m▁\u001b[39m▁\u001b[39m▄\u001b[39m▄\u001b[39m▄\u001b[39m▁\u001b[39m▅\u001b[39m▆\u001b[39m█\u001b[39m█\u001b[39m█\u001b[34m█\u001b[39m\u001b[39m█\u001b[39m█\u001b[32m█\u001b[39m\u001b[39m█\u001b[39m▆\u001b[39m▅\u001b[39m▆\u001b[39m▅\u001b[39m▄\u001b[39m▄\u001b[39m▄\u001b[39m▄\u001b[39m▄\u001b[39m▁\u001b[39m▁\u001b[39m▁\u001b[39m▄\u001b[39m▄\u001b[39m▄\u001b[39m▅\u001b[39m▁\u001b[39m▁\u001b[39m▁\u001b[39m▁\u001b[39m▄\u001b[39m▁\u001b[39m▄\u001b[39m▄\u001b[39m▆\u001b[39m▁\u001b[39m▆\u001b[39m▆\u001b[39m▄\u001b[39m▄\u001b[39m▆\u001b[39m▁\u001b[39m▄\u001b[39m▄\u001b[39m▅\u001b[39m▄\u001b[39m▄\u001b[39m \u001b[39m▇\n",
       "  11.6 ms\u001b[90m       \u001b[39m\u001b[90mHistogram: \u001b[39m\u001b[90m\u001b[1mlog(\u001b[22m\u001b[39m\u001b[90mfrequency\u001b[39m\u001b[90m\u001b[1m)\u001b[22m\u001b[39m\u001b[90m by time\u001b[39m      12.2 ms \u001b[0m\u001b[1m<\u001b[22m\n",
       "\n",
       " Memory estimate\u001b[90m: \u001b[39m\u001b[33m0 bytes\u001b[39m, allocs estimate\u001b[90m: \u001b[39m\u001b[33m0\u001b[39m."
      ]
     },
     "execution_count": 50,
     "metadata": {},
     "output_type": "execute_result"
    }
   ],
   "source": [
    "@benchmark my_sum($data)"
   ]
  },
  {
   "cell_type": "markdown",
   "metadata": {
    "slideshow": {
     "slide_type": "fragment"
    }
   },
   "source": [
    "In this case, we only care about the minimum time. The `@btime` macro is a shorthand to print just that minimum time:"
   ]
  },
  {
   "cell_type": "code",
   "execution_count": 51,
   "metadata": {},
   "outputs": [
    {
     "name": "stdout",
     "output_type": "stream",
     "text": [
      "  10.872 ms (0 allocations: 0 bytes)\n"
     ]
    },
    {
     "data": {
      "text/plain": [
       "4.998941237371209e6"
      ]
     },
     "execution_count": 51,
     "metadata": {},
     "output_type": "execute_result"
    }
   ],
   "source": [
    "@btime my_sum($data)"
   ]
  },
  {
   "cell_type": "markdown",
   "metadata": {
    "slideshow": {
     "slide_type": "subslide"
    }
   },
   "source": [
    "Let's compare this with C. It's easy to call functions from C shared libraries in Julia:"
   ]
  },
  {
   "cell_type": "code",
   "execution_count": 52,
   "metadata": {},
   "outputs": [
    {
     "data": {
      "text/plain": [
       "c_compare"
      ]
     },
     "execution_count": 52,
     "metadata": {},
     "output_type": "execute_result"
    }
   ],
   "source": [
    "\"\"\"\n",
    "Call the `strcmp` function from `libc.so`\n",
    "\"\"\"\n",
    "function c_compare(x::String, y::String)\n",
    "    # We have to tell the compiler that this C function returns an `int` and \n",
    "    # expects two `char *` inputs. The `Cint` and `Cstring` types are convenient\n",
    "    # shorthands for those:\n",
    "    ccall(:strcmp, Cint, (Cstring, Cstring), x, y)\n",
    "end"
   ]
  },
  {
   "cell_type": "code",
   "execution_count": 53,
   "metadata": {
    "slideshow": {
     "slide_type": "fragment"
    }
   },
   "outputs": [
    {
     "data": {
      "text/plain": [
       "0"
      ]
     },
     "execution_count": 53,
     "metadata": {},
     "output_type": "execute_result"
    }
   ],
   "source": [
    "c_compare(\"hello\", \"hello\")"
   ]
  },
  {
   "cell_type": "markdown",
   "metadata": {
    "slideshow": {
     "slide_type": "fragment"
    }
   },
   "source": [
    "Calling C functions has very little overhead:"
   ]
  },
  {
   "cell_type": "code",
   "execution_count": 54,
   "metadata": {},
   "outputs": [
    {
     "name": "stdout",
     "output_type": "stream",
     "text": [
      "  13.087 ns (0 allocations: 0 bytes)\n"
     ]
    },
    {
     "data": {
      "text/plain": [
       "0"
      ]
     },
     "execution_count": 54,
     "metadata": {},
     "output_type": "execute_result"
    }
   ],
   "source": [
    "@btime c_compare($(\"hello\"), $(\"hello\"))"
   ]
  },
  {
   "cell_type": "markdown",
   "metadata": {
    "slideshow": {
     "slide_type": "subslide"
    }
   },
   "source": [
    "Let's create a C implementation of `my_sum`. We can do that without leaving Julia by piping some code directly to GCC:"
   ]
  },
  {
   "cell_type": "code",
   "execution_count": 55,
   "metadata": {},
   "outputs": [],
   "source": [
    "C_code = \"\"\"\n",
    "\n",
    "#include <stddef.h>  // For `size_t`\n",
    "\n",
    "// Note: our Julia code works for any type, but the C implementation \n",
    "// is only for `double`.\n",
    "\n",
    "double c_sum(size_t n, double *X) {\n",
    "    double s = 0.0;\n",
    "    size_t i;\n",
    "    for (i = 0; i < n; ++i) {\n",
    "        s += X[i];\n",
    "    }\n",
    "    return s;\n",
    "}\n",
    "\n",
    "\"\"\";"
   ]
  },
  {
   "cell_type": "markdown",
   "metadata": {
    "slideshow": {
     "slide_type": "fragment"
    }
   },
   "source": [
    "Now let's generate a name for our shared library:"
   ]
  },
  {
   "cell_type": "code",
   "execution_count": 56,
   "metadata": {},
   "outputs": [
    {
     "data": {
      "text/plain": [
       "\"/var/folders/yz/pmmqjrk509q_6ny0yjys606r00_2rz/T/jl_8wvI2C.dylib\""
      ]
     },
     "execution_count": 56,
     "metadata": {},
     "output_type": "execute_result"
    }
   ],
   "source": [
    "# dlext gives the correct file extension for a shared library on this platform\n",
    "using Libdl: dlext\n",
    "const Clib = tempname() * \".\" * dlext"
   ]
  },
  {
   "cell_type": "markdown",
   "metadata": {
    "slideshow": {
     "slide_type": "subslide"
    }
   },
   "source": [
    "To send the code to GCC, we can use `open()` on a command to write directly to the `stdin` of that command as if it were any other file- or buffer-like object:"
   ]
  },
  {
   "cell_type": "code",
   "execution_count": 57,
   "metadata": {},
   "outputs": [],
   "source": [
    "open(`gcc -fPIC -O3 -msse3 -xc -shared -o $Clib -`, \"w\") do cmd\n",
    "    print(cmd, C_code) \n",
    "end"
   ]
  },
  {
   "cell_type": "markdown",
   "metadata": {
    "slideshow": {
     "slide_type": "fragment"
    }
   },
   "source": [
    "Now we can define a Julia function that calls the C function we just compiled:"
   ]
  },
  {
   "cell_type": "code",
   "execution_count": 58,
   "metadata": {},
   "outputs": [
    {
     "data": {
      "text/plain": [
       "c_sum (generic function with 1 method)"
      ]
     },
     "execution_count": 58,
     "metadata": {},
     "output_type": "execute_result"
    }
   ],
   "source": [
    "# The return type and argument types must match the signature we declared above:\n",
    "# \n",
    "#   double c_sum(size_t n, double *X) \n",
    "# \n",
    "c_sum(X::Array{Float64}) = ccall((\"c_sum\", Clib), Cdouble, (Csize_t, Ptr{Cdouble}), length(X), X)"
   ]
  },
  {
   "cell_type": "markdown",
   "metadata": {
    "slideshow": {
     "slide_type": "subslide"
    }
   },
   "source": [
    "Now let's measure the performance of the pure C function:"
   ]
  },
  {
   "cell_type": "code",
   "execution_count": 59,
   "metadata": {},
   "outputs": [
    {
     "name": "stdout",
     "output_type": "stream",
     "text": [
      "  11.154 ms (0 allocations: 0 bytes)\n"
     ]
    },
    {
     "data": {
      "text/plain": [
       "4.998941237371209e6"
      ]
     },
     "execution_count": 59,
     "metadata": {},
     "output_type": "execute_result"
    }
   ],
   "source": [
    "@btime c_sum($data)"
   ]
  },
  {
   "cell_type": "markdown",
   "metadata": {
    "slideshow": {
     "slide_type": "subslide"
    }
   },
   "source": [
    "Let's plot the result using the Plots.jl package:"
   ]
  },
  {
   "cell_type": "code",
   "execution_count": 60,
   "metadata": {},
   "outputs": [],
   "source": [
    "using Plots"
   ]
  },
  {
   "cell_type": "code",
   "execution_count": 61,
   "metadata": {
    "slideshow": {
     "slide_type": "fragment"
    }
   },
   "outputs": [
    {
     "data": {
      "image/svg+xml": [
       "<?xml version=\"1.0\" encoding=\"utf-8\"?>\n",
       "<svg xmlns=\"http://www.w3.org/2000/svg\" xmlns:xlink=\"http://www.w3.org/1999/xlink\" width=\"600\" height=\"400\" viewBox=\"0 0 2400 1600\">\n",
       "<defs>\n",
       "  <clipPath id=\"clip140\">\n",
       "    <rect x=\"0\" y=\"0\" width=\"2400\" height=\"1600\"/>\n",
       "  </clipPath>\n",
       "</defs>\n",
       "<path clip-path=\"url(#clip140)\" d=\"\n",
       "M0 1600 L2400 1600 L2400 0 L0 0  Z\n",
       "  \" fill=\"#ffffff\" fill-rule=\"evenodd\" fill-opacity=\"1\"/>\n",
       "<defs>\n",
       "  <clipPath id=\"clip141\">\n",
       "    <rect x=\"480\" y=\"0\" width=\"1681\" height=\"1600\"/>\n",
       "  </clipPath>\n",
       "</defs>\n",
       "<path clip-path=\"url(#clip140)\" d=\"\n",
       "M247.459 1423.18 L2352.76 1423.18 L2352.76 47.2441 L247.459 47.2441  Z\n",
       "  \" fill=\"#ffffff\" fill-rule=\"evenodd\" fill-opacity=\"1\"/>\n",
       "<defs>\n",
       "  <clipPath id=\"clip142\">\n",
       "    <rect x=\"247\" y=\"47\" width=\"2106\" height=\"1377\"/>\n",
       "  </clipPath>\n",
       "</defs>\n",
       "<polyline clip-path=\"url(#clip142)\" style=\"stroke:#000000; stroke-linecap:butt; stroke-linejoin:round; stroke-width:2; stroke-opacity:0.1; fill:none\" points=\"\n",
       "  779.633,1423.18 779.633,47.2441 \n",
       "  \"/>\n",
       "<polyline clip-path=\"url(#clip142)\" style=\"stroke:#000000; stroke-linecap:butt; stroke-linejoin:round; stroke-width:2; stroke-opacity:0.1; fill:none\" points=\"\n",
       "  1820.58,1423.18 1820.58,47.2441 \n",
       "  \"/>\n",
       "<polyline clip-path=\"url(#clip140)\" style=\"stroke:#000000; stroke-linecap:butt; stroke-linejoin:round; stroke-width:4; stroke-opacity:1; fill:none\" points=\"\n",
       "  247.459,1423.18 2352.76,1423.18 \n",
       "  \"/>\n",
       "<polyline clip-path=\"url(#clip140)\" style=\"stroke:#000000; stroke-linecap:butt; stroke-linejoin:round; stroke-width:4; stroke-opacity:1; fill:none\" points=\"\n",
       "  779.633,1423.18 779.633,1404.28 \n",
       "  \"/>\n",
       "<polyline clip-path=\"url(#clip140)\" style=\"stroke:#000000; stroke-linecap:butt; stroke-linejoin:round; stroke-width:4; stroke-opacity:1; fill:none\" points=\"\n",
       "  1820.58,1423.18 1820.58,1404.28 \n",
       "  \"/>\n",
       "<path clip-path=\"url(#clip140)\" d=\"M628.997 1464.63 Q630.595 1461.76 632.817 1460.39 Q635.039 1459.03 638.048 1459.03 Q642.099 1459.03 644.298 1461.88 Q646.497 1464.7 646.497 1469.93 L646.497 1485.58 L642.215 1485.58 L642.215 1470.07 Q642.215 1466.34 640.895 1464.54 Q639.576 1462.73 636.868 1462.73 Q633.558 1462.73 631.636 1464.93 Q629.715 1467.13 629.715 1470.93 L629.715 1485.58 L625.433 1485.58 L625.433 1470.07 Q625.433 1466.32 624.113 1464.54 Q622.794 1462.73 620.039 1462.73 Q616.775 1462.73 614.854 1464.95 Q612.933 1467.15 612.933 1470.93 L612.933 1485.58 L608.65 1485.58 L608.65 1459.65 L612.933 1459.65 L612.933 1463.68 Q614.391 1461.3 616.428 1460.16 Q618.465 1459.03 621.266 1459.03 Q624.09 1459.03 626.058 1460.46 Q628.048 1461.9 628.997 1464.63 Z\" fill=\"#000000\" fill-rule=\"evenodd\" fill-opacity=\"1\" /><path clip-path=\"url(#clip140)\" d=\"M665.78 1487.99 Q663.974 1492.62 662.261 1494.03 Q660.548 1495.44 657.678 1495.44 L654.275 1495.44 L654.275 1491.88 L656.775 1491.88 Q658.534 1491.88 659.506 1491.04 Q660.479 1490.21 661.659 1487.11 L662.423 1485.16 L651.937 1459.65 L656.451 1459.65 L664.553 1479.93 L672.655 1459.65 L677.168 1459.65 L665.78 1487.99 Z\" fill=\"#000000\" fill-rule=\"evenodd\" fill-opacity=\"1\" /><path clip-path=\"url(#clip140)\" d=\"M702.747 1493.45 L702.747 1496.76 L678.117 1496.76 L678.117 1493.45 L702.747 1493.45 Z\" fill=\"#000000\" fill-rule=\"evenodd\" fill-opacity=\"1\" /><path clip-path=\"url(#clip140)\" d=\"M723.279 1460.42 L723.279 1464.45 Q721.474 1463.52 719.529 1463.06 Q717.585 1462.59 715.502 1462.59 Q712.33 1462.59 710.733 1463.57 Q709.159 1464.54 709.159 1466.48 Q709.159 1467.96 710.293 1468.82 Q711.427 1469.65 714.853 1470.42 L716.312 1470.74 Q720.849 1471.71 722.747 1473.5 Q724.668 1475.26 724.668 1478.43 Q724.668 1482.04 721.798 1484.14 Q718.951 1486.25 713.951 1486.25 Q711.867 1486.25 709.599 1485.83 Q707.353 1485.44 704.853 1484.63 L704.853 1480.23 Q707.215 1481.46 709.506 1482.08 Q711.798 1482.69 714.043 1482.69 Q717.052 1482.69 718.673 1481.67 Q720.293 1480.63 720.293 1478.75 Q720.293 1477.02 719.113 1476.09 Q717.955 1475.16 713.997 1474.31 L712.515 1473.96 Q708.557 1473.13 706.798 1471.41 Q705.039 1469.68 705.039 1466.67 Q705.039 1463.01 707.631 1461.02 Q710.224 1459.03 714.992 1459.03 Q717.353 1459.03 719.437 1459.38 Q721.52 1459.72 723.279 1460.42 Z\" fill=\"#000000\" fill-rule=\"evenodd\" fill-opacity=\"1\" /><path clip-path=\"url(#clip140)\" d=\"M731.011 1475.35 L731.011 1459.65 L735.27 1459.65 L735.27 1475.19 Q735.27 1478.87 736.705 1480.72 Q738.14 1482.55 741.011 1482.55 Q744.46 1482.55 746.45 1480.35 Q748.464 1478.15 748.464 1474.35 L748.464 1459.65 L752.724 1459.65 L752.724 1485.58 L748.464 1485.58 L748.464 1481.6 Q746.913 1483.96 744.853 1485.12 Q742.816 1486.25 740.108 1486.25 Q735.64 1486.25 733.326 1483.47 Q731.011 1480.7 731.011 1475.35 M741.728 1459.03 L741.728 1459.03 Z\" fill=\"#000000\" fill-rule=\"evenodd\" fill-opacity=\"1\" /><path clip-path=\"url(#clip140)\" d=\"M781.682 1464.63 Q783.279 1461.76 785.501 1460.39 Q787.723 1459.03 790.733 1459.03 Q794.784 1459.03 796.983 1461.88 Q799.182 1464.7 799.182 1469.93 L799.182 1485.58 L794.899 1485.58 L794.899 1470.07 Q794.899 1466.34 793.58 1464.54 Q792.26 1462.73 789.552 1462.73 Q786.242 1462.73 784.321 1464.93 Q782.399 1467.13 782.399 1470.93 L782.399 1485.58 L778.117 1485.58 L778.117 1470.07 Q778.117 1466.32 776.798 1464.54 Q775.478 1462.73 772.723 1462.73 Q769.46 1462.73 767.538 1464.95 Q765.617 1467.15 765.617 1470.93 L765.617 1485.58 L761.335 1485.58 L761.335 1459.65 L765.617 1459.65 L765.617 1463.68 Q767.075 1461.3 769.112 1460.16 Q771.149 1459.03 773.95 1459.03 Q776.774 1459.03 778.742 1460.46 Q780.733 1461.9 781.682 1464.63 Z\" fill=\"#000000\" fill-rule=\"evenodd\" fill-opacity=\"1\" /><path clip-path=\"url(#clip140)\" d=\"M832.978 1449.61 Q829.876 1454.93 828.371 1460.14 Q826.867 1465.35 826.867 1470.7 Q826.867 1476.04 828.371 1481.3 Q829.899 1486.53 832.978 1491.83 L829.274 1491.83 Q825.802 1486.39 824.066 1481.14 Q822.353 1475.88 822.353 1470.7 Q822.353 1465.53 824.066 1460.3 Q825.779 1455.07 829.274 1449.61 L832.978 1449.61 Z\" fill=\"#000000\" fill-rule=\"evenodd\" fill-opacity=\"1\" /><path clip-path=\"url(#clip140)\" d=\"M841.427 1451.02 L846.103 1451.02 L846.103 1483.17 Q846.103 1489.42 843.718 1492.25 Q841.357 1495.07 836.103 1495.07 L834.32 1495.07 L834.32 1491.14 L835.779 1491.14 Q838.881 1491.14 840.154 1489.4 Q841.427 1487.66 841.427 1483.17 L841.427 1451.02 Z\" fill=\"#000000\" fill-rule=\"evenodd\" fill-opacity=\"1\" /><path clip-path=\"url(#clip140)\" d=\"M854.783 1475.35 L854.783 1459.65 L859.042 1459.65 L859.042 1475.19 Q859.042 1478.87 860.478 1480.72 Q861.913 1482.55 864.783 1482.55 Q868.232 1482.55 870.223 1480.35 Q872.237 1478.15 872.237 1474.35 L872.237 1459.65 L876.496 1459.65 L876.496 1485.58 L872.237 1485.58 L872.237 1481.6 Q870.686 1483.96 868.626 1485.12 Q866.589 1486.25 863.88 1486.25 Q859.413 1486.25 857.098 1483.47 Q854.783 1480.7 854.783 1475.35 M865.501 1459.03 L865.501 1459.03 Z\" fill=\"#000000\" fill-rule=\"evenodd\" fill-opacity=\"1\" /><path clip-path=\"url(#clip140)\" d=\"M885.269 1449.56 L889.528 1449.56 L889.528 1485.58 L885.269 1485.58 L885.269 1449.56 Z\" fill=\"#000000\" fill-rule=\"evenodd\" fill-opacity=\"1\" /><path clip-path=\"url(#clip140)\" d=\"M898.44 1459.65 L902.7 1459.65 L902.7 1485.58 L898.44 1485.58 L898.44 1459.65 M898.44 1449.56 L902.7 1449.56 L902.7 1454.96 L898.44 1454.96 L898.44 1449.56 Z\" fill=\"#000000\" fill-rule=\"evenodd\" fill-opacity=\"1\" /><path clip-path=\"url(#clip140)\" d=\"M923.394 1472.55 Q918.232 1472.55 916.241 1473.73 Q914.25 1474.91 914.25 1477.76 Q914.25 1480.02 915.732 1481.37 Q917.237 1482.69 919.806 1482.69 Q923.348 1482.69 925.477 1480.19 Q927.63 1477.66 927.63 1473.5 L927.63 1472.55 L923.394 1472.55 M931.889 1470.79 L931.889 1485.58 L927.63 1485.58 L927.63 1481.64 Q926.172 1484.01 923.996 1485.14 Q921.82 1486.25 918.672 1486.25 Q914.69 1486.25 912.329 1484.03 Q909.991 1481.78 909.991 1478.03 Q909.991 1473.66 912.908 1471.44 Q915.848 1469.21 921.658 1469.21 L927.63 1469.21 L927.63 1468.8 Q927.63 1465.86 925.686 1464.26 Q923.764 1462.64 920.269 1462.64 Q918.047 1462.64 915.94 1463.17 Q913.834 1463.7 911.889 1464.77 L911.889 1460.83 Q914.227 1459.93 916.426 1459.49 Q918.625 1459.03 920.709 1459.03 Q926.334 1459.03 929.112 1461.95 Q931.889 1464.86 931.889 1470.79 Z\" fill=\"#000000\" fill-rule=\"evenodd\" fill-opacity=\"1\" /><path clip-path=\"url(#clip140)\" d=\"M939.991 1449.61 L943.695 1449.61 Q947.167 1455.07 948.88 1460.3 Q950.616 1465.53 950.616 1470.7 Q950.616 1475.88 948.88 1481.14 Q947.167 1486.39 943.695 1491.83 L939.991 1491.83 Q943.07 1486.53 944.574 1481.3 Q946.102 1476.04 946.102 1470.7 Q946.102 1465.35 944.574 1460.14 Q943.07 1454.93 939.991 1449.61 Z\" fill=\"#000000\" fill-rule=\"evenodd\" fill-opacity=\"1\" /><path clip-path=\"url(#clip140)\" d=\"M1726.51 1460.65 L1726.51 1464.63 Q1724.7 1463.64 1722.87 1463.15 Q1721.07 1462.64 1719.22 1462.64 Q1715.07 1462.64 1712.78 1465.28 Q1710.49 1467.89 1710.49 1472.64 Q1710.49 1477.39 1712.78 1480.02 Q1715.07 1482.64 1719.22 1482.64 Q1721.07 1482.64 1722.87 1482.15 Q1724.7 1481.64 1726.51 1480.65 L1726.51 1484.58 Q1724.73 1485.42 1722.8 1485.83 Q1720.91 1486.25 1718.75 1486.25 Q1712.9 1486.25 1709.45 1482.57 Q1706 1478.89 1706 1472.64 Q1706 1466.3 1709.47 1462.66 Q1712.97 1459.03 1719.03 1459.03 Q1721 1459.03 1722.87 1459.45 Q1724.75 1459.84 1726.51 1460.65 Z\" fill=\"#000000\" fill-rule=\"evenodd\" fill-opacity=\"1\" /><path clip-path=\"url(#clip140)\" d=\"M1753.61 1493.45 L1753.61 1496.76 L1728.98 1496.76 L1728.98 1493.45 L1753.61 1493.45 Z\" fill=\"#000000\" fill-rule=\"evenodd\" fill-opacity=\"1\" /><path clip-path=\"url(#clip140)\" d=\"M1774.15 1460.42 L1774.15 1464.45 Q1772.34 1463.52 1770.4 1463.06 Q1768.45 1462.59 1766.37 1462.59 Q1763.2 1462.59 1761.6 1463.57 Q1760.03 1464.54 1760.03 1466.48 Q1760.03 1467.96 1761.16 1468.82 Q1762.29 1469.65 1765.72 1470.42 L1767.18 1470.74 Q1771.72 1471.71 1773.61 1473.5 Q1775.54 1475.26 1775.54 1478.43 Q1775.54 1482.04 1772.67 1484.14 Q1769.82 1486.25 1764.82 1486.25 Q1762.73 1486.25 1760.47 1485.83 Q1758.22 1485.44 1755.72 1484.63 L1755.72 1480.23 Q1758.08 1481.46 1760.37 1482.08 Q1762.67 1482.69 1764.91 1482.69 Q1767.92 1482.69 1769.54 1481.67 Q1771.16 1480.63 1771.16 1478.75 Q1771.16 1477.02 1769.98 1476.09 Q1768.82 1475.16 1764.86 1474.31 L1763.38 1473.96 Q1759.42 1473.13 1757.67 1471.41 Q1755.91 1469.68 1755.91 1466.67 Q1755.91 1463.01 1758.5 1461.02 Q1761.09 1459.03 1765.86 1459.03 Q1768.22 1459.03 1770.3 1459.38 Q1772.39 1459.72 1774.15 1460.42 Z\" fill=\"#000000\" fill-rule=\"evenodd\" fill-opacity=\"1\" /><path clip-path=\"url(#clip140)\" d=\"M1781.88 1475.35 L1781.88 1459.65 L1786.14 1459.65 L1786.14 1475.19 Q1786.14 1478.87 1787.57 1480.72 Q1789.01 1482.55 1791.88 1482.55 Q1795.33 1482.55 1797.32 1480.35 Q1799.33 1478.15 1799.33 1474.35 L1799.33 1459.65 L1803.59 1459.65 L1803.59 1485.58 L1799.33 1485.58 L1799.33 1481.6 Q1797.78 1483.96 1795.72 1485.12 Q1793.68 1486.25 1790.98 1486.25 Q1786.51 1486.25 1784.19 1483.47 Q1781.88 1480.7 1781.88 1475.35 M1792.6 1459.03 L1792.6 1459.03 Z\" fill=\"#000000\" fill-rule=\"evenodd\" fill-opacity=\"1\" /><path clip-path=\"url(#clip140)\" d=\"M1832.55 1464.63 Q1834.15 1461.76 1836.37 1460.39 Q1838.59 1459.03 1841.6 1459.03 Q1845.65 1459.03 1847.85 1461.88 Q1850.05 1464.7 1850.05 1469.93 L1850.05 1485.58 L1845.77 1485.58 L1845.77 1470.07 Q1845.77 1466.34 1844.45 1464.54 Q1843.13 1462.73 1840.42 1462.73 Q1837.11 1462.73 1835.19 1464.93 Q1833.27 1467.13 1833.27 1470.93 L1833.27 1485.58 L1828.98 1485.58 L1828.98 1470.07 Q1828.98 1466.32 1827.66 1464.54 Q1826.35 1462.73 1823.59 1462.73 Q1820.33 1462.73 1818.41 1464.95 Q1816.48 1467.15 1816.48 1470.93 L1816.48 1485.58 L1812.2 1485.58 L1812.2 1459.65 L1816.48 1459.65 L1816.48 1463.68 Q1817.94 1461.3 1819.98 1460.16 Q1822.02 1459.03 1824.82 1459.03 Q1827.64 1459.03 1829.61 1460.46 Q1831.6 1461.9 1832.55 1464.63 Z\" fill=\"#000000\" fill-rule=\"evenodd\" fill-opacity=\"1\" /><path clip-path=\"url(#clip140)\" d=\"M1883.85 1449.61 Q1880.74 1454.93 1879.24 1460.14 Q1877.73 1465.35 1877.73 1470.7 Q1877.73 1476.04 1879.24 1481.3 Q1880.77 1486.53 1883.85 1491.83 L1880.14 1491.83 Q1876.67 1486.39 1874.93 1481.14 Q1873.22 1475.88 1873.22 1470.7 Q1873.22 1465.53 1874.93 1460.3 Q1876.65 1455.07 1880.14 1449.61 L1883.85 1449.61 Z\" fill=\"#000000\" fill-rule=\"evenodd\" fill-opacity=\"1\" /><path clip-path=\"url(#clip140)\" d=\"M1918.17 1453.68 L1918.17 1458.61 Q1915.81 1456.41 1913.13 1455.33 Q1910.47 1454.24 1907.46 1454.24 Q1901.53 1454.24 1898.38 1457.87 Q1895.23 1461.48 1895.23 1468.33 Q1895.23 1475.16 1898.38 1478.8 Q1901.53 1482.41 1907.46 1482.41 Q1910.47 1482.41 1913.13 1481.32 Q1915.81 1480.23 1918.17 1478.03 L1918.17 1482.92 Q1915.72 1484.58 1912.97 1485.42 Q1910.23 1486.25 1907.18 1486.25 Q1899.33 1486.25 1894.82 1481.46 Q1890.3 1476.64 1890.3 1468.33 Q1890.3 1460 1894.82 1455.21 Q1899.33 1450.39 1907.18 1450.39 Q1910.28 1450.39 1913.01 1451.23 Q1915.77 1452.04 1918.17 1453.68 Z\" fill=\"#000000\" fill-rule=\"evenodd\" fill-opacity=\"1\" /><path clip-path=\"url(#clip140)\" d=\"M1924.54 1449.61 L1928.24 1449.61 Q1931.72 1455.07 1933.43 1460.3 Q1935.16 1465.53 1935.16 1470.7 Q1935.16 1475.88 1933.43 1481.14 Q1931.72 1486.39 1928.24 1491.83 L1924.54 1491.83 Q1927.62 1486.53 1929.12 1481.3 Q1930.65 1476.04 1930.65 1470.7 Q1930.65 1465.35 1929.12 1460.14 Q1927.62 1454.93 1924.54 1449.61 Z\" fill=\"#000000\" fill-rule=\"evenodd\" fill-opacity=\"1\" /><path clip-path=\"url(#clip140)\" d=\"M1193.18 1518.52 L1193.18 1523.39 L1187.58 1523.39 Q1184.43 1523.39 1183.19 1524.66 Q1181.98 1525.93 1181.98 1529.24 L1181.98 1532.4 L1191.62 1532.4 L1191.62 1536.95 L1181.98 1536.95 L1181.98 1568.04 L1176.09 1568.04 L1176.09 1536.95 L1170.49 1536.95 L1170.49 1532.4 L1176.09 1532.4 L1176.09 1529.91 Q1176.09 1523.96 1178.86 1521.26 Q1181.63 1518.52 1187.64 1518.52 L1193.18 1518.52 Z\" fill=\"#000000\" fill-rule=\"evenodd\" fill-opacity=\"1\" /><path clip-path=\"url(#clip140)\" d=\"M1197.48 1553.98 L1197.48 1532.4 L1203.33 1532.4 L1203.33 1553.75 Q1203.33 1558.81 1205.31 1561.36 Q1207.28 1563.87 1211.23 1563.87 Q1215.97 1563.87 1218.71 1560.85 Q1221.47 1557.83 1221.47 1552.61 L1221.47 1532.4 L1227.33 1532.4 L1227.33 1568.04 L1221.47 1568.04 L1221.47 1562.57 Q1219.34 1565.82 1216.51 1567.41 Q1213.71 1568.97 1209.98 1568.97 Q1203.84 1568.97 1200.66 1565.15 Q1197.48 1561.33 1197.48 1553.98 M1212.21 1531.54 L1212.21 1531.54 Z\" fill=\"#000000\" fill-rule=\"evenodd\" fill-opacity=\"1\" /><path clip-path=\"url(#clip140)\" d=\"M1269.03 1546.53 L1269.03 1568.04 L1263.17 1568.04 L1263.17 1546.72 Q1263.17 1541.66 1261.2 1539.14 Q1259.22 1536.63 1255.28 1536.63 Q1250.53 1536.63 1247.8 1539.65 Q1245.06 1542.68 1245.06 1547.9 L1245.06 1568.04 L1239.17 1568.04 L1239.17 1532.4 L1245.06 1532.4 L1245.06 1537.93 Q1247.16 1534.72 1249.99 1533.13 Q1252.86 1531.54 1256.58 1531.54 Q1262.72 1531.54 1265.88 1535.36 Q1269.03 1539.14 1269.03 1546.53 Z\" fill=\"#000000\" fill-rule=\"evenodd\" fill-opacity=\"1\" /><path clip-path=\"url(#clip140)\" d=\"M1306.36 1533.76 L1306.36 1539.24 Q1303.88 1537.87 1301.36 1537.2 Q1298.88 1536.5 1296.34 1536.5 Q1290.64 1536.5 1287.49 1540.13 Q1284.34 1543.73 1284.34 1550.25 Q1284.34 1556.78 1287.49 1560.4 Q1290.64 1564 1296.34 1564 Q1298.88 1564 1301.36 1563.33 Q1303.88 1562.63 1306.36 1561.26 L1306.36 1566.68 Q1303.91 1567.82 1301.27 1568.39 Q1298.66 1568.97 1295.7 1568.97 Q1287.65 1568.97 1282.9 1563.91 Q1278.16 1558.85 1278.16 1550.25 Q1278.16 1541.53 1282.94 1536.53 Q1287.74 1531.54 1296.08 1531.54 Q1298.79 1531.54 1301.36 1532.11 Q1303.94 1532.65 1306.36 1533.76 Z\" fill=\"#000000\" fill-rule=\"evenodd\" fill-opacity=\"1\" /><path clip-path=\"url(#clip140)\" d=\"M1322.34 1522.27 L1322.34 1532.4 L1334.4 1532.4 L1334.4 1536.95 L1322.34 1536.95 L1322.34 1556.3 Q1322.34 1560.66 1323.52 1561.9 Q1324.73 1563.14 1328.39 1563.14 L1334.4 1563.14 L1334.4 1568.04 L1328.39 1568.04 Q1321.61 1568.04 1319.03 1565.53 Q1316.45 1562.98 1316.45 1556.3 L1316.45 1536.95 L1312.15 1536.95 L1312.15 1532.4 L1316.45 1532.4 L1316.45 1522.27 L1322.34 1522.27 Z\" fill=\"#000000\" fill-rule=\"evenodd\" fill-opacity=\"1\" /><path clip-path=\"url(#clip140)\" d=\"M1342.11 1532.4 L1347.96 1532.4 L1347.96 1568.04 L1342.11 1568.04 L1342.11 1532.4 M1342.11 1518.52 L1347.96 1518.52 L1347.96 1525.93 L1342.11 1525.93 L1342.11 1518.52 Z\" fill=\"#000000\" fill-rule=\"evenodd\" fill-opacity=\"1\" /><path clip-path=\"url(#clip140)\" d=\"M1374.03 1536.5 Q1369.32 1536.5 1366.58 1540.19 Q1363.84 1543.85 1363.84 1550.25 Q1363.84 1556.65 1366.55 1560.34 Q1369.29 1564 1374.03 1564 Q1378.71 1564 1381.45 1560.31 Q1384.18 1556.62 1384.18 1550.25 Q1384.18 1543.92 1381.45 1540.23 Q1378.71 1536.5 1374.03 1536.5 M1374.03 1531.54 Q1381.67 1531.54 1386.03 1536.5 Q1390.39 1541.47 1390.39 1550.25 Q1390.39 1559 1386.03 1564 Q1381.67 1568.97 1374.03 1568.97 Q1366.36 1568.97 1362 1564 Q1357.67 1559 1357.67 1550.25 Q1357.67 1541.47 1362 1536.5 Q1366.36 1531.54 1374.03 1531.54 Z\" fill=\"#000000\" fill-rule=\"evenodd\" fill-opacity=\"1\" /><path clip-path=\"url(#clip140)\" d=\"M1429.73 1546.53 L1429.73 1568.04 L1423.87 1568.04 L1423.87 1546.72 Q1423.87 1541.66 1421.9 1539.14 Q1419.93 1536.63 1415.98 1536.63 Q1411.24 1536.63 1408.5 1539.65 Q1405.76 1542.68 1405.76 1547.9 L1405.76 1568.04 L1399.87 1568.04 L1399.87 1532.4 L1405.76 1532.4 L1405.76 1537.93 Q1407.86 1534.72 1410.7 1533.13 Q1413.56 1531.54 1417.28 1531.54 Q1423.43 1531.54 1426.58 1535.36 Q1429.73 1539.14 1429.73 1546.53 Z\" fill=\"#000000\" fill-rule=\"evenodd\" fill-opacity=\"1\" /><polyline clip-path=\"url(#clip142)\" style=\"stroke:#000000; stroke-linecap:butt; stroke-linejoin:round; stroke-width:2; stroke-opacity:0.1; fill:none\" points=\"\n",
       "  247.459,1384.24 2352.76,1384.24 \n",
       "  \"/>\n",
       "<polyline clip-path=\"url(#clip142)\" style=\"stroke:#000000; stroke-linecap:butt; stroke-linejoin:round; stroke-width:2; stroke-opacity:0.1; fill:none\" points=\"\n",
       "  247.459,1102.05 2352.76,1102.05 \n",
       "  \"/>\n",
       "<polyline clip-path=\"url(#clip142)\" style=\"stroke:#000000; stroke-linecap:butt; stroke-linejoin:round; stroke-width:2; stroke-opacity:0.1; fill:none\" points=\"\n",
       "  247.459,819.868 2352.76,819.868 \n",
       "  \"/>\n",
       "<polyline clip-path=\"url(#clip142)\" style=\"stroke:#000000; stroke-linecap:butt; stroke-linejoin:round; stroke-width:2; stroke-opacity:0.1; fill:none\" points=\"\n",
       "  247.459,537.682 2352.76,537.682 \n",
       "  \"/>\n",
       "<polyline clip-path=\"url(#clip142)\" style=\"stroke:#000000; stroke-linecap:butt; stroke-linejoin:round; stroke-width:2; stroke-opacity:0.1; fill:none\" points=\"\n",
       "  247.459,255.497 2352.76,255.497 \n",
       "  \"/>\n",
       "<polyline clip-path=\"url(#clip140)\" style=\"stroke:#000000; stroke-linecap:butt; stroke-linejoin:round; stroke-width:4; stroke-opacity:1; fill:none\" points=\"\n",
       "  247.459,1423.18 247.459,47.2441 \n",
       "  \"/>\n",
       "<polyline clip-path=\"url(#clip140)\" style=\"stroke:#000000; stroke-linecap:butt; stroke-linejoin:round; stroke-width:4; stroke-opacity:1; fill:none\" points=\"\n",
       "  247.459,1384.24 266.356,1384.24 \n",
       "  \"/>\n",
       "<polyline clip-path=\"url(#clip140)\" style=\"stroke:#000000; stroke-linecap:butt; stroke-linejoin:round; stroke-width:4; stroke-opacity:1; fill:none\" points=\"\n",
       "  247.459,1102.05 266.356,1102.05 \n",
       "  \"/>\n",
       "<polyline clip-path=\"url(#clip140)\" style=\"stroke:#000000; stroke-linecap:butt; stroke-linejoin:round; stroke-width:4; stroke-opacity:1; fill:none\" points=\"\n",
       "  247.459,819.868 266.356,819.868 \n",
       "  \"/>\n",
       "<polyline clip-path=\"url(#clip140)\" style=\"stroke:#000000; stroke-linecap:butt; stroke-linejoin:round; stroke-width:4; stroke-opacity:1; fill:none\" points=\"\n",
       "  247.459,537.682 266.356,537.682 \n",
       "  \"/>\n",
       "<polyline clip-path=\"url(#clip140)\" style=\"stroke:#000000; stroke-linecap:butt; stroke-linejoin:round; stroke-width:4; stroke-opacity:1; fill:none\" points=\"\n",
       "  247.459,255.497 266.356,255.497 \n",
       "  \"/>\n",
       "<path clip-path=\"url(#clip140)\" d=\"M154.283 1370.04 Q150.672 1370.04 148.843 1373.6 Q147.038 1377.14 147.038 1384.27 Q147.038 1391.38 148.843 1394.94 Q150.672 1398.49 154.283 1398.49 Q157.917 1398.49 159.723 1394.94 Q161.552 1391.38 161.552 1384.27 Q161.552 1377.14 159.723 1373.6 Q157.917 1370.04 154.283 1370.04 M154.283 1366.33 Q160.093 1366.33 163.149 1370.94 Q166.227 1375.52 166.227 1384.27 Q166.227 1393 163.149 1397.61 Q160.093 1402.19 154.283 1402.19 Q148.473 1402.19 145.394 1397.61 Q142.339 1393 142.339 1384.27 Q142.339 1375.52 145.394 1370.94 Q148.473 1366.33 154.283 1366.33 Z\" fill=\"#000000\" fill-rule=\"evenodd\" fill-opacity=\"1\" /><path clip-path=\"url(#clip140)\" d=\"M174.445 1395.64 L179.329 1395.64 L179.329 1401.52 L174.445 1401.52 L174.445 1395.64 Z\" fill=\"#000000\" fill-rule=\"evenodd\" fill-opacity=\"1\" /><path clip-path=\"url(#clip140)\" d=\"M199.514 1370.04 Q195.903 1370.04 194.075 1373.6 Q192.269 1377.14 192.269 1384.27 Q192.269 1391.38 194.075 1394.94 Q195.903 1398.49 199.514 1398.49 Q203.149 1398.49 204.954 1394.94 Q206.783 1391.38 206.783 1384.27 Q206.783 1377.14 204.954 1373.6 Q203.149 1370.04 199.514 1370.04 M199.514 1366.33 Q205.324 1366.33 208.38 1370.94 Q211.459 1375.52 211.459 1384.27 Q211.459 1393 208.38 1397.61 Q205.324 1402.19 199.514 1402.19 Q193.704 1402.19 190.625 1397.61 Q187.57 1393 187.57 1384.27 Q187.57 1375.52 190.625 1370.94 Q193.704 1366.33 199.514 1366.33 Z\" fill=\"#000000\" fill-rule=\"evenodd\" fill-opacity=\"1\" /><path clip-path=\"url(#clip140)\" d=\"M149.306 1115.4 L165.626 1115.4 L165.626 1119.33 L143.681 1119.33 L143.681 1115.4 Q146.343 1112.64 150.927 1108.01 Q155.533 1103.36 156.714 1102.02 Q158.959 1099.5 159.839 1097.76 Q160.741 1096 160.741 1094.31 Q160.741 1091.56 158.797 1089.82 Q156.876 1088.08 153.774 1088.08 Q151.575 1088.08 149.121 1088.85 Q146.691 1089.61 143.913 1091.16 L143.913 1086.44 Q146.737 1085.31 149.191 1084.73 Q151.644 1084.15 153.681 1084.15 Q159.052 1084.15 162.246 1086.83 Q165.44 1089.52 165.44 1094.01 Q165.44 1096.14 164.63 1098.06 Q163.843 1099.96 161.737 1102.55 Q161.158 1103.22 158.056 1106.44 Q154.954 1109.63 149.306 1115.4 Z\" fill=\"#000000\" fill-rule=\"evenodd\" fill-opacity=\"1\" /><path clip-path=\"url(#clip140)\" d=\"M175.44 1113.45 L180.325 1113.45 L180.325 1119.33 L175.44 1119.33 L175.44 1113.45 Z\" fill=\"#000000\" fill-rule=\"evenodd\" fill-opacity=\"1\" /><path clip-path=\"url(#clip140)\" d=\"M190.556 1084.77 L208.912 1084.77 L208.912 1088.71 L194.838 1088.71 L194.838 1097.18 Q195.857 1096.83 196.875 1096.67 Q197.894 1096.49 198.912 1096.49 Q204.699 1096.49 208.079 1099.66 Q211.459 1102.83 211.459 1108.25 Q211.459 1113.82 207.987 1116.93 Q204.514 1120 198.195 1120 Q196.019 1120 193.75 1119.63 Q191.505 1119.26 189.098 1118.52 L189.098 1113.82 Q191.181 1114.96 193.403 1115.51 Q195.625 1116.07 198.102 1116.07 Q202.107 1116.07 204.445 1113.96 Q206.783 1111.86 206.783 1108.25 Q206.783 1104.63 204.445 1102.53 Q202.107 1100.42 198.102 1100.42 Q196.227 1100.42 194.352 1100.84 Q192.5 1101.25 190.556 1102.13 L190.556 1084.77 Z\" fill=\"#000000\" fill-rule=\"evenodd\" fill-opacity=\"1\" /><path clip-path=\"url(#clip140)\" d=\"M144.329 802.588 L162.686 802.588 L162.686 806.523 L148.612 806.523 L148.612 814.995 Q149.63 814.648 150.649 814.486 Q151.667 814.3 152.686 814.3 Q158.473 814.3 161.852 817.472 Q165.232 820.643 165.232 826.06 Q165.232 831.638 161.76 834.74 Q158.288 837.819 151.968 837.819 Q149.792 837.819 147.524 837.448 Q145.279 837.078 142.871 836.337 L142.871 831.638 Q144.954 832.773 147.177 833.328 Q149.399 833.884 151.876 833.884 Q155.88 833.884 158.218 831.777 Q160.556 829.671 160.556 826.06 Q160.556 822.449 158.218 820.342 Q155.88 818.236 151.876 818.236 Q150.001 818.236 148.126 818.652 Q146.274 819.069 144.329 819.949 L144.329 802.588 Z\" fill=\"#000000\" fill-rule=\"evenodd\" fill-opacity=\"1\" /><path clip-path=\"url(#clip140)\" d=\"M174.445 831.268 L179.329 831.268 L179.329 837.148 L174.445 837.148 L174.445 831.268 Z\" fill=\"#000000\" fill-rule=\"evenodd\" fill-opacity=\"1\" /><path clip-path=\"url(#clip140)\" d=\"M199.514 805.666 Q195.903 805.666 194.075 809.231 Q192.269 812.773 192.269 819.902 Q192.269 827.009 194.075 830.574 Q195.903 834.115 199.514 834.115 Q203.149 834.115 204.954 830.574 Q206.783 827.009 206.783 819.902 Q206.783 812.773 204.954 809.231 Q203.149 805.666 199.514 805.666 M199.514 801.963 Q205.324 801.963 208.38 806.569 Q211.459 811.152 211.459 819.902 Q211.459 828.629 208.38 833.236 Q205.324 837.819 199.514 837.819 Q193.704 837.819 190.625 833.236 Q187.57 828.629 187.57 819.902 Q187.57 811.152 190.625 806.569 Q193.704 801.963 199.514 801.963 Z\" fill=\"#000000\" fill-rule=\"evenodd\" fill-opacity=\"1\" /><path clip-path=\"url(#clip140)\" d=\"M144.098 520.402 L166.32 520.402 L166.32 522.393 L153.774 554.962 L148.89 554.962 L160.695 524.337 L144.098 524.337 L144.098 520.402 Z\" fill=\"#000000\" fill-rule=\"evenodd\" fill-opacity=\"1\" /><path clip-path=\"url(#clip140)\" d=\"M175.44 549.083 L180.325 549.083 L180.325 554.962 L175.44 554.962 L175.44 549.083 Z\" fill=\"#000000\" fill-rule=\"evenodd\" fill-opacity=\"1\" /><path clip-path=\"url(#clip140)\" d=\"M190.556 520.402 L208.912 520.402 L208.912 524.337 L194.838 524.337 L194.838 532.81 Q195.857 532.462 196.875 532.3 Q197.894 532.115 198.912 532.115 Q204.699 532.115 208.079 535.286 Q211.459 538.458 211.459 543.874 Q211.459 549.453 207.987 552.555 Q204.514 555.634 198.195 555.634 Q196.019 555.634 193.75 555.263 Q191.505 554.893 189.098 554.152 L189.098 549.453 Q191.181 550.587 193.403 551.143 Q195.625 551.698 198.102 551.698 Q202.107 551.698 204.445 549.592 Q206.783 547.485 206.783 543.874 Q206.783 540.263 204.445 538.157 Q202.107 536.05 198.102 536.05 Q196.227 536.05 194.352 536.467 Q192.5 536.884 190.556 537.763 L190.556 520.402 Z\" fill=\"#000000\" fill-rule=\"evenodd\" fill-opacity=\"1\" /><path clip-path=\"url(#clip140)\" d=\"M114.931 268.842 L122.57 268.842 L122.57 242.476 L114.26 244.143 L114.26 239.884 L122.524 238.217 L127.2 238.217 L127.2 268.842 L134.839 268.842 L134.839 272.777 L114.931 272.777 L114.931 268.842 Z\" fill=\"#000000\" fill-rule=\"evenodd\" fill-opacity=\"1\" /><path clip-path=\"url(#clip140)\" d=\"M154.283 241.296 Q150.672 241.296 148.843 244.86 Q147.038 248.402 147.038 255.532 Q147.038 262.638 148.843 266.203 Q150.672 269.744 154.283 269.744 Q157.917 269.744 159.723 266.203 Q161.552 262.638 161.552 255.532 Q161.552 248.402 159.723 244.86 Q157.917 241.296 154.283 241.296 M154.283 237.592 Q160.093 237.592 163.149 242.198 Q166.227 246.782 166.227 255.532 Q166.227 264.258 163.149 268.865 Q160.093 273.448 154.283 273.448 Q148.473 273.448 145.394 268.865 Q142.339 264.258 142.339 255.532 Q142.339 246.782 145.394 242.198 Q148.473 237.592 154.283 237.592 Z\" fill=\"#000000\" fill-rule=\"evenodd\" fill-opacity=\"1\" /><path clip-path=\"url(#clip140)\" d=\"M174.445 266.897 L179.329 266.897 L179.329 272.777 L174.445 272.777 L174.445 266.897 Z\" fill=\"#000000\" fill-rule=\"evenodd\" fill-opacity=\"1\" /><path clip-path=\"url(#clip140)\" d=\"M199.514 241.296 Q195.903 241.296 194.075 244.86 Q192.269 248.402 192.269 255.532 Q192.269 262.638 194.075 266.203 Q195.903 269.744 199.514 269.744 Q203.149 269.744 204.954 266.203 Q206.783 262.638 206.783 255.532 Q206.783 248.402 204.954 244.86 Q203.149 241.296 199.514 241.296 M199.514 237.592 Q205.324 237.592 208.38 242.198 Q211.459 246.782 211.459 255.532 Q211.459 264.258 208.38 268.865 Q205.324 273.448 199.514 273.448 Q193.704 273.448 190.625 268.865 Q187.57 264.258 187.57 255.532 Q187.57 246.782 190.625 242.198 Q193.704 237.592 199.514 237.592 Z\" fill=\"#000000\" fill-rule=\"evenodd\" fill-opacity=\"1\" /><path clip-path=\"url(#clip140)\" d=\"M18.2347 1163.94 L28.3562 1163.94 L28.3562 1151.88 L32.9077 1151.88 L32.9077 1163.94 L52.2594 1163.94 Q56.6199 1163.94 57.8613 1162.76 Q59.1026 1161.56 59.1026 1157.89 L59.1026 1151.88 L64.0042 1151.88 L64.0042 1157.89 Q64.0042 1164.67 61.4897 1167.25 Q58.9434 1169.83 52.2594 1169.83 L32.9077 1169.83 L32.9077 1174.13 L28.3562 1174.13 L28.3562 1169.83 L18.2347 1169.83 L18.2347 1163.94 Z\" fill=\"#000000\" fill-rule=\"evenodd\" fill-opacity=\"1\" /><path clip-path=\"url(#clip140)\" d=\"M28.3562 1144.18 L28.3562 1138.32 L64.0042 1138.32 L64.0042 1144.18 L28.3562 1144.18 M14.479 1144.18 L14.479 1138.32 L21.895 1138.32 L21.895 1144.18 L14.479 1144.18 Z\" fill=\"#000000\" fill-rule=\"evenodd\" fill-opacity=\"1\" /><path clip-path=\"url(#clip140)\" d=\"M35.1993 1098.31 Q31.2526 1096.12 29.3747 1093.06 Q27.4968 1090 27.4968 1085.87 Q27.4968 1080.3 31.4117 1077.27 Q35.2948 1074.25 42.4881 1074.25 L64.0042 1074.25 L64.0042 1080.14 L42.679 1080.14 Q37.5546 1080.14 35.072 1081.95 Q32.5894 1083.77 32.5894 1087.49 Q32.5894 1092.04 35.6131 1094.68 Q38.6368 1097.33 43.8567 1097.33 L64.0042 1097.33 L64.0042 1103.21 L42.679 1103.21 Q37.5228 1103.21 35.072 1105.03 Q32.5894 1106.84 32.5894 1110.63 Q32.5894 1115.12 35.6449 1117.76 Q38.6686 1120.4 43.8567 1120.4 L64.0042 1120.4 L64.0042 1126.29 L28.3562 1126.29 L28.3562 1120.4 L33.8944 1120.4 Q30.616 1118.4 29.0564 1115.59 Q27.4968 1112.79 27.4968 1108.94 Q27.4968 1105.06 29.4702 1102.35 Q31.4436 1099.62 35.1993 1098.31 Z\" fill=\"#000000\" fill-rule=\"evenodd\" fill-opacity=\"1\" /><path clip-path=\"url(#clip140)\" d=\"M44.7161 1032.08 L47.5806 1032.08 L47.5806 1059 Q53.6281 1058.62 56.8109 1055.38 Q59.9619 1052.1 59.9619 1046.27 Q59.9619 1042.9 59.1344 1039.75 Q58.3069 1036.56 56.6518 1033.45 L62.1899 1033.45 Q63.5267 1036.6 64.227 1039.91 Q64.9272 1043.22 64.9272 1046.62 Q64.9272 1055.15 59.9619 1060.15 Q54.9967 1065.11 46.5303 1065.11 Q37.7774 1065.11 32.6531 1060.4 Q27.4968 1055.66 27.4968 1047.64 Q27.4968 1040.45 32.1438 1036.28 Q36.7589 1032.08 44.7161 1032.08 M42.9973 1037.93 Q38.1912 1038 35.3266 1040.64 Q32.4621 1043.25 32.4621 1047.58 Q32.4621 1052.48 35.2312 1055.44 Q38.0002 1058.37 43.0292 1058.81 L42.9973 1037.93 Z\" fill=\"#000000\" fill-rule=\"evenodd\" fill-opacity=\"1\" /><path clip-path=\"url(#clip140)\" d=\"M14.5426 987.676 Q21.8632 991.941 29.0246 994.01 Q36.186 996.079 43.5384 996.079 Q50.8908 996.079 58.1159 994.01 Q65.3091 991.909 72.5979 987.676 L72.5979 992.768 Q65.1182 997.543 57.8931 999.93 Q50.668 1002.29 43.5384 1002.29 Q36.4406 1002.29 29.2474 999.93 Q22.0542 997.575 14.5426 992.768 L14.5426 987.676 Z\" fill=\"#000000\" fill-rule=\"evenodd\" fill-opacity=\"1\" /><path clip-path=\"url(#clip140)\" d=\"M35.1993 948.559 Q31.2526 946.362 29.3747 943.307 Q27.4968 940.251 27.4968 936.114 Q27.4968 930.544 31.4117 927.52 Q35.2948 924.496 42.4881 924.496 L64.0042 924.496 L64.0042 930.385 L42.679 930.385 Q37.5546 930.385 35.072 932.199 Q32.5894 934.013 32.5894 937.737 Q32.5894 942.288 35.6131 944.93 Q38.6368 947.572 43.8567 947.572 L64.0042 947.572 L64.0042 953.46 L42.679 953.46 Q37.5228 953.46 35.072 955.274 Q32.5894 957.089 32.5894 960.876 Q32.5894 965.364 35.6449 968.006 Q38.6686 970.648 43.8567 970.648 L64.0042 970.648 L64.0042 976.536 L28.3562 976.536 L28.3562 970.648 L33.8944 970.648 Q30.616 968.642 29.0564 965.842 Q27.4968 963.041 27.4968 959.189 Q27.4968 955.306 29.4702 952.601 Q31.4436 949.864 35.1993 948.559 Z\" fill=\"#000000\" fill-rule=\"evenodd\" fill-opacity=\"1\" /><path clip-path=\"url(#clip140)\" d=\"M29.4065 890.09 L34.9447 890.09 Q33.6716 892.572 33.035 895.246 Q32.3984 897.919 32.3984 900.784 Q32.3984 905.145 33.7352 907.341 Q35.072 909.505 37.7456 909.505 Q39.7826 909.505 40.9603 907.945 Q42.1061 906.386 43.1565 901.675 L43.6021 899.67 Q44.9389 893.432 47.3897 890.822 Q49.8086 888.18 54.1691 888.18 Q59.1344 888.18 62.0308 892.127 Q64.9272 896.042 64.9272 902.917 Q64.9272 905.781 64.3543 908.9 Q63.8132 911.988 62.6992 915.425 L56.6518 915.425 Q58.3387 912.179 59.198 909.028 Q60.0256 905.877 60.0256 902.789 Q60.0256 898.651 58.6251 896.423 Q57.1929 894.195 54.6147 894.195 Q52.2276 894.195 50.9545 895.819 Q49.6813 897.41 48.5037 902.853 L48.0262 904.89 Q46.8804 910.333 44.5251 912.752 Q42.138 915.17 38.0002 915.17 Q32.9713 915.17 30.2341 911.606 Q27.4968 908.041 27.4968 901.484 Q27.4968 898.238 27.9743 895.373 Q28.4517 892.509 29.4065 890.09 Z\" fill=\"#000000\" fill-rule=\"evenodd\" fill-opacity=\"1\" /><path clip-path=\"url(#clip140)\" d=\"M55.9197 877.358 L55.9197 870.642 L61.3942 870.642 L71.5793 875.862 L71.5793 879.968 L61.3942 877.358 L55.9197 877.358 Z\" fill=\"#000000\" fill-rule=\"evenodd\" fill-opacity=\"1\" /><path clip-path=\"url(#clip140)\" d=\"M29.4065 814.688 L34.9447 814.688 Q33.6716 817.17 33.035 819.844 Q32.3984 822.518 32.3984 825.382 Q32.3984 829.743 33.7352 831.939 Q35.072 834.103 37.7456 834.103 Q39.7826 834.103 40.9603 832.544 Q42.1061 830.984 43.1565 826.273 L43.6021 824.268 Q44.9389 818.03 47.3897 815.42 Q49.8086 812.778 54.1691 812.778 Q59.1344 812.778 62.0308 816.725 Q64.9272 820.64 64.9272 827.515 Q64.9272 830.379 64.3543 833.498 Q63.8132 836.586 62.6992 840.023 L56.6518 840.023 Q58.3387 836.777 59.198 833.626 Q60.0256 830.475 60.0256 827.387 Q60.0256 823.25 58.6251 821.022 Q57.1929 818.794 54.6147 818.794 Q52.2276 818.794 50.9545 820.417 Q49.6813 822.008 48.5037 827.451 L48.0262 829.488 Q46.8804 834.931 44.5251 837.35 Q42.138 839.769 38.0002 839.769 Q32.9713 839.769 30.2341 836.204 Q27.4968 832.639 27.4968 826.082 Q27.4968 822.836 27.9743 819.971 Q28.4517 817.107 29.4065 814.688 Z\" fill=\"#000000\" fill-rule=\"evenodd\" fill-opacity=\"1\" /><path clip-path=\"url(#clip140)\" d=\"M42.4881 773.82 L64.0042 773.82 L64.0042 779.676 L42.679 779.676 Q37.6183 779.676 35.1038 781.65 Q32.5894 783.623 32.5894 787.57 Q32.5894 792.312 35.6131 795.05 Q38.6368 797.787 43.8567 797.787 L64.0042 797.787 L64.0042 803.675 L14.479 803.675 L14.479 797.787 L33.8944 797.787 Q30.6797 795.686 29.0883 792.853 Q27.4968 789.989 27.4968 786.265 Q27.4968 780.122 31.3163 776.971 Q35.1038 773.82 42.4881 773.82 Z\" fill=\"#000000\" fill-rule=\"evenodd\" fill-opacity=\"1\" /><path clip-path=\"url(#clip140)\" d=\"M32.4621 748.325 Q32.4621 753.036 36.1542 755.773 Q39.8145 758.51 46.212 758.51 Q52.6095 758.51 56.3017 755.805 Q59.9619 753.068 59.9619 748.325 Q59.9619 743.647 56.2698 740.909 Q52.5777 738.172 46.212 738.172 Q39.8781 738.172 36.186 740.909 Q32.4621 743.647 32.4621 748.325 M27.4968 748.325 Q27.4968 740.686 32.4621 736.326 Q37.4273 731.965 46.212 731.965 Q54.9649 731.965 59.9619 736.326 Q64.9272 740.686 64.9272 748.325 Q64.9272 755.996 59.9619 760.357 Q54.9649 764.685 46.212 764.685 Q37.4273 764.685 32.4621 760.357 Q27.4968 755.996 27.4968 748.325 Z\" fill=\"#000000\" fill-rule=\"evenodd\" fill-opacity=\"1\" /><path clip-path=\"url(#clip140)\" d=\"M33.8307 701.601 Q33.2578 702.588 33.0032 703.765 Q32.7167 704.911 32.7167 706.312 Q32.7167 711.277 35.9632 713.951 Q39.1779 716.592 45.2253 716.592 L64.0042 716.592 L64.0042 722.481 L28.3562 722.481 L28.3562 716.592 L33.8944 716.592 Q30.6479 714.746 29.0883 711.786 Q27.4968 708.826 27.4968 704.593 Q27.4968 703.988 27.5923 703.256 Q27.656 702.524 27.8151 701.633 L33.8307 701.601 Z\" fill=\"#000000\" fill-rule=\"evenodd\" fill-opacity=\"1\" /><path clip-path=\"url(#clip140)\" d=\"M18.2347 689.665 L28.3562 689.665 L28.3562 677.602 L32.9077 677.602 L32.9077 689.665 L52.2594 689.665 Q56.6199 689.665 57.8613 688.488 Q59.1026 687.278 59.1026 683.618 L59.1026 677.602 L64.0042 677.602 L64.0042 683.618 Q64.0042 690.397 61.4897 692.976 Q58.9434 695.554 52.2594 695.554 L32.9077 695.554 L32.9077 699.85 L28.3562 699.85 L28.3562 695.554 L18.2347 695.554 L18.2347 689.665 Z\" fill=\"#000000\" fill-rule=\"evenodd\" fill-opacity=\"1\" /><path clip-path=\"url(#clip140)\" d=\"M44.7161 639.408 L47.5806 639.408 L47.5806 666.335 Q53.6281 665.953 56.8109 662.707 Q59.9619 659.428 59.9619 653.604 Q59.9619 650.23 59.1344 647.079 Q58.3069 643.896 56.6518 640.777 L62.1899 640.777 Q63.5267 643.928 64.227 647.238 Q64.9272 650.548 64.9272 653.954 Q64.9272 662.484 59.9619 667.481 Q54.9967 672.446 46.5303 672.446 Q37.7774 672.446 32.6531 667.735 Q27.4968 662.993 27.4968 654.972 Q27.4968 647.779 32.1438 643.609 Q36.7589 639.408 44.7161 639.408 M42.9973 645.265 Q38.1912 645.328 35.3266 647.97 Q32.4621 650.58 32.4621 654.909 Q32.4621 659.81 35.2312 662.77 Q38.0002 665.698 43.0292 666.144 L42.9973 645.265 Z\" fill=\"#000000\" fill-rule=\"evenodd\" fill-opacity=\"1\" /><path clip-path=\"url(#clip140)\" d=\"M33.8307 609.139 Q33.2578 610.126 33.0032 611.303 Q32.7167 612.449 32.7167 613.85 Q32.7167 618.815 35.9632 621.489 Q39.1779 624.13 45.2253 624.13 L64.0042 624.13 L64.0042 630.019 L28.3562 630.019 L28.3562 624.13 L33.8944 624.13 Q30.6479 622.284 29.0883 619.324 Q27.4968 616.364 27.4968 612.131 Q27.4968 611.526 27.5923 610.794 Q27.656 610.062 27.8151 609.171 L33.8307 609.139 Z\" fill=\"#000000\" fill-rule=\"evenodd\" fill-opacity=\"1\" /><path clip-path=\"url(#clip140)\" d=\"M28.3562 582.276 L28.3562 576.419 L64.0042 576.419 L64.0042 582.276 L28.3562 582.276 M14.479 582.276 L14.479 576.419 L21.895 576.419 L21.895 582.276 L14.479 582.276 Z\" fill=\"#000000\" fill-rule=\"evenodd\" fill-opacity=\"1\" /><path clip-path=\"url(#clip140)\" d=\"M29.4065 541.44 L34.9447 541.44 Q33.6716 543.922 33.035 546.596 Q32.3984 549.27 32.3984 552.134 Q32.3984 556.495 33.7352 558.691 Q35.072 560.855 37.7456 560.855 Q39.7826 560.855 40.9603 559.296 Q42.1061 557.736 43.1565 553.025 L43.6021 551.02 Q44.9389 544.782 47.3897 542.172 Q49.8086 539.53 54.1691 539.53 Q59.1344 539.53 62.0308 543.477 Q64.9272 547.392 64.9272 554.267 Q64.9272 557.131 64.3543 560.251 Q63.8132 563.338 62.6992 566.775 L56.6518 566.775 Q58.3387 563.529 59.198 560.378 Q60.0256 557.227 60.0256 554.139 Q60.0256 550.002 58.6251 547.774 Q57.1929 545.546 54.6147 545.546 Q52.2276 545.546 50.9545 547.169 Q49.6813 548.76 48.5037 554.203 L48.0262 556.24 Q46.8804 561.683 44.5251 564.102 Q42.138 566.521 38.0002 566.521 Q32.9713 566.521 30.2341 562.956 Q27.4968 559.391 27.4968 552.834 Q27.4968 549.588 27.9743 546.723 Q28.4517 543.859 29.4065 541.44 Z\" fill=\"#000000\" fill-rule=\"evenodd\" fill-opacity=\"1\" /><path clip-path=\"url(#clip140)\" d=\"M46.212 483.894 Q39.7508 483.894 36.0905 486.567 Q32.3984 489.209 32.3984 493.856 Q32.3984 498.503 36.0905 501.177 Q39.7508 503.819 46.212 503.819 Q52.6732 503.819 56.3653 501.177 Q60.0256 498.503 60.0256 493.856 Q60.0256 489.209 56.3653 486.567 Q52.6732 483.894 46.212 483.894 M33.7671 503.819 Q30.5842 501.972 29.0564 499.172 Q27.4968 496.339 27.4968 492.424 Q27.4968 485.931 32.6531 481.889 Q37.8093 477.815 46.212 477.815 Q54.6147 477.815 59.771 481.889 Q64.9272 485.931 64.9272 492.424 Q64.9272 496.339 63.3994 499.172 Q61.8398 501.972 58.657 503.819 L64.0042 503.819 L64.0042 509.707 L14.479 509.707 L14.479 503.819 L33.7671 503.819 Z\" fill=\"#000000\" fill-rule=\"evenodd\" fill-opacity=\"1\" /><path clip-path=\"url(#clip140)\" d=\"M44.7161 437.615 L47.5806 437.615 L47.5806 464.542 Q53.6281 464.16 56.8109 460.914 Q59.9619 457.635 59.9619 451.811 Q59.9619 448.437 59.1344 445.286 Q58.3069 442.103 56.6518 438.984 L62.1899 438.984 Q63.5267 442.135 64.227 445.445 Q64.9272 448.755 64.9272 452.161 Q64.9272 460.691 59.9619 465.688 Q54.9967 470.653 46.5303 470.653 Q37.7774 470.653 32.6531 465.943 Q27.4968 461.2 27.4968 453.179 Q27.4968 445.986 32.1438 441.817 Q36.7589 437.615 44.7161 437.615 M42.9973 443.472 Q38.1912 443.535 35.3266 446.177 Q32.4621 448.787 32.4621 453.116 Q32.4621 458.017 35.2312 460.977 Q38.0002 463.906 43.0292 464.351 L42.9973 443.472 Z\" fill=\"#000000\" fill-rule=\"evenodd\" fill-opacity=\"1\" /><path clip-path=\"url(#clip140)\" d=\"M18.2347 422.21 L28.3562 422.21 L28.3562 410.147 L32.9077 410.147 L32.9077 422.21 L52.2594 422.21 Q56.6199 422.21 57.8613 421.033 Q59.1026 419.823 59.1026 416.163 L59.1026 410.147 L64.0042 410.147 L64.0042 416.163 Q64.0042 422.942 61.4897 425.52 Q58.9434 428.098 52.2594 428.098 L32.9077 428.098 L32.9077 432.395 L28.3562 432.395 L28.3562 428.098 L18.2347 428.098 L18.2347 422.21 Z\" fill=\"#000000\" fill-rule=\"evenodd\" fill-opacity=\"1\" /><path clip-path=\"url(#clip140)\" d=\"M18.2347 396.652 L28.3562 396.652 L28.3562 384.589 L32.9077 384.589 L32.9077 396.652 L52.2594 396.652 Q56.6199 396.652 57.8613 395.474 Q59.1026 394.265 59.1026 390.604 L59.1026 384.589 L64.0042 384.589 L64.0042 390.604 Q64.0042 397.384 61.4897 399.962 Q58.9434 402.54 52.2594 402.54 L32.9077 402.54 L32.9077 406.837 L28.3562 406.837 L28.3562 402.54 L18.2347 402.54 L18.2347 396.652 Z\" fill=\"#000000\" fill-rule=\"evenodd\" fill-opacity=\"1\" /><path clip-path=\"url(#clip140)\" d=\"M44.7161 346.395 L47.5806 346.395 L47.5806 373.322 Q53.6281 372.94 56.8109 369.693 Q59.9619 366.415 59.9619 360.59 Q59.9619 357.216 59.1344 354.065 Q58.3069 350.882 56.6518 347.763 L62.1899 347.763 Q63.5267 350.914 64.227 354.224 Q64.9272 357.535 64.9272 360.94 Q64.9272 369.47 59.9619 374.467 Q54.9967 379.433 46.5303 379.433 Q37.7774 379.433 32.6531 374.722 Q27.4968 369.98 27.4968 361.959 Q27.4968 354.766 32.1438 350.596 Q36.7589 346.395 44.7161 346.395 M42.9973 352.251 Q38.1912 352.315 35.3266 354.956 Q32.4621 357.566 32.4621 361.895 Q32.4621 366.797 35.2312 369.757 Q38.0002 372.685 43.0292 373.131 L42.9973 352.251 Z\" fill=\"#000000\" fill-rule=\"evenodd\" fill-opacity=\"1\" /><path clip-path=\"url(#clip140)\" d=\"M33.8307 316.126 Q33.2578 317.112 33.0032 318.29 Q32.7167 319.436 32.7167 320.836 Q32.7167 325.802 35.9632 328.475 Q39.1779 331.117 45.2253 331.117 L64.0042 331.117 L64.0042 337.005 L28.3562 337.005 L28.3562 331.117 L33.8944 331.117 Q30.6479 329.271 29.0883 326.311 Q27.4968 323.351 27.4968 319.118 Q27.4968 318.513 27.5923 317.781 Q27.656 317.049 27.8151 316.158 L33.8307 316.126 Z\" fill=\"#000000\" fill-rule=\"evenodd\" fill-opacity=\"1\" /><path clip-path=\"url(#clip140)\" d=\"M14.5426 310.906 L14.5426 305.813 Q22.0542 301.039 29.2474 298.684 Q36.4406 296.296 43.5384 296.296 Q50.668 296.296 57.8931 298.684 Q65.1182 301.039 72.5979 305.813 L72.5979 310.906 Q65.3091 306.673 58.1159 304.604 Q50.8908 302.503 43.5384 302.503 Q36.186 302.503 29.0246 304.604 Q21.8632 306.673 14.5426 310.906 Z\" fill=\"#000000\" fill-rule=\"evenodd\" fill-opacity=\"1\" /><path clip-path=\"url(#clip142)\" d=\"\n",
       "M363.254 134.722 L363.254 1384.24 L1196.01 1384.24 L1196.01 134.722 L363.254 134.722 L363.254 134.722  Z\n",
       "  \" fill=\"#009af9\" fill-rule=\"evenodd\" fill-opacity=\"1\"/>\n",
       "<polyline clip-path=\"url(#clip142)\" style=\"stroke:#000000; stroke-linecap:butt; stroke-linejoin:round; stroke-width:4; stroke-opacity:1; fill:none\" points=\"\n",
       "  363.254,134.722 363.254,1384.24 1196.01,1384.24 1196.01,134.722 363.254,134.722 \n",
       "  \"/>\n",
       "<path clip-path=\"url(#clip142)\" d=\"\n",
       "M1404.2 86.1857 L1404.2 1384.24 L2236.96 1384.24 L2236.96 86.1857 L1404.2 86.1857 L1404.2 86.1857  Z\n",
       "  \" fill=\"#009af9\" fill-rule=\"evenodd\" fill-opacity=\"1\"/>\n",
       "<polyline clip-path=\"url(#clip142)\" style=\"stroke:#000000; stroke-linecap:butt; stroke-linejoin:round; stroke-width:4; stroke-opacity:1; fill:none\" points=\"\n",
       "  1404.2,86.1857 1404.2,1384.24 2236.96,1384.24 2236.96,86.1857 1404.2,86.1857 \n",
       "  \"/>\n",
       "<circle clip-path=\"url(#clip142)\" style=\"fill:#009af9; stroke:none; fill-opacity:0\" cx=\"779.633\" cy=\"134.722\" r=\"2\"/>\n",
       "<circle clip-path=\"url(#clip142)\" style=\"fill:#009af9; stroke:none; fill-opacity:0\" cx=\"1820.58\" cy=\"86.1857\" r=\"2\"/>\n",
       "</svg>\n"
      ]
     },
     "execution_count": 61,
     "metadata": {},
     "output_type": "execute_result"
    }
   ],
   "source": [
    "results = [\n",
    "    \"my_sum (Julia)\" => 11.07,\n",
    "    \"c_sum (C)\" => 11.5\n",
    "]\n",
    "\n",
    "bar(first.(results), last.(results), xlabel=\"function\", ylabel=\"time (ms, shorter is better)\", legend=nothing)"
   ]
  },
  {
   "cell_type": "markdown",
   "metadata": {
    "slideshow": {
     "slide_type": "subslide"
    }
   },
   "source": [
    "Our naive Julia code is just as fast as our naive C code! \n",
    "\n",
    "Is that as fast as we can go? What about Julia's built-in `sum()` function:"
   ]
  },
  {
   "cell_type": "code",
   "execution_count": 62,
   "metadata": {
    "slideshow": {
     "slide_type": "fragment"
    }
   },
   "outputs": [
    {
     "name": "stdout",
     "output_type": "stream",
     "text": [
      "  4.079 ms (0 allocations: 0 bytes)\n"
     ]
    },
    {
     "data": {
      "text/plain": [
       "4.998941237371171e6"
      ]
     },
     "execution_count": 62,
     "metadata": {},
     "output_type": "execute_result"
    }
   ],
   "source": [
    "@btime sum($data)"
   ]
  },
  {
   "cell_type": "code",
   "execution_count": 63,
   "metadata": {
    "slideshow": {
     "slide_type": "fragment"
    }
   },
   "outputs": [
    {
     "data": {
      "image/svg+xml": [
       "<?xml version=\"1.0\" encoding=\"utf-8\"?>\n",
       "<svg xmlns=\"http://www.w3.org/2000/svg\" xmlns:xlink=\"http://www.w3.org/1999/xlink\" width=\"600\" height=\"400\" viewBox=\"0 0 2400 1600\">\n",
       "<defs>\n",
       "  <clipPath id=\"clip180\">\n",
       "    <rect x=\"0\" y=\"0\" width=\"2400\" height=\"1600\"/>\n",
       "  </clipPath>\n",
       "</defs>\n",
       "<path clip-path=\"url(#clip180)\" d=\"\n",
       "M0 1600 L2400 1600 L2400 0 L0 0  Z\n",
       "  \" fill=\"#ffffff\" fill-rule=\"evenodd\" fill-opacity=\"1\"/>\n",
       "<defs>\n",
       "  <clipPath id=\"clip181\">\n",
       "    <rect x=\"480\" y=\"0\" width=\"1681\" height=\"1600\"/>\n",
       "  </clipPath>\n",
       "</defs>\n",
       "<path clip-path=\"url(#clip180)\" d=\"\n",
       "M247.459 1423.18 L2352.76 1423.18 L2352.76 47.2441 L247.459 47.2441  Z\n",
       "  \" fill=\"#ffffff\" fill-rule=\"evenodd\" fill-opacity=\"1\"/>\n",
       "<defs>\n",
       "  <clipPath id=\"clip182\">\n",
       "    <rect x=\"247\" y=\"47\" width=\"2106\" height=\"1377\"/>\n",
       "  </clipPath>\n",
       "</defs>\n",
       "<polyline clip-path=\"url(#clip182)\" style=\"stroke:#000000; stroke-linecap:butt; stroke-linejoin:round; stroke-width:2; stroke-opacity:0.1; fill:none\" points=\"\n",
       "  630.926,1423.18 630.926,47.2441 \n",
       "  \"/>\n",
       "<polyline clip-path=\"url(#clip182)\" style=\"stroke:#000000; stroke-linecap:butt; stroke-linejoin:round; stroke-width:2; stroke-opacity:0.1; fill:none\" points=\"\n",
       "  1300.11,1423.18 1300.11,47.2441 \n",
       "  \"/>\n",
       "<polyline clip-path=\"url(#clip182)\" style=\"stroke:#000000; stroke-linecap:butt; stroke-linejoin:round; stroke-width:2; stroke-opacity:0.1; fill:none\" points=\"\n",
       "  1969.29,1423.18 1969.29,47.2441 \n",
       "  \"/>\n",
       "<polyline clip-path=\"url(#clip180)\" style=\"stroke:#000000; stroke-linecap:butt; stroke-linejoin:round; stroke-width:4; stroke-opacity:1; fill:none\" points=\"\n",
       "  247.459,1423.18 2352.76,1423.18 \n",
       "  \"/>\n",
       "<polyline clip-path=\"url(#clip180)\" style=\"stroke:#000000; stroke-linecap:butt; stroke-linejoin:round; stroke-width:4; stroke-opacity:1; fill:none\" points=\"\n",
       "  630.926,1423.18 630.926,1404.28 \n",
       "  \"/>\n",
       "<polyline clip-path=\"url(#clip180)\" style=\"stroke:#000000; stroke-linecap:butt; stroke-linejoin:round; stroke-width:4; stroke-opacity:1; fill:none\" points=\"\n",
       "  1300.11,1423.18 1300.11,1404.28 \n",
       "  \"/>\n",
       "<polyline clip-path=\"url(#clip180)\" style=\"stroke:#000000; stroke-linecap:butt; stroke-linejoin:round; stroke-width:4; stroke-opacity:1; fill:none\" points=\"\n",
       "  1969.29,1423.18 1969.29,1404.28 \n",
       "  \"/>\n",
       "<path clip-path=\"url(#clip180)\" d=\"M480.29 1464.63 Q481.888 1461.76 484.11 1460.39 Q486.332 1459.03 489.341 1459.03 Q493.392 1459.03 495.591 1461.88 Q497.79 1464.7 497.79 1469.93 L497.79 1485.58 L493.508 1485.58 L493.508 1470.07 Q493.508 1466.34 492.189 1464.54 Q490.869 1462.73 488.161 1462.73 Q484.851 1462.73 482.929 1464.93 Q481.008 1467.13 481.008 1470.93 L481.008 1485.58 L476.726 1485.58 L476.726 1470.07 Q476.726 1466.32 475.406 1464.54 Q474.087 1462.73 471.332 1462.73 Q468.068 1462.73 466.147 1464.95 Q464.226 1467.15 464.226 1470.93 L464.226 1485.58 L459.943 1485.58 L459.943 1459.65 L464.226 1459.65 L464.226 1463.68 Q465.684 1461.3 467.721 1460.16 Q469.758 1459.03 472.559 1459.03 Q475.383 1459.03 477.351 1460.46 Q479.341 1461.9 480.29 1464.63 Z\" fill=\"#000000\" fill-rule=\"evenodd\" fill-opacity=\"1\" /><path clip-path=\"url(#clip180)\" d=\"M517.073 1487.99 Q515.267 1492.62 513.554 1494.03 Q511.841 1495.44 508.971 1495.44 L505.568 1495.44 L505.568 1491.88 L508.068 1491.88 Q509.827 1491.88 510.8 1491.04 Q511.772 1490.21 512.952 1487.11 L513.716 1485.16 L503.23 1459.65 L507.744 1459.65 L515.846 1479.93 L523.948 1459.65 L528.462 1459.65 L517.073 1487.99 Z\" fill=\"#000000\" fill-rule=\"evenodd\" fill-opacity=\"1\" /><path clip-path=\"url(#clip180)\" d=\"M554.04 1493.45 L554.04 1496.76 L529.411 1496.76 L529.411 1493.45 L554.04 1493.45 Z\" fill=\"#000000\" fill-rule=\"evenodd\" fill-opacity=\"1\" /><path clip-path=\"url(#clip180)\" d=\"M574.572 1460.42 L574.572 1464.45 Q572.767 1463.52 570.822 1463.06 Q568.878 1462.59 566.795 1462.59 Q563.623 1462.59 562.026 1463.57 Q560.452 1464.54 560.452 1466.48 Q560.452 1467.96 561.586 1468.82 Q562.721 1469.65 566.146 1470.42 L567.605 1470.74 Q572.142 1471.71 574.04 1473.5 Q575.961 1475.26 575.961 1478.43 Q575.961 1482.04 573.091 1484.14 Q570.244 1486.25 565.244 1486.25 Q563.16 1486.25 560.892 1485.83 Q558.647 1485.44 556.147 1484.63 L556.147 1480.23 Q558.508 1481.46 560.799 1482.08 Q563.091 1482.69 565.336 1482.69 Q568.346 1482.69 569.966 1481.67 Q571.586 1480.63 571.586 1478.75 Q571.586 1477.02 570.406 1476.09 Q569.248 1475.16 565.29 1474.31 L563.809 1473.96 Q559.85 1473.13 558.091 1471.41 Q556.332 1469.68 556.332 1466.67 Q556.332 1463.01 558.924 1461.02 Q561.517 1459.03 566.285 1459.03 Q568.646 1459.03 570.73 1459.38 Q572.813 1459.72 574.572 1460.42 Z\" fill=\"#000000\" fill-rule=\"evenodd\" fill-opacity=\"1\" /><path clip-path=\"url(#clip180)\" d=\"M582.304 1475.35 L582.304 1459.65 L586.563 1459.65 L586.563 1475.19 Q586.563 1478.87 587.998 1480.72 Q589.433 1482.55 592.304 1482.55 Q595.753 1482.55 597.744 1480.35 Q599.757 1478.15 599.757 1474.35 L599.757 1459.65 L604.017 1459.65 L604.017 1485.58 L599.757 1485.58 L599.757 1481.6 Q598.207 1483.96 596.146 1485.12 Q594.109 1486.25 591.401 1486.25 Q586.933 1486.25 584.619 1483.47 Q582.304 1480.7 582.304 1475.35 M593.021 1459.03 L593.021 1459.03 Z\" fill=\"#000000\" fill-rule=\"evenodd\" fill-opacity=\"1\" /><path clip-path=\"url(#clip180)\" d=\"M632.975 1464.63 Q634.572 1461.76 636.794 1460.39 Q639.016 1459.03 642.026 1459.03 Q646.077 1459.03 648.276 1461.88 Q650.475 1464.7 650.475 1469.93 L650.475 1485.58 L646.192 1485.58 L646.192 1470.07 Q646.192 1466.34 644.873 1464.54 Q643.553 1462.73 640.845 1462.73 Q637.535 1462.73 635.614 1464.93 Q633.692 1467.13 633.692 1470.93 L633.692 1485.58 L629.41 1485.58 L629.41 1470.07 Q629.41 1466.32 628.091 1464.54 Q626.771 1462.73 624.017 1462.73 Q620.753 1462.73 618.831 1464.95 Q616.91 1467.15 616.91 1470.93 L616.91 1485.58 L612.628 1485.58 L612.628 1459.65 L616.91 1459.65 L616.91 1463.68 Q618.368 1461.3 620.405 1460.16 Q622.442 1459.03 625.243 1459.03 Q628.067 1459.03 630.035 1460.46 Q632.026 1461.9 632.975 1464.63 Z\" fill=\"#000000\" fill-rule=\"evenodd\" fill-opacity=\"1\" /><path clip-path=\"url(#clip180)\" d=\"M684.271 1449.61 Q681.169 1454.93 679.664 1460.14 Q678.16 1465.35 678.16 1470.7 Q678.16 1476.04 679.664 1481.3 Q681.192 1486.53 684.271 1491.83 L680.567 1491.83 Q677.095 1486.39 675.359 1481.14 Q673.646 1475.88 673.646 1470.7 Q673.646 1465.53 675.359 1460.3 Q677.072 1455.07 680.567 1449.61 L684.271 1449.61 Z\" fill=\"#000000\" fill-rule=\"evenodd\" fill-opacity=\"1\" /><path clip-path=\"url(#clip180)\" d=\"M692.72 1451.02 L697.396 1451.02 L697.396 1483.17 Q697.396 1489.42 695.012 1492.25 Q692.65 1495.07 687.396 1495.07 L685.613 1495.07 L685.613 1491.14 L687.072 1491.14 Q690.174 1491.14 691.447 1489.4 Q692.72 1487.66 692.72 1483.17 L692.72 1451.02 Z\" fill=\"#000000\" fill-rule=\"evenodd\" fill-opacity=\"1\" /><path clip-path=\"url(#clip180)\" d=\"M706.076 1475.35 L706.076 1459.65 L710.336 1459.65 L710.336 1475.19 Q710.336 1478.87 711.771 1480.72 Q713.206 1482.55 716.076 1482.55 Q719.525 1482.55 721.516 1480.35 Q723.53 1478.15 723.53 1474.35 L723.53 1459.65 L727.789 1459.65 L727.789 1485.58 L723.53 1485.58 L723.53 1481.6 Q721.979 1483.96 719.919 1485.12 Q717.882 1486.25 715.173 1486.25 Q710.706 1486.25 708.391 1483.47 Q706.076 1480.7 706.076 1475.35 M716.794 1459.03 L716.794 1459.03 Z\" fill=\"#000000\" fill-rule=\"evenodd\" fill-opacity=\"1\" /><path clip-path=\"url(#clip180)\" d=\"M736.562 1449.56 L740.821 1449.56 L740.821 1485.58 L736.562 1485.58 L736.562 1449.56 Z\" fill=\"#000000\" fill-rule=\"evenodd\" fill-opacity=\"1\" /><path clip-path=\"url(#clip180)\" d=\"M749.733 1459.65 L753.993 1459.65 L753.993 1485.58 L749.733 1485.58 L749.733 1459.65 M749.733 1449.56 L753.993 1449.56 L753.993 1454.96 L749.733 1454.96 L749.733 1449.56 Z\" fill=\"#000000\" fill-rule=\"evenodd\" fill-opacity=\"1\" /><path clip-path=\"url(#clip180)\" d=\"M774.687 1472.55 Q769.525 1472.55 767.534 1473.73 Q765.544 1474.91 765.544 1477.76 Q765.544 1480.02 767.025 1481.37 Q768.53 1482.69 771.099 1482.69 Q774.641 1482.69 776.77 1480.19 Q778.923 1477.66 778.923 1473.5 L778.923 1472.55 L774.687 1472.55 M783.182 1470.79 L783.182 1485.58 L778.923 1485.58 L778.923 1481.64 Q777.465 1484.01 775.289 1485.14 Q773.113 1486.25 769.965 1486.25 Q765.983 1486.25 763.622 1484.03 Q761.284 1481.78 761.284 1478.03 Q761.284 1473.66 764.201 1471.44 Q767.141 1469.21 772.951 1469.21 L778.923 1469.21 L778.923 1468.8 Q778.923 1465.86 776.979 1464.26 Q775.057 1462.64 771.562 1462.64 Q769.34 1462.64 767.233 1463.17 Q765.127 1463.7 763.182 1464.77 L763.182 1460.83 Q765.52 1459.93 767.719 1459.49 Q769.919 1459.03 772.002 1459.03 Q777.627 1459.03 780.405 1461.95 Q783.182 1464.86 783.182 1470.79 Z\" fill=\"#000000\" fill-rule=\"evenodd\" fill-opacity=\"1\" /><path clip-path=\"url(#clip180)\" d=\"M791.284 1449.61 L794.988 1449.61 Q798.46 1455.07 800.173 1460.3 Q801.909 1465.53 801.909 1470.7 Q801.909 1475.88 800.173 1481.14 Q798.46 1486.39 794.988 1491.83 L791.284 1491.83 Q794.363 1486.53 795.867 1481.3 Q797.395 1476.04 797.395 1470.7 Q797.395 1465.35 795.867 1460.14 Q794.363 1454.93 791.284 1449.61 Z\" fill=\"#000000\" fill-rule=\"evenodd\" fill-opacity=\"1\" /><path clip-path=\"url(#clip180)\" d=\"M1206.03 1460.65 L1206.03 1464.63 Q1204.23 1463.64 1202.4 1463.15 Q1200.59 1462.64 1198.74 1462.64 Q1194.6 1462.64 1192.31 1465.28 Q1190.02 1467.89 1190.02 1472.64 Q1190.02 1477.39 1192.31 1480.02 Q1194.6 1482.64 1198.74 1482.64 Q1200.59 1482.64 1202.4 1482.15 Q1204.23 1481.64 1206.03 1480.65 L1206.03 1484.58 Q1204.25 1485.42 1202.33 1485.83 Q1200.43 1486.25 1198.28 1486.25 Q1192.42 1486.25 1188.97 1482.57 Q1185.52 1478.89 1185.52 1472.64 Q1185.52 1466.3 1189 1462.66 Q1192.49 1459.03 1198.56 1459.03 Q1200.52 1459.03 1202.4 1459.45 Q1204.27 1459.84 1206.03 1460.65 Z\" fill=\"#000000\" fill-rule=\"evenodd\" fill-opacity=\"1\" /><path clip-path=\"url(#clip180)\" d=\"M1233.14 1493.45 L1233.14 1496.76 L1208.51 1496.76 L1208.51 1493.45 L1233.14 1493.45 Z\" fill=\"#000000\" fill-rule=\"evenodd\" fill-opacity=\"1\" /><path clip-path=\"url(#clip180)\" d=\"M1253.67 1460.42 L1253.67 1464.45 Q1251.87 1463.52 1249.92 1463.06 Q1247.98 1462.59 1245.89 1462.59 Q1242.72 1462.59 1241.13 1463.57 Q1239.55 1464.54 1239.55 1466.48 Q1239.55 1467.96 1240.69 1468.82 Q1241.82 1469.65 1245.25 1470.42 L1246.7 1470.74 Q1251.24 1471.71 1253.14 1473.5 Q1255.06 1475.26 1255.06 1478.43 Q1255.06 1482.04 1252.19 1484.14 Q1249.34 1486.25 1244.34 1486.25 Q1242.26 1486.25 1239.99 1485.83 Q1237.75 1485.44 1235.25 1484.63 L1235.25 1480.23 Q1237.61 1481.46 1239.9 1482.08 Q1242.19 1482.69 1244.44 1482.69 Q1247.45 1482.69 1249.07 1481.67 Q1250.69 1480.63 1250.69 1478.75 Q1250.69 1477.02 1249.51 1476.09 Q1248.35 1475.16 1244.39 1474.31 L1242.91 1473.96 Q1238.95 1473.13 1237.19 1471.41 Q1235.43 1469.68 1235.43 1466.67 Q1235.43 1463.01 1238.02 1461.02 Q1240.62 1459.03 1245.39 1459.03 Q1247.75 1459.03 1249.83 1459.38 Q1251.91 1459.72 1253.67 1460.42 Z\" fill=\"#000000\" fill-rule=\"evenodd\" fill-opacity=\"1\" /><path clip-path=\"url(#clip180)\" d=\"M1261.4 1475.35 L1261.4 1459.65 L1265.66 1459.65 L1265.66 1475.19 Q1265.66 1478.87 1267.1 1480.72 Q1268.53 1482.55 1271.4 1482.55 Q1274.85 1482.55 1276.84 1480.35 Q1278.86 1478.15 1278.86 1474.35 L1278.86 1459.65 L1283.12 1459.65 L1283.12 1485.58 L1278.86 1485.58 L1278.86 1481.6 Q1277.31 1483.96 1275.25 1485.12 Q1273.21 1486.25 1270.5 1486.25 Q1266.03 1486.25 1263.72 1483.47 Q1261.4 1480.7 1261.4 1475.35 M1272.12 1459.03 L1272.12 1459.03 Z\" fill=\"#000000\" fill-rule=\"evenodd\" fill-opacity=\"1\" /><path clip-path=\"url(#clip180)\" d=\"M1312.07 1464.63 Q1313.67 1461.76 1315.89 1460.39 Q1318.12 1459.03 1321.13 1459.03 Q1325.18 1459.03 1327.38 1461.88 Q1329.57 1464.7 1329.57 1469.93 L1329.57 1485.58 L1325.29 1485.58 L1325.29 1470.07 Q1325.29 1466.34 1323.97 1464.54 Q1322.65 1462.73 1319.95 1462.73 Q1316.63 1462.73 1314.71 1464.93 Q1312.79 1467.13 1312.79 1470.93 L1312.79 1485.58 L1308.51 1485.58 L1308.51 1470.07 Q1308.51 1466.32 1307.19 1464.54 Q1305.87 1462.73 1303.12 1462.73 Q1299.85 1462.73 1297.93 1464.95 Q1296.01 1467.15 1296.01 1470.93 L1296.01 1485.58 L1291.73 1485.58 L1291.73 1459.65 L1296.01 1459.65 L1296.01 1463.68 Q1297.47 1461.3 1299.51 1460.16 Q1301.54 1459.03 1304.34 1459.03 Q1307.17 1459.03 1309.14 1460.46 Q1311.13 1461.9 1312.07 1464.63 Z\" fill=\"#000000\" fill-rule=\"evenodd\" fill-opacity=\"1\" /><path clip-path=\"url(#clip180)\" d=\"M1363.37 1449.61 Q1360.27 1454.93 1358.76 1460.14 Q1357.26 1465.35 1357.26 1470.7 Q1357.26 1476.04 1358.76 1481.3 Q1360.29 1486.53 1363.37 1491.83 L1359.67 1491.83 Q1356.19 1486.39 1354.46 1481.14 Q1352.75 1475.88 1352.75 1470.7 Q1352.75 1465.53 1354.46 1460.3 Q1356.17 1455.07 1359.67 1449.61 L1363.37 1449.61 Z\" fill=\"#000000\" fill-rule=\"evenodd\" fill-opacity=\"1\" /><path clip-path=\"url(#clip180)\" d=\"M1397.7 1453.68 L1397.7 1458.61 Q1395.34 1456.41 1392.65 1455.33 Q1389.99 1454.24 1386.98 1454.24 Q1381.06 1454.24 1377.91 1457.87 Q1374.76 1461.48 1374.76 1468.33 Q1374.76 1475.16 1377.91 1478.8 Q1381.06 1482.41 1386.98 1482.41 Q1389.99 1482.41 1392.65 1481.32 Q1395.34 1480.23 1397.7 1478.03 L1397.7 1482.92 Q1395.25 1484.58 1392.49 1485.42 Q1389.76 1486.25 1386.7 1486.25 Q1378.86 1486.25 1374.34 1481.46 Q1369.83 1476.64 1369.83 1468.33 Q1369.83 1460 1374.34 1455.21 Q1378.86 1450.39 1386.7 1450.39 Q1389.81 1450.39 1392.54 1451.23 Q1395.29 1452.04 1397.7 1453.68 Z\" fill=\"#000000\" fill-rule=\"evenodd\" fill-opacity=\"1\" /><path clip-path=\"url(#clip180)\" d=\"M1404.07 1449.61 L1407.77 1449.61 Q1411.24 1455.07 1412.95 1460.3 Q1414.69 1465.53 1414.69 1470.7 Q1414.69 1475.88 1412.95 1481.14 Q1411.24 1486.39 1407.77 1491.83 L1404.07 1491.83 Q1407.14 1486.53 1408.65 1481.3 Q1410.18 1476.04 1410.18 1470.7 Q1410.18 1465.35 1408.65 1460.14 Q1407.14 1454.93 1404.07 1449.61 Z\" fill=\"#000000\" fill-rule=\"evenodd\" fill-opacity=\"1\" /><path clip-path=\"url(#clip180)\" d=\"M1864.83 1460.42 L1864.83 1464.45 Q1863.03 1463.52 1861.08 1463.06 Q1859.14 1462.59 1857.06 1462.59 Q1853.88 1462.59 1852.29 1463.57 Q1850.71 1464.54 1850.71 1466.48 Q1850.71 1467.96 1851.85 1468.82 Q1852.98 1469.65 1856.41 1470.42 L1857.87 1470.74 Q1862.4 1471.71 1864.3 1473.5 Q1866.22 1475.26 1866.22 1478.43 Q1866.22 1482.04 1863.35 1484.14 Q1860.5 1486.25 1855.5 1486.25 Q1853.42 1486.25 1851.15 1485.83 Q1848.91 1485.44 1846.41 1484.63 L1846.41 1480.23 Q1848.77 1481.46 1851.06 1482.08 Q1853.35 1482.69 1855.6 1482.69 Q1858.61 1482.69 1860.23 1481.67 Q1861.85 1480.63 1861.85 1478.75 Q1861.85 1477.02 1860.67 1476.09 Q1859.51 1475.16 1855.55 1474.31 L1854.07 1473.96 Q1850.11 1473.13 1848.35 1471.41 Q1846.59 1469.68 1846.59 1466.67 Q1846.59 1463.01 1849.18 1461.02 Q1851.78 1459.03 1856.55 1459.03 Q1858.91 1459.03 1860.99 1459.38 Q1863.07 1459.72 1864.83 1460.42 Z\" fill=\"#000000\" fill-rule=\"evenodd\" fill-opacity=\"1\" /><path clip-path=\"url(#clip180)\" d=\"M1872.56 1475.35 L1872.56 1459.65 L1876.82 1459.65 L1876.82 1475.19 Q1876.82 1478.87 1878.26 1480.72 Q1879.69 1482.55 1882.56 1482.55 Q1886.01 1482.55 1888 1480.35 Q1890.02 1478.15 1890.02 1474.35 L1890.02 1459.65 L1894.28 1459.65 L1894.28 1485.58 L1890.02 1485.58 L1890.02 1481.6 Q1888.47 1483.96 1886.41 1485.12 Q1884.37 1486.25 1881.66 1486.25 Q1877.19 1486.25 1874.88 1483.47 Q1872.56 1480.7 1872.56 1475.35 M1883.28 1459.03 L1883.28 1459.03 Z\" fill=\"#000000\" fill-rule=\"evenodd\" fill-opacity=\"1\" /><path clip-path=\"url(#clip180)\" d=\"M1923.24 1464.63 Q1924.83 1461.76 1927.05 1460.39 Q1929.28 1459.03 1932.29 1459.03 Q1936.34 1459.03 1938.54 1461.88 Q1940.74 1464.7 1940.74 1469.93 L1940.74 1485.58 L1936.45 1485.58 L1936.45 1470.07 Q1936.45 1466.34 1935.13 1464.54 Q1933.81 1462.73 1931.11 1462.73 Q1927.8 1462.73 1925.87 1464.93 Q1923.95 1467.13 1923.95 1470.93 L1923.95 1485.58 L1919.67 1485.58 L1919.67 1470.07 Q1919.67 1466.32 1918.35 1464.54 Q1917.03 1462.73 1914.28 1462.73 Q1911.01 1462.73 1909.09 1464.95 Q1907.17 1467.15 1907.17 1470.93 L1907.17 1485.58 L1902.89 1485.58 L1902.89 1459.65 L1907.17 1459.65 L1907.17 1463.68 Q1908.63 1461.3 1910.67 1460.16 Q1912.7 1459.03 1915.5 1459.03 Q1918.33 1459.03 1920.3 1460.46 Q1922.29 1461.9 1923.24 1464.63 Z\" fill=\"#000000\" fill-rule=\"evenodd\" fill-opacity=\"1\" /><path clip-path=\"url(#clip180)\" d=\"M1974.53 1449.61 Q1971.43 1454.93 1969.92 1460.14 Q1968.42 1465.35 1968.42 1470.7 Q1968.42 1476.04 1969.92 1481.3 Q1971.45 1486.53 1974.53 1491.83 L1970.83 1491.83 Q1967.36 1486.39 1965.62 1481.14 Q1963.91 1475.88 1963.91 1470.7 Q1963.91 1465.53 1965.62 1460.3 Q1967.33 1455.07 1970.83 1449.61 L1974.53 1449.61 Z\" fill=\"#000000\" fill-rule=\"evenodd\" fill-opacity=\"1\" /><path clip-path=\"url(#clip180)\" d=\"M1982.98 1451.02 L1987.66 1451.02 L1987.66 1483.17 Q1987.66 1489.42 1985.27 1492.25 Q1982.91 1495.07 1977.66 1495.07 L1975.87 1495.07 L1975.87 1491.14 L1977.33 1491.14 Q1980.43 1491.14 1981.71 1489.4 Q1982.98 1487.66 1982.98 1483.17 L1982.98 1451.02 Z\" fill=\"#000000\" fill-rule=\"evenodd\" fill-opacity=\"1\" /><path clip-path=\"url(#clip180)\" d=\"M1996.34 1475.35 L1996.34 1459.65 L2000.6 1459.65 L2000.6 1475.19 Q2000.6 1478.87 2002.03 1480.72 Q2003.47 1482.55 2006.34 1482.55 Q2009.79 1482.55 2011.78 1480.35 Q2013.79 1478.15 2013.79 1474.35 L2013.79 1459.65 L2018.05 1459.65 L2018.05 1485.58 L2013.79 1485.58 L2013.79 1481.6 Q2012.24 1483.96 2010.18 1485.12 Q2008.14 1486.25 2005.43 1486.25 Q2000.97 1486.25 1998.65 1483.47 Q1996.34 1480.7 1996.34 1475.35 M2007.05 1459.03 L2007.05 1459.03 Z\" fill=\"#000000\" fill-rule=\"evenodd\" fill-opacity=\"1\" /><path clip-path=\"url(#clip180)\" d=\"M2026.82 1449.56 L2031.08 1449.56 L2031.08 1485.58 L2026.82 1485.58 L2026.82 1449.56 Z\" fill=\"#000000\" fill-rule=\"evenodd\" fill-opacity=\"1\" /><path clip-path=\"url(#clip180)\" d=\"M2039.99 1459.65 L2044.25 1459.65 L2044.25 1485.58 L2039.99 1485.58 L2039.99 1459.65 M2039.99 1449.56 L2044.25 1449.56 L2044.25 1454.96 L2039.99 1454.96 L2039.99 1449.56 Z\" fill=\"#000000\" fill-rule=\"evenodd\" fill-opacity=\"1\" /><path clip-path=\"url(#clip180)\" d=\"M2064.95 1472.55 Q2059.79 1472.55 2057.79 1473.73 Q2055.8 1474.91 2055.8 1477.76 Q2055.8 1480.02 2057.29 1481.37 Q2058.79 1482.69 2061.36 1482.69 Q2064.9 1482.69 2067.03 1480.19 Q2069.18 1477.66 2069.18 1473.5 L2069.18 1472.55 L2064.95 1472.55 M2073.44 1470.79 L2073.44 1485.58 L2069.18 1485.58 L2069.18 1481.64 Q2067.73 1484.01 2065.55 1485.14 Q2063.37 1486.25 2060.23 1486.25 Q2056.24 1486.25 2053.88 1484.03 Q2051.54 1481.78 2051.54 1478.03 Q2051.54 1473.66 2054.46 1471.44 Q2057.4 1469.21 2063.21 1469.21 L2069.18 1469.21 L2069.18 1468.8 Q2069.18 1465.86 2067.24 1464.26 Q2065.32 1462.64 2061.82 1462.64 Q2059.6 1462.64 2057.49 1463.17 Q2055.39 1463.7 2053.44 1464.77 L2053.44 1460.83 Q2055.78 1459.93 2057.98 1459.49 Q2060.18 1459.03 2062.26 1459.03 Q2067.89 1459.03 2070.67 1461.95 Q2073.44 1464.86 2073.44 1470.79 Z\" fill=\"#000000\" fill-rule=\"evenodd\" fill-opacity=\"1\" /><path clip-path=\"url(#clip180)\" d=\"M2081.54 1449.61 L2085.25 1449.61 Q2088.72 1455.07 2090.43 1460.3 Q2092.17 1465.53 2092.17 1470.7 Q2092.17 1475.88 2090.43 1481.14 Q2088.72 1486.39 2085.25 1491.83 L2081.54 1491.83 Q2084.62 1486.53 2086.13 1481.3 Q2087.66 1476.04 2087.66 1470.7 Q2087.66 1465.35 2086.13 1460.14 Q2084.62 1454.93 2081.54 1449.61 Z\" fill=\"#000000\" fill-rule=\"evenodd\" fill-opacity=\"1\" /><path clip-path=\"url(#clip180)\" d=\"M1193.18 1518.52 L1193.18 1523.39 L1187.58 1523.39 Q1184.43 1523.39 1183.19 1524.66 Q1181.98 1525.93 1181.98 1529.24 L1181.98 1532.4 L1191.62 1532.4 L1191.62 1536.95 L1181.98 1536.95 L1181.98 1568.04 L1176.09 1568.04 L1176.09 1536.95 L1170.49 1536.95 L1170.49 1532.4 L1176.09 1532.4 L1176.09 1529.91 Q1176.09 1523.96 1178.86 1521.26 Q1181.63 1518.52 1187.64 1518.52 L1193.18 1518.52 Z\" fill=\"#000000\" fill-rule=\"evenodd\" fill-opacity=\"1\" /><path clip-path=\"url(#clip180)\" d=\"M1197.48 1553.98 L1197.48 1532.4 L1203.33 1532.4 L1203.33 1553.75 Q1203.33 1558.81 1205.31 1561.36 Q1207.28 1563.87 1211.23 1563.87 Q1215.97 1563.87 1218.71 1560.85 Q1221.47 1557.83 1221.47 1552.61 L1221.47 1532.4 L1227.33 1532.4 L1227.33 1568.04 L1221.47 1568.04 L1221.47 1562.57 Q1219.34 1565.82 1216.51 1567.41 Q1213.71 1568.97 1209.98 1568.97 Q1203.84 1568.97 1200.66 1565.15 Q1197.48 1561.33 1197.48 1553.98 M1212.21 1531.54 L1212.21 1531.54 Z\" fill=\"#000000\" fill-rule=\"evenodd\" fill-opacity=\"1\" /><path clip-path=\"url(#clip180)\" d=\"M1269.03 1546.53 L1269.03 1568.04 L1263.17 1568.04 L1263.17 1546.72 Q1263.17 1541.66 1261.2 1539.14 Q1259.22 1536.63 1255.28 1536.63 Q1250.53 1536.63 1247.8 1539.65 Q1245.06 1542.68 1245.06 1547.9 L1245.06 1568.04 L1239.17 1568.04 L1239.17 1532.4 L1245.06 1532.4 L1245.06 1537.93 Q1247.16 1534.72 1249.99 1533.13 Q1252.86 1531.54 1256.58 1531.54 Q1262.72 1531.54 1265.88 1535.36 Q1269.03 1539.14 1269.03 1546.53 Z\" fill=\"#000000\" fill-rule=\"evenodd\" fill-opacity=\"1\" /><path clip-path=\"url(#clip180)\" d=\"M1306.36 1533.76 L1306.36 1539.24 Q1303.88 1537.87 1301.36 1537.2 Q1298.88 1536.5 1296.34 1536.5 Q1290.64 1536.5 1287.49 1540.13 Q1284.34 1543.73 1284.34 1550.25 Q1284.34 1556.78 1287.49 1560.4 Q1290.64 1564 1296.34 1564 Q1298.88 1564 1301.36 1563.33 Q1303.88 1562.63 1306.36 1561.26 L1306.36 1566.68 Q1303.91 1567.82 1301.27 1568.39 Q1298.66 1568.97 1295.7 1568.97 Q1287.65 1568.97 1282.9 1563.91 Q1278.16 1558.85 1278.16 1550.25 Q1278.16 1541.53 1282.94 1536.53 Q1287.74 1531.54 1296.08 1531.54 Q1298.79 1531.54 1301.36 1532.11 Q1303.94 1532.65 1306.36 1533.76 Z\" fill=\"#000000\" fill-rule=\"evenodd\" fill-opacity=\"1\" /><path clip-path=\"url(#clip180)\" d=\"M1322.34 1522.27 L1322.34 1532.4 L1334.4 1532.4 L1334.4 1536.95 L1322.34 1536.95 L1322.34 1556.3 Q1322.34 1560.66 1323.52 1561.9 Q1324.73 1563.14 1328.39 1563.14 L1334.4 1563.14 L1334.4 1568.04 L1328.39 1568.04 Q1321.61 1568.04 1319.03 1565.53 Q1316.45 1562.98 1316.45 1556.3 L1316.45 1536.95 L1312.15 1536.95 L1312.15 1532.4 L1316.45 1532.4 L1316.45 1522.27 L1322.34 1522.27 Z\" fill=\"#000000\" fill-rule=\"evenodd\" fill-opacity=\"1\" /><path clip-path=\"url(#clip180)\" d=\"M1342.11 1532.4 L1347.96 1532.4 L1347.96 1568.04 L1342.11 1568.04 L1342.11 1532.4 M1342.11 1518.52 L1347.96 1518.52 L1347.96 1525.93 L1342.11 1525.93 L1342.11 1518.52 Z\" fill=\"#000000\" fill-rule=\"evenodd\" fill-opacity=\"1\" /><path clip-path=\"url(#clip180)\" d=\"M1374.03 1536.5 Q1369.32 1536.5 1366.58 1540.19 Q1363.84 1543.85 1363.84 1550.25 Q1363.84 1556.65 1366.55 1560.34 Q1369.29 1564 1374.03 1564 Q1378.71 1564 1381.45 1560.31 Q1384.18 1556.62 1384.18 1550.25 Q1384.18 1543.92 1381.45 1540.23 Q1378.71 1536.5 1374.03 1536.5 M1374.03 1531.54 Q1381.67 1531.54 1386.03 1536.5 Q1390.39 1541.47 1390.39 1550.25 Q1390.39 1559 1386.03 1564 Q1381.67 1568.97 1374.03 1568.97 Q1366.36 1568.97 1362 1564 Q1357.67 1559 1357.67 1550.25 Q1357.67 1541.47 1362 1536.5 Q1366.36 1531.54 1374.03 1531.54 Z\" fill=\"#000000\" fill-rule=\"evenodd\" fill-opacity=\"1\" /><path clip-path=\"url(#clip180)\" d=\"M1429.73 1546.53 L1429.73 1568.04 L1423.87 1568.04 L1423.87 1546.72 Q1423.87 1541.66 1421.9 1539.14 Q1419.93 1536.63 1415.98 1536.63 Q1411.24 1536.63 1408.5 1539.65 Q1405.76 1542.68 1405.76 1547.9 L1405.76 1568.04 L1399.87 1568.04 L1399.87 1532.4 L1405.76 1532.4 L1405.76 1537.93 Q1407.86 1534.72 1410.7 1533.13 Q1413.56 1531.54 1417.28 1531.54 Q1423.43 1531.54 1426.58 1535.36 Q1429.73 1539.14 1429.73 1546.53 Z\" fill=\"#000000\" fill-rule=\"evenodd\" fill-opacity=\"1\" /><polyline clip-path=\"url(#clip182)\" style=\"stroke:#000000; stroke-linecap:butt; stroke-linejoin:round; stroke-width:2; stroke-opacity:0.1; fill:none\" points=\"\n",
       "  247.459,1384.24 2352.76,1384.24 \n",
       "  \"/>\n",
       "<polyline clip-path=\"url(#clip182)\" style=\"stroke:#000000; stroke-linecap:butt; stroke-linejoin:round; stroke-width:2; stroke-opacity:0.1; fill:none\" points=\"\n",
       "  247.459,1102.05 2352.76,1102.05 \n",
       "  \"/>\n",
       "<polyline clip-path=\"url(#clip182)\" style=\"stroke:#000000; stroke-linecap:butt; stroke-linejoin:round; stroke-width:2; stroke-opacity:0.1; fill:none\" points=\"\n",
       "  247.459,819.868 2352.76,819.868 \n",
       "  \"/>\n",
       "<polyline clip-path=\"url(#clip182)\" style=\"stroke:#000000; stroke-linecap:butt; stroke-linejoin:round; stroke-width:2; stroke-opacity:0.1; fill:none\" points=\"\n",
       "  247.459,537.682 2352.76,537.682 \n",
       "  \"/>\n",
       "<polyline clip-path=\"url(#clip182)\" style=\"stroke:#000000; stroke-linecap:butt; stroke-linejoin:round; stroke-width:2; stroke-opacity:0.1; fill:none\" points=\"\n",
       "  247.459,255.497 2352.76,255.497 \n",
       "  \"/>\n",
       "<polyline clip-path=\"url(#clip180)\" style=\"stroke:#000000; stroke-linecap:butt; stroke-linejoin:round; stroke-width:4; stroke-opacity:1; fill:none\" points=\"\n",
       "  247.459,1423.18 247.459,47.2441 \n",
       "  \"/>\n",
       "<polyline clip-path=\"url(#clip180)\" style=\"stroke:#000000; stroke-linecap:butt; stroke-linejoin:round; stroke-width:4; stroke-opacity:1; fill:none\" points=\"\n",
       "  247.459,1384.24 266.356,1384.24 \n",
       "  \"/>\n",
       "<polyline clip-path=\"url(#clip180)\" style=\"stroke:#000000; stroke-linecap:butt; stroke-linejoin:round; stroke-width:4; stroke-opacity:1; fill:none\" points=\"\n",
       "  247.459,1102.05 266.356,1102.05 \n",
       "  \"/>\n",
       "<polyline clip-path=\"url(#clip180)\" style=\"stroke:#000000; stroke-linecap:butt; stroke-linejoin:round; stroke-width:4; stroke-opacity:1; fill:none\" points=\"\n",
       "  247.459,819.868 266.356,819.868 \n",
       "  \"/>\n",
       "<polyline clip-path=\"url(#clip180)\" style=\"stroke:#000000; stroke-linecap:butt; stroke-linejoin:round; stroke-width:4; stroke-opacity:1; fill:none\" points=\"\n",
       "  247.459,537.682 266.356,537.682 \n",
       "  \"/>\n",
       "<polyline clip-path=\"url(#clip180)\" style=\"stroke:#000000; stroke-linecap:butt; stroke-linejoin:round; stroke-width:4; stroke-opacity:1; fill:none\" points=\"\n",
       "  247.459,255.497 266.356,255.497 \n",
       "  \"/>\n",
       "<path clip-path=\"url(#clip180)\" d=\"M154.283 1370.04 Q150.672 1370.04 148.843 1373.6 Q147.038 1377.14 147.038 1384.27 Q147.038 1391.38 148.843 1394.94 Q150.672 1398.49 154.283 1398.49 Q157.917 1398.49 159.723 1394.94 Q161.552 1391.38 161.552 1384.27 Q161.552 1377.14 159.723 1373.6 Q157.917 1370.04 154.283 1370.04 M154.283 1366.33 Q160.093 1366.33 163.149 1370.94 Q166.227 1375.52 166.227 1384.27 Q166.227 1393 163.149 1397.61 Q160.093 1402.19 154.283 1402.19 Q148.473 1402.19 145.394 1397.61 Q142.339 1393 142.339 1384.27 Q142.339 1375.52 145.394 1370.94 Q148.473 1366.33 154.283 1366.33 Z\" fill=\"#000000\" fill-rule=\"evenodd\" fill-opacity=\"1\" /><path clip-path=\"url(#clip180)\" d=\"M174.445 1395.64 L179.329 1395.64 L179.329 1401.52 L174.445 1401.52 L174.445 1395.64 Z\" fill=\"#000000\" fill-rule=\"evenodd\" fill-opacity=\"1\" /><path clip-path=\"url(#clip180)\" d=\"M199.514 1370.04 Q195.903 1370.04 194.075 1373.6 Q192.269 1377.14 192.269 1384.27 Q192.269 1391.38 194.075 1394.94 Q195.903 1398.49 199.514 1398.49 Q203.149 1398.49 204.954 1394.94 Q206.783 1391.38 206.783 1384.27 Q206.783 1377.14 204.954 1373.6 Q203.149 1370.04 199.514 1370.04 M199.514 1366.33 Q205.324 1366.33 208.38 1370.94 Q211.459 1375.52 211.459 1384.27 Q211.459 1393 208.38 1397.61 Q205.324 1402.19 199.514 1402.19 Q193.704 1402.19 190.625 1397.61 Q187.57 1393 187.57 1384.27 Q187.57 1375.52 190.625 1370.94 Q193.704 1366.33 199.514 1366.33 Z\" fill=\"#000000\" fill-rule=\"evenodd\" fill-opacity=\"1\" /><path clip-path=\"url(#clip180)\" d=\"M149.306 1115.4 L165.626 1115.4 L165.626 1119.33 L143.681 1119.33 L143.681 1115.4 Q146.343 1112.64 150.927 1108.01 Q155.533 1103.36 156.714 1102.02 Q158.959 1099.5 159.839 1097.76 Q160.741 1096 160.741 1094.31 Q160.741 1091.56 158.797 1089.82 Q156.876 1088.08 153.774 1088.08 Q151.575 1088.08 149.121 1088.85 Q146.691 1089.61 143.913 1091.16 L143.913 1086.44 Q146.737 1085.31 149.191 1084.73 Q151.644 1084.15 153.681 1084.15 Q159.052 1084.15 162.246 1086.83 Q165.44 1089.52 165.44 1094.01 Q165.44 1096.14 164.63 1098.06 Q163.843 1099.96 161.737 1102.55 Q161.158 1103.22 158.056 1106.44 Q154.954 1109.63 149.306 1115.4 Z\" fill=\"#000000\" fill-rule=\"evenodd\" fill-opacity=\"1\" /><path clip-path=\"url(#clip180)\" d=\"M175.44 1113.45 L180.325 1113.45 L180.325 1119.33 L175.44 1119.33 L175.44 1113.45 Z\" fill=\"#000000\" fill-rule=\"evenodd\" fill-opacity=\"1\" /><path clip-path=\"url(#clip180)\" d=\"M190.556 1084.77 L208.912 1084.77 L208.912 1088.71 L194.838 1088.71 L194.838 1097.18 Q195.857 1096.83 196.875 1096.67 Q197.894 1096.49 198.912 1096.49 Q204.699 1096.49 208.079 1099.66 Q211.459 1102.83 211.459 1108.25 Q211.459 1113.82 207.987 1116.93 Q204.514 1120 198.195 1120 Q196.019 1120 193.75 1119.63 Q191.505 1119.26 189.098 1118.52 L189.098 1113.82 Q191.181 1114.96 193.403 1115.51 Q195.625 1116.07 198.102 1116.07 Q202.107 1116.07 204.445 1113.96 Q206.783 1111.86 206.783 1108.25 Q206.783 1104.63 204.445 1102.53 Q202.107 1100.42 198.102 1100.42 Q196.227 1100.42 194.352 1100.84 Q192.5 1101.25 190.556 1102.13 L190.556 1084.77 Z\" fill=\"#000000\" fill-rule=\"evenodd\" fill-opacity=\"1\" /><path clip-path=\"url(#clip180)\" d=\"M144.329 802.588 L162.686 802.588 L162.686 806.523 L148.612 806.523 L148.612 814.995 Q149.63 814.648 150.649 814.486 Q151.667 814.3 152.686 814.3 Q158.473 814.3 161.852 817.472 Q165.232 820.643 165.232 826.06 Q165.232 831.638 161.76 834.74 Q158.288 837.819 151.968 837.819 Q149.792 837.819 147.524 837.448 Q145.279 837.078 142.871 836.337 L142.871 831.638 Q144.954 832.773 147.177 833.328 Q149.399 833.884 151.876 833.884 Q155.88 833.884 158.218 831.777 Q160.556 829.671 160.556 826.06 Q160.556 822.449 158.218 820.342 Q155.88 818.236 151.876 818.236 Q150.001 818.236 148.126 818.652 Q146.274 819.069 144.329 819.949 L144.329 802.588 Z\" fill=\"#000000\" fill-rule=\"evenodd\" fill-opacity=\"1\" /><path clip-path=\"url(#clip180)\" d=\"M174.445 831.268 L179.329 831.268 L179.329 837.148 L174.445 837.148 L174.445 831.268 Z\" fill=\"#000000\" fill-rule=\"evenodd\" fill-opacity=\"1\" /><path clip-path=\"url(#clip180)\" d=\"M199.514 805.666 Q195.903 805.666 194.075 809.231 Q192.269 812.773 192.269 819.902 Q192.269 827.009 194.075 830.574 Q195.903 834.115 199.514 834.115 Q203.149 834.115 204.954 830.574 Q206.783 827.009 206.783 819.902 Q206.783 812.773 204.954 809.231 Q203.149 805.666 199.514 805.666 M199.514 801.963 Q205.324 801.963 208.38 806.569 Q211.459 811.152 211.459 819.902 Q211.459 828.629 208.38 833.236 Q205.324 837.819 199.514 837.819 Q193.704 837.819 190.625 833.236 Q187.57 828.629 187.57 819.902 Q187.57 811.152 190.625 806.569 Q193.704 801.963 199.514 801.963 Z\" fill=\"#000000\" fill-rule=\"evenodd\" fill-opacity=\"1\" /><path clip-path=\"url(#clip180)\" d=\"M144.098 520.402 L166.32 520.402 L166.32 522.393 L153.774 554.962 L148.89 554.962 L160.695 524.337 L144.098 524.337 L144.098 520.402 Z\" fill=\"#000000\" fill-rule=\"evenodd\" fill-opacity=\"1\" /><path clip-path=\"url(#clip180)\" d=\"M175.44 549.083 L180.325 549.083 L180.325 554.962 L175.44 554.962 L175.44 549.083 Z\" fill=\"#000000\" fill-rule=\"evenodd\" fill-opacity=\"1\" /><path clip-path=\"url(#clip180)\" d=\"M190.556 520.402 L208.912 520.402 L208.912 524.337 L194.838 524.337 L194.838 532.81 Q195.857 532.462 196.875 532.3 Q197.894 532.115 198.912 532.115 Q204.699 532.115 208.079 535.286 Q211.459 538.458 211.459 543.874 Q211.459 549.453 207.987 552.555 Q204.514 555.634 198.195 555.634 Q196.019 555.634 193.75 555.263 Q191.505 554.893 189.098 554.152 L189.098 549.453 Q191.181 550.587 193.403 551.143 Q195.625 551.698 198.102 551.698 Q202.107 551.698 204.445 549.592 Q206.783 547.485 206.783 543.874 Q206.783 540.263 204.445 538.157 Q202.107 536.05 198.102 536.05 Q196.227 536.05 194.352 536.467 Q192.5 536.884 190.556 537.763 L190.556 520.402 Z\" fill=\"#000000\" fill-rule=\"evenodd\" fill-opacity=\"1\" /><path clip-path=\"url(#clip180)\" d=\"M114.931 268.842 L122.57 268.842 L122.57 242.476 L114.26 244.143 L114.26 239.884 L122.524 238.217 L127.2 238.217 L127.2 268.842 L134.839 268.842 L134.839 272.777 L114.931 272.777 L114.931 268.842 Z\" fill=\"#000000\" fill-rule=\"evenodd\" fill-opacity=\"1\" /><path clip-path=\"url(#clip180)\" d=\"M154.283 241.296 Q150.672 241.296 148.843 244.86 Q147.038 248.402 147.038 255.532 Q147.038 262.638 148.843 266.203 Q150.672 269.744 154.283 269.744 Q157.917 269.744 159.723 266.203 Q161.552 262.638 161.552 255.532 Q161.552 248.402 159.723 244.86 Q157.917 241.296 154.283 241.296 M154.283 237.592 Q160.093 237.592 163.149 242.198 Q166.227 246.782 166.227 255.532 Q166.227 264.258 163.149 268.865 Q160.093 273.448 154.283 273.448 Q148.473 273.448 145.394 268.865 Q142.339 264.258 142.339 255.532 Q142.339 246.782 145.394 242.198 Q148.473 237.592 154.283 237.592 Z\" fill=\"#000000\" fill-rule=\"evenodd\" fill-opacity=\"1\" /><path clip-path=\"url(#clip180)\" d=\"M174.445 266.897 L179.329 266.897 L179.329 272.777 L174.445 272.777 L174.445 266.897 Z\" fill=\"#000000\" fill-rule=\"evenodd\" fill-opacity=\"1\" /><path clip-path=\"url(#clip180)\" d=\"M199.514 241.296 Q195.903 241.296 194.075 244.86 Q192.269 248.402 192.269 255.532 Q192.269 262.638 194.075 266.203 Q195.903 269.744 199.514 269.744 Q203.149 269.744 204.954 266.203 Q206.783 262.638 206.783 255.532 Q206.783 248.402 204.954 244.86 Q203.149 241.296 199.514 241.296 M199.514 237.592 Q205.324 237.592 208.38 242.198 Q211.459 246.782 211.459 255.532 Q211.459 264.258 208.38 268.865 Q205.324 273.448 199.514 273.448 Q193.704 273.448 190.625 268.865 Q187.57 264.258 187.57 255.532 Q187.57 246.782 190.625 242.198 Q193.704 237.592 199.514 237.592 Z\" fill=\"#000000\" fill-rule=\"evenodd\" fill-opacity=\"1\" /><path clip-path=\"url(#clip180)\" d=\"M18.2347 1163.94 L28.3562 1163.94 L28.3562 1151.88 L32.9077 1151.88 L32.9077 1163.94 L52.2594 1163.94 Q56.6199 1163.94 57.8613 1162.76 Q59.1026 1161.56 59.1026 1157.89 L59.1026 1151.88 L64.0042 1151.88 L64.0042 1157.89 Q64.0042 1164.67 61.4897 1167.25 Q58.9434 1169.83 52.2594 1169.83 L32.9077 1169.83 L32.9077 1174.13 L28.3562 1174.13 L28.3562 1169.83 L18.2347 1169.83 L18.2347 1163.94 Z\" fill=\"#000000\" fill-rule=\"evenodd\" fill-opacity=\"1\" /><path clip-path=\"url(#clip180)\" d=\"M28.3562 1144.18 L28.3562 1138.32 L64.0042 1138.32 L64.0042 1144.18 L28.3562 1144.18 M14.479 1144.18 L14.479 1138.32 L21.895 1138.32 L21.895 1144.18 L14.479 1144.18 Z\" fill=\"#000000\" fill-rule=\"evenodd\" fill-opacity=\"1\" /><path clip-path=\"url(#clip180)\" d=\"M35.1993 1098.31 Q31.2526 1096.12 29.3747 1093.06 Q27.4968 1090 27.4968 1085.87 Q27.4968 1080.3 31.4117 1077.27 Q35.2948 1074.25 42.4881 1074.25 L64.0042 1074.25 L64.0042 1080.14 L42.679 1080.14 Q37.5546 1080.14 35.072 1081.95 Q32.5894 1083.77 32.5894 1087.49 Q32.5894 1092.04 35.6131 1094.68 Q38.6368 1097.33 43.8567 1097.33 L64.0042 1097.33 L64.0042 1103.21 L42.679 1103.21 Q37.5228 1103.21 35.072 1105.03 Q32.5894 1106.84 32.5894 1110.63 Q32.5894 1115.12 35.6449 1117.76 Q38.6686 1120.4 43.8567 1120.4 L64.0042 1120.4 L64.0042 1126.29 L28.3562 1126.29 L28.3562 1120.4 L33.8944 1120.4 Q30.616 1118.4 29.0564 1115.59 Q27.4968 1112.79 27.4968 1108.94 Q27.4968 1105.06 29.4702 1102.35 Q31.4436 1099.62 35.1993 1098.31 Z\" fill=\"#000000\" fill-rule=\"evenodd\" fill-opacity=\"1\" /><path clip-path=\"url(#clip180)\" d=\"M44.7161 1032.08 L47.5806 1032.08 L47.5806 1059 Q53.6281 1058.62 56.8109 1055.38 Q59.9619 1052.1 59.9619 1046.27 Q59.9619 1042.9 59.1344 1039.75 Q58.3069 1036.56 56.6518 1033.45 L62.1899 1033.45 Q63.5267 1036.6 64.227 1039.91 Q64.9272 1043.22 64.9272 1046.62 Q64.9272 1055.15 59.9619 1060.15 Q54.9967 1065.11 46.5303 1065.11 Q37.7774 1065.11 32.6531 1060.4 Q27.4968 1055.66 27.4968 1047.64 Q27.4968 1040.45 32.1438 1036.28 Q36.7589 1032.08 44.7161 1032.08 M42.9973 1037.93 Q38.1912 1038 35.3266 1040.64 Q32.4621 1043.25 32.4621 1047.58 Q32.4621 1052.48 35.2312 1055.44 Q38.0002 1058.37 43.0292 1058.81 L42.9973 1037.93 Z\" fill=\"#000000\" fill-rule=\"evenodd\" fill-opacity=\"1\" /><path clip-path=\"url(#clip180)\" d=\"M14.5426 987.676 Q21.8632 991.941 29.0246 994.01 Q36.186 996.079 43.5384 996.079 Q50.8908 996.079 58.1159 994.01 Q65.3091 991.909 72.5979 987.676 L72.5979 992.768 Q65.1182 997.543 57.8931 999.93 Q50.668 1002.29 43.5384 1002.29 Q36.4406 1002.29 29.2474 999.93 Q22.0542 997.575 14.5426 992.768 L14.5426 987.676 Z\" fill=\"#000000\" fill-rule=\"evenodd\" fill-opacity=\"1\" /><path clip-path=\"url(#clip180)\" d=\"M35.1993 948.559 Q31.2526 946.362 29.3747 943.307 Q27.4968 940.251 27.4968 936.114 Q27.4968 930.544 31.4117 927.52 Q35.2948 924.496 42.4881 924.496 L64.0042 924.496 L64.0042 930.385 L42.679 930.385 Q37.5546 930.385 35.072 932.199 Q32.5894 934.013 32.5894 937.737 Q32.5894 942.288 35.6131 944.93 Q38.6368 947.572 43.8567 947.572 L64.0042 947.572 L64.0042 953.46 L42.679 953.46 Q37.5228 953.46 35.072 955.274 Q32.5894 957.089 32.5894 960.876 Q32.5894 965.364 35.6449 968.006 Q38.6686 970.648 43.8567 970.648 L64.0042 970.648 L64.0042 976.536 L28.3562 976.536 L28.3562 970.648 L33.8944 970.648 Q30.616 968.642 29.0564 965.842 Q27.4968 963.041 27.4968 959.189 Q27.4968 955.306 29.4702 952.601 Q31.4436 949.864 35.1993 948.559 Z\" fill=\"#000000\" fill-rule=\"evenodd\" fill-opacity=\"1\" /><path clip-path=\"url(#clip180)\" d=\"M29.4065 890.09 L34.9447 890.09 Q33.6716 892.572 33.035 895.246 Q32.3984 897.919 32.3984 900.784 Q32.3984 905.145 33.7352 907.341 Q35.072 909.505 37.7456 909.505 Q39.7826 909.505 40.9603 907.945 Q42.1061 906.386 43.1565 901.675 L43.6021 899.67 Q44.9389 893.432 47.3897 890.822 Q49.8086 888.18 54.1691 888.18 Q59.1344 888.18 62.0308 892.127 Q64.9272 896.042 64.9272 902.917 Q64.9272 905.781 64.3543 908.9 Q63.8132 911.988 62.6992 915.425 L56.6518 915.425 Q58.3387 912.179 59.198 909.028 Q60.0256 905.877 60.0256 902.789 Q60.0256 898.651 58.6251 896.423 Q57.1929 894.195 54.6147 894.195 Q52.2276 894.195 50.9545 895.819 Q49.6813 897.41 48.5037 902.853 L48.0262 904.89 Q46.8804 910.333 44.5251 912.752 Q42.138 915.17 38.0002 915.17 Q32.9713 915.17 30.2341 911.606 Q27.4968 908.041 27.4968 901.484 Q27.4968 898.238 27.9743 895.373 Q28.4517 892.509 29.4065 890.09 Z\" fill=\"#000000\" fill-rule=\"evenodd\" fill-opacity=\"1\" /><path clip-path=\"url(#clip180)\" d=\"M55.9197 877.358 L55.9197 870.642 L61.3942 870.642 L71.5793 875.862 L71.5793 879.968 L61.3942 877.358 L55.9197 877.358 Z\" fill=\"#000000\" fill-rule=\"evenodd\" fill-opacity=\"1\" /><path clip-path=\"url(#clip180)\" d=\"M29.4065 814.688 L34.9447 814.688 Q33.6716 817.17 33.035 819.844 Q32.3984 822.518 32.3984 825.382 Q32.3984 829.743 33.7352 831.939 Q35.072 834.103 37.7456 834.103 Q39.7826 834.103 40.9603 832.544 Q42.1061 830.984 43.1565 826.273 L43.6021 824.268 Q44.9389 818.03 47.3897 815.42 Q49.8086 812.778 54.1691 812.778 Q59.1344 812.778 62.0308 816.725 Q64.9272 820.64 64.9272 827.515 Q64.9272 830.379 64.3543 833.498 Q63.8132 836.586 62.6992 840.023 L56.6518 840.023 Q58.3387 836.777 59.198 833.626 Q60.0256 830.475 60.0256 827.387 Q60.0256 823.25 58.6251 821.022 Q57.1929 818.794 54.6147 818.794 Q52.2276 818.794 50.9545 820.417 Q49.6813 822.008 48.5037 827.451 L48.0262 829.488 Q46.8804 834.931 44.5251 837.35 Q42.138 839.769 38.0002 839.769 Q32.9713 839.769 30.2341 836.204 Q27.4968 832.639 27.4968 826.082 Q27.4968 822.836 27.9743 819.971 Q28.4517 817.107 29.4065 814.688 Z\" fill=\"#000000\" fill-rule=\"evenodd\" fill-opacity=\"1\" /><path clip-path=\"url(#clip180)\" d=\"M42.4881 773.82 L64.0042 773.82 L64.0042 779.676 L42.679 779.676 Q37.6183 779.676 35.1038 781.65 Q32.5894 783.623 32.5894 787.57 Q32.5894 792.312 35.6131 795.05 Q38.6368 797.787 43.8567 797.787 L64.0042 797.787 L64.0042 803.675 L14.479 803.675 L14.479 797.787 L33.8944 797.787 Q30.6797 795.686 29.0883 792.853 Q27.4968 789.989 27.4968 786.265 Q27.4968 780.122 31.3163 776.971 Q35.1038 773.82 42.4881 773.82 Z\" fill=\"#000000\" fill-rule=\"evenodd\" fill-opacity=\"1\" /><path clip-path=\"url(#clip180)\" d=\"M32.4621 748.325 Q32.4621 753.036 36.1542 755.773 Q39.8145 758.51 46.212 758.51 Q52.6095 758.51 56.3017 755.805 Q59.9619 753.068 59.9619 748.325 Q59.9619 743.647 56.2698 740.909 Q52.5777 738.172 46.212 738.172 Q39.8781 738.172 36.186 740.909 Q32.4621 743.647 32.4621 748.325 M27.4968 748.325 Q27.4968 740.686 32.4621 736.326 Q37.4273 731.965 46.212 731.965 Q54.9649 731.965 59.9619 736.326 Q64.9272 740.686 64.9272 748.325 Q64.9272 755.996 59.9619 760.357 Q54.9649 764.685 46.212 764.685 Q37.4273 764.685 32.4621 760.357 Q27.4968 755.996 27.4968 748.325 Z\" fill=\"#000000\" fill-rule=\"evenodd\" fill-opacity=\"1\" /><path clip-path=\"url(#clip180)\" d=\"M33.8307 701.601 Q33.2578 702.588 33.0032 703.765 Q32.7167 704.911 32.7167 706.312 Q32.7167 711.277 35.9632 713.951 Q39.1779 716.592 45.2253 716.592 L64.0042 716.592 L64.0042 722.481 L28.3562 722.481 L28.3562 716.592 L33.8944 716.592 Q30.6479 714.746 29.0883 711.786 Q27.4968 708.826 27.4968 704.593 Q27.4968 703.988 27.5923 703.256 Q27.656 702.524 27.8151 701.633 L33.8307 701.601 Z\" fill=\"#000000\" fill-rule=\"evenodd\" fill-opacity=\"1\" /><path clip-path=\"url(#clip180)\" d=\"M18.2347 689.665 L28.3562 689.665 L28.3562 677.602 L32.9077 677.602 L32.9077 689.665 L52.2594 689.665 Q56.6199 689.665 57.8613 688.488 Q59.1026 687.278 59.1026 683.618 L59.1026 677.602 L64.0042 677.602 L64.0042 683.618 Q64.0042 690.397 61.4897 692.976 Q58.9434 695.554 52.2594 695.554 L32.9077 695.554 L32.9077 699.85 L28.3562 699.85 L28.3562 695.554 L18.2347 695.554 L18.2347 689.665 Z\" fill=\"#000000\" fill-rule=\"evenodd\" fill-opacity=\"1\" /><path clip-path=\"url(#clip180)\" d=\"M44.7161 639.408 L47.5806 639.408 L47.5806 666.335 Q53.6281 665.953 56.8109 662.707 Q59.9619 659.428 59.9619 653.604 Q59.9619 650.23 59.1344 647.079 Q58.3069 643.896 56.6518 640.777 L62.1899 640.777 Q63.5267 643.928 64.227 647.238 Q64.9272 650.548 64.9272 653.954 Q64.9272 662.484 59.9619 667.481 Q54.9967 672.446 46.5303 672.446 Q37.7774 672.446 32.6531 667.735 Q27.4968 662.993 27.4968 654.972 Q27.4968 647.779 32.1438 643.609 Q36.7589 639.408 44.7161 639.408 M42.9973 645.265 Q38.1912 645.328 35.3266 647.97 Q32.4621 650.58 32.4621 654.909 Q32.4621 659.81 35.2312 662.77 Q38.0002 665.698 43.0292 666.144 L42.9973 645.265 Z\" fill=\"#000000\" fill-rule=\"evenodd\" fill-opacity=\"1\" /><path clip-path=\"url(#clip180)\" d=\"M33.8307 609.139 Q33.2578 610.126 33.0032 611.303 Q32.7167 612.449 32.7167 613.85 Q32.7167 618.815 35.9632 621.489 Q39.1779 624.13 45.2253 624.13 L64.0042 624.13 L64.0042 630.019 L28.3562 630.019 L28.3562 624.13 L33.8944 624.13 Q30.6479 622.284 29.0883 619.324 Q27.4968 616.364 27.4968 612.131 Q27.4968 611.526 27.5923 610.794 Q27.656 610.062 27.8151 609.171 L33.8307 609.139 Z\" fill=\"#000000\" fill-rule=\"evenodd\" fill-opacity=\"1\" /><path clip-path=\"url(#clip180)\" d=\"M28.3562 582.276 L28.3562 576.419 L64.0042 576.419 L64.0042 582.276 L28.3562 582.276 M14.479 582.276 L14.479 576.419 L21.895 576.419 L21.895 582.276 L14.479 582.276 Z\" fill=\"#000000\" fill-rule=\"evenodd\" fill-opacity=\"1\" /><path clip-path=\"url(#clip180)\" d=\"M29.4065 541.44 L34.9447 541.44 Q33.6716 543.922 33.035 546.596 Q32.3984 549.27 32.3984 552.134 Q32.3984 556.495 33.7352 558.691 Q35.072 560.855 37.7456 560.855 Q39.7826 560.855 40.9603 559.296 Q42.1061 557.736 43.1565 553.025 L43.6021 551.02 Q44.9389 544.782 47.3897 542.172 Q49.8086 539.53 54.1691 539.53 Q59.1344 539.53 62.0308 543.477 Q64.9272 547.392 64.9272 554.267 Q64.9272 557.131 64.3543 560.251 Q63.8132 563.338 62.6992 566.775 L56.6518 566.775 Q58.3387 563.529 59.198 560.378 Q60.0256 557.227 60.0256 554.139 Q60.0256 550.002 58.6251 547.774 Q57.1929 545.546 54.6147 545.546 Q52.2276 545.546 50.9545 547.169 Q49.6813 548.76 48.5037 554.203 L48.0262 556.24 Q46.8804 561.683 44.5251 564.102 Q42.138 566.521 38.0002 566.521 Q32.9713 566.521 30.2341 562.956 Q27.4968 559.391 27.4968 552.834 Q27.4968 549.588 27.9743 546.723 Q28.4517 543.859 29.4065 541.44 Z\" fill=\"#000000\" fill-rule=\"evenodd\" fill-opacity=\"1\" /><path clip-path=\"url(#clip180)\" d=\"M46.212 483.894 Q39.7508 483.894 36.0905 486.567 Q32.3984 489.209 32.3984 493.856 Q32.3984 498.503 36.0905 501.177 Q39.7508 503.819 46.212 503.819 Q52.6732 503.819 56.3653 501.177 Q60.0256 498.503 60.0256 493.856 Q60.0256 489.209 56.3653 486.567 Q52.6732 483.894 46.212 483.894 M33.7671 503.819 Q30.5842 501.972 29.0564 499.172 Q27.4968 496.339 27.4968 492.424 Q27.4968 485.931 32.6531 481.889 Q37.8093 477.815 46.212 477.815 Q54.6147 477.815 59.771 481.889 Q64.9272 485.931 64.9272 492.424 Q64.9272 496.339 63.3994 499.172 Q61.8398 501.972 58.657 503.819 L64.0042 503.819 L64.0042 509.707 L14.479 509.707 L14.479 503.819 L33.7671 503.819 Z\" fill=\"#000000\" fill-rule=\"evenodd\" fill-opacity=\"1\" /><path clip-path=\"url(#clip180)\" d=\"M44.7161 437.615 L47.5806 437.615 L47.5806 464.542 Q53.6281 464.16 56.8109 460.914 Q59.9619 457.635 59.9619 451.811 Q59.9619 448.437 59.1344 445.286 Q58.3069 442.103 56.6518 438.984 L62.1899 438.984 Q63.5267 442.135 64.227 445.445 Q64.9272 448.755 64.9272 452.161 Q64.9272 460.691 59.9619 465.688 Q54.9967 470.653 46.5303 470.653 Q37.7774 470.653 32.6531 465.943 Q27.4968 461.2 27.4968 453.179 Q27.4968 445.986 32.1438 441.817 Q36.7589 437.615 44.7161 437.615 M42.9973 443.472 Q38.1912 443.535 35.3266 446.177 Q32.4621 448.787 32.4621 453.116 Q32.4621 458.017 35.2312 460.977 Q38.0002 463.906 43.0292 464.351 L42.9973 443.472 Z\" fill=\"#000000\" fill-rule=\"evenodd\" fill-opacity=\"1\" /><path clip-path=\"url(#clip180)\" d=\"M18.2347 422.21 L28.3562 422.21 L28.3562 410.147 L32.9077 410.147 L32.9077 422.21 L52.2594 422.21 Q56.6199 422.21 57.8613 421.033 Q59.1026 419.823 59.1026 416.163 L59.1026 410.147 L64.0042 410.147 L64.0042 416.163 Q64.0042 422.942 61.4897 425.52 Q58.9434 428.098 52.2594 428.098 L32.9077 428.098 L32.9077 432.395 L28.3562 432.395 L28.3562 428.098 L18.2347 428.098 L18.2347 422.21 Z\" fill=\"#000000\" fill-rule=\"evenodd\" fill-opacity=\"1\" /><path clip-path=\"url(#clip180)\" d=\"M18.2347 396.652 L28.3562 396.652 L28.3562 384.589 L32.9077 384.589 L32.9077 396.652 L52.2594 396.652 Q56.6199 396.652 57.8613 395.474 Q59.1026 394.265 59.1026 390.604 L59.1026 384.589 L64.0042 384.589 L64.0042 390.604 Q64.0042 397.384 61.4897 399.962 Q58.9434 402.54 52.2594 402.54 L32.9077 402.54 L32.9077 406.837 L28.3562 406.837 L28.3562 402.54 L18.2347 402.54 L18.2347 396.652 Z\" fill=\"#000000\" fill-rule=\"evenodd\" fill-opacity=\"1\" /><path clip-path=\"url(#clip180)\" d=\"M44.7161 346.395 L47.5806 346.395 L47.5806 373.322 Q53.6281 372.94 56.8109 369.693 Q59.9619 366.415 59.9619 360.59 Q59.9619 357.216 59.1344 354.065 Q58.3069 350.882 56.6518 347.763 L62.1899 347.763 Q63.5267 350.914 64.227 354.224 Q64.9272 357.535 64.9272 360.94 Q64.9272 369.47 59.9619 374.467 Q54.9967 379.433 46.5303 379.433 Q37.7774 379.433 32.6531 374.722 Q27.4968 369.98 27.4968 361.959 Q27.4968 354.766 32.1438 350.596 Q36.7589 346.395 44.7161 346.395 M42.9973 352.251 Q38.1912 352.315 35.3266 354.956 Q32.4621 357.566 32.4621 361.895 Q32.4621 366.797 35.2312 369.757 Q38.0002 372.685 43.0292 373.131 L42.9973 352.251 Z\" fill=\"#000000\" fill-rule=\"evenodd\" fill-opacity=\"1\" /><path clip-path=\"url(#clip180)\" d=\"M33.8307 316.126 Q33.2578 317.112 33.0032 318.29 Q32.7167 319.436 32.7167 320.836 Q32.7167 325.802 35.9632 328.475 Q39.1779 331.117 45.2253 331.117 L64.0042 331.117 L64.0042 337.005 L28.3562 337.005 L28.3562 331.117 L33.8944 331.117 Q30.6479 329.271 29.0883 326.311 Q27.4968 323.351 27.4968 319.118 Q27.4968 318.513 27.5923 317.781 Q27.656 317.049 27.8151 316.158 L33.8307 316.126 Z\" fill=\"#000000\" fill-rule=\"evenodd\" fill-opacity=\"1\" /><path clip-path=\"url(#clip180)\" d=\"M14.5426 310.906 L14.5426 305.813 Q22.0542 301.039 29.2474 298.684 Q36.4406 296.296 43.5384 296.296 Q50.668 296.296 57.8931 298.684 Q65.1182 301.039 72.5979 305.813 L72.5979 310.906 Q65.3091 306.673 58.1159 304.604 Q50.8908 302.503 43.5384 302.503 Q36.186 302.503 29.0246 304.604 Q21.8632 306.673 14.5426 310.906 Z\" fill=\"#000000\" fill-rule=\"evenodd\" fill-opacity=\"1\" /><path clip-path=\"url(#clip182)\" d=\"\n",
       "M363.254 134.722 L363.254 1384.24 L898.599 1384.24 L898.599 134.722 L363.254 134.722 L363.254 134.722  Z\n",
       "  \" fill=\"#009af9\" fill-rule=\"evenodd\" fill-opacity=\"1\"/>\n",
       "<polyline clip-path=\"url(#clip182)\" style=\"stroke:#000000; stroke-linecap:butt; stroke-linejoin:round; stroke-width:4; stroke-opacity:1; fill:none\" points=\"\n",
       "  363.254,134.722 363.254,1384.24 898.599,1384.24 898.599,134.722 363.254,134.722 \n",
       "  \"/>\n",
       "<path clip-path=\"url(#clip182)\" d=\"\n",
       "M1032.43 86.1857 L1032.43 1384.24 L1567.78 1384.24 L1567.78 86.1857 L1032.43 86.1857 L1032.43 86.1857  Z\n",
       "  \" fill=\"#009af9\" fill-rule=\"evenodd\" fill-opacity=\"1\"/>\n",
       "<polyline clip-path=\"url(#clip182)\" style=\"stroke:#000000; stroke-linecap:butt; stroke-linejoin:round; stroke-width:4; stroke-opacity:1; fill:none\" points=\"\n",
       "  1032.43,86.1857 1032.43,1384.24 1567.78,1384.24 1567.78,86.1857 1032.43,86.1857 \n",
       "  \"/>\n",
       "<path clip-path=\"url(#clip182)\" d=\"\n",
       "M1701.62 819.868 L1701.62 1384.24 L2236.96 1384.24 L2236.96 819.868 L1701.62 819.868 L1701.62 819.868  Z\n",
       "  \" fill=\"#009af9\" fill-rule=\"evenodd\" fill-opacity=\"1\"/>\n",
       "<polyline clip-path=\"url(#clip182)\" style=\"stroke:#000000; stroke-linecap:butt; stroke-linejoin:round; stroke-width:4; stroke-opacity:1; fill:none\" points=\"\n",
       "  1701.62,819.868 1701.62,1384.24 2236.96,1384.24 2236.96,819.868 1701.62,819.868 \n",
       "  \"/>\n",
       "<circle clip-path=\"url(#clip182)\" style=\"fill:#009af9; stroke:none; fill-opacity:0\" cx=\"630.926\" cy=\"134.722\" r=\"2\"/>\n",
       "<circle clip-path=\"url(#clip182)\" style=\"fill:#009af9; stroke:none; fill-opacity:0\" cx=\"1300.11\" cy=\"86.1857\" r=\"2\"/>\n",
       "<circle clip-path=\"url(#clip182)\" style=\"fill:#009af9; stroke:none; fill-opacity:0\" cx=\"1969.29\" cy=\"819.868\" r=\"2\"/>\n",
       "</svg>\n"
      ]
     },
     "execution_count": 63,
     "metadata": {},
     "output_type": "execute_result"
    }
   ],
   "source": [
    "results = [\n",
    "    \"my_sum (Julia)\" => 11.07,\n",
    "    \"c_sum (C)\" => 11.5,\n",
    "    \"sum (Julia)\" => 5.0,\n",
    "]\n",
    "\n",
    "bar(first.(results), last.(results), xlabel=\"function\", ylabel=\"time (ms, shorter is better)\", legend=nothing)"
   ]
  },
  {
   "cell_type": "markdown",
   "metadata": {
    "slideshow": {
     "slide_type": "subslide"
    }
   },
   "source": [
    "What's going on? Is the `sum()` function using some built-in behavior we don't have access to?"
   ]
  },
  {
   "cell_type": "markdown",
   "metadata": {
    "slideshow": {
     "slide_type": "fragment"
    }
   },
   "source": [
    "Nope--we can achieve that result easily with a few modifications:"
   ]
  },
  {
   "cell_type": "code",
   "execution_count": 64,
   "metadata": {},
   "outputs": [
    {
     "data": {
      "text/plain": [
       "my_fast_sum (generic function with 1 method)"
      ]
     },
     "execution_count": 64,
     "metadata": {},
     "output_type": "execute_result"
    }
   ],
   "source": [
    "function my_fast_sum(x)\n",
    "    result = zero(eltype(x))\n",
    "    \n",
    "    # `@inbounds` is a macro which disables all bounds checking within a given block. \n",
    "    #\n",
    "    # `@simd` enables additional vector operations by indicating that it is OK to potentially\n",
    "    # evaluate the loop out-of-order. \n",
    "    @inbounds @simd for element in x\n",
    "        result += element\n",
    "    end\n",
    "    result\n",
    "end"
   ]
  },
  {
   "cell_type": "code",
   "execution_count": 65,
   "metadata": {
    "slideshow": {
     "slide_type": "subslide"
    }
   },
   "outputs": [
    {
     "name": "stdout",
     "output_type": "stream",
     "text": [
      "  3.527 ms (0 allocations: 0 bytes)\n"
     ]
    },
    {
     "data": {
      "text/plain": [
       "4.998941237371172e6"
      ]
     },
     "execution_count": 65,
     "metadata": {},
     "output_type": "execute_result"
    }
   ],
   "source": [
    "@btime my_fast_sum($data)"
   ]
  },
  {
   "cell_type": "code",
   "execution_count": 66,
   "metadata": {},
   "outputs": [
    {
     "data": {
      "image/svg+xml": [
       "<?xml version=\"1.0\" encoding=\"utf-8\"?>\n",
       "<svg xmlns=\"http://www.w3.org/2000/svg\" xmlns:xlink=\"http://www.w3.org/1999/xlink\" width=\"600\" height=\"400\" viewBox=\"0 0 2400 1600\">\n",
       "<defs>\n",
       "  <clipPath id=\"clip220\">\n",
       "    <rect x=\"0\" y=\"0\" width=\"2400\" height=\"1600\"/>\n",
       "  </clipPath>\n",
       "</defs>\n",
       "<path clip-path=\"url(#clip220)\" d=\"\n",
       "M0 1600 L2400 1600 L2400 0 L0 0  Z\n",
       "  \" fill=\"#ffffff\" fill-rule=\"evenodd\" fill-opacity=\"1\"/>\n",
       "<defs>\n",
       "  <clipPath id=\"clip221\">\n",
       "    <rect x=\"480\" y=\"0\" width=\"1681\" height=\"1600\"/>\n",
       "  </clipPath>\n",
       "</defs>\n",
       "<path clip-path=\"url(#clip220)\" d=\"\n",
       "M247.459 1423.18 L2352.76 1423.18 L2352.76 47.2441 L247.459 47.2441  Z\n",
       "  \" fill=\"#ffffff\" fill-rule=\"evenodd\" fill-opacity=\"1\"/>\n",
       "<defs>\n",
       "  <clipPath id=\"clip222\">\n",
       "    <rect x=\"247\" y=\"47\" width=\"2106\" height=\"1377\"/>\n",
       "  </clipPath>\n",
       "</defs>\n",
       "<polyline clip-path=\"url(#clip222)\" style=\"stroke:#000000; stroke-linecap:butt; stroke-linejoin:round; stroke-width:2; stroke-opacity:0.1; fill:none\" points=\"\n",
       "  560.486,1423.18 560.486,47.2441 \n",
       "  \"/>\n",
       "<polyline clip-path=\"url(#clip222)\" style=\"stroke:#000000; stroke-linecap:butt; stroke-linejoin:round; stroke-width:2; stroke-opacity:0.1; fill:none\" points=\"\n",
       "  1053.57,1423.18 1053.57,47.2441 \n",
       "  \"/>\n",
       "<polyline clip-path=\"url(#clip222)\" style=\"stroke:#000000; stroke-linecap:butt; stroke-linejoin:round; stroke-width:2; stroke-opacity:0.1; fill:none\" points=\"\n",
       "  1546.65,1423.18 1546.65,47.2441 \n",
       "  \"/>\n",
       "<polyline clip-path=\"url(#clip222)\" style=\"stroke:#000000; stroke-linecap:butt; stroke-linejoin:round; stroke-width:2; stroke-opacity:0.1; fill:none\" points=\"\n",
       "  2039.73,1423.18 2039.73,47.2441 \n",
       "  \"/>\n",
       "<polyline clip-path=\"url(#clip220)\" style=\"stroke:#000000; stroke-linecap:butt; stroke-linejoin:round; stroke-width:4; stroke-opacity:1; fill:none\" points=\"\n",
       "  247.459,1423.18 2352.76,1423.18 \n",
       "  \"/>\n",
       "<polyline clip-path=\"url(#clip220)\" style=\"stroke:#000000; stroke-linecap:butt; stroke-linejoin:round; stroke-width:4; stroke-opacity:1; fill:none\" points=\"\n",
       "  560.486,1423.18 560.486,1404.28 \n",
       "  \"/>\n",
       "<polyline clip-path=\"url(#clip220)\" style=\"stroke:#000000; stroke-linecap:butt; stroke-linejoin:round; stroke-width:4; stroke-opacity:1; fill:none\" points=\"\n",
       "  1053.57,1423.18 1053.57,1404.28 \n",
       "  \"/>\n",
       "<polyline clip-path=\"url(#clip220)\" style=\"stroke:#000000; stroke-linecap:butt; stroke-linejoin:round; stroke-width:4; stroke-opacity:1; fill:none\" points=\"\n",
       "  1546.65,1423.18 1546.65,1404.28 \n",
       "  \"/>\n",
       "<polyline clip-path=\"url(#clip220)\" style=\"stroke:#000000; stroke-linecap:butt; stroke-linejoin:round; stroke-width:4; stroke-opacity:1; fill:none\" points=\"\n",
       "  2039.73,1423.18 2039.73,1404.28 \n",
       "  \"/>\n",
       "<path clip-path=\"url(#clip220)\" d=\"M409.85 1464.63 Q411.448 1461.76 413.67 1460.39 Q415.892 1459.03 418.901 1459.03 Q422.952 1459.03 425.151 1461.88 Q427.35 1464.7 427.35 1469.93 L427.35 1485.58 L423.068 1485.58 L423.068 1470.07 Q423.068 1466.34 421.748 1464.54 Q420.429 1462.73 417.721 1462.73 Q414.411 1462.73 412.489 1464.93 Q410.568 1467.13 410.568 1470.93 L410.568 1485.58 L406.286 1485.58 L406.286 1470.07 Q406.286 1466.32 404.966 1464.54 Q403.647 1462.73 400.892 1462.73 Q397.628 1462.73 395.707 1464.95 Q393.786 1467.15 393.786 1470.93 L393.786 1485.58 L389.503 1485.58 L389.503 1459.65 L393.786 1459.65 L393.786 1463.68 Q395.244 1461.3 397.281 1460.16 Q399.318 1459.03 402.119 1459.03 Q404.943 1459.03 406.911 1460.46 Q408.901 1461.9 409.85 1464.63 Z\" fill=\"#000000\" fill-rule=\"evenodd\" fill-opacity=\"1\" /><path clip-path=\"url(#clip220)\" d=\"M446.633 1487.99 Q444.827 1492.62 443.114 1494.03 Q441.401 1495.44 438.531 1495.44 L435.128 1495.44 L435.128 1491.88 L437.628 1491.88 Q439.387 1491.88 440.359 1491.04 Q441.332 1490.21 442.512 1487.11 L443.276 1485.16 L432.79 1459.65 L437.304 1459.65 L445.406 1479.93 L453.508 1459.65 L458.021 1459.65 L446.633 1487.99 Z\" fill=\"#000000\" fill-rule=\"evenodd\" fill-opacity=\"1\" /><path clip-path=\"url(#clip220)\" d=\"M483.6 1493.45 L483.6 1496.76 L458.97 1496.76 L458.97 1493.45 L483.6 1493.45 Z\" fill=\"#000000\" fill-rule=\"evenodd\" fill-opacity=\"1\" /><path clip-path=\"url(#clip220)\" d=\"M504.132 1460.42 L504.132 1464.45 Q502.327 1463.52 500.382 1463.06 Q498.438 1462.59 496.355 1462.59 Q493.183 1462.59 491.586 1463.57 Q490.012 1464.54 490.012 1466.48 Q490.012 1467.96 491.146 1468.82 Q492.28 1469.65 495.706 1470.42 L497.165 1470.74 Q501.702 1471.71 503.6 1473.5 Q505.521 1475.26 505.521 1478.43 Q505.521 1482.04 502.651 1484.14 Q499.804 1486.25 494.804 1486.25 Q492.72 1486.25 490.452 1485.83 Q488.206 1485.44 485.706 1484.63 L485.706 1480.23 Q488.068 1481.46 490.359 1482.08 Q492.651 1482.69 494.896 1482.69 Q497.905 1482.69 499.526 1481.67 Q501.146 1480.63 501.146 1478.75 Q501.146 1477.02 499.966 1476.09 Q498.808 1475.16 494.85 1474.31 L493.368 1473.96 Q489.41 1473.13 487.651 1471.41 Q485.892 1469.68 485.892 1466.67 Q485.892 1463.01 488.484 1461.02 Q491.077 1459.03 495.845 1459.03 Q498.206 1459.03 500.29 1459.38 Q502.373 1459.72 504.132 1460.42 Z\" fill=\"#000000\" fill-rule=\"evenodd\" fill-opacity=\"1\" /><path clip-path=\"url(#clip220)\" d=\"M511.864 1475.35 L511.864 1459.65 L516.123 1459.65 L516.123 1475.19 Q516.123 1478.87 517.558 1480.72 Q518.993 1482.55 521.864 1482.55 Q525.313 1482.55 527.303 1480.35 Q529.317 1478.15 529.317 1474.35 L529.317 1459.65 L533.577 1459.65 L533.577 1485.58 L529.317 1485.58 L529.317 1481.6 Q527.766 1483.96 525.706 1485.12 Q523.669 1486.25 520.961 1486.25 Q516.493 1486.25 514.178 1483.47 Q511.864 1480.7 511.864 1475.35 M522.581 1459.03 L522.581 1459.03 Z\" fill=\"#000000\" fill-rule=\"evenodd\" fill-opacity=\"1\" /><path clip-path=\"url(#clip220)\" d=\"M562.535 1464.63 Q564.132 1461.76 566.354 1460.39 Q568.576 1459.03 571.586 1459.03 Q575.637 1459.03 577.836 1461.88 Q580.035 1464.7 580.035 1469.93 L580.035 1485.58 L575.752 1485.58 L575.752 1470.07 Q575.752 1466.34 574.433 1464.54 Q573.113 1462.73 570.405 1462.73 Q567.095 1462.73 565.174 1464.93 Q563.252 1467.13 563.252 1470.93 L563.252 1485.58 L558.97 1485.58 L558.97 1470.07 Q558.97 1466.32 557.65 1464.54 Q556.331 1462.73 553.576 1462.73 Q550.313 1462.73 548.391 1464.95 Q546.47 1467.15 546.47 1470.93 L546.47 1485.58 L542.188 1485.58 L542.188 1459.65 L546.47 1459.65 L546.47 1463.68 Q547.928 1461.3 549.965 1460.16 Q552.002 1459.03 554.803 1459.03 Q557.627 1459.03 559.595 1460.46 Q561.586 1461.9 562.535 1464.63 Z\" fill=\"#000000\" fill-rule=\"evenodd\" fill-opacity=\"1\" /><path clip-path=\"url(#clip220)\" d=\"M613.831 1449.61 Q610.729 1454.93 609.224 1460.14 Q607.72 1465.35 607.72 1470.7 Q607.72 1476.04 609.224 1481.3 Q610.752 1486.53 613.831 1491.83 L610.127 1491.83 Q606.655 1486.39 604.919 1481.14 Q603.206 1475.88 603.206 1470.7 Q603.206 1465.53 604.919 1460.3 Q606.632 1455.07 610.127 1449.61 L613.831 1449.61 Z\" fill=\"#000000\" fill-rule=\"evenodd\" fill-opacity=\"1\" /><path clip-path=\"url(#clip220)\" d=\"M622.28 1451.02 L626.956 1451.02 L626.956 1483.17 Q626.956 1489.42 624.571 1492.25 Q622.21 1495.07 616.956 1495.07 L615.173 1495.07 L615.173 1491.14 L616.632 1491.14 Q619.733 1491.14 621.007 1489.4 Q622.28 1487.66 622.28 1483.17 L622.28 1451.02 Z\" fill=\"#000000\" fill-rule=\"evenodd\" fill-opacity=\"1\" /><path clip-path=\"url(#clip220)\" d=\"M635.636 1475.35 L635.636 1459.65 L639.895 1459.65 L639.895 1475.19 Q639.895 1478.87 641.331 1480.72 Q642.766 1482.55 645.636 1482.55 Q649.085 1482.55 651.076 1480.35 Q653.09 1478.15 653.09 1474.35 L653.09 1459.65 L657.349 1459.65 L657.349 1485.58 L653.09 1485.58 L653.09 1481.6 Q651.539 1483.96 649.479 1485.12 Q647.442 1486.25 644.733 1486.25 Q640.266 1486.25 637.951 1483.47 Q635.636 1480.7 635.636 1475.35 M646.354 1459.03 L646.354 1459.03 Z\" fill=\"#000000\" fill-rule=\"evenodd\" fill-opacity=\"1\" /><path clip-path=\"url(#clip220)\" d=\"M666.122 1449.56 L670.381 1449.56 L670.381 1485.58 L666.122 1485.58 L666.122 1449.56 Z\" fill=\"#000000\" fill-rule=\"evenodd\" fill-opacity=\"1\" /><path clip-path=\"url(#clip220)\" d=\"M679.293 1459.65 L683.553 1459.65 L683.553 1485.58 L679.293 1485.58 L679.293 1459.65 M679.293 1449.56 L683.553 1449.56 L683.553 1454.96 L679.293 1454.96 L679.293 1449.56 Z\" fill=\"#000000\" fill-rule=\"evenodd\" fill-opacity=\"1\" /><path clip-path=\"url(#clip220)\" d=\"M704.247 1472.55 Q699.085 1472.55 697.094 1473.73 Q695.103 1474.91 695.103 1477.76 Q695.103 1480.02 696.585 1481.37 Q698.09 1482.69 700.659 1482.69 Q704.201 1482.69 706.33 1480.19 Q708.483 1477.66 708.483 1473.5 L708.483 1472.55 L704.247 1472.55 M712.742 1470.79 L712.742 1485.58 L708.483 1485.58 L708.483 1481.64 Q707.025 1484.01 704.849 1485.14 Q702.673 1486.25 699.525 1486.25 Q695.543 1486.25 693.182 1484.03 Q690.844 1481.78 690.844 1478.03 Q690.844 1473.66 693.761 1471.44 Q696.701 1469.21 702.511 1469.21 L708.483 1469.21 L708.483 1468.8 Q708.483 1465.86 706.539 1464.26 Q704.617 1462.64 701.122 1462.64 Q698.9 1462.64 696.793 1463.17 Q694.687 1463.7 692.742 1464.77 L692.742 1460.83 Q695.08 1459.93 697.279 1459.49 Q699.478 1459.03 701.562 1459.03 Q707.187 1459.03 709.964 1461.95 Q712.742 1464.86 712.742 1470.79 Z\" fill=\"#000000\" fill-rule=\"evenodd\" fill-opacity=\"1\" /><path clip-path=\"url(#clip220)\" d=\"M720.844 1449.61 L724.548 1449.61 Q728.02 1455.07 729.733 1460.3 Q731.469 1465.53 731.469 1470.7 Q731.469 1475.88 729.733 1481.14 Q728.02 1486.39 724.548 1491.83 L720.844 1491.83 Q723.923 1486.53 725.427 1481.3 Q726.955 1476.04 726.955 1470.7 Q726.955 1465.35 725.427 1460.14 Q723.923 1454.93 720.844 1449.61 Z\" fill=\"#000000\" fill-rule=\"evenodd\" fill-opacity=\"1\" /><path clip-path=\"url(#clip220)\" d=\"M959.493 1460.65 L959.493 1464.63 Q957.688 1463.64 955.859 1463.15 Q954.054 1462.64 952.202 1462.64 Q948.058 1462.64 945.767 1465.28 Q943.475 1467.89 943.475 1472.64 Q943.475 1477.39 945.767 1480.02 Q948.058 1482.64 952.202 1482.64 Q954.054 1482.64 955.859 1482.15 Q957.688 1481.64 959.493 1480.65 L959.493 1484.58 Q957.711 1485.42 955.79 1485.83 Q953.892 1486.25 951.739 1486.25 Q945.882 1486.25 942.433 1482.57 Q938.984 1478.89 938.984 1472.64 Q938.984 1466.3 942.456 1462.66 Q945.952 1459.03 952.017 1459.03 Q953.984 1459.03 955.859 1459.45 Q957.734 1459.84 959.493 1460.65 Z\" fill=\"#000000\" fill-rule=\"evenodd\" fill-opacity=\"1\" /><path clip-path=\"url(#clip220)\" d=\"M986.6 1493.45 L986.6 1496.76 L961.97 1496.76 L961.97 1493.45 L986.6 1493.45 Z\" fill=\"#000000\" fill-rule=\"evenodd\" fill-opacity=\"1\" /><path clip-path=\"url(#clip220)\" d=\"M1007.13 1460.42 L1007.13 1464.45 Q1005.33 1463.52 1003.38 1463.06 Q1001.44 1462.59 999.354 1462.59 Q996.183 1462.59 994.586 1463.57 Q993.012 1464.54 993.012 1466.48 Q993.012 1467.96 994.146 1468.82 Q995.28 1469.65 998.706 1470.42 L1000.16 1470.74 Q1004.7 1471.71 1006.6 1473.5 Q1008.52 1475.26 1008.52 1478.43 Q1008.52 1482.04 1005.65 1484.14 Q1002.8 1486.25 997.803 1486.25 Q995.72 1486.25 993.451 1485.83 Q991.206 1485.44 988.706 1484.63 L988.706 1480.23 Q991.067 1481.46 993.359 1482.08 Q995.651 1482.69 997.896 1482.69 Q1000.91 1482.69 1002.53 1481.67 Q1004.15 1480.63 1004.15 1478.75 Q1004.15 1477.02 1002.97 1476.09 Q1001.81 1475.16 997.85 1474.31 L996.368 1473.96 Q992.41 1473.13 990.651 1471.41 Q988.891 1469.68 988.891 1466.67 Q988.891 1463.01 991.484 1461.02 Q994.076 1459.03 998.845 1459.03 Q1001.21 1459.03 1003.29 1459.38 Q1005.37 1459.72 1007.13 1460.42 Z\" fill=\"#000000\" fill-rule=\"evenodd\" fill-opacity=\"1\" /><path clip-path=\"url(#clip220)\" d=\"M1014.86 1475.35 L1014.86 1459.65 L1019.12 1459.65 L1019.12 1475.19 Q1019.12 1478.87 1020.56 1480.72 Q1021.99 1482.55 1024.86 1482.55 Q1028.31 1482.55 1030.3 1480.35 Q1032.32 1478.15 1032.32 1474.35 L1032.32 1459.65 L1036.58 1459.65 L1036.58 1485.58 L1032.32 1485.58 L1032.32 1481.6 Q1030.77 1483.96 1028.71 1485.12 Q1026.67 1486.25 1023.96 1486.25 Q1019.49 1486.25 1017.18 1483.47 Q1014.86 1480.7 1014.86 1475.35 M1025.58 1459.03 L1025.58 1459.03 Z\" fill=\"#000000\" fill-rule=\"evenodd\" fill-opacity=\"1\" /><path clip-path=\"url(#clip220)\" d=\"M1065.53 1464.63 Q1067.13 1461.76 1069.35 1460.39 Q1071.58 1459.03 1074.59 1459.03 Q1078.64 1459.03 1080.84 1461.88 Q1083.03 1464.7 1083.03 1469.93 L1083.03 1485.58 L1078.75 1485.58 L1078.75 1470.07 Q1078.75 1466.34 1077.43 1464.54 Q1076.11 1462.73 1073.4 1462.73 Q1070.09 1462.73 1068.17 1464.93 Q1066.25 1467.13 1066.25 1470.93 L1066.25 1485.58 L1061.97 1485.58 L1061.97 1470.07 Q1061.97 1466.32 1060.65 1464.54 Q1059.33 1462.73 1056.58 1462.73 Q1053.31 1462.73 1051.39 1464.95 Q1049.47 1467.15 1049.47 1470.93 L1049.47 1485.58 L1045.19 1485.58 L1045.19 1459.65 L1049.47 1459.65 L1049.47 1463.68 Q1050.93 1461.3 1052.97 1460.16 Q1055 1459.03 1057.8 1459.03 Q1060.63 1459.03 1062.59 1460.46 Q1064.59 1461.9 1065.53 1464.63 Z\" fill=\"#000000\" fill-rule=\"evenodd\" fill-opacity=\"1\" /><path clip-path=\"url(#clip220)\" d=\"M1116.83 1449.61 Q1113.73 1454.93 1112.22 1460.14 Q1110.72 1465.35 1110.72 1470.7 Q1110.72 1476.04 1112.22 1481.3 Q1113.75 1486.53 1116.83 1491.83 L1113.13 1491.83 Q1109.65 1486.39 1107.92 1481.14 Q1106.21 1475.88 1106.21 1470.7 Q1106.21 1465.53 1107.92 1460.3 Q1109.63 1455.07 1113.13 1449.61 L1116.83 1449.61 Z\" fill=\"#000000\" fill-rule=\"evenodd\" fill-opacity=\"1\" /><path clip-path=\"url(#clip220)\" d=\"M1151.16 1453.68 L1151.16 1458.61 Q1148.8 1456.41 1146.11 1455.33 Q1143.45 1454.24 1140.44 1454.24 Q1134.52 1454.24 1131.37 1457.87 Q1128.22 1461.48 1128.22 1468.33 Q1128.22 1475.16 1131.37 1478.8 Q1134.52 1482.41 1140.44 1482.41 Q1143.45 1482.41 1146.11 1481.32 Q1148.8 1480.23 1151.16 1478.03 L1151.16 1482.92 Q1148.71 1484.58 1145.95 1485.42 Q1143.22 1486.25 1140.16 1486.25 Q1132.32 1486.25 1127.8 1481.46 Q1123.29 1476.64 1123.29 1468.33 Q1123.29 1460 1127.8 1455.21 Q1132.32 1450.39 1140.16 1450.39 Q1143.27 1450.39 1146 1451.23 Q1148.75 1452.04 1151.16 1453.68 Z\" fill=\"#000000\" fill-rule=\"evenodd\" fill-opacity=\"1\" /><path clip-path=\"url(#clip220)\" d=\"M1157.52 1449.61 L1161.23 1449.61 Q1164.7 1455.07 1166.41 1460.3 Q1168.15 1465.53 1168.15 1470.7 Q1168.15 1475.88 1166.41 1481.14 Q1164.7 1486.39 1161.23 1491.83 L1157.52 1491.83 Q1160.6 1486.53 1162.11 1481.3 Q1163.64 1476.04 1163.64 1470.7 Q1163.64 1465.35 1162.11 1460.14 Q1160.6 1454.93 1157.52 1449.61 Z\" fill=\"#000000\" fill-rule=\"evenodd\" fill-opacity=\"1\" /><path clip-path=\"url(#clip220)\" d=\"M1442.19 1460.42 L1442.19 1464.45 Q1440.39 1463.52 1438.44 1463.06 Q1436.5 1462.59 1434.41 1462.59 Q1431.24 1462.59 1429.65 1463.57 Q1428.07 1464.54 1428.07 1466.48 Q1428.07 1467.96 1429.21 1468.82 Q1430.34 1469.65 1433.77 1470.42 L1435.22 1470.74 Q1439.76 1471.71 1441.66 1473.5 Q1443.58 1475.26 1443.58 1478.43 Q1443.58 1482.04 1440.71 1484.14 Q1437.86 1486.25 1432.86 1486.25 Q1430.78 1486.25 1428.51 1485.83 Q1426.27 1485.44 1423.77 1484.63 L1423.77 1480.23 Q1426.13 1481.46 1428.42 1482.08 Q1430.71 1482.69 1432.96 1482.69 Q1435.97 1482.69 1437.59 1481.67 Q1439.21 1480.63 1439.21 1478.75 Q1439.21 1477.02 1438.03 1476.09 Q1436.87 1475.16 1432.91 1474.31 L1431.43 1473.96 Q1427.47 1473.13 1425.71 1471.41 Q1423.95 1469.68 1423.95 1466.67 Q1423.95 1463.01 1426.54 1461.02 Q1429.14 1459.03 1433.91 1459.03 Q1436.27 1459.03 1438.35 1459.38 Q1440.43 1459.72 1442.19 1460.42 Z\" fill=\"#000000\" fill-rule=\"evenodd\" fill-opacity=\"1\" /><path clip-path=\"url(#clip220)\" d=\"M1449.92 1475.35 L1449.92 1459.65 L1454.18 1459.65 L1454.18 1475.19 Q1454.18 1478.87 1455.62 1480.72 Q1457.05 1482.55 1459.92 1482.55 Q1463.37 1482.55 1465.36 1480.35 Q1467.38 1478.15 1467.38 1474.35 L1467.38 1459.65 L1471.64 1459.65 L1471.64 1485.58 L1467.38 1485.58 L1467.38 1481.6 Q1465.83 1483.96 1463.77 1485.12 Q1461.73 1486.25 1459.02 1486.25 Q1454.55 1486.25 1452.24 1483.47 Q1449.92 1480.7 1449.92 1475.35 M1460.64 1459.03 L1460.64 1459.03 Z\" fill=\"#000000\" fill-rule=\"evenodd\" fill-opacity=\"1\" /><path clip-path=\"url(#clip220)\" d=\"M1500.59 1464.63 Q1502.19 1461.76 1504.41 1460.39 Q1506.64 1459.03 1509.65 1459.03 Q1513.7 1459.03 1515.9 1461.88 Q1518.09 1464.7 1518.09 1469.93 L1518.09 1485.58 L1513.81 1485.58 L1513.81 1470.07 Q1513.81 1466.34 1512.49 1464.54 Q1511.17 1462.73 1508.47 1462.73 Q1505.15 1462.73 1503.23 1464.93 Q1501.31 1467.13 1501.31 1470.93 L1501.31 1485.58 L1497.03 1485.58 L1497.03 1470.07 Q1497.03 1466.32 1495.71 1464.54 Q1494.39 1462.73 1491.64 1462.73 Q1488.37 1462.73 1486.45 1464.95 Q1484.53 1467.15 1484.53 1470.93 L1484.53 1485.58 L1480.25 1485.58 L1480.25 1459.65 L1484.53 1459.65 L1484.53 1463.68 Q1485.99 1461.3 1488.03 1460.16 Q1490.06 1459.03 1492.86 1459.03 Q1495.69 1459.03 1497.65 1460.46 Q1499.65 1461.9 1500.59 1464.63 Z\" fill=\"#000000\" fill-rule=\"evenodd\" fill-opacity=\"1\" /><path clip-path=\"url(#clip220)\" d=\"M1551.89 1449.61 Q1548.79 1454.93 1547.28 1460.14 Q1545.78 1465.35 1545.78 1470.7 Q1545.78 1476.04 1547.28 1481.3 Q1548.81 1486.53 1551.89 1491.83 L1548.19 1491.83 Q1544.71 1486.39 1542.98 1481.14 Q1541.27 1475.88 1541.27 1470.7 Q1541.27 1465.53 1542.98 1460.3 Q1544.69 1455.07 1548.19 1449.61 L1551.89 1449.61 Z\" fill=\"#000000\" fill-rule=\"evenodd\" fill-opacity=\"1\" /><path clip-path=\"url(#clip220)\" d=\"M1560.34 1451.02 L1565.02 1451.02 L1565.02 1483.17 Q1565.02 1489.42 1562.63 1492.25 Q1560.27 1495.07 1555.02 1495.07 L1553.23 1495.07 L1553.23 1491.14 L1554.69 1491.14 Q1557.79 1491.14 1559.07 1489.4 Q1560.34 1487.66 1560.34 1483.17 L1560.34 1451.02 Z\" fill=\"#000000\" fill-rule=\"evenodd\" fill-opacity=\"1\" /><path clip-path=\"url(#clip220)\" d=\"M1573.7 1475.35 L1573.7 1459.65 L1577.96 1459.65 L1577.96 1475.19 Q1577.96 1478.87 1579.39 1480.72 Q1580.83 1482.55 1583.7 1482.55 Q1587.15 1482.55 1589.14 1480.35 Q1591.15 1478.15 1591.15 1474.35 L1591.15 1459.65 L1595.41 1459.65 L1595.41 1485.58 L1591.15 1485.58 L1591.15 1481.6 Q1589.6 1483.96 1587.54 1485.12 Q1585.5 1486.25 1582.79 1486.25 Q1578.33 1486.25 1576.01 1483.47 Q1573.7 1480.7 1573.7 1475.35 M1584.41 1459.03 L1584.41 1459.03 Z\" fill=\"#000000\" fill-rule=\"evenodd\" fill-opacity=\"1\" /><path clip-path=\"url(#clip220)\" d=\"M1604.18 1449.56 L1608.44 1449.56 L1608.44 1485.58 L1604.18 1485.58 L1604.18 1449.56 Z\" fill=\"#000000\" fill-rule=\"evenodd\" fill-opacity=\"1\" /><path clip-path=\"url(#clip220)\" d=\"M1617.35 1459.65 L1621.61 1459.65 L1621.61 1485.58 L1617.35 1485.58 L1617.35 1459.65 M1617.35 1449.56 L1621.61 1449.56 L1621.61 1454.96 L1617.35 1454.96 L1617.35 1449.56 Z\" fill=\"#000000\" fill-rule=\"evenodd\" fill-opacity=\"1\" /><path clip-path=\"url(#clip220)\" d=\"M1642.31 1472.55 Q1637.14 1472.55 1635.15 1473.73 Q1633.16 1474.91 1633.16 1477.76 Q1633.16 1480.02 1634.64 1481.37 Q1636.15 1482.69 1638.72 1482.69 Q1642.26 1482.69 1644.39 1480.19 Q1646.54 1477.66 1646.54 1473.5 L1646.54 1472.55 L1642.31 1472.55 M1650.8 1470.79 L1650.8 1485.58 L1646.54 1485.58 L1646.54 1481.64 Q1645.08 1484.01 1642.91 1485.14 Q1640.73 1486.25 1637.58 1486.25 Q1633.6 1486.25 1631.24 1484.03 Q1628.9 1481.78 1628.9 1478.03 Q1628.9 1473.66 1631.82 1471.44 Q1634.76 1469.21 1640.57 1469.21 L1646.54 1469.21 L1646.54 1468.8 Q1646.54 1465.86 1644.6 1464.26 Q1642.68 1462.64 1639.18 1462.64 Q1636.96 1462.64 1634.85 1463.17 Q1632.75 1463.7 1630.8 1464.77 L1630.8 1460.83 Q1633.14 1459.93 1635.34 1459.49 Q1637.54 1459.03 1639.62 1459.03 Q1645.25 1459.03 1648.02 1461.95 Q1650.8 1464.86 1650.8 1470.79 Z\" fill=\"#000000\" fill-rule=\"evenodd\" fill-opacity=\"1\" /><path clip-path=\"url(#clip220)\" d=\"M1658.9 1449.61 L1662.61 1449.61 Q1666.08 1455.07 1667.79 1460.3 Q1669.53 1465.53 1669.53 1470.7 Q1669.53 1475.88 1667.79 1481.14 Q1666.08 1486.39 1662.61 1491.83 L1658.9 1491.83 Q1661.98 1486.53 1663.49 1481.3 Q1665.02 1476.04 1665.02 1470.7 Q1665.02 1465.35 1663.49 1460.14 Q1661.98 1454.93 1658.9 1449.61 Z\" fill=\"#000000\" fill-rule=\"evenodd\" fill-opacity=\"1\" /><path clip-path=\"url(#clip220)\" d=\"M1832.73 1464.63 Q1834.32 1461.76 1836.55 1460.39 Q1838.77 1459.03 1841.78 1459.03 Q1845.83 1459.03 1848.03 1461.88 Q1850.23 1464.7 1850.23 1469.93 L1850.23 1485.58 L1845.94 1485.58 L1845.94 1470.07 Q1845.94 1466.34 1844.63 1464.54 Q1843.31 1462.73 1840.6 1462.73 Q1837.29 1462.73 1835.37 1464.93 Q1833.44 1467.13 1833.44 1470.93 L1833.44 1485.58 L1829.16 1485.58 L1829.16 1470.07 Q1829.16 1466.32 1827.84 1464.54 Q1826.52 1462.73 1823.77 1462.73 Q1820.51 1462.73 1818.58 1464.95 Q1816.66 1467.15 1816.66 1470.93 L1816.66 1485.58 L1812.38 1485.58 L1812.38 1459.65 L1816.66 1459.65 L1816.66 1463.68 Q1818.12 1461.3 1820.16 1460.16 Q1822.19 1459.03 1825 1459.03 Q1827.82 1459.03 1829.79 1460.46 Q1831.78 1461.9 1832.73 1464.63 Z\" fill=\"#000000\" fill-rule=\"evenodd\" fill-opacity=\"1\" /><path clip-path=\"url(#clip220)\" d=\"M1869.51 1487.99 Q1867.7 1492.62 1865.99 1494.03 Q1864.28 1495.44 1861.41 1495.44 L1858 1495.44 L1858 1491.88 L1860.5 1491.88 Q1862.26 1491.88 1863.24 1491.04 Q1864.21 1490.21 1865.39 1487.11 L1866.15 1485.16 L1855.67 1459.65 L1860.18 1459.65 L1868.28 1479.93 L1876.38 1459.65 L1880.9 1459.65 L1869.51 1487.99 Z\" fill=\"#000000\" fill-rule=\"evenodd\" fill-opacity=\"1\" /><path clip-path=\"url(#clip220)\" d=\"M1906.48 1493.45 L1906.48 1496.76 L1881.85 1496.76 L1881.85 1493.45 L1906.48 1493.45 Z\" fill=\"#000000\" fill-rule=\"evenodd\" fill-opacity=\"1\" /><path clip-path=\"url(#clip220)\" d=\"M1923.61 1449.56 L1923.61 1453.1 L1919.53 1453.1 Q1917.24 1453.1 1916.34 1454.03 Q1915.46 1454.96 1915.46 1457.36 L1915.46 1459.65 L1922.47 1459.65 L1922.47 1462.96 L1915.46 1462.96 L1915.46 1485.58 L1911.18 1485.58 L1911.18 1462.96 L1907.1 1462.96 L1907.1 1459.65 L1911.18 1459.65 L1911.18 1457.85 Q1911.18 1453.52 1913.19 1451.55 Q1915.2 1449.56 1919.58 1449.56 L1923.61 1449.56 Z\" fill=\"#000000\" fill-rule=\"evenodd\" fill-opacity=\"1\" /><path clip-path=\"url(#clip220)\" d=\"M1938.95 1472.55 Q1933.79 1472.55 1931.8 1473.73 Q1929.81 1474.91 1929.81 1477.76 Q1929.81 1480.02 1931.29 1481.37 Q1932.8 1482.69 1935.37 1482.69 Q1938.91 1482.69 1941.04 1480.19 Q1943.19 1477.66 1943.19 1473.5 L1943.19 1472.55 L1938.95 1472.55 M1947.45 1470.79 L1947.45 1485.58 L1943.19 1485.58 L1943.19 1481.64 Q1941.73 1484.01 1939.56 1485.14 Q1937.38 1486.25 1934.23 1486.25 Q1930.25 1486.25 1927.89 1484.03 Q1925.55 1481.78 1925.55 1478.03 Q1925.55 1473.66 1928.47 1471.44 Q1931.41 1469.21 1937.22 1469.21 L1943.19 1469.21 L1943.19 1468.8 Q1943.19 1465.86 1941.25 1464.26 Q1939.32 1462.64 1935.83 1462.64 Q1933.61 1462.64 1931.5 1463.17 Q1929.39 1463.7 1927.45 1464.77 L1927.45 1460.83 Q1929.79 1459.93 1931.99 1459.49 Q1934.19 1459.03 1936.27 1459.03 Q1941.89 1459.03 1944.67 1461.95 Q1947.45 1464.86 1947.45 1470.79 Z\" fill=\"#000000\" fill-rule=\"evenodd\" fill-opacity=\"1\" /><path clip-path=\"url(#clip220)\" d=\"M1972.75 1460.42 L1972.75 1464.45 Q1970.94 1463.52 1969 1463.06 Q1967.06 1462.59 1964.97 1462.59 Q1961.8 1462.59 1960.2 1463.57 Q1958.63 1464.54 1958.63 1466.48 Q1958.63 1467.96 1959.76 1468.82 Q1960.9 1469.65 1964.32 1470.42 L1965.78 1470.74 Q1970.32 1471.71 1972.22 1473.5 Q1974.14 1475.26 1974.14 1478.43 Q1974.14 1482.04 1971.27 1484.14 Q1968.42 1486.25 1963.42 1486.25 Q1961.34 1486.25 1959.07 1485.83 Q1956.82 1485.44 1954.32 1484.63 L1954.32 1480.23 Q1956.68 1481.46 1958.98 1482.08 Q1961.27 1482.69 1963.51 1482.69 Q1966.52 1482.69 1968.14 1481.67 Q1969.76 1480.63 1969.76 1478.75 Q1969.76 1477.02 1968.58 1476.09 Q1967.43 1475.16 1963.47 1474.31 L1961.99 1473.96 Q1958.03 1473.13 1956.27 1471.41 Q1954.51 1469.68 1954.51 1466.67 Q1954.51 1463.01 1957.1 1461.02 Q1959.69 1459.03 1964.46 1459.03 Q1966.82 1459.03 1968.91 1459.38 Q1970.99 1459.72 1972.75 1460.42 Z\" fill=\"#000000\" fill-rule=\"evenodd\" fill-opacity=\"1\" /><path clip-path=\"url(#clip220)\" d=\"M1985.13 1452.29 L1985.13 1459.65 L1993.91 1459.65 L1993.91 1462.96 L1985.13 1462.96 L1985.13 1477.04 Q1985.13 1480.21 1985.99 1481.11 Q1986.87 1482.02 1989.53 1482.02 L1993.91 1482.02 L1993.91 1485.58 L1989.53 1485.58 Q1984.6 1485.58 1982.73 1483.75 Q1980.85 1481.9 1980.85 1477.04 L1980.85 1462.96 L1977.73 1462.96 L1977.73 1459.65 L1980.85 1459.65 L1980.85 1452.29 L1985.13 1452.29 Z\" fill=\"#000000\" fill-rule=\"evenodd\" fill-opacity=\"1\" /><path clip-path=\"url(#clip220)\" d=\"M2019.21 1493.45 L2019.21 1496.76 L1994.58 1496.76 L1994.58 1493.45 L2019.21 1493.45 Z\" fill=\"#000000\" fill-rule=\"evenodd\" fill-opacity=\"1\" /><path clip-path=\"url(#clip220)\" d=\"M2039.74 1460.42 L2039.74 1464.45 Q2037.93 1463.52 2035.99 1463.06 Q2034.05 1462.59 2031.96 1462.59 Q2028.79 1462.59 2027.19 1463.57 Q2025.62 1464.54 2025.62 1466.48 Q2025.62 1467.96 2026.75 1468.82 Q2027.89 1469.65 2031.31 1470.42 L2032.77 1470.74 Q2037.31 1471.71 2039.21 1473.5 Q2041.13 1475.26 2041.13 1478.43 Q2041.13 1482.04 2038.26 1484.14 Q2035.41 1486.25 2030.41 1486.25 Q2028.33 1486.25 2026.06 1485.83 Q2023.81 1485.44 2021.31 1484.63 L2021.31 1480.23 Q2023.68 1481.46 2025.97 1482.08 Q2028.26 1482.69 2030.5 1482.69 Q2033.51 1482.69 2035.13 1481.67 Q2036.75 1480.63 2036.75 1478.75 Q2036.75 1477.02 2035.57 1476.09 Q2034.42 1475.16 2030.46 1474.31 L2028.98 1473.96 Q2025.02 1473.13 2023.26 1471.41 Q2021.5 1469.68 2021.5 1466.67 Q2021.5 1463.01 2024.09 1461.02 Q2026.68 1459.03 2031.45 1459.03 Q2033.81 1459.03 2035.9 1459.38 Q2037.98 1459.72 2039.74 1460.42 Z\" fill=\"#000000\" fill-rule=\"evenodd\" fill-opacity=\"1\" /><path clip-path=\"url(#clip220)\" d=\"M2047.47 1475.35 L2047.47 1459.65 L2051.73 1459.65 L2051.73 1475.19 Q2051.73 1478.87 2053.17 1480.72 Q2054.6 1482.55 2057.47 1482.55 Q2060.92 1482.55 2062.91 1480.35 Q2064.93 1478.15 2064.93 1474.35 L2064.93 1459.65 L2069.18 1459.65 L2069.18 1485.58 L2064.93 1485.58 L2064.93 1481.6 Q2063.37 1483.96 2061.31 1485.12 Q2059.28 1486.25 2056.57 1486.25 Q2052.1 1486.25 2049.79 1483.47 Q2047.47 1480.7 2047.47 1475.35 M2058.19 1459.03 L2058.19 1459.03 Z\" fill=\"#000000\" fill-rule=\"evenodd\" fill-opacity=\"1\" /><path clip-path=\"url(#clip220)\" d=\"M2098.14 1464.63 Q2099.74 1461.76 2101.96 1460.39 Q2104.18 1459.03 2107.19 1459.03 Q2111.24 1459.03 2113.44 1461.88 Q2115.64 1464.7 2115.64 1469.93 L2115.64 1485.58 L2111.36 1485.58 L2111.36 1470.07 Q2111.36 1466.34 2110.04 1464.54 Q2108.72 1462.73 2106.01 1462.73 Q2102.7 1462.73 2100.78 1464.93 Q2098.86 1467.13 2098.86 1470.93 L2098.86 1485.58 L2094.58 1485.58 L2094.58 1470.07 Q2094.58 1466.32 2093.26 1464.54 Q2091.94 1462.73 2089.18 1462.73 Q2085.92 1462.73 2084 1464.95 Q2082.08 1467.15 2082.08 1470.93 L2082.08 1485.58 L2077.8 1485.58 L2077.8 1459.65 L2082.08 1459.65 L2082.08 1463.68 Q2083.54 1461.3 2085.57 1460.16 Q2087.61 1459.03 2090.41 1459.03 Q2093.24 1459.03 2095.2 1460.46 Q2097.19 1461.9 2098.14 1464.63 Z\" fill=\"#000000\" fill-rule=\"evenodd\" fill-opacity=\"1\" /><path clip-path=\"url(#clip220)\" d=\"M2149.44 1449.61 Q2146.34 1454.93 2144.83 1460.14 Q2143.33 1465.35 2143.33 1470.7 Q2143.33 1476.04 2144.83 1481.3 Q2146.36 1486.53 2149.44 1491.83 L2145.73 1491.83 Q2142.26 1486.39 2140.53 1481.14 Q2138.81 1475.88 2138.81 1470.7 Q2138.81 1465.53 2140.53 1460.3 Q2142.24 1455.07 2145.73 1449.61 L2149.44 1449.61 Z\" fill=\"#000000\" fill-rule=\"evenodd\" fill-opacity=\"1\" /><path clip-path=\"url(#clip220)\" d=\"M2157.89 1451.02 L2162.56 1451.02 L2162.56 1483.17 Q2162.56 1489.42 2160.18 1492.25 Q2157.82 1495.07 2152.56 1495.07 L2150.78 1495.07 L2150.78 1491.14 L2152.24 1491.14 Q2155.34 1491.14 2156.61 1489.4 Q2157.89 1487.66 2157.89 1483.17 L2157.89 1451.02 Z\" fill=\"#000000\" fill-rule=\"evenodd\" fill-opacity=\"1\" /><path clip-path=\"url(#clip220)\" d=\"M2171.24 1475.35 L2171.24 1459.65 L2175.5 1459.65 L2175.5 1475.19 Q2175.5 1478.87 2176.94 1480.72 Q2178.37 1482.55 2181.24 1482.55 Q2184.69 1482.55 2186.68 1480.35 Q2188.7 1478.15 2188.7 1474.35 L2188.7 1459.65 L2192.96 1459.65 L2192.96 1485.58 L2188.7 1485.58 L2188.7 1481.6 Q2187.15 1483.96 2185.09 1485.12 Q2183.05 1486.25 2180.34 1486.25 Q2175.87 1486.25 2173.56 1483.47 Q2171.24 1480.7 2171.24 1475.35 M2181.96 1459.03 L2181.96 1459.03 Z\" fill=\"#000000\" fill-rule=\"evenodd\" fill-opacity=\"1\" /><path clip-path=\"url(#clip220)\" d=\"M2201.73 1449.56 L2205.99 1449.56 L2205.99 1485.58 L2201.73 1485.58 L2201.73 1449.56 Z\" fill=\"#000000\" fill-rule=\"evenodd\" fill-opacity=\"1\" /><path clip-path=\"url(#clip220)\" d=\"M2214.9 1459.65 L2219.16 1459.65 L2219.16 1485.58 L2214.9 1485.58 L2214.9 1459.65 M2214.9 1449.56 L2219.16 1449.56 L2219.16 1454.96 L2214.9 1454.96 L2214.9 1449.56 Z\" fill=\"#000000\" fill-rule=\"evenodd\" fill-opacity=\"1\" /><path clip-path=\"url(#clip220)\" d=\"M2239.85 1472.55 Q2234.69 1472.55 2232.7 1473.73 Q2230.71 1474.91 2230.71 1477.76 Q2230.71 1480.02 2232.19 1481.37 Q2233.7 1482.69 2236.27 1482.69 Q2239.81 1482.69 2241.94 1480.19 Q2244.09 1477.66 2244.09 1473.5 L2244.09 1472.55 L2239.85 1472.55 M2248.35 1470.79 L2248.35 1485.58 L2244.09 1485.58 L2244.09 1481.64 Q2242.63 1484.01 2240.46 1485.14 Q2238.28 1486.25 2235.13 1486.25 Q2231.15 1486.25 2228.79 1484.03 Q2226.45 1481.78 2226.45 1478.03 Q2226.45 1473.66 2229.37 1471.44 Q2232.31 1469.21 2238.12 1469.21 L2244.09 1469.21 L2244.09 1468.8 Q2244.09 1465.86 2242.15 1464.26 Q2240.23 1462.64 2236.73 1462.64 Q2234.51 1462.64 2232.4 1463.17 Q2230.29 1463.7 2228.35 1464.77 L2228.35 1460.83 Q2230.69 1459.93 2232.89 1459.49 Q2235.09 1459.03 2237.17 1459.03 Q2242.79 1459.03 2245.57 1461.95 Q2248.35 1464.86 2248.35 1470.79 Z\" fill=\"#000000\" fill-rule=\"evenodd\" fill-opacity=\"1\" /><path clip-path=\"url(#clip220)\" d=\"M2256.45 1449.61 L2260.16 1449.61 Q2263.63 1455.07 2265.34 1460.3 Q2267.08 1465.53 2267.08 1470.7 Q2267.08 1475.88 2265.34 1481.14 Q2263.63 1486.39 2260.16 1491.83 L2256.45 1491.83 Q2259.53 1486.53 2261.04 1481.3 Q2262.56 1476.04 2262.56 1470.7 Q2262.56 1465.35 2261.04 1460.14 Q2259.53 1454.93 2256.45 1449.61 Z\" fill=\"#000000\" fill-rule=\"evenodd\" fill-opacity=\"1\" /><path clip-path=\"url(#clip220)\" d=\"M1193.18 1518.52 L1193.18 1523.39 L1187.58 1523.39 Q1184.43 1523.39 1183.19 1524.66 Q1181.98 1525.93 1181.98 1529.24 L1181.98 1532.4 L1191.62 1532.4 L1191.62 1536.95 L1181.98 1536.95 L1181.98 1568.04 L1176.09 1568.04 L1176.09 1536.95 L1170.49 1536.95 L1170.49 1532.4 L1176.09 1532.4 L1176.09 1529.91 Q1176.09 1523.96 1178.86 1521.26 Q1181.63 1518.52 1187.64 1518.52 L1193.18 1518.52 Z\" fill=\"#000000\" fill-rule=\"evenodd\" fill-opacity=\"1\" /><path clip-path=\"url(#clip220)\" d=\"M1197.48 1553.98 L1197.48 1532.4 L1203.33 1532.4 L1203.33 1553.75 Q1203.33 1558.81 1205.31 1561.36 Q1207.28 1563.87 1211.23 1563.87 Q1215.97 1563.87 1218.71 1560.85 Q1221.47 1557.83 1221.47 1552.61 L1221.47 1532.4 L1227.33 1532.4 L1227.33 1568.04 L1221.47 1568.04 L1221.47 1562.57 Q1219.34 1565.82 1216.51 1567.41 Q1213.71 1568.97 1209.98 1568.97 Q1203.84 1568.97 1200.66 1565.15 Q1197.48 1561.33 1197.48 1553.98 M1212.21 1531.54 L1212.21 1531.54 Z\" fill=\"#000000\" fill-rule=\"evenodd\" fill-opacity=\"1\" /><path clip-path=\"url(#clip220)\" d=\"M1269.03 1546.53 L1269.03 1568.04 L1263.17 1568.04 L1263.17 1546.72 Q1263.17 1541.66 1261.2 1539.14 Q1259.22 1536.63 1255.28 1536.63 Q1250.53 1536.63 1247.8 1539.65 Q1245.06 1542.68 1245.06 1547.9 L1245.06 1568.04 L1239.17 1568.04 L1239.17 1532.4 L1245.06 1532.4 L1245.06 1537.93 Q1247.16 1534.72 1249.99 1533.13 Q1252.86 1531.54 1256.58 1531.54 Q1262.72 1531.54 1265.88 1535.36 Q1269.03 1539.14 1269.03 1546.53 Z\" fill=\"#000000\" fill-rule=\"evenodd\" fill-opacity=\"1\" /><path clip-path=\"url(#clip220)\" d=\"M1306.36 1533.76 L1306.36 1539.24 Q1303.88 1537.87 1301.36 1537.2 Q1298.88 1536.5 1296.34 1536.5 Q1290.64 1536.5 1287.49 1540.13 Q1284.34 1543.73 1284.34 1550.25 Q1284.34 1556.78 1287.49 1560.4 Q1290.64 1564 1296.34 1564 Q1298.88 1564 1301.36 1563.33 Q1303.88 1562.63 1306.36 1561.26 L1306.36 1566.68 Q1303.91 1567.82 1301.27 1568.39 Q1298.66 1568.97 1295.7 1568.97 Q1287.65 1568.97 1282.9 1563.91 Q1278.16 1558.85 1278.16 1550.25 Q1278.16 1541.53 1282.94 1536.53 Q1287.74 1531.54 1296.08 1531.54 Q1298.79 1531.54 1301.36 1532.11 Q1303.94 1532.65 1306.36 1533.76 Z\" fill=\"#000000\" fill-rule=\"evenodd\" fill-opacity=\"1\" /><path clip-path=\"url(#clip220)\" d=\"M1322.34 1522.27 L1322.34 1532.4 L1334.4 1532.4 L1334.4 1536.95 L1322.34 1536.95 L1322.34 1556.3 Q1322.34 1560.66 1323.52 1561.9 Q1324.73 1563.14 1328.39 1563.14 L1334.4 1563.14 L1334.4 1568.04 L1328.39 1568.04 Q1321.61 1568.04 1319.03 1565.53 Q1316.45 1562.98 1316.45 1556.3 L1316.45 1536.95 L1312.15 1536.95 L1312.15 1532.4 L1316.45 1532.4 L1316.45 1522.27 L1322.34 1522.27 Z\" fill=\"#000000\" fill-rule=\"evenodd\" fill-opacity=\"1\" /><path clip-path=\"url(#clip220)\" d=\"M1342.11 1532.4 L1347.96 1532.4 L1347.96 1568.04 L1342.11 1568.04 L1342.11 1532.4 M1342.11 1518.52 L1347.96 1518.52 L1347.96 1525.93 L1342.11 1525.93 L1342.11 1518.52 Z\" fill=\"#000000\" fill-rule=\"evenodd\" fill-opacity=\"1\" /><path clip-path=\"url(#clip220)\" d=\"M1374.03 1536.5 Q1369.32 1536.5 1366.58 1540.19 Q1363.84 1543.85 1363.84 1550.25 Q1363.84 1556.65 1366.55 1560.34 Q1369.29 1564 1374.03 1564 Q1378.71 1564 1381.45 1560.31 Q1384.18 1556.62 1384.18 1550.25 Q1384.18 1543.92 1381.45 1540.23 Q1378.71 1536.5 1374.03 1536.5 M1374.03 1531.54 Q1381.67 1531.54 1386.03 1536.5 Q1390.39 1541.47 1390.39 1550.25 Q1390.39 1559 1386.03 1564 Q1381.67 1568.97 1374.03 1568.97 Q1366.36 1568.97 1362 1564 Q1357.67 1559 1357.67 1550.25 Q1357.67 1541.47 1362 1536.5 Q1366.36 1531.54 1374.03 1531.54 Z\" fill=\"#000000\" fill-rule=\"evenodd\" fill-opacity=\"1\" /><path clip-path=\"url(#clip220)\" d=\"M1429.73 1546.53 L1429.73 1568.04 L1423.87 1568.04 L1423.87 1546.72 Q1423.87 1541.66 1421.9 1539.14 Q1419.93 1536.63 1415.98 1536.63 Q1411.24 1536.63 1408.5 1539.65 Q1405.76 1542.68 1405.76 1547.9 L1405.76 1568.04 L1399.87 1568.04 L1399.87 1532.4 L1405.76 1532.4 L1405.76 1537.93 Q1407.86 1534.72 1410.7 1533.13 Q1413.56 1531.54 1417.28 1531.54 Q1423.43 1531.54 1426.58 1535.36 Q1429.73 1539.14 1429.73 1546.53 Z\" fill=\"#000000\" fill-rule=\"evenodd\" fill-opacity=\"1\" /><polyline clip-path=\"url(#clip222)\" style=\"stroke:#000000; stroke-linecap:butt; stroke-linejoin:round; stroke-width:2; stroke-opacity:0.1; fill:none\" points=\"\n",
       "  247.459,1384.24 2352.76,1384.24 \n",
       "  \"/>\n",
       "<polyline clip-path=\"url(#clip222)\" style=\"stroke:#000000; stroke-linecap:butt; stroke-linejoin:round; stroke-width:2; stroke-opacity:0.1; fill:none\" points=\"\n",
       "  247.459,1102.05 2352.76,1102.05 \n",
       "  \"/>\n",
       "<polyline clip-path=\"url(#clip222)\" style=\"stroke:#000000; stroke-linecap:butt; stroke-linejoin:round; stroke-width:2; stroke-opacity:0.1; fill:none\" points=\"\n",
       "  247.459,819.868 2352.76,819.868 \n",
       "  \"/>\n",
       "<polyline clip-path=\"url(#clip222)\" style=\"stroke:#000000; stroke-linecap:butt; stroke-linejoin:round; stroke-width:2; stroke-opacity:0.1; fill:none\" points=\"\n",
       "  247.459,537.682 2352.76,537.682 \n",
       "  \"/>\n",
       "<polyline clip-path=\"url(#clip222)\" style=\"stroke:#000000; stroke-linecap:butt; stroke-linejoin:round; stroke-width:2; stroke-opacity:0.1; fill:none\" points=\"\n",
       "  247.459,255.497 2352.76,255.497 \n",
       "  \"/>\n",
       "<polyline clip-path=\"url(#clip220)\" style=\"stroke:#000000; stroke-linecap:butt; stroke-linejoin:round; stroke-width:4; stroke-opacity:1; fill:none\" points=\"\n",
       "  247.459,1423.18 247.459,47.2441 \n",
       "  \"/>\n",
       "<polyline clip-path=\"url(#clip220)\" style=\"stroke:#000000; stroke-linecap:butt; stroke-linejoin:round; stroke-width:4; stroke-opacity:1; fill:none\" points=\"\n",
       "  247.459,1384.24 266.356,1384.24 \n",
       "  \"/>\n",
       "<polyline clip-path=\"url(#clip220)\" style=\"stroke:#000000; stroke-linecap:butt; stroke-linejoin:round; stroke-width:4; stroke-opacity:1; fill:none\" points=\"\n",
       "  247.459,1102.05 266.356,1102.05 \n",
       "  \"/>\n",
       "<polyline clip-path=\"url(#clip220)\" style=\"stroke:#000000; stroke-linecap:butt; stroke-linejoin:round; stroke-width:4; stroke-opacity:1; fill:none\" points=\"\n",
       "  247.459,819.868 266.356,819.868 \n",
       "  \"/>\n",
       "<polyline clip-path=\"url(#clip220)\" style=\"stroke:#000000; stroke-linecap:butt; stroke-linejoin:round; stroke-width:4; stroke-opacity:1; fill:none\" points=\"\n",
       "  247.459,537.682 266.356,537.682 \n",
       "  \"/>\n",
       "<polyline clip-path=\"url(#clip220)\" style=\"stroke:#000000; stroke-linecap:butt; stroke-linejoin:round; stroke-width:4; stroke-opacity:1; fill:none\" points=\"\n",
       "  247.459,255.497 266.356,255.497 \n",
       "  \"/>\n",
       "<path clip-path=\"url(#clip220)\" d=\"M154.283 1370.04 Q150.672 1370.04 148.843 1373.6 Q147.038 1377.14 147.038 1384.27 Q147.038 1391.38 148.843 1394.94 Q150.672 1398.49 154.283 1398.49 Q157.917 1398.49 159.723 1394.94 Q161.552 1391.38 161.552 1384.27 Q161.552 1377.14 159.723 1373.6 Q157.917 1370.04 154.283 1370.04 M154.283 1366.33 Q160.093 1366.33 163.149 1370.94 Q166.227 1375.52 166.227 1384.27 Q166.227 1393 163.149 1397.61 Q160.093 1402.19 154.283 1402.19 Q148.473 1402.19 145.394 1397.61 Q142.339 1393 142.339 1384.27 Q142.339 1375.52 145.394 1370.94 Q148.473 1366.33 154.283 1366.33 Z\" fill=\"#000000\" fill-rule=\"evenodd\" fill-opacity=\"1\" /><path clip-path=\"url(#clip220)\" d=\"M174.445 1395.64 L179.329 1395.64 L179.329 1401.52 L174.445 1401.52 L174.445 1395.64 Z\" fill=\"#000000\" fill-rule=\"evenodd\" fill-opacity=\"1\" /><path clip-path=\"url(#clip220)\" d=\"M199.514 1370.04 Q195.903 1370.04 194.075 1373.6 Q192.269 1377.14 192.269 1384.27 Q192.269 1391.38 194.075 1394.94 Q195.903 1398.49 199.514 1398.49 Q203.149 1398.49 204.954 1394.94 Q206.783 1391.38 206.783 1384.27 Q206.783 1377.14 204.954 1373.6 Q203.149 1370.04 199.514 1370.04 M199.514 1366.33 Q205.324 1366.33 208.38 1370.94 Q211.459 1375.52 211.459 1384.27 Q211.459 1393 208.38 1397.61 Q205.324 1402.19 199.514 1402.19 Q193.704 1402.19 190.625 1397.61 Q187.57 1393 187.57 1384.27 Q187.57 1375.52 190.625 1370.94 Q193.704 1366.33 199.514 1366.33 Z\" fill=\"#000000\" fill-rule=\"evenodd\" fill-opacity=\"1\" /><path clip-path=\"url(#clip220)\" d=\"M149.306 1115.4 L165.626 1115.4 L165.626 1119.33 L143.681 1119.33 L143.681 1115.4 Q146.343 1112.64 150.927 1108.01 Q155.533 1103.36 156.714 1102.02 Q158.959 1099.5 159.839 1097.76 Q160.741 1096 160.741 1094.31 Q160.741 1091.56 158.797 1089.82 Q156.876 1088.08 153.774 1088.08 Q151.575 1088.08 149.121 1088.85 Q146.691 1089.61 143.913 1091.16 L143.913 1086.44 Q146.737 1085.31 149.191 1084.73 Q151.644 1084.15 153.681 1084.15 Q159.052 1084.15 162.246 1086.83 Q165.44 1089.52 165.44 1094.01 Q165.44 1096.14 164.63 1098.06 Q163.843 1099.96 161.737 1102.55 Q161.158 1103.22 158.056 1106.44 Q154.954 1109.63 149.306 1115.4 Z\" fill=\"#000000\" fill-rule=\"evenodd\" fill-opacity=\"1\" /><path clip-path=\"url(#clip220)\" d=\"M175.44 1113.45 L180.325 1113.45 L180.325 1119.33 L175.44 1119.33 L175.44 1113.45 Z\" fill=\"#000000\" fill-rule=\"evenodd\" fill-opacity=\"1\" /><path clip-path=\"url(#clip220)\" d=\"M190.556 1084.77 L208.912 1084.77 L208.912 1088.71 L194.838 1088.71 L194.838 1097.18 Q195.857 1096.83 196.875 1096.67 Q197.894 1096.49 198.912 1096.49 Q204.699 1096.49 208.079 1099.66 Q211.459 1102.83 211.459 1108.25 Q211.459 1113.82 207.987 1116.93 Q204.514 1120 198.195 1120 Q196.019 1120 193.75 1119.63 Q191.505 1119.26 189.098 1118.52 L189.098 1113.82 Q191.181 1114.96 193.403 1115.51 Q195.625 1116.07 198.102 1116.07 Q202.107 1116.07 204.445 1113.96 Q206.783 1111.86 206.783 1108.25 Q206.783 1104.63 204.445 1102.53 Q202.107 1100.42 198.102 1100.42 Q196.227 1100.42 194.352 1100.84 Q192.5 1101.25 190.556 1102.13 L190.556 1084.77 Z\" fill=\"#000000\" fill-rule=\"evenodd\" fill-opacity=\"1\" /><path clip-path=\"url(#clip220)\" d=\"M144.329 802.588 L162.686 802.588 L162.686 806.523 L148.612 806.523 L148.612 814.995 Q149.63 814.648 150.649 814.486 Q151.667 814.3 152.686 814.3 Q158.473 814.3 161.852 817.472 Q165.232 820.643 165.232 826.06 Q165.232 831.638 161.76 834.74 Q158.288 837.819 151.968 837.819 Q149.792 837.819 147.524 837.448 Q145.279 837.078 142.871 836.337 L142.871 831.638 Q144.954 832.773 147.177 833.328 Q149.399 833.884 151.876 833.884 Q155.88 833.884 158.218 831.777 Q160.556 829.671 160.556 826.06 Q160.556 822.449 158.218 820.342 Q155.88 818.236 151.876 818.236 Q150.001 818.236 148.126 818.652 Q146.274 819.069 144.329 819.949 L144.329 802.588 Z\" fill=\"#000000\" fill-rule=\"evenodd\" fill-opacity=\"1\" /><path clip-path=\"url(#clip220)\" d=\"M174.445 831.268 L179.329 831.268 L179.329 837.148 L174.445 837.148 L174.445 831.268 Z\" fill=\"#000000\" fill-rule=\"evenodd\" fill-opacity=\"1\" /><path clip-path=\"url(#clip220)\" d=\"M199.514 805.666 Q195.903 805.666 194.075 809.231 Q192.269 812.773 192.269 819.902 Q192.269 827.009 194.075 830.574 Q195.903 834.115 199.514 834.115 Q203.149 834.115 204.954 830.574 Q206.783 827.009 206.783 819.902 Q206.783 812.773 204.954 809.231 Q203.149 805.666 199.514 805.666 M199.514 801.963 Q205.324 801.963 208.38 806.569 Q211.459 811.152 211.459 819.902 Q211.459 828.629 208.38 833.236 Q205.324 837.819 199.514 837.819 Q193.704 837.819 190.625 833.236 Q187.57 828.629 187.57 819.902 Q187.57 811.152 190.625 806.569 Q193.704 801.963 199.514 801.963 Z\" fill=\"#000000\" fill-rule=\"evenodd\" fill-opacity=\"1\" /><path clip-path=\"url(#clip220)\" d=\"M144.098 520.402 L166.32 520.402 L166.32 522.393 L153.774 554.962 L148.89 554.962 L160.695 524.337 L144.098 524.337 L144.098 520.402 Z\" fill=\"#000000\" fill-rule=\"evenodd\" fill-opacity=\"1\" /><path clip-path=\"url(#clip220)\" d=\"M175.44 549.083 L180.325 549.083 L180.325 554.962 L175.44 554.962 L175.44 549.083 Z\" fill=\"#000000\" fill-rule=\"evenodd\" fill-opacity=\"1\" /><path clip-path=\"url(#clip220)\" d=\"M190.556 520.402 L208.912 520.402 L208.912 524.337 L194.838 524.337 L194.838 532.81 Q195.857 532.462 196.875 532.3 Q197.894 532.115 198.912 532.115 Q204.699 532.115 208.079 535.286 Q211.459 538.458 211.459 543.874 Q211.459 549.453 207.987 552.555 Q204.514 555.634 198.195 555.634 Q196.019 555.634 193.75 555.263 Q191.505 554.893 189.098 554.152 L189.098 549.453 Q191.181 550.587 193.403 551.143 Q195.625 551.698 198.102 551.698 Q202.107 551.698 204.445 549.592 Q206.783 547.485 206.783 543.874 Q206.783 540.263 204.445 538.157 Q202.107 536.05 198.102 536.05 Q196.227 536.05 194.352 536.467 Q192.5 536.884 190.556 537.763 L190.556 520.402 Z\" fill=\"#000000\" fill-rule=\"evenodd\" fill-opacity=\"1\" /><path clip-path=\"url(#clip220)\" d=\"M114.931 268.842 L122.57 268.842 L122.57 242.476 L114.26 244.143 L114.26 239.884 L122.524 238.217 L127.2 238.217 L127.2 268.842 L134.839 268.842 L134.839 272.777 L114.931 272.777 L114.931 268.842 Z\" fill=\"#000000\" fill-rule=\"evenodd\" fill-opacity=\"1\" /><path clip-path=\"url(#clip220)\" d=\"M154.283 241.296 Q150.672 241.296 148.843 244.86 Q147.038 248.402 147.038 255.532 Q147.038 262.638 148.843 266.203 Q150.672 269.744 154.283 269.744 Q157.917 269.744 159.723 266.203 Q161.552 262.638 161.552 255.532 Q161.552 248.402 159.723 244.86 Q157.917 241.296 154.283 241.296 M154.283 237.592 Q160.093 237.592 163.149 242.198 Q166.227 246.782 166.227 255.532 Q166.227 264.258 163.149 268.865 Q160.093 273.448 154.283 273.448 Q148.473 273.448 145.394 268.865 Q142.339 264.258 142.339 255.532 Q142.339 246.782 145.394 242.198 Q148.473 237.592 154.283 237.592 Z\" fill=\"#000000\" fill-rule=\"evenodd\" fill-opacity=\"1\" /><path clip-path=\"url(#clip220)\" d=\"M174.445 266.897 L179.329 266.897 L179.329 272.777 L174.445 272.777 L174.445 266.897 Z\" fill=\"#000000\" fill-rule=\"evenodd\" fill-opacity=\"1\" /><path clip-path=\"url(#clip220)\" d=\"M199.514 241.296 Q195.903 241.296 194.075 244.86 Q192.269 248.402 192.269 255.532 Q192.269 262.638 194.075 266.203 Q195.903 269.744 199.514 269.744 Q203.149 269.744 204.954 266.203 Q206.783 262.638 206.783 255.532 Q206.783 248.402 204.954 244.86 Q203.149 241.296 199.514 241.296 M199.514 237.592 Q205.324 237.592 208.38 242.198 Q211.459 246.782 211.459 255.532 Q211.459 264.258 208.38 268.865 Q205.324 273.448 199.514 273.448 Q193.704 273.448 190.625 268.865 Q187.57 264.258 187.57 255.532 Q187.57 246.782 190.625 242.198 Q193.704 237.592 199.514 237.592 Z\" fill=\"#000000\" fill-rule=\"evenodd\" fill-opacity=\"1\" /><path clip-path=\"url(#clip220)\" d=\"M18.2347 1163.94 L28.3562 1163.94 L28.3562 1151.88 L32.9077 1151.88 L32.9077 1163.94 L52.2594 1163.94 Q56.6199 1163.94 57.8613 1162.76 Q59.1026 1161.56 59.1026 1157.89 L59.1026 1151.88 L64.0042 1151.88 L64.0042 1157.89 Q64.0042 1164.67 61.4897 1167.25 Q58.9434 1169.83 52.2594 1169.83 L32.9077 1169.83 L32.9077 1174.13 L28.3562 1174.13 L28.3562 1169.83 L18.2347 1169.83 L18.2347 1163.94 Z\" fill=\"#000000\" fill-rule=\"evenodd\" fill-opacity=\"1\" /><path clip-path=\"url(#clip220)\" d=\"M28.3562 1144.18 L28.3562 1138.32 L64.0042 1138.32 L64.0042 1144.18 L28.3562 1144.18 M14.479 1144.18 L14.479 1138.32 L21.895 1138.32 L21.895 1144.18 L14.479 1144.18 Z\" fill=\"#000000\" fill-rule=\"evenodd\" fill-opacity=\"1\" /><path clip-path=\"url(#clip220)\" d=\"M35.1993 1098.31 Q31.2526 1096.12 29.3747 1093.06 Q27.4968 1090 27.4968 1085.87 Q27.4968 1080.3 31.4117 1077.27 Q35.2948 1074.25 42.4881 1074.25 L64.0042 1074.25 L64.0042 1080.14 L42.679 1080.14 Q37.5546 1080.14 35.072 1081.95 Q32.5894 1083.77 32.5894 1087.49 Q32.5894 1092.04 35.6131 1094.68 Q38.6368 1097.33 43.8567 1097.33 L64.0042 1097.33 L64.0042 1103.21 L42.679 1103.21 Q37.5228 1103.21 35.072 1105.03 Q32.5894 1106.84 32.5894 1110.63 Q32.5894 1115.12 35.6449 1117.76 Q38.6686 1120.4 43.8567 1120.4 L64.0042 1120.4 L64.0042 1126.29 L28.3562 1126.29 L28.3562 1120.4 L33.8944 1120.4 Q30.616 1118.4 29.0564 1115.59 Q27.4968 1112.79 27.4968 1108.94 Q27.4968 1105.06 29.4702 1102.35 Q31.4436 1099.62 35.1993 1098.31 Z\" fill=\"#000000\" fill-rule=\"evenodd\" fill-opacity=\"1\" /><path clip-path=\"url(#clip220)\" d=\"M44.7161 1032.08 L47.5806 1032.08 L47.5806 1059 Q53.6281 1058.62 56.8109 1055.38 Q59.9619 1052.1 59.9619 1046.27 Q59.9619 1042.9 59.1344 1039.75 Q58.3069 1036.56 56.6518 1033.45 L62.1899 1033.45 Q63.5267 1036.6 64.227 1039.91 Q64.9272 1043.22 64.9272 1046.62 Q64.9272 1055.15 59.9619 1060.15 Q54.9967 1065.11 46.5303 1065.11 Q37.7774 1065.11 32.6531 1060.4 Q27.4968 1055.66 27.4968 1047.64 Q27.4968 1040.45 32.1438 1036.28 Q36.7589 1032.08 44.7161 1032.08 M42.9973 1037.93 Q38.1912 1038 35.3266 1040.64 Q32.4621 1043.25 32.4621 1047.58 Q32.4621 1052.48 35.2312 1055.44 Q38.0002 1058.37 43.0292 1058.81 L42.9973 1037.93 Z\" fill=\"#000000\" fill-rule=\"evenodd\" fill-opacity=\"1\" /><path clip-path=\"url(#clip220)\" d=\"M14.5426 987.676 Q21.8632 991.941 29.0246 994.01 Q36.186 996.079 43.5384 996.079 Q50.8908 996.079 58.1159 994.01 Q65.3091 991.909 72.5979 987.676 L72.5979 992.768 Q65.1182 997.543 57.8931 999.93 Q50.668 1002.29 43.5384 1002.29 Q36.4406 1002.29 29.2474 999.93 Q22.0542 997.575 14.5426 992.768 L14.5426 987.676 Z\" fill=\"#000000\" fill-rule=\"evenodd\" fill-opacity=\"1\" /><path clip-path=\"url(#clip220)\" d=\"M35.1993 948.559 Q31.2526 946.362 29.3747 943.307 Q27.4968 940.251 27.4968 936.114 Q27.4968 930.544 31.4117 927.52 Q35.2948 924.496 42.4881 924.496 L64.0042 924.496 L64.0042 930.385 L42.679 930.385 Q37.5546 930.385 35.072 932.199 Q32.5894 934.013 32.5894 937.737 Q32.5894 942.288 35.6131 944.93 Q38.6368 947.572 43.8567 947.572 L64.0042 947.572 L64.0042 953.46 L42.679 953.46 Q37.5228 953.46 35.072 955.274 Q32.5894 957.089 32.5894 960.876 Q32.5894 965.364 35.6449 968.006 Q38.6686 970.648 43.8567 970.648 L64.0042 970.648 L64.0042 976.536 L28.3562 976.536 L28.3562 970.648 L33.8944 970.648 Q30.616 968.642 29.0564 965.842 Q27.4968 963.041 27.4968 959.189 Q27.4968 955.306 29.4702 952.601 Q31.4436 949.864 35.1993 948.559 Z\" fill=\"#000000\" fill-rule=\"evenodd\" fill-opacity=\"1\" /><path clip-path=\"url(#clip220)\" d=\"M29.4065 890.09 L34.9447 890.09 Q33.6716 892.572 33.035 895.246 Q32.3984 897.919 32.3984 900.784 Q32.3984 905.145 33.7352 907.341 Q35.072 909.505 37.7456 909.505 Q39.7826 909.505 40.9603 907.945 Q42.1061 906.386 43.1565 901.675 L43.6021 899.67 Q44.9389 893.432 47.3897 890.822 Q49.8086 888.18 54.1691 888.18 Q59.1344 888.18 62.0308 892.127 Q64.9272 896.042 64.9272 902.917 Q64.9272 905.781 64.3543 908.9 Q63.8132 911.988 62.6992 915.425 L56.6518 915.425 Q58.3387 912.179 59.198 909.028 Q60.0256 905.877 60.0256 902.789 Q60.0256 898.651 58.6251 896.423 Q57.1929 894.195 54.6147 894.195 Q52.2276 894.195 50.9545 895.819 Q49.6813 897.41 48.5037 902.853 L48.0262 904.89 Q46.8804 910.333 44.5251 912.752 Q42.138 915.17 38.0002 915.17 Q32.9713 915.17 30.2341 911.606 Q27.4968 908.041 27.4968 901.484 Q27.4968 898.238 27.9743 895.373 Q28.4517 892.509 29.4065 890.09 Z\" fill=\"#000000\" fill-rule=\"evenodd\" fill-opacity=\"1\" /><path clip-path=\"url(#clip220)\" d=\"M55.9197 877.358 L55.9197 870.642 L61.3942 870.642 L71.5793 875.862 L71.5793 879.968 L61.3942 877.358 L55.9197 877.358 Z\" fill=\"#000000\" fill-rule=\"evenodd\" fill-opacity=\"1\" /><path clip-path=\"url(#clip220)\" d=\"M29.4065 814.688 L34.9447 814.688 Q33.6716 817.17 33.035 819.844 Q32.3984 822.518 32.3984 825.382 Q32.3984 829.743 33.7352 831.939 Q35.072 834.103 37.7456 834.103 Q39.7826 834.103 40.9603 832.544 Q42.1061 830.984 43.1565 826.273 L43.6021 824.268 Q44.9389 818.03 47.3897 815.42 Q49.8086 812.778 54.1691 812.778 Q59.1344 812.778 62.0308 816.725 Q64.9272 820.64 64.9272 827.515 Q64.9272 830.379 64.3543 833.498 Q63.8132 836.586 62.6992 840.023 L56.6518 840.023 Q58.3387 836.777 59.198 833.626 Q60.0256 830.475 60.0256 827.387 Q60.0256 823.25 58.6251 821.022 Q57.1929 818.794 54.6147 818.794 Q52.2276 818.794 50.9545 820.417 Q49.6813 822.008 48.5037 827.451 L48.0262 829.488 Q46.8804 834.931 44.5251 837.35 Q42.138 839.769 38.0002 839.769 Q32.9713 839.769 30.2341 836.204 Q27.4968 832.639 27.4968 826.082 Q27.4968 822.836 27.9743 819.971 Q28.4517 817.107 29.4065 814.688 Z\" fill=\"#000000\" fill-rule=\"evenodd\" fill-opacity=\"1\" /><path clip-path=\"url(#clip220)\" d=\"M42.4881 773.82 L64.0042 773.82 L64.0042 779.676 L42.679 779.676 Q37.6183 779.676 35.1038 781.65 Q32.5894 783.623 32.5894 787.57 Q32.5894 792.312 35.6131 795.05 Q38.6368 797.787 43.8567 797.787 L64.0042 797.787 L64.0042 803.675 L14.479 803.675 L14.479 797.787 L33.8944 797.787 Q30.6797 795.686 29.0883 792.853 Q27.4968 789.989 27.4968 786.265 Q27.4968 780.122 31.3163 776.971 Q35.1038 773.82 42.4881 773.82 Z\" fill=\"#000000\" fill-rule=\"evenodd\" fill-opacity=\"1\" /><path clip-path=\"url(#clip220)\" d=\"M32.4621 748.325 Q32.4621 753.036 36.1542 755.773 Q39.8145 758.51 46.212 758.51 Q52.6095 758.51 56.3017 755.805 Q59.9619 753.068 59.9619 748.325 Q59.9619 743.647 56.2698 740.909 Q52.5777 738.172 46.212 738.172 Q39.8781 738.172 36.186 740.909 Q32.4621 743.647 32.4621 748.325 M27.4968 748.325 Q27.4968 740.686 32.4621 736.326 Q37.4273 731.965 46.212 731.965 Q54.9649 731.965 59.9619 736.326 Q64.9272 740.686 64.9272 748.325 Q64.9272 755.996 59.9619 760.357 Q54.9649 764.685 46.212 764.685 Q37.4273 764.685 32.4621 760.357 Q27.4968 755.996 27.4968 748.325 Z\" fill=\"#000000\" fill-rule=\"evenodd\" fill-opacity=\"1\" /><path clip-path=\"url(#clip220)\" d=\"M33.8307 701.601 Q33.2578 702.588 33.0032 703.765 Q32.7167 704.911 32.7167 706.312 Q32.7167 711.277 35.9632 713.951 Q39.1779 716.592 45.2253 716.592 L64.0042 716.592 L64.0042 722.481 L28.3562 722.481 L28.3562 716.592 L33.8944 716.592 Q30.6479 714.746 29.0883 711.786 Q27.4968 708.826 27.4968 704.593 Q27.4968 703.988 27.5923 703.256 Q27.656 702.524 27.8151 701.633 L33.8307 701.601 Z\" fill=\"#000000\" fill-rule=\"evenodd\" fill-opacity=\"1\" /><path clip-path=\"url(#clip220)\" d=\"M18.2347 689.665 L28.3562 689.665 L28.3562 677.602 L32.9077 677.602 L32.9077 689.665 L52.2594 689.665 Q56.6199 689.665 57.8613 688.488 Q59.1026 687.278 59.1026 683.618 L59.1026 677.602 L64.0042 677.602 L64.0042 683.618 Q64.0042 690.397 61.4897 692.976 Q58.9434 695.554 52.2594 695.554 L32.9077 695.554 L32.9077 699.85 L28.3562 699.85 L28.3562 695.554 L18.2347 695.554 L18.2347 689.665 Z\" fill=\"#000000\" fill-rule=\"evenodd\" fill-opacity=\"1\" /><path clip-path=\"url(#clip220)\" d=\"M44.7161 639.408 L47.5806 639.408 L47.5806 666.335 Q53.6281 665.953 56.8109 662.707 Q59.9619 659.428 59.9619 653.604 Q59.9619 650.23 59.1344 647.079 Q58.3069 643.896 56.6518 640.777 L62.1899 640.777 Q63.5267 643.928 64.227 647.238 Q64.9272 650.548 64.9272 653.954 Q64.9272 662.484 59.9619 667.481 Q54.9967 672.446 46.5303 672.446 Q37.7774 672.446 32.6531 667.735 Q27.4968 662.993 27.4968 654.972 Q27.4968 647.779 32.1438 643.609 Q36.7589 639.408 44.7161 639.408 M42.9973 645.265 Q38.1912 645.328 35.3266 647.97 Q32.4621 650.58 32.4621 654.909 Q32.4621 659.81 35.2312 662.77 Q38.0002 665.698 43.0292 666.144 L42.9973 645.265 Z\" fill=\"#000000\" fill-rule=\"evenodd\" fill-opacity=\"1\" /><path clip-path=\"url(#clip220)\" d=\"M33.8307 609.139 Q33.2578 610.126 33.0032 611.303 Q32.7167 612.449 32.7167 613.85 Q32.7167 618.815 35.9632 621.489 Q39.1779 624.13 45.2253 624.13 L64.0042 624.13 L64.0042 630.019 L28.3562 630.019 L28.3562 624.13 L33.8944 624.13 Q30.6479 622.284 29.0883 619.324 Q27.4968 616.364 27.4968 612.131 Q27.4968 611.526 27.5923 610.794 Q27.656 610.062 27.8151 609.171 L33.8307 609.139 Z\" fill=\"#000000\" fill-rule=\"evenodd\" fill-opacity=\"1\" /><path clip-path=\"url(#clip220)\" d=\"M28.3562 582.276 L28.3562 576.419 L64.0042 576.419 L64.0042 582.276 L28.3562 582.276 M14.479 582.276 L14.479 576.419 L21.895 576.419 L21.895 582.276 L14.479 582.276 Z\" fill=\"#000000\" fill-rule=\"evenodd\" fill-opacity=\"1\" /><path clip-path=\"url(#clip220)\" d=\"M29.4065 541.44 L34.9447 541.44 Q33.6716 543.922 33.035 546.596 Q32.3984 549.27 32.3984 552.134 Q32.3984 556.495 33.7352 558.691 Q35.072 560.855 37.7456 560.855 Q39.7826 560.855 40.9603 559.296 Q42.1061 557.736 43.1565 553.025 L43.6021 551.02 Q44.9389 544.782 47.3897 542.172 Q49.8086 539.53 54.1691 539.53 Q59.1344 539.53 62.0308 543.477 Q64.9272 547.392 64.9272 554.267 Q64.9272 557.131 64.3543 560.251 Q63.8132 563.338 62.6992 566.775 L56.6518 566.775 Q58.3387 563.529 59.198 560.378 Q60.0256 557.227 60.0256 554.139 Q60.0256 550.002 58.6251 547.774 Q57.1929 545.546 54.6147 545.546 Q52.2276 545.546 50.9545 547.169 Q49.6813 548.76 48.5037 554.203 L48.0262 556.24 Q46.8804 561.683 44.5251 564.102 Q42.138 566.521 38.0002 566.521 Q32.9713 566.521 30.2341 562.956 Q27.4968 559.391 27.4968 552.834 Q27.4968 549.588 27.9743 546.723 Q28.4517 543.859 29.4065 541.44 Z\" fill=\"#000000\" fill-rule=\"evenodd\" fill-opacity=\"1\" /><path clip-path=\"url(#clip220)\" d=\"M46.212 483.894 Q39.7508 483.894 36.0905 486.567 Q32.3984 489.209 32.3984 493.856 Q32.3984 498.503 36.0905 501.177 Q39.7508 503.819 46.212 503.819 Q52.6732 503.819 56.3653 501.177 Q60.0256 498.503 60.0256 493.856 Q60.0256 489.209 56.3653 486.567 Q52.6732 483.894 46.212 483.894 M33.7671 503.819 Q30.5842 501.972 29.0564 499.172 Q27.4968 496.339 27.4968 492.424 Q27.4968 485.931 32.6531 481.889 Q37.8093 477.815 46.212 477.815 Q54.6147 477.815 59.771 481.889 Q64.9272 485.931 64.9272 492.424 Q64.9272 496.339 63.3994 499.172 Q61.8398 501.972 58.657 503.819 L64.0042 503.819 L64.0042 509.707 L14.479 509.707 L14.479 503.819 L33.7671 503.819 Z\" fill=\"#000000\" fill-rule=\"evenodd\" fill-opacity=\"1\" /><path clip-path=\"url(#clip220)\" d=\"M44.7161 437.615 L47.5806 437.615 L47.5806 464.542 Q53.6281 464.16 56.8109 460.914 Q59.9619 457.635 59.9619 451.811 Q59.9619 448.437 59.1344 445.286 Q58.3069 442.103 56.6518 438.984 L62.1899 438.984 Q63.5267 442.135 64.227 445.445 Q64.9272 448.755 64.9272 452.161 Q64.9272 460.691 59.9619 465.688 Q54.9967 470.653 46.5303 470.653 Q37.7774 470.653 32.6531 465.943 Q27.4968 461.2 27.4968 453.179 Q27.4968 445.986 32.1438 441.817 Q36.7589 437.615 44.7161 437.615 M42.9973 443.472 Q38.1912 443.535 35.3266 446.177 Q32.4621 448.787 32.4621 453.116 Q32.4621 458.017 35.2312 460.977 Q38.0002 463.906 43.0292 464.351 L42.9973 443.472 Z\" fill=\"#000000\" fill-rule=\"evenodd\" fill-opacity=\"1\" /><path clip-path=\"url(#clip220)\" d=\"M18.2347 422.21 L28.3562 422.21 L28.3562 410.147 L32.9077 410.147 L32.9077 422.21 L52.2594 422.21 Q56.6199 422.21 57.8613 421.033 Q59.1026 419.823 59.1026 416.163 L59.1026 410.147 L64.0042 410.147 L64.0042 416.163 Q64.0042 422.942 61.4897 425.52 Q58.9434 428.098 52.2594 428.098 L32.9077 428.098 L32.9077 432.395 L28.3562 432.395 L28.3562 428.098 L18.2347 428.098 L18.2347 422.21 Z\" fill=\"#000000\" fill-rule=\"evenodd\" fill-opacity=\"1\" /><path clip-path=\"url(#clip220)\" d=\"M18.2347 396.652 L28.3562 396.652 L28.3562 384.589 L32.9077 384.589 L32.9077 396.652 L52.2594 396.652 Q56.6199 396.652 57.8613 395.474 Q59.1026 394.265 59.1026 390.604 L59.1026 384.589 L64.0042 384.589 L64.0042 390.604 Q64.0042 397.384 61.4897 399.962 Q58.9434 402.54 52.2594 402.54 L32.9077 402.54 L32.9077 406.837 L28.3562 406.837 L28.3562 402.54 L18.2347 402.54 L18.2347 396.652 Z\" fill=\"#000000\" fill-rule=\"evenodd\" fill-opacity=\"1\" /><path clip-path=\"url(#clip220)\" d=\"M44.7161 346.395 L47.5806 346.395 L47.5806 373.322 Q53.6281 372.94 56.8109 369.693 Q59.9619 366.415 59.9619 360.59 Q59.9619 357.216 59.1344 354.065 Q58.3069 350.882 56.6518 347.763 L62.1899 347.763 Q63.5267 350.914 64.227 354.224 Q64.9272 357.535 64.9272 360.94 Q64.9272 369.47 59.9619 374.467 Q54.9967 379.433 46.5303 379.433 Q37.7774 379.433 32.6531 374.722 Q27.4968 369.98 27.4968 361.959 Q27.4968 354.766 32.1438 350.596 Q36.7589 346.395 44.7161 346.395 M42.9973 352.251 Q38.1912 352.315 35.3266 354.956 Q32.4621 357.566 32.4621 361.895 Q32.4621 366.797 35.2312 369.757 Q38.0002 372.685 43.0292 373.131 L42.9973 352.251 Z\" fill=\"#000000\" fill-rule=\"evenodd\" fill-opacity=\"1\" /><path clip-path=\"url(#clip220)\" d=\"M33.8307 316.126 Q33.2578 317.112 33.0032 318.29 Q32.7167 319.436 32.7167 320.836 Q32.7167 325.802 35.9632 328.475 Q39.1779 331.117 45.2253 331.117 L64.0042 331.117 L64.0042 337.005 L28.3562 337.005 L28.3562 331.117 L33.8944 331.117 Q30.6479 329.271 29.0883 326.311 Q27.4968 323.351 27.4968 319.118 Q27.4968 318.513 27.5923 317.781 Q27.656 317.049 27.8151 316.158 L33.8307 316.126 Z\" fill=\"#000000\" fill-rule=\"evenodd\" fill-opacity=\"1\" /><path clip-path=\"url(#clip220)\" d=\"M14.5426 310.906 L14.5426 305.813 Q22.0542 301.039 29.2474 298.684 Q36.4406 296.296 43.5384 296.296 Q50.668 296.296 57.8931 298.684 Q65.1182 301.039 72.5979 305.813 L72.5979 310.906 Q65.3091 306.673 58.1159 304.604 Q50.8908 302.503 43.5384 302.503 Q36.186 302.503 29.0246 304.604 Q21.8632 306.673 14.5426 310.906 Z\" fill=\"#000000\" fill-rule=\"evenodd\" fill-opacity=\"1\" /><path clip-path=\"url(#clip222)\" d=\"\n",
       "M363.254 134.722 L363.254 1384.24 L757.718 1384.24 L757.718 134.722 L363.254 134.722 L363.254 134.722  Z\n",
       "  \" fill=\"#009af9\" fill-rule=\"evenodd\" fill-opacity=\"1\"/>\n",
       "<polyline clip-path=\"url(#clip222)\" style=\"stroke:#000000; stroke-linecap:butt; stroke-linejoin:round; stroke-width:4; stroke-opacity:1; fill:none\" points=\"\n",
       "  363.254,134.722 363.254,1384.24 757.718,1384.24 757.718,134.722 363.254,134.722 \n",
       "  \"/>\n",
       "<path clip-path=\"url(#clip222)\" d=\"\n",
       "M856.335 86.1857 L856.335 1384.24 L1250.8 1384.24 L1250.8 86.1857 L856.335 86.1857 L856.335 86.1857  Z\n",
       "  \" fill=\"#009af9\" fill-rule=\"evenodd\" fill-opacity=\"1\"/>\n",
       "<polyline clip-path=\"url(#clip222)\" style=\"stroke:#000000; stroke-linecap:butt; stroke-linejoin:round; stroke-width:4; stroke-opacity:1; fill:none\" points=\"\n",
       "  856.335,86.1857 856.335,1384.24 1250.8,1384.24 1250.8,86.1857 856.335,86.1857 \n",
       "  \"/>\n",
       "<path clip-path=\"url(#clip222)\" d=\"\n",
       "M1349.42 819.868 L1349.42 1384.24 L1743.88 1384.24 L1743.88 819.868 L1349.42 819.868 L1349.42 819.868  Z\n",
       "  \" fill=\"#009af9\" fill-rule=\"evenodd\" fill-opacity=\"1\"/>\n",
       "<polyline clip-path=\"url(#clip222)\" style=\"stroke:#000000; stroke-linecap:butt; stroke-linejoin:round; stroke-width:4; stroke-opacity:1; fill:none\" points=\"\n",
       "  1349.42,819.868 1349.42,1384.24 1743.88,1384.24 1743.88,819.868 1349.42,819.868 \n",
       "  \"/>\n",
       "<path clip-path=\"url(#clip222)\" d=\"\n",
       "M1842.5 898.879 L1842.5 1384.24 L2236.96 1384.24 L2236.96 898.879 L1842.5 898.879 L1842.5 898.879  Z\n",
       "  \" fill=\"#009af9\" fill-rule=\"evenodd\" fill-opacity=\"1\"/>\n",
       "<polyline clip-path=\"url(#clip222)\" style=\"stroke:#000000; stroke-linecap:butt; stroke-linejoin:round; stroke-width:4; stroke-opacity:1; fill:none\" points=\"\n",
       "  1842.5,898.879 1842.5,1384.24 2236.96,1384.24 2236.96,898.879 1842.5,898.879 \n",
       "  \"/>\n",
       "<circle clip-path=\"url(#clip222)\" style=\"fill:#009af9; stroke:none; fill-opacity:0\" cx=\"560.486\" cy=\"134.722\" r=\"2\"/>\n",
       "<circle clip-path=\"url(#clip222)\" style=\"fill:#009af9; stroke:none; fill-opacity:0\" cx=\"1053.57\" cy=\"86.1857\" r=\"2\"/>\n",
       "<circle clip-path=\"url(#clip222)\" style=\"fill:#009af9; stroke:none; fill-opacity:0\" cx=\"1546.65\" cy=\"819.868\" r=\"2\"/>\n",
       "<circle clip-path=\"url(#clip222)\" style=\"fill:#009af9; stroke:none; fill-opacity:0\" cx=\"2039.73\" cy=\"898.879\" r=\"2\"/>\n",
       "</svg>\n"
      ]
     },
     "execution_count": 66,
     "metadata": {},
     "output_type": "execute_result"
    }
   ],
   "source": [
    "results = [\n",
    "    \"my_sum (Julia)\" => 11.07,\n",
    "    \"c_sum (C)\" => 11.5,\n",
    "    \"sum (Julia)\" => 5.0,\n",
    "    \"my_fast_sum (Julia)\" => 4.3,\n",
    "]\n",
    "\n",
    "bar(first.(results), last.(results), xlabel=\"function\", ylabel=\"time (ms, shorter is better)\", legend=nothing)"
   ]
  },
  {
   "cell_type": "markdown",
   "metadata": {
    "slideshow": {
     "slide_type": "subslide"
    }
   },
   "source": [
    "With some pretty simple changes, we were able to create a pure-Julia function which is twice as fast as our naive C function while still being clear and completely generic:"
   ]
  },
  {
   "cell_type": "code",
   "execution_count": 67,
   "metadata": {
    "slideshow": {
     "slide_type": "fragment"
    }
   },
   "outputs": [
    {
     "data": {
      "text/plain": [
       "6.641592653589793"
      ]
     },
     "execution_count": 67,
     "metadata": {},
     "output_type": "execute_result"
    }
   ],
   "source": [
    "my_fast_sum([1, 2.5, π])"
   ]
  },
  {
   "cell_type": "markdown",
   "metadata": {
    "slideshow": {
     "slide_type": "subslide"
    }
   },
   "source": [
    "Just for reference, let's compare with Python. It's easy to call Python code from Julia too--we just need the `PyCall` package:"
   ]
  },
  {
   "cell_type": "code",
   "execution_count": 68,
   "metadata": {},
   "outputs": [],
   "source": [
    "using PyCall"
   ]
  },
  {
   "cell_type": "code",
   "execution_count": 69,
   "metadata": {
    "slideshow": {
     "slide_type": "fragment"
    }
   },
   "outputs": [
    {
     "data": {
      "text/plain": [
       "0.8414709848078965"
      ]
     },
     "execution_count": 69,
     "metadata": {},
     "output_type": "execute_result"
    }
   ],
   "source": [
    "py_math = pyimport(\"math\")\n",
    "py_math.sin(1.0)"
   ]
  },
  {
   "cell_type": "markdown",
   "metadata": {
    "slideshow": {
     "slide_type": "subslide"
    }
   },
   "source": [
    "Just as we did with C, we can quickly define a Python sum function without leaving Julia:"
   ]
  },
  {
   "cell_type": "code",
   "execution_count": 70,
   "metadata": {
    "slideshow": {
     "slide_type": "fragment"
    }
   },
   "outputs": [
    {
     "data": {
      "text/plain": [
       "PyObject <function mysum at 0x7fdca8f18840>"
      ]
     },
     "execution_count": 70,
     "metadata": {},
     "output_type": "execute_result"
    }
   ],
   "source": [
    "# The PyCall package lets us define python functions directly from Julia:\n",
    "\n",
    "py\"\"\"\n",
    "def mysum(a):\n",
    "    s = 0.0\n",
    "    for x in a:\n",
    "        s = s + x\n",
    "    return s\n",
    "\"\"\"\n",
    "\n",
    "# mysum_py is a reference to the Python mysum function\n",
    "py_sum = py\"\"\"mysum\"\"\"o"
   ]
  },
  {
   "cell_type": "markdown",
   "metadata": {
    "slideshow": {
     "slide_type": "fragment"
    }
   },
   "source": [
    "Let's make sure we're getting similar answers everywhere:"
   ]
  },
  {
   "cell_type": "code",
   "execution_count": 71,
   "metadata": {},
   "outputs": [
    {
     "data": {
      "text/plain": [
       "true"
      ]
     },
     "execution_count": 71,
     "metadata": {},
     "output_type": "execute_result"
    }
   ],
   "source": [
    "py_sum(data) ≈ c_sum(data) ≈ sum(data) ≈ my_sum(data) ≈ my_fast_sum(data)"
   ]
  },
  {
   "cell_type": "code",
   "execution_count": 72,
   "metadata": {
    "slideshow": {
     "slide_type": "subslide"
    }
   },
   "outputs": [
    {
     "name": "stdout",
     "output_type": "stream",
     "text": [
      "  1.702 s (6 allocations: 240 bytes)\n"
     ]
    },
    {
     "data": {
      "text/plain": [
       "4.998941237371209e6"
      ]
     },
     "execution_count": 72,
     "metadata": {},
     "output_type": "execute_result"
    }
   ],
   "source": [
    "@btime py_sum($data)"
   ]
  },
  {
   "cell_type": "code",
   "execution_count": 73,
   "metadata": {},
   "outputs": [
    {
     "data": {
      "image/svg+xml": [
       "<?xml version=\"1.0\" encoding=\"utf-8\"?>\n",
       "<svg xmlns=\"http://www.w3.org/2000/svg\" xmlns:xlink=\"http://www.w3.org/1999/xlink\" width=\"600\" height=\"400\" viewBox=\"0 0 2400 1600\">\n",
       "<defs>\n",
       "  <clipPath id=\"clip260\">\n",
       "    <rect x=\"0\" y=\"0\" width=\"2400\" height=\"1600\"/>\n",
       "  </clipPath>\n",
       "</defs>\n",
       "<path clip-path=\"url(#clip260)\" d=\"\n",
       "M0 1600 L2400 1600 L2400 0 L0 0  Z\n",
       "  \" fill=\"#ffffff\" fill-rule=\"evenodd\" fill-opacity=\"1\"/>\n",
       "<defs>\n",
       "  <clipPath id=\"clip261\">\n",
       "    <rect x=\"480\" y=\"0\" width=\"1681\" height=\"1600\"/>\n",
       "  </clipPath>\n",
       "</defs>\n",
       "<path clip-path=\"url(#clip260)\" d=\"\n",
       "M235.283 1423.18 L2352.76 1423.18 L2352.76 47.2441 L235.283 47.2441  Z\n",
       "  \" fill=\"#ffffff\" fill-rule=\"evenodd\" fill-opacity=\"1\"/>\n",
       "<defs>\n",
       "  <clipPath id=\"clip262\">\n",
       "    <rect x=\"235\" y=\"47\" width=\"2118\" height=\"1377\"/>\n",
       "  </clipPath>\n",
       "</defs>\n",
       "<polyline clip-path=\"url(#clip262)\" style=\"stroke:#000000; stroke-linecap:butt; stroke-linejoin:round; stroke-width:2; stroke-opacity:0.1; fill:none\" points=\"\n",
       "  508.793,1423.18 508.793,47.2441 \n",
       "  \"/>\n",
       "<polyline clip-path=\"url(#clip262)\" style=\"stroke:#000000; stroke-linecap:butt; stroke-linejoin:round; stroke-width:2; stroke-opacity:0.1; fill:none\" points=\"\n",
       "  901.406,1423.18 901.406,47.2441 \n",
       "  \"/>\n",
       "<polyline clip-path=\"url(#clip262)\" style=\"stroke:#000000; stroke-linecap:butt; stroke-linejoin:round; stroke-width:2; stroke-opacity:0.1; fill:none\" points=\"\n",
       "  1294.02,1423.18 1294.02,47.2441 \n",
       "  \"/>\n",
       "<polyline clip-path=\"url(#clip262)\" style=\"stroke:#000000; stroke-linecap:butt; stroke-linejoin:round; stroke-width:2; stroke-opacity:0.1; fill:none\" points=\"\n",
       "  1686.63,1423.18 1686.63,47.2441 \n",
       "  \"/>\n",
       "<polyline clip-path=\"url(#clip262)\" style=\"stroke:#000000; stroke-linecap:butt; stroke-linejoin:round; stroke-width:2; stroke-opacity:0.1; fill:none\" points=\"\n",
       "  2079.25,1423.18 2079.25,47.2441 \n",
       "  \"/>\n",
       "<polyline clip-path=\"url(#clip260)\" style=\"stroke:#000000; stroke-linecap:butt; stroke-linejoin:round; stroke-width:4; stroke-opacity:1; fill:none\" points=\"\n",
       "  235.283,1423.18 2352.76,1423.18 \n",
       "  \"/>\n",
       "<polyline clip-path=\"url(#clip260)\" style=\"stroke:#000000; stroke-linecap:butt; stroke-linejoin:round; stroke-width:4; stroke-opacity:1; fill:none\" points=\"\n",
       "  508.793,1423.18 508.793,1404.28 \n",
       "  \"/>\n",
       "<polyline clip-path=\"url(#clip260)\" style=\"stroke:#000000; stroke-linecap:butt; stroke-linejoin:round; stroke-width:4; stroke-opacity:1; fill:none\" points=\"\n",
       "  901.406,1423.18 901.406,1404.28 \n",
       "  \"/>\n",
       "<polyline clip-path=\"url(#clip260)\" style=\"stroke:#000000; stroke-linecap:butt; stroke-linejoin:round; stroke-width:4; stroke-opacity:1; fill:none\" points=\"\n",
       "  1294.02,1423.18 1294.02,1404.28 \n",
       "  \"/>\n",
       "<polyline clip-path=\"url(#clip260)\" style=\"stroke:#000000; stroke-linecap:butt; stroke-linejoin:round; stroke-width:4; stroke-opacity:1; fill:none\" points=\"\n",
       "  1686.63,1423.18 1686.63,1404.28 \n",
       "  \"/>\n",
       "<polyline clip-path=\"url(#clip260)\" style=\"stroke:#000000; stroke-linecap:butt; stroke-linejoin:round; stroke-width:4; stroke-opacity:1; fill:none\" points=\"\n",
       "  2079.25,1423.18 2079.25,1404.28 \n",
       "  \"/>\n",
       "<path clip-path=\"url(#clip260)\" d=\"M358.157 1464.63 Q359.754 1461.76 361.977 1460.39 Q364.199 1459.03 367.208 1459.03 Q371.259 1459.03 373.458 1461.88 Q375.657 1464.7 375.657 1469.93 L375.657 1485.58 L371.375 1485.58 L371.375 1470.07 Q371.375 1466.34 370.055 1464.54 Q368.736 1462.73 366.027 1462.73 Q362.717 1462.73 360.796 1464.93 Q358.875 1467.13 358.875 1470.93 L358.875 1485.58 L354.592 1485.58 L354.592 1470.07 Q354.592 1466.32 353.273 1464.54 Q351.953 1462.73 349.199 1462.73 Q345.935 1462.73 344.014 1464.95 Q342.092 1467.15 342.092 1470.93 L342.092 1485.58 L337.81 1485.58 L337.81 1459.65 L342.092 1459.65 L342.092 1463.68 Q343.551 1461.3 345.588 1460.16 Q347.625 1459.03 350.426 1459.03 Q353.25 1459.03 355.217 1460.46 Q357.208 1461.9 358.157 1464.63 Z\" fill=\"#000000\" fill-rule=\"evenodd\" fill-opacity=\"1\" /><path clip-path=\"url(#clip260)\" d=\"M394.939 1487.99 Q393.134 1492.62 391.421 1494.03 Q389.708 1495.44 386.838 1495.44 L383.435 1495.44 L383.435 1491.88 L385.935 1491.88 Q387.694 1491.88 388.666 1491.04 Q389.638 1490.21 390.819 1487.11 L391.583 1485.16 L381.097 1459.65 L385.611 1459.65 L393.713 1479.93 L401.814 1459.65 L406.328 1459.65 L394.939 1487.99 Z\" fill=\"#000000\" fill-rule=\"evenodd\" fill-opacity=\"1\" /><path clip-path=\"url(#clip260)\" d=\"M431.907 1493.45 L431.907 1496.76 L407.277 1496.76 L407.277 1493.45 L431.907 1493.45 Z\" fill=\"#000000\" fill-rule=\"evenodd\" fill-opacity=\"1\" /><path clip-path=\"url(#clip260)\" d=\"M452.439 1460.42 L452.439 1464.45 Q450.634 1463.52 448.689 1463.06 Q446.745 1462.59 444.661 1462.59 Q441.49 1462.59 439.893 1463.57 Q438.319 1464.54 438.319 1466.48 Q438.319 1467.96 439.453 1468.82 Q440.587 1469.65 444.013 1470.42 L445.472 1470.74 Q450.009 1471.71 451.907 1473.5 Q453.828 1475.26 453.828 1478.43 Q453.828 1482.04 450.958 1484.14 Q448.11 1486.25 443.11 1486.25 Q441.027 1486.25 438.759 1485.83 Q436.513 1485.44 434.013 1484.63 L434.013 1480.23 Q436.374 1481.46 438.666 1482.08 Q440.958 1482.69 443.203 1482.69 Q446.212 1482.69 447.833 1481.67 Q449.453 1480.63 449.453 1478.75 Q449.453 1477.02 448.272 1476.09 Q447.115 1475.16 443.157 1474.31 L441.675 1473.96 Q437.717 1473.13 435.958 1471.41 Q434.198 1469.68 434.198 1466.67 Q434.198 1463.01 436.791 1461.02 Q439.384 1459.03 444.152 1459.03 Q446.513 1459.03 448.596 1459.38 Q450.68 1459.72 452.439 1460.42 Z\" fill=\"#000000\" fill-rule=\"evenodd\" fill-opacity=\"1\" /><path clip-path=\"url(#clip260)\" d=\"M460.171 1475.35 L460.171 1459.65 L464.43 1459.65 L464.43 1475.19 Q464.43 1478.87 465.865 1480.72 Q467.3 1482.55 470.17 1482.55 Q473.62 1482.55 475.61 1480.35 Q477.624 1478.15 477.624 1474.35 L477.624 1459.65 L481.883 1459.65 L481.883 1485.58 L477.624 1485.58 L477.624 1481.6 Q476.073 1483.96 474.013 1485.12 Q471.976 1486.25 469.268 1486.25 Q464.8 1486.25 462.485 1483.47 Q460.171 1480.7 460.171 1475.35 M470.888 1459.03 L470.888 1459.03 Z\" fill=\"#000000\" fill-rule=\"evenodd\" fill-opacity=\"1\" /><path clip-path=\"url(#clip260)\" d=\"M510.842 1464.63 Q512.439 1461.76 514.661 1460.39 Q516.883 1459.03 519.892 1459.03 Q523.943 1459.03 526.142 1461.88 Q528.341 1464.7 528.341 1469.93 L528.341 1485.58 L524.059 1485.58 L524.059 1470.07 Q524.059 1466.34 522.74 1464.54 Q521.42 1462.73 518.712 1462.73 Q515.402 1462.73 513.48 1464.93 Q511.559 1467.13 511.559 1470.93 L511.559 1485.58 L507.277 1485.58 L507.277 1470.07 Q507.277 1466.32 505.957 1464.54 Q504.638 1462.73 501.883 1462.73 Q498.619 1462.73 496.698 1464.95 Q494.777 1467.15 494.777 1470.93 L494.777 1485.58 L490.494 1485.58 L490.494 1459.65 L494.777 1459.65 L494.777 1463.68 Q496.235 1461.3 498.272 1460.16 Q500.309 1459.03 503.11 1459.03 Q505.934 1459.03 507.902 1460.46 Q509.892 1461.9 510.842 1464.63 Z\" fill=\"#000000\" fill-rule=\"evenodd\" fill-opacity=\"1\" /><path clip-path=\"url(#clip260)\" d=\"M562.138 1449.61 Q559.036 1454.93 557.531 1460.14 Q556.026 1465.35 556.026 1470.7 Q556.026 1476.04 557.531 1481.3 Q559.059 1486.53 562.138 1491.83 L558.434 1491.83 Q554.962 1486.39 553.226 1481.14 Q551.513 1475.88 551.513 1470.7 Q551.513 1465.53 553.226 1460.3 Q554.939 1455.07 558.434 1449.61 L562.138 1449.61 Z\" fill=\"#000000\" fill-rule=\"evenodd\" fill-opacity=\"1\" /><path clip-path=\"url(#clip260)\" d=\"M570.587 1451.02 L575.262 1451.02 L575.262 1483.17 Q575.262 1489.42 572.878 1492.25 Q570.517 1495.07 565.263 1495.07 L563.48 1495.07 L563.48 1491.14 L564.938 1491.14 Q568.04 1491.14 569.313 1489.4 Q570.587 1487.66 570.587 1483.17 L570.587 1451.02 Z\" fill=\"#000000\" fill-rule=\"evenodd\" fill-opacity=\"1\" /><path clip-path=\"url(#clip260)\" d=\"M583.943 1475.35 L583.943 1459.65 L588.202 1459.65 L588.202 1475.19 Q588.202 1478.87 589.637 1480.72 Q591.073 1482.55 593.943 1482.55 Q597.392 1482.55 599.383 1480.35 Q601.397 1478.15 601.397 1474.35 L601.397 1459.65 L605.656 1459.65 L605.656 1485.58 L601.397 1485.58 L601.397 1481.6 Q599.846 1483.96 597.786 1485.12 Q595.748 1486.25 593.04 1486.25 Q588.573 1486.25 586.258 1483.47 Q583.943 1480.7 583.943 1475.35 M594.661 1459.03 L594.661 1459.03 Z\" fill=\"#000000\" fill-rule=\"evenodd\" fill-opacity=\"1\" /><path clip-path=\"url(#clip260)\" d=\"M614.429 1449.56 L618.688 1449.56 L618.688 1485.58 L614.429 1485.58 L614.429 1449.56 Z\" fill=\"#000000\" fill-rule=\"evenodd\" fill-opacity=\"1\" /><path clip-path=\"url(#clip260)\" d=\"M627.6 1459.65 L631.859 1459.65 L631.859 1485.58 L627.6 1485.58 L627.6 1459.65 M627.6 1449.56 L631.859 1449.56 L631.859 1454.96 L627.6 1454.96 L627.6 1449.56 Z\" fill=\"#000000\" fill-rule=\"evenodd\" fill-opacity=\"1\" /><path clip-path=\"url(#clip260)\" d=\"M652.554 1472.55 Q647.392 1472.55 645.401 1473.73 Q643.41 1474.91 643.41 1477.76 Q643.41 1480.02 644.892 1481.37 Q646.396 1482.69 648.966 1482.69 Q652.507 1482.69 654.637 1480.19 Q656.79 1477.66 656.79 1473.5 L656.79 1472.55 L652.554 1472.55 M661.049 1470.79 L661.049 1485.58 L656.79 1485.58 L656.79 1481.64 Q655.331 1484.01 653.156 1485.14 Q650.98 1486.25 647.832 1486.25 Q643.85 1486.25 641.489 1484.03 Q639.151 1481.78 639.151 1478.03 Q639.151 1473.66 642.068 1471.44 Q645.007 1469.21 650.818 1469.21 L656.79 1469.21 L656.79 1468.8 Q656.79 1465.86 654.845 1464.26 Q652.924 1462.64 649.429 1462.64 Q647.207 1462.64 645.1 1463.17 Q642.994 1463.7 641.049 1464.77 L641.049 1460.83 Q643.387 1459.93 645.586 1459.49 Q647.785 1459.03 649.869 1459.03 Q655.494 1459.03 658.271 1461.95 Q661.049 1464.86 661.049 1470.79 Z\" fill=\"#000000\" fill-rule=\"evenodd\" fill-opacity=\"1\" /><path clip-path=\"url(#clip260)\" d=\"M669.151 1449.61 L672.855 1449.61 Q676.327 1455.07 678.04 1460.3 Q679.776 1465.53 679.776 1470.7 Q679.776 1475.88 678.04 1481.14 Q676.327 1486.39 672.855 1491.83 L669.151 1491.83 Q672.23 1486.53 673.734 1481.3 Q675.262 1476.04 675.262 1470.7 Q675.262 1465.35 673.734 1460.14 Q672.23 1454.93 669.151 1449.61 Z\" fill=\"#000000\" fill-rule=\"evenodd\" fill-opacity=\"1\" /><path clip-path=\"url(#clip260)\" d=\"M807.333 1460.65 L807.333 1464.63 Q805.527 1463.64 803.698 1463.15 Q801.893 1462.64 800.041 1462.64 Q795.897 1462.64 793.606 1465.28 Q791.314 1467.89 791.314 1472.64 Q791.314 1477.39 793.606 1480.02 Q795.897 1482.64 800.041 1482.64 Q801.893 1482.64 803.698 1482.15 Q805.527 1481.64 807.333 1480.65 L807.333 1484.58 Q805.55 1485.42 803.629 1485.83 Q801.731 1486.25 799.578 1486.25 Q793.722 1486.25 790.272 1482.57 Q786.823 1478.89 786.823 1472.64 Q786.823 1466.3 790.296 1462.66 Q793.791 1459.03 799.856 1459.03 Q801.823 1459.03 803.698 1459.45 Q805.573 1459.84 807.333 1460.65 Z\" fill=\"#000000\" fill-rule=\"evenodd\" fill-opacity=\"1\" /><path clip-path=\"url(#clip260)\" d=\"M834.439 1493.45 L834.439 1496.76 L809.809 1496.76 L809.809 1493.45 L834.439 1493.45 Z\" fill=\"#000000\" fill-rule=\"evenodd\" fill-opacity=\"1\" /><path clip-path=\"url(#clip260)\" d=\"M854.971 1460.42 L854.971 1464.45 Q853.166 1463.52 851.221 1463.06 Q849.277 1462.59 847.193 1462.59 Q844.022 1462.59 842.425 1463.57 Q840.851 1464.54 840.851 1466.48 Q840.851 1467.96 841.985 1468.82 Q843.119 1469.65 846.545 1470.42 L848.004 1470.74 Q852.541 1471.71 854.439 1473.5 Q856.36 1475.26 856.36 1478.43 Q856.36 1482.04 853.49 1484.14 Q850.643 1486.25 845.643 1486.25 Q843.559 1486.25 841.291 1485.83 Q839.045 1485.44 836.545 1484.63 L836.545 1480.23 Q838.906 1481.46 841.198 1482.08 Q843.49 1482.69 845.735 1482.69 Q848.744 1482.69 850.365 1481.67 Q851.985 1480.63 851.985 1478.75 Q851.985 1477.02 850.805 1476.09 Q849.647 1475.16 845.689 1474.31 L844.207 1473.96 Q840.249 1473.13 838.49 1471.41 Q836.731 1469.68 836.731 1466.67 Q836.731 1463.01 839.323 1461.02 Q841.916 1459.03 846.684 1459.03 Q849.045 1459.03 851.129 1459.38 Q853.212 1459.72 854.971 1460.42 Z\" fill=\"#000000\" fill-rule=\"evenodd\" fill-opacity=\"1\" /><path clip-path=\"url(#clip260)\" d=\"M862.703 1475.35 L862.703 1459.65 L866.962 1459.65 L866.962 1475.19 Q866.962 1478.87 868.397 1480.72 Q869.832 1482.55 872.703 1482.55 Q876.152 1482.55 878.142 1480.35 Q880.156 1478.15 880.156 1474.35 L880.156 1459.65 L884.416 1459.65 L884.416 1485.58 L880.156 1485.58 L880.156 1481.6 Q878.605 1483.96 876.545 1485.12 Q874.508 1486.25 871.8 1486.25 Q867.332 1486.25 865.017 1483.47 Q862.703 1480.7 862.703 1475.35 M873.42 1459.03 L873.42 1459.03 Z\" fill=\"#000000\" fill-rule=\"evenodd\" fill-opacity=\"1\" /><path clip-path=\"url(#clip260)\" d=\"M913.374 1464.63 Q914.971 1461.76 917.193 1460.39 Q919.415 1459.03 922.425 1459.03 Q926.475 1459.03 928.675 1461.88 Q930.874 1464.7 930.874 1469.93 L930.874 1485.58 L926.591 1485.58 L926.591 1470.07 Q926.591 1466.34 925.272 1464.54 Q923.952 1462.73 921.244 1462.73 Q917.934 1462.73 916.013 1464.93 Q914.091 1467.13 914.091 1470.93 L914.091 1485.58 L909.809 1485.58 L909.809 1470.07 Q909.809 1466.32 908.489 1464.54 Q907.17 1462.73 904.415 1462.73 Q901.152 1462.73 899.23 1464.95 Q897.309 1467.15 897.309 1470.93 L897.309 1485.58 L893.027 1485.58 L893.027 1459.65 L897.309 1459.65 L897.309 1463.68 Q898.767 1461.3 900.804 1460.16 Q902.841 1459.03 905.642 1459.03 Q908.466 1459.03 910.434 1460.46 Q912.425 1461.9 913.374 1464.63 Z\" fill=\"#000000\" fill-rule=\"evenodd\" fill-opacity=\"1\" /><path clip-path=\"url(#clip260)\" d=\"M964.67 1449.61 Q961.568 1454.93 960.063 1460.14 Q958.559 1465.35 958.559 1470.7 Q958.559 1476.04 960.063 1481.3 Q961.591 1486.53 964.67 1491.83 L960.966 1491.83 Q957.494 1486.39 955.758 1481.14 Q954.045 1475.88 954.045 1470.7 Q954.045 1465.53 955.758 1460.3 Q957.471 1455.07 960.966 1449.61 L964.67 1449.61 Z\" fill=\"#000000\" fill-rule=\"evenodd\" fill-opacity=\"1\" /><path clip-path=\"url(#clip260)\" d=\"M998.998 1453.68 L998.998 1458.61 Q996.637 1456.41 993.952 1455.33 Q991.29 1454.24 988.281 1454.24 Q982.355 1454.24 979.207 1457.87 Q976.059 1461.48 976.059 1468.33 Q976.059 1475.16 979.207 1478.8 Q982.355 1482.41 988.281 1482.41 Q991.29 1482.41 993.952 1481.32 Q996.637 1480.23 998.998 1478.03 L998.998 1482.92 Q996.545 1484.58 993.79 1485.42 Q991.058 1486.25 988.003 1486.25 Q980.156 1486.25 975.642 1481.46 Q971.128 1476.64 971.128 1468.33 Q971.128 1460 975.642 1455.21 Q980.156 1450.39 988.003 1450.39 Q991.105 1450.39 993.836 1451.23 Q996.591 1452.04 998.998 1453.68 Z\" fill=\"#000000\" fill-rule=\"evenodd\" fill-opacity=\"1\" /><path clip-path=\"url(#clip260)\" d=\"M1005.36 1449.61 L1009.07 1449.61 Q1012.54 1455.07 1014.25 1460.3 Q1015.99 1465.53 1015.99 1470.7 Q1015.99 1475.88 1014.25 1481.14 Q1012.54 1486.39 1009.07 1491.83 L1005.36 1491.83 Q1008.44 1486.53 1009.95 1481.3 Q1011.48 1476.04 1011.48 1470.7 Q1011.48 1465.35 1009.95 1460.14 Q1008.44 1454.93 1005.36 1449.61 Z\" fill=\"#000000\" fill-rule=\"evenodd\" fill-opacity=\"1\" /><path clip-path=\"url(#clip260)\" d=\"M1189.56 1460.42 L1189.56 1464.45 Q1187.76 1463.52 1185.81 1463.06 Q1183.87 1462.59 1181.79 1462.59 Q1178.61 1462.59 1177.02 1463.57 Q1175.44 1464.54 1175.44 1466.48 Q1175.44 1467.96 1176.58 1468.82 Q1177.71 1469.65 1181.14 1470.42 L1182.6 1470.74 Q1187.13 1471.71 1189.03 1473.5 Q1190.95 1475.26 1190.95 1478.43 Q1190.95 1482.04 1188.08 1484.14 Q1185.24 1486.25 1180.24 1486.25 Q1178.15 1486.25 1175.88 1485.83 Q1173.64 1485.44 1171.14 1484.63 L1171.14 1480.23 Q1173.5 1481.46 1175.79 1482.08 Q1178.08 1482.69 1180.33 1482.69 Q1183.34 1482.69 1184.96 1481.67 Q1186.58 1480.63 1186.58 1478.75 Q1186.58 1477.02 1185.4 1476.09 Q1184.24 1475.16 1180.28 1474.31 L1178.8 1473.96 Q1174.84 1473.13 1173.08 1471.41 Q1171.32 1469.68 1171.32 1466.67 Q1171.32 1463.01 1173.92 1461.02 Q1176.51 1459.03 1181.28 1459.03 Q1183.64 1459.03 1185.72 1459.38 Q1187.8 1459.72 1189.56 1460.42 Z\" fill=\"#000000\" fill-rule=\"evenodd\" fill-opacity=\"1\" /><path clip-path=\"url(#clip260)\" d=\"M1197.3 1475.35 L1197.3 1459.65 L1201.55 1459.65 L1201.55 1475.19 Q1201.55 1478.87 1202.99 1480.72 Q1204.42 1482.55 1207.3 1482.55 Q1210.74 1482.55 1212.74 1480.35 Q1214.75 1478.15 1214.75 1474.35 L1214.75 1459.65 L1219.01 1459.65 L1219.01 1485.58 L1214.75 1485.58 L1214.75 1481.6 Q1213.2 1483.96 1211.14 1485.12 Q1209.1 1486.25 1206.39 1486.25 Q1201.92 1486.25 1199.61 1483.47 Q1197.3 1480.7 1197.3 1475.35 M1208.01 1459.03 L1208.01 1459.03 Z\" fill=\"#000000\" fill-rule=\"evenodd\" fill-opacity=\"1\" /><path clip-path=\"url(#clip260)\" d=\"M1247.97 1464.63 Q1249.56 1461.76 1251.79 1460.39 Q1254.01 1459.03 1257.02 1459.03 Q1261.07 1459.03 1263.27 1461.88 Q1265.47 1464.7 1265.47 1469.93 L1265.47 1485.58 L1261.18 1485.58 L1261.18 1470.07 Q1261.18 1466.34 1259.86 1464.54 Q1258.55 1462.73 1255.84 1462.73 Q1252.53 1462.73 1250.61 1464.93 Q1248.68 1467.13 1248.68 1470.93 L1248.68 1485.58 L1244.4 1485.58 L1244.4 1470.07 Q1244.4 1466.32 1243.08 1464.54 Q1241.76 1462.73 1239.01 1462.73 Q1235.74 1462.73 1233.82 1464.95 Q1231.9 1467.15 1231.9 1470.93 L1231.9 1485.58 L1227.62 1485.58 L1227.62 1459.65 L1231.9 1459.65 L1231.9 1463.68 Q1233.36 1461.3 1235.4 1460.16 Q1237.43 1459.03 1240.23 1459.03 Q1243.06 1459.03 1245.03 1460.46 Q1247.02 1461.9 1247.97 1464.63 Z\" fill=\"#000000\" fill-rule=\"evenodd\" fill-opacity=\"1\" /><path clip-path=\"url(#clip260)\" d=\"M1299.26 1449.61 Q1296.16 1454.93 1294.66 1460.14 Q1293.15 1465.35 1293.15 1470.7 Q1293.15 1476.04 1294.66 1481.3 Q1296.18 1486.53 1299.26 1491.83 L1295.56 1491.83 Q1292.09 1486.39 1290.35 1481.14 Q1288.64 1475.88 1288.64 1470.7 Q1288.64 1465.53 1290.35 1460.3 Q1292.06 1455.07 1295.56 1449.61 L1299.26 1449.61 Z\" fill=\"#000000\" fill-rule=\"evenodd\" fill-opacity=\"1\" /><path clip-path=\"url(#clip260)\" d=\"M1307.71 1451.02 L1312.39 1451.02 L1312.39 1483.17 Q1312.39 1489.42 1310 1492.25 Q1307.64 1495.07 1302.39 1495.07 L1300.6 1495.07 L1300.6 1491.14 L1302.06 1491.14 Q1305.17 1491.14 1306.44 1489.4 Q1307.71 1487.66 1307.71 1483.17 L1307.71 1451.02 Z\" fill=\"#000000\" fill-rule=\"evenodd\" fill-opacity=\"1\" /><path clip-path=\"url(#clip260)\" d=\"M1321.07 1475.35 L1321.07 1459.65 L1325.33 1459.65 L1325.33 1475.19 Q1325.33 1478.87 1326.76 1480.72 Q1328.2 1482.55 1331.07 1482.55 Q1334.52 1482.55 1336.51 1480.35 Q1338.52 1478.15 1338.52 1474.35 L1338.52 1459.65 L1342.78 1459.65 L1342.78 1485.58 L1338.52 1485.58 L1338.52 1481.6 Q1336.97 1483.96 1334.91 1485.12 Q1332.87 1486.25 1330.17 1486.25 Q1325.7 1486.25 1323.38 1483.47 Q1321.07 1480.7 1321.07 1475.35 M1331.79 1459.03 L1331.79 1459.03 Z\" fill=\"#000000\" fill-rule=\"evenodd\" fill-opacity=\"1\" /><path clip-path=\"url(#clip260)\" d=\"M1351.55 1449.56 L1355.81 1449.56 L1355.81 1485.58 L1351.55 1485.58 L1351.55 1449.56 Z\" fill=\"#000000\" fill-rule=\"evenodd\" fill-opacity=\"1\" /><path clip-path=\"url(#clip260)\" d=\"M1364.73 1459.65 L1368.98 1459.65 L1368.98 1485.58 L1364.73 1485.58 L1364.73 1459.65 M1364.73 1449.56 L1368.98 1449.56 L1368.98 1454.96 L1364.73 1454.96 L1364.73 1449.56 Z\" fill=\"#000000\" fill-rule=\"evenodd\" fill-opacity=\"1\" /><path clip-path=\"url(#clip260)\" d=\"M1389.68 1472.55 Q1384.52 1472.55 1382.53 1473.73 Q1380.54 1474.91 1380.54 1477.76 Q1380.54 1480.02 1382.02 1481.37 Q1383.52 1482.69 1386.09 1482.69 Q1389.63 1482.69 1391.76 1480.19 Q1393.91 1477.66 1393.91 1473.5 L1393.91 1472.55 L1389.68 1472.55 M1398.17 1470.79 L1398.17 1485.58 L1393.91 1485.58 L1393.91 1481.64 Q1392.46 1484.01 1390.28 1485.14 Q1388.1 1486.25 1384.96 1486.25 Q1380.97 1486.25 1378.61 1484.03 Q1376.28 1481.78 1376.28 1478.03 Q1376.28 1473.66 1379.19 1471.44 Q1382.13 1469.21 1387.94 1469.21 L1393.91 1469.21 L1393.91 1468.8 Q1393.91 1465.86 1391.97 1464.26 Q1390.05 1462.64 1386.55 1462.64 Q1384.33 1462.64 1382.22 1463.17 Q1380.12 1463.7 1378.17 1464.77 L1378.17 1460.83 Q1380.51 1459.93 1382.71 1459.49 Q1384.91 1459.03 1386.99 1459.03 Q1392.62 1459.03 1395.4 1461.95 Q1398.17 1464.86 1398.17 1470.79 Z\" fill=\"#000000\" fill-rule=\"evenodd\" fill-opacity=\"1\" /><path clip-path=\"url(#clip260)\" d=\"M1406.28 1449.61 L1409.98 1449.61 Q1413.45 1455.07 1415.16 1460.3 Q1416.9 1465.53 1416.9 1470.7 Q1416.9 1475.88 1415.16 1481.14 Q1413.45 1486.39 1409.98 1491.83 L1406.28 1491.83 Q1409.35 1486.53 1410.86 1481.3 Q1412.39 1476.04 1412.39 1470.7 Q1412.39 1465.35 1410.86 1460.14 Q1409.35 1454.93 1406.28 1449.61 Z\" fill=\"#000000\" fill-rule=\"evenodd\" fill-opacity=\"1\" /><path clip-path=\"url(#clip260)\" d=\"M1479.63 1464.63 Q1481.23 1461.76 1483.45 1460.39 Q1485.67 1459.03 1488.68 1459.03 Q1492.73 1459.03 1494.93 1461.88 Q1497.13 1464.7 1497.13 1469.93 L1497.13 1485.58 L1492.85 1485.58 L1492.85 1470.07 Q1492.85 1466.34 1491.53 1464.54 Q1490.21 1462.73 1487.5 1462.73 Q1484.19 1462.73 1482.27 1464.93 Q1480.35 1467.13 1480.35 1470.93 L1480.35 1485.58 L1476.07 1485.58 L1476.07 1470.07 Q1476.07 1466.32 1474.75 1464.54 Q1473.43 1462.73 1470.67 1462.73 Q1467.41 1462.73 1465.49 1464.95 Q1463.57 1467.15 1463.57 1470.93 L1463.57 1485.58 L1459.28 1485.58 L1459.28 1459.65 L1463.57 1459.65 L1463.57 1463.68 Q1465.02 1461.3 1467.06 1460.16 Q1469.1 1459.03 1471.9 1459.03 Q1474.72 1459.03 1476.69 1460.46 Q1478.68 1461.9 1479.63 1464.63 Z\" fill=\"#000000\" fill-rule=\"evenodd\" fill-opacity=\"1\" /><path clip-path=\"url(#clip260)\" d=\"M1516.41 1487.99 Q1514.61 1492.62 1512.9 1494.03 Q1511.18 1495.44 1508.31 1495.44 L1504.91 1495.44 L1504.91 1491.88 L1507.41 1491.88 Q1509.17 1491.88 1510.14 1491.04 Q1511.11 1490.21 1512.29 1487.11 L1513.06 1485.16 L1502.57 1459.65 L1507.08 1459.65 L1515.19 1479.93 L1523.29 1459.65 L1527.8 1459.65 L1516.41 1487.99 Z\" fill=\"#000000\" fill-rule=\"evenodd\" fill-opacity=\"1\" /><path clip-path=\"url(#clip260)\" d=\"M1553.38 1493.45 L1553.38 1496.76 L1528.75 1496.76 L1528.75 1493.45 L1553.38 1493.45 Z\" fill=\"#000000\" fill-rule=\"evenodd\" fill-opacity=\"1\" /><path clip-path=\"url(#clip260)\" d=\"M1570.51 1449.56 L1570.51 1453.1 L1566.44 1453.1 Q1564.14 1453.1 1563.24 1454.03 Q1562.36 1454.96 1562.36 1457.36 L1562.36 1459.65 L1569.38 1459.65 L1569.38 1462.96 L1562.36 1462.96 L1562.36 1485.58 L1558.08 1485.58 L1558.08 1462.96 L1554.01 1462.96 L1554.01 1459.65 L1558.08 1459.65 L1558.08 1457.85 Q1558.08 1453.52 1560.09 1451.55 Q1562.11 1449.56 1566.48 1449.56 L1570.51 1449.56 Z\" fill=\"#000000\" fill-rule=\"evenodd\" fill-opacity=\"1\" /><path clip-path=\"url(#clip260)\" d=\"M1585.86 1472.55 Q1580.7 1472.55 1578.7 1473.73 Q1576.71 1474.91 1576.71 1477.76 Q1576.71 1480.02 1578.2 1481.37 Q1579.7 1482.69 1582.27 1482.69 Q1585.81 1482.69 1587.94 1480.19 Q1590.09 1477.66 1590.09 1473.5 L1590.09 1472.55 L1585.86 1472.55 M1594.35 1470.79 L1594.35 1485.58 L1590.09 1485.58 L1590.09 1481.64 Q1588.64 1484.01 1586.46 1485.14 Q1584.28 1486.25 1581.14 1486.25 Q1577.15 1486.25 1574.79 1484.03 Q1572.45 1481.78 1572.45 1478.03 Q1572.45 1473.66 1575.37 1471.44 Q1578.31 1469.21 1584.12 1469.21 L1590.09 1469.21 L1590.09 1468.8 Q1590.09 1465.86 1588.15 1464.26 Q1586.23 1462.64 1582.73 1462.64 Q1580.51 1462.64 1578.4 1463.17 Q1576.3 1463.7 1574.35 1464.77 L1574.35 1460.83 Q1576.69 1459.93 1578.89 1459.49 Q1581.09 1459.03 1583.17 1459.03 Q1588.8 1459.03 1591.58 1461.95 Q1594.35 1464.86 1594.35 1470.79 Z\" fill=\"#000000\" fill-rule=\"evenodd\" fill-opacity=\"1\" /><path clip-path=\"url(#clip260)\" d=\"M1619.65 1460.42 L1619.65 1464.45 Q1617.85 1463.52 1615.9 1463.06 Q1613.96 1462.59 1611.88 1462.59 Q1608.7 1462.59 1607.11 1463.57 Q1605.53 1464.54 1605.53 1466.48 Q1605.53 1467.96 1606.67 1468.82 Q1607.8 1469.65 1611.23 1470.42 L1612.69 1470.74 Q1617.22 1471.71 1619.12 1473.5 Q1621.04 1475.26 1621.04 1478.43 Q1621.04 1482.04 1618.17 1484.14 Q1615.33 1486.25 1610.33 1486.25 Q1608.24 1486.25 1605.97 1485.83 Q1603.73 1485.44 1601.23 1484.63 L1601.23 1480.23 Q1603.59 1481.46 1605.88 1482.08 Q1608.17 1482.69 1610.42 1482.69 Q1613.43 1482.69 1615.05 1481.67 Q1616.67 1480.63 1616.67 1478.75 Q1616.67 1477.02 1615.49 1476.09 Q1614.33 1475.16 1610.37 1474.31 L1608.89 1473.96 Q1604.93 1473.13 1603.17 1471.41 Q1601.41 1469.68 1601.41 1466.67 Q1601.41 1463.01 1604.01 1461.02 Q1606.6 1459.03 1611.37 1459.03 Q1613.73 1459.03 1615.81 1459.38 Q1617.89 1459.72 1619.65 1460.42 Z\" fill=\"#000000\" fill-rule=\"evenodd\" fill-opacity=\"1\" /><path clip-path=\"url(#clip260)\" d=\"M1632.04 1452.29 L1632.04 1459.65 L1640.81 1459.65 L1640.81 1462.96 L1632.04 1462.96 L1632.04 1477.04 Q1632.04 1480.21 1632.89 1481.11 Q1633.77 1482.02 1636.44 1482.02 L1640.81 1482.02 L1640.81 1485.58 L1636.44 1485.58 Q1631.51 1485.58 1629.63 1483.75 Q1627.76 1481.9 1627.76 1477.04 L1627.76 1462.96 L1624.63 1462.96 L1624.63 1459.65 L1627.76 1459.65 L1627.76 1452.29 L1632.04 1452.29 Z\" fill=\"#000000\" fill-rule=\"evenodd\" fill-opacity=\"1\" /><path clip-path=\"url(#clip260)\" d=\"M1666.11 1493.45 L1666.11 1496.76 L1641.48 1496.76 L1641.48 1493.45 L1666.11 1493.45 Z\" fill=\"#000000\" fill-rule=\"evenodd\" fill-opacity=\"1\" /><path clip-path=\"url(#clip260)\" d=\"M1686.64 1460.42 L1686.64 1464.45 Q1684.84 1463.52 1682.89 1463.06 Q1680.95 1462.59 1678.87 1462.59 Q1675.7 1462.59 1674.1 1463.57 Q1672.52 1464.54 1672.52 1466.48 Q1672.52 1467.96 1673.66 1468.82 Q1674.79 1469.65 1678.22 1470.42 L1679.68 1470.74 Q1684.21 1471.71 1686.11 1473.5 Q1688.03 1475.26 1688.03 1478.43 Q1688.03 1482.04 1685.16 1484.14 Q1682.32 1486.25 1677.32 1486.25 Q1675.23 1486.25 1672.96 1485.83 Q1670.72 1485.44 1668.22 1484.63 L1668.22 1480.23 Q1670.58 1481.46 1672.87 1482.08 Q1675.16 1482.69 1677.41 1482.69 Q1680.42 1482.69 1682.04 1481.67 Q1683.66 1480.63 1683.66 1478.75 Q1683.66 1477.02 1682.48 1476.09 Q1681.32 1475.16 1677.36 1474.31 L1675.88 1473.96 Q1671.92 1473.13 1670.16 1471.41 Q1668.4 1469.68 1668.4 1466.67 Q1668.4 1463.01 1671 1461.02 Q1673.59 1459.03 1678.36 1459.03 Q1680.72 1459.03 1682.8 1459.38 Q1684.88 1459.72 1686.64 1460.42 Z\" fill=\"#000000\" fill-rule=\"evenodd\" fill-opacity=\"1\" /><path clip-path=\"url(#clip260)\" d=\"M1694.38 1475.35 L1694.38 1459.65 L1698.63 1459.65 L1698.63 1475.19 Q1698.63 1478.87 1700.07 1480.72 Q1701.51 1482.55 1704.38 1482.55 Q1707.82 1482.55 1709.82 1480.35 Q1711.83 1478.15 1711.83 1474.35 L1711.83 1459.65 L1716.09 1459.65 L1716.09 1485.58 L1711.83 1485.58 L1711.83 1481.6 Q1710.28 1483.96 1708.22 1485.12 Q1706.18 1486.25 1703.47 1486.25 Q1699.01 1486.25 1696.69 1483.47 Q1694.38 1480.7 1694.38 1475.35 M1705.09 1459.03 L1705.09 1459.03 Z\" fill=\"#000000\" fill-rule=\"evenodd\" fill-opacity=\"1\" /><path clip-path=\"url(#clip260)\" d=\"M1745.05 1464.63 Q1746.64 1461.76 1748.87 1460.39 Q1751.09 1459.03 1754.1 1459.03 Q1758.15 1459.03 1760.35 1461.88 Q1762.55 1464.7 1762.55 1469.93 L1762.55 1485.58 L1758.26 1485.58 L1758.26 1470.07 Q1758.26 1466.34 1756.94 1464.54 Q1755.63 1462.73 1752.92 1462.73 Q1749.61 1462.73 1747.69 1464.93 Q1745.76 1467.13 1745.76 1470.93 L1745.76 1485.58 L1741.48 1485.58 L1741.48 1470.07 Q1741.48 1466.32 1740.16 1464.54 Q1738.84 1462.73 1736.09 1462.73 Q1732.82 1462.73 1730.9 1464.95 Q1728.98 1467.15 1728.98 1470.93 L1728.98 1485.58 L1724.7 1485.58 L1724.7 1459.65 L1728.98 1459.65 L1728.98 1463.68 Q1730.44 1461.3 1732.48 1460.16 Q1734.51 1459.03 1737.32 1459.03 Q1740.14 1459.03 1742.11 1460.46 Q1744.1 1461.9 1745.05 1464.63 Z\" fill=\"#000000\" fill-rule=\"evenodd\" fill-opacity=\"1\" /><path clip-path=\"url(#clip260)\" d=\"M1796.34 1449.61 Q1793.24 1454.93 1791.74 1460.14 Q1790.23 1465.35 1790.23 1470.7 Q1790.23 1476.04 1791.74 1481.3 Q1793.26 1486.53 1796.34 1491.83 L1792.64 1491.83 Q1789.17 1486.39 1787.43 1481.14 Q1785.72 1475.88 1785.72 1470.7 Q1785.72 1465.53 1787.43 1460.3 Q1789.14 1455.07 1792.64 1449.61 L1796.34 1449.61 Z\" fill=\"#000000\" fill-rule=\"evenodd\" fill-opacity=\"1\" /><path clip-path=\"url(#clip260)\" d=\"M1804.79 1451.02 L1809.47 1451.02 L1809.47 1483.17 Q1809.47 1489.42 1807.08 1492.25 Q1804.72 1495.07 1799.47 1495.07 L1797.69 1495.07 L1797.69 1491.14 L1799.14 1491.14 Q1802.25 1491.14 1803.52 1489.4 Q1804.79 1487.66 1804.79 1483.17 L1804.79 1451.02 Z\" fill=\"#000000\" fill-rule=\"evenodd\" fill-opacity=\"1\" /><path clip-path=\"url(#clip260)\" d=\"M1818.15 1475.35 L1818.15 1459.65 L1822.41 1459.65 L1822.41 1475.19 Q1822.41 1478.87 1823.84 1480.72 Q1825.28 1482.55 1828.15 1482.55 Q1831.6 1482.55 1833.59 1480.35 Q1835.6 1478.15 1835.6 1474.35 L1835.6 1459.65 L1839.86 1459.65 L1839.86 1485.58 L1835.6 1485.58 L1835.6 1481.6 Q1834.05 1483.96 1831.99 1485.12 Q1829.95 1486.25 1827.25 1486.25 Q1822.78 1486.25 1820.46 1483.47 Q1818.15 1480.7 1818.15 1475.35 M1828.87 1459.03 L1828.87 1459.03 Z\" fill=\"#000000\" fill-rule=\"evenodd\" fill-opacity=\"1\" /><path clip-path=\"url(#clip260)\" d=\"M1848.63 1449.56 L1852.89 1449.56 L1852.89 1485.58 L1848.63 1485.58 L1848.63 1449.56 Z\" fill=\"#000000\" fill-rule=\"evenodd\" fill-opacity=\"1\" /><path clip-path=\"url(#clip260)\" d=\"M1861.81 1459.65 L1866.06 1459.65 L1866.06 1485.58 L1861.81 1485.58 L1861.81 1459.65 M1861.81 1449.56 L1866.06 1449.56 L1866.06 1454.96 L1861.81 1454.96 L1861.81 1449.56 Z\" fill=\"#000000\" fill-rule=\"evenodd\" fill-opacity=\"1\" /><path clip-path=\"url(#clip260)\" d=\"M1886.76 1472.55 Q1881.6 1472.55 1879.61 1473.73 Q1877.62 1474.91 1877.62 1477.76 Q1877.62 1480.02 1879.1 1481.37 Q1880.6 1482.69 1883.17 1482.69 Q1886.71 1482.69 1888.84 1480.19 Q1890.99 1477.66 1890.99 1473.5 L1890.99 1472.55 L1886.76 1472.55 M1895.25 1470.79 L1895.25 1485.58 L1890.99 1485.58 L1890.99 1481.64 Q1889.54 1484.01 1887.36 1485.14 Q1885.18 1486.25 1882.04 1486.25 Q1878.06 1486.25 1875.69 1484.03 Q1873.36 1481.78 1873.36 1478.03 Q1873.36 1473.66 1876.27 1471.44 Q1879.21 1469.21 1885.02 1469.21 L1890.99 1469.21 L1890.99 1468.8 Q1890.99 1465.86 1889.05 1464.26 Q1887.13 1462.64 1883.63 1462.64 Q1881.41 1462.64 1879.31 1463.17 Q1877.2 1463.7 1875.25 1464.77 L1875.25 1460.83 Q1877.59 1459.93 1879.79 1459.49 Q1881.99 1459.03 1884.07 1459.03 Q1889.7 1459.03 1892.48 1461.95 Q1895.25 1464.86 1895.25 1470.79 Z\" fill=\"#000000\" fill-rule=\"evenodd\" fill-opacity=\"1\" /><path clip-path=\"url(#clip260)\" d=\"M1903.36 1449.61 L1907.06 1449.61 Q1910.53 1455.07 1912.24 1460.3 Q1913.98 1465.53 1913.98 1470.7 Q1913.98 1475.88 1912.24 1481.14 Q1910.53 1486.39 1907.06 1491.83 L1903.36 1491.83 Q1906.43 1486.53 1907.94 1481.3 Q1909.47 1476.04 1909.47 1470.7 Q1909.47 1465.35 1907.94 1460.14 Q1906.43 1454.93 1903.36 1449.61 Z\" fill=\"#000000\" fill-rule=\"evenodd\" fill-opacity=\"1\" /><path clip-path=\"url(#clip260)\" d=\"M1888.14 1481.69 L1888.14 1495.44 L1883.85 1495.44 L1883.85 1459.65 L1888.14 1459.65 L1888.14 1463.59 Q1889.48 1461.27 1891.52 1460.16 Q1893.58 1459.03 1896.42 1459.03 Q1901.14 1459.03 1904.08 1462.78 Q1907.05 1466.53 1907.05 1472.64 Q1907.05 1478.75 1904.08 1482.5 Q1901.14 1486.25 1896.42 1486.25 Q1893.58 1486.25 1891.52 1485.14 Q1889.48 1484.01 1888.14 1481.69 M1902.63 1472.64 Q1902.63 1467.94 1900.68 1465.28 Q1898.76 1462.59 1895.38 1462.59 Q1892 1462.59 1890.06 1465.28 Q1888.14 1467.94 1888.14 1472.64 Q1888.14 1477.34 1890.06 1480.02 Q1892 1482.69 1895.38 1482.69 Q1898.76 1482.69 1900.68 1480.02 Q1902.63 1477.34 1902.63 1472.64 Z\" fill=\"#000000\" fill-rule=\"evenodd\" fill-opacity=\"1\" /><path clip-path=\"url(#clip260)\" d=\"M1924.89 1487.99 Q1923.09 1492.62 1921.38 1494.03 Q1919.66 1495.44 1916.79 1495.44 L1913.39 1495.44 L1913.39 1491.88 L1915.89 1491.88 Q1917.65 1491.88 1918.62 1491.04 Q1919.59 1490.21 1920.77 1487.11 L1921.54 1485.16 L1911.05 1459.65 L1915.57 1459.65 L1923.67 1479.93 L1931.77 1459.65 L1936.28 1459.65 L1924.89 1487.99 Z\" fill=\"#000000\" fill-rule=\"evenodd\" fill-opacity=\"1\" /><path clip-path=\"url(#clip260)\" d=\"M1961.86 1493.45 L1961.86 1496.76 L1937.23 1496.76 L1937.23 1493.45 L1961.86 1493.45 Z\" fill=\"#000000\" fill-rule=\"evenodd\" fill-opacity=\"1\" /><path clip-path=\"url(#clip260)\" d=\"M1982.39 1460.42 L1982.39 1464.45 Q1980.59 1463.52 1978.64 1463.06 Q1976.7 1462.59 1974.62 1462.59 Q1971.45 1462.59 1969.85 1463.57 Q1968.27 1464.54 1968.27 1466.48 Q1968.27 1467.96 1969.41 1468.82 Q1970.54 1469.65 1973.97 1470.42 L1975.43 1470.74 Q1979.96 1471.71 1981.86 1473.5 Q1983.78 1475.26 1983.78 1478.43 Q1983.78 1482.04 1980.91 1484.14 Q1978.07 1486.25 1973.07 1486.25 Q1970.98 1486.25 1968.71 1485.83 Q1966.47 1485.44 1963.97 1484.63 L1963.97 1480.23 Q1966.33 1481.46 1968.62 1482.08 Q1970.91 1482.69 1973.16 1482.69 Q1976.17 1482.69 1977.79 1481.67 Q1979.41 1480.63 1979.41 1478.75 Q1979.41 1477.02 1978.23 1476.09 Q1977.07 1475.16 1973.11 1474.31 L1971.63 1473.96 Q1967.67 1473.13 1965.91 1471.41 Q1964.15 1469.68 1964.15 1466.67 Q1964.15 1463.01 1966.75 1461.02 Q1969.34 1459.03 1974.11 1459.03 Q1976.47 1459.03 1978.55 1459.38 Q1980.64 1459.72 1982.39 1460.42 Z\" fill=\"#000000\" fill-rule=\"evenodd\" fill-opacity=\"1\" /><path clip-path=\"url(#clip260)\" d=\"M1990.13 1475.35 L1990.13 1459.65 L1994.39 1459.65 L1994.39 1475.19 Q1994.39 1478.87 1995.82 1480.72 Q1997.26 1482.55 2000.13 1482.55 Q2003.57 1482.55 2005.57 1480.35 Q2007.58 1478.15 2007.58 1474.35 L2007.58 1459.65 L2011.84 1459.65 L2011.84 1485.58 L2007.58 1485.58 L2007.58 1481.6 Q2006.03 1483.96 2003.97 1485.12 Q2001.93 1486.25 1999.22 1486.25 Q1994.76 1486.25 1992.44 1483.47 Q1990.13 1480.7 1990.13 1475.35 M2000.84 1459.03 L2000.84 1459.03 Z\" fill=\"#000000\" fill-rule=\"evenodd\" fill-opacity=\"1\" /><path clip-path=\"url(#clip260)\" d=\"M2040.8 1464.63 Q2042.39 1461.76 2044.62 1460.39 Q2046.84 1459.03 2049.85 1459.03 Q2053.9 1459.03 2056.1 1461.88 Q2058.3 1464.7 2058.3 1469.93 L2058.3 1485.58 L2054.01 1485.58 L2054.01 1470.07 Q2054.01 1466.34 2052.7 1464.54 Q2051.38 1462.73 2048.67 1462.73 Q2045.36 1462.73 2043.44 1464.93 Q2041.51 1467.13 2041.51 1470.93 L2041.51 1485.58 L2037.23 1485.58 L2037.23 1470.07 Q2037.23 1466.32 2035.91 1464.54 Q2034.59 1462.73 2031.84 1462.73 Q2028.57 1462.73 2026.65 1464.95 Q2024.73 1467.15 2024.73 1470.93 L2024.73 1485.58 L2020.45 1485.58 L2020.45 1459.65 L2024.73 1459.65 L2024.73 1463.68 Q2026.19 1461.3 2028.23 1460.16 Q2030.26 1459.03 2033.07 1459.03 Q2035.89 1459.03 2037.86 1460.46 Q2039.85 1461.9 2040.8 1464.63 Z\" fill=\"#000000\" fill-rule=\"evenodd\" fill-opacity=\"1\" /><path clip-path=\"url(#clip260)\" d=\"M2092.09 1449.61 Q2088.99 1454.93 2087.49 1460.14 Q2085.98 1465.35 2085.98 1470.7 Q2085.98 1476.04 2087.49 1481.3 Q2089.01 1486.53 2092.09 1491.83 L2088.39 1491.83 Q2084.92 1486.39 2083.18 1481.14 Q2081.47 1475.88 2081.47 1470.7 Q2081.47 1465.53 2083.18 1460.3 Q2084.89 1455.07 2088.39 1449.61 L2092.09 1449.61 Z\" fill=\"#000000\" fill-rule=\"evenodd\" fill-opacity=\"1\" /><path clip-path=\"url(#clip260)\" d=\"M2105.22 1454.86 L2105.22 1467.85 L2111.1 1467.85 Q2114.36 1467.85 2116.14 1466.16 Q2117.93 1464.47 2117.93 1461.34 Q2117.93 1458.24 2116.14 1456.55 Q2114.36 1454.86 2111.1 1454.86 L2105.22 1454.86 M2100.54 1451.02 L2111.1 1451.02 Q2116.91 1451.02 2119.87 1453.66 Q2122.86 1456.27 2122.86 1461.34 Q2122.86 1466.46 2119.87 1469.08 Q2116.91 1471.69 2111.1 1471.69 L2105.22 1471.69 L2105.22 1485.58 L2100.54 1485.58 L2100.54 1451.02 Z\" fill=\"#000000\" fill-rule=\"evenodd\" fill-opacity=\"1\" /><path clip-path=\"url(#clip260)\" d=\"M2139.73 1487.99 Q2137.93 1492.62 2136.21 1494.03 Q2134.5 1495.44 2131.63 1495.44 L2128.23 1495.44 L2128.23 1491.88 L2130.73 1491.88 Q2132.49 1491.88 2133.46 1491.04 Q2134.43 1490.21 2135.61 1487.11 L2136.38 1485.16 L2125.89 1459.65 L2130.4 1459.65 L2138.5 1479.93 L2146.61 1459.65 L2151.12 1459.65 L2139.73 1487.99 Z\" fill=\"#000000\" fill-rule=\"evenodd\" fill-opacity=\"1\" /><path clip-path=\"url(#clip260)\" d=\"M2161.21 1452.29 L2161.21 1459.65 L2169.99 1459.65 L2169.99 1462.96 L2161.21 1462.96 L2161.21 1477.04 Q2161.21 1480.21 2162.07 1481.11 Q2162.95 1482.02 2165.61 1482.02 L2169.99 1482.02 L2169.99 1485.58 L2165.61 1485.58 Q2160.68 1485.58 2158.81 1483.75 Q2156.93 1481.9 2156.93 1477.04 L2156.93 1462.96 L2153.81 1462.96 L2153.81 1459.65 L2156.93 1459.65 L2156.93 1452.29 L2161.21 1452.29 Z\" fill=\"#000000\" fill-rule=\"evenodd\" fill-opacity=\"1\" /><path clip-path=\"url(#clip260)\" d=\"M2197.14 1469.93 L2197.14 1485.58 L2192.88 1485.58 L2192.88 1470.07 Q2192.88 1466.39 2191.44 1464.56 Q2190.01 1462.73 2187.14 1462.73 Q2183.69 1462.73 2181.7 1464.93 Q2179.71 1467.13 2179.71 1470.93 L2179.71 1485.58 L2175.43 1485.58 L2175.43 1449.56 L2179.71 1449.56 L2179.71 1463.68 Q2181.24 1461.34 2183.3 1460.19 Q2185.38 1459.03 2188.09 1459.03 Q2192.56 1459.03 2194.85 1461.81 Q2197.14 1464.56 2197.14 1469.93 Z\" fill=\"#000000\" fill-rule=\"evenodd\" fill-opacity=\"1\" /><path clip-path=\"url(#clip260)\" d=\"M2215.68 1462.64 Q2212.25 1462.64 2210.26 1465.33 Q2208.27 1467.99 2208.27 1472.64 Q2208.27 1477.29 2210.24 1479.98 Q2212.23 1482.64 2215.68 1482.64 Q2219.08 1482.64 2221.07 1479.95 Q2223.06 1477.27 2223.06 1472.64 Q2223.06 1468.03 2221.07 1465.35 Q2219.08 1462.64 2215.68 1462.64 M2215.68 1459.03 Q2221.24 1459.03 2224.41 1462.64 Q2227.58 1466.25 2227.58 1472.64 Q2227.58 1479.01 2224.41 1482.64 Q2221.24 1486.25 2215.68 1486.25 Q2210.1 1486.25 2206.93 1482.64 Q2203.78 1479.01 2203.78 1472.64 Q2203.78 1466.25 2206.93 1462.64 Q2210.1 1459.03 2215.68 1459.03 Z\" fill=\"#000000\" fill-rule=\"evenodd\" fill-opacity=\"1\" /><path clip-path=\"url(#clip260)\" d=\"M2256.19 1469.93 L2256.19 1485.58 L2251.93 1485.58 L2251.93 1470.07 Q2251.93 1466.39 2250.49 1464.56 Q2249.06 1462.73 2246.19 1462.73 Q2242.74 1462.73 2240.75 1464.93 Q2238.76 1467.13 2238.76 1470.93 L2238.76 1485.58 L2234.48 1485.58 L2234.48 1459.65 L2238.76 1459.65 L2238.76 1463.68 Q2240.29 1461.34 2242.35 1460.19 Q2244.43 1459.03 2247.14 1459.03 Q2251.61 1459.03 2253.9 1461.81 Q2256.19 1464.56 2256.19 1469.93 Z\" fill=\"#000000\" fill-rule=\"evenodd\" fill-opacity=\"1\" /><path clip-path=\"url(#clip260)\" d=\"M2264.01 1449.61 L2267.72 1449.61 Q2271.19 1455.07 2272.9 1460.3 Q2274.64 1465.53 2274.64 1470.7 Q2274.64 1475.88 2272.9 1481.14 Q2271.19 1486.39 2267.72 1491.83 L2264.01 1491.83 Q2267.09 1486.53 2268.6 1481.3 Q2270.12 1476.04 2270.12 1470.7 Q2270.12 1465.35 2268.6 1460.14 Q2267.09 1454.93 2264.01 1449.61 Z\" fill=\"#000000\" fill-rule=\"evenodd\" fill-opacity=\"1\" /><path clip-path=\"url(#clip260)\" d=\"M1187.09 1518.52 L1187.09 1523.39 L1181.49 1523.39 Q1178.34 1523.39 1177.1 1524.66 Q1175.89 1525.93 1175.89 1529.24 L1175.89 1532.4 L1185.53 1532.4 L1185.53 1536.95 L1175.89 1536.95 L1175.89 1568.04 L1170 1568.04 L1170 1536.95 L1164.4 1536.95 L1164.4 1532.4 L1170 1532.4 L1170 1529.91 Q1170 1523.96 1172.77 1521.26 Q1175.54 1518.52 1181.55 1518.52 L1187.09 1518.52 Z\" fill=\"#000000\" fill-rule=\"evenodd\" fill-opacity=\"1\" /><path clip-path=\"url(#clip260)\" d=\"M1191.39 1553.98 L1191.39 1532.4 L1197.24 1532.4 L1197.24 1553.75 Q1197.24 1558.81 1199.22 1561.36 Q1201.19 1563.87 1205.14 1563.87 Q1209.88 1563.87 1212.62 1560.85 Q1215.39 1557.83 1215.39 1552.61 L1215.39 1532.4 L1221.24 1532.4 L1221.24 1568.04 L1215.39 1568.04 L1215.39 1562.57 Q1213.25 1565.82 1210.42 1567.41 Q1207.62 1568.97 1203.9 1568.97 Q1197.75 1568.97 1194.57 1565.15 Q1191.39 1561.33 1191.39 1553.98 M1206.12 1531.54 L1206.12 1531.54 Z\" fill=\"#000000\" fill-rule=\"evenodd\" fill-opacity=\"1\" /><path clip-path=\"url(#clip260)\" d=\"M1262.94 1546.53 L1262.94 1568.04 L1257.08 1568.04 L1257.08 1546.72 Q1257.08 1541.66 1255.11 1539.14 Q1253.14 1536.63 1249.19 1536.63 Q1244.45 1536.63 1241.71 1539.65 Q1238.97 1542.68 1238.97 1547.9 L1238.97 1568.04 L1233.08 1568.04 L1233.08 1532.4 L1238.97 1532.4 L1238.97 1537.93 Q1241.07 1534.72 1243.91 1533.13 Q1246.77 1531.54 1250.49 1531.54 Q1256.64 1531.54 1259.79 1535.36 Q1262.94 1539.14 1262.94 1546.53 Z\" fill=\"#000000\" fill-rule=\"evenodd\" fill-opacity=\"1\" /><path clip-path=\"url(#clip260)\" d=\"M1300.27 1533.76 L1300.27 1539.24 Q1297.79 1537.87 1295.28 1537.2 Q1292.79 1536.5 1290.25 1536.5 Q1284.55 1536.5 1281.4 1540.13 Q1278.25 1543.73 1278.25 1550.25 Q1278.25 1556.78 1281.4 1560.4 Q1284.55 1564 1290.25 1564 Q1292.79 1564 1295.28 1563.33 Q1297.79 1562.63 1300.27 1561.26 L1300.27 1566.68 Q1297.82 1567.82 1295.18 1568.39 Q1292.57 1568.97 1289.61 1568.97 Q1281.56 1568.97 1276.82 1563.91 Q1272.07 1558.85 1272.07 1550.25 Q1272.07 1541.53 1276.85 1536.53 Q1281.65 1531.54 1289.99 1531.54 Q1292.7 1531.54 1295.28 1532.11 Q1297.85 1532.65 1300.27 1533.76 Z\" fill=\"#000000\" fill-rule=\"evenodd\" fill-opacity=\"1\" /><path clip-path=\"url(#clip260)\" d=\"M1316.25 1522.27 L1316.25 1532.4 L1328.31 1532.4 L1328.31 1536.95 L1316.25 1536.95 L1316.25 1556.3 Q1316.25 1560.66 1317.43 1561.9 Q1318.64 1563.14 1322.3 1563.14 L1328.31 1563.14 L1328.31 1568.04 L1322.3 1568.04 Q1315.52 1568.04 1312.94 1565.53 Q1310.36 1562.98 1310.36 1556.3 L1310.36 1536.95 L1306.07 1536.95 L1306.07 1532.4 L1310.36 1532.4 L1310.36 1522.27 L1316.25 1522.27 Z\" fill=\"#000000\" fill-rule=\"evenodd\" fill-opacity=\"1\" /><path clip-path=\"url(#clip260)\" d=\"M1336.02 1532.4 L1341.87 1532.4 L1341.87 1568.04 L1336.02 1568.04 L1336.02 1532.4 M1336.02 1518.52 L1341.87 1518.52 L1341.87 1525.93 L1336.02 1525.93 L1336.02 1518.52 Z\" fill=\"#000000\" fill-rule=\"evenodd\" fill-opacity=\"1\" /><path clip-path=\"url(#clip260)\" d=\"M1367.94 1536.5 Q1363.23 1536.5 1360.49 1540.19 Q1357.76 1543.85 1357.76 1550.25 Q1357.76 1556.65 1360.46 1560.34 Q1363.2 1564 1367.94 1564 Q1372.62 1564 1375.36 1560.31 Q1378.09 1556.62 1378.09 1550.25 Q1378.09 1543.92 1375.36 1540.23 Q1372.62 1536.5 1367.94 1536.5 M1367.94 1531.54 Q1375.58 1531.54 1379.94 1536.5 Q1384.3 1541.47 1384.3 1550.25 Q1384.3 1559 1379.94 1564 Q1375.58 1568.97 1367.94 1568.97 Q1360.27 1568.97 1355.91 1564 Q1351.58 1559 1351.58 1550.25 Q1351.58 1541.47 1355.91 1536.5 Q1360.27 1531.54 1367.94 1531.54 Z\" fill=\"#000000\" fill-rule=\"evenodd\" fill-opacity=\"1\" /><path clip-path=\"url(#clip260)\" d=\"M1423.64 1546.53 L1423.64 1568.04 L1417.78 1568.04 L1417.78 1546.72 Q1417.78 1541.66 1415.81 1539.14 Q1413.84 1536.63 1409.89 1536.63 Q1405.15 1536.63 1402.41 1539.65 Q1399.67 1542.68 1399.67 1547.9 L1399.67 1568.04 L1393.79 1568.04 L1393.79 1532.4 L1399.67 1532.4 L1399.67 1537.93 Q1401.77 1534.72 1404.61 1533.13 Q1407.47 1531.54 1411.2 1531.54 Q1417.34 1531.54 1420.49 1535.36 Q1423.64 1539.14 1423.64 1546.53 Z\" fill=\"#000000\" fill-rule=\"evenodd\" fill-opacity=\"1\" /><polyline clip-path=\"url(#clip262)\" style=\"stroke:#000000; stroke-linecap:butt; stroke-linejoin:round; stroke-width:2; stroke-opacity:0.1; fill:none\" points=\"\n",
       "  235.283,1384.24 2352.76,1384.24 \n",
       "  \"/>\n",
       "<polyline clip-path=\"url(#clip262)\" style=\"stroke:#000000; stroke-linecap:butt; stroke-linejoin:round; stroke-width:2; stroke-opacity:0.1; fill:none\" points=\"\n",
       "  235.283,1025.76 2352.76,1025.76 \n",
       "  \"/>\n",
       "<polyline clip-path=\"url(#clip262)\" style=\"stroke:#000000; stroke-linecap:butt; stroke-linejoin:round; stroke-width:2; stroke-opacity:0.1; fill:none\" points=\"\n",
       "  235.283,667.28 2352.76,667.28 \n",
       "  \"/>\n",
       "<polyline clip-path=\"url(#clip262)\" style=\"stroke:#000000; stroke-linecap:butt; stroke-linejoin:round; stroke-width:2; stroke-opacity:0.1; fill:none\" points=\"\n",
       "  235.283,308.801 2352.76,308.801 \n",
       "  \"/>\n",
       "<polyline clip-path=\"url(#clip260)\" style=\"stroke:#000000; stroke-linecap:butt; stroke-linejoin:round; stroke-width:4; stroke-opacity:1; fill:none\" points=\"\n",
       "  235.283,1423.18 235.283,47.2441 \n",
       "  \"/>\n",
       "<polyline clip-path=\"url(#clip260)\" style=\"stroke:#000000; stroke-linecap:butt; stroke-linejoin:round; stroke-width:4; stroke-opacity:1; fill:none\" points=\"\n",
       "  235.283,1384.24 254.18,1384.24 \n",
       "  \"/>\n",
       "<polyline clip-path=\"url(#clip260)\" style=\"stroke:#000000; stroke-linecap:butt; stroke-linejoin:round; stroke-width:4; stroke-opacity:1; fill:none\" points=\"\n",
       "  235.283,1025.76 254.18,1025.76 \n",
       "  \"/>\n",
       "<polyline clip-path=\"url(#clip260)\" style=\"stroke:#000000; stroke-linecap:butt; stroke-linejoin:round; stroke-width:4; stroke-opacity:1; fill:none\" points=\"\n",
       "  235.283,667.28 254.18,667.28 \n",
       "  \"/>\n",
       "<polyline clip-path=\"url(#clip260)\" style=\"stroke:#000000; stroke-linecap:butt; stroke-linejoin:round; stroke-width:4; stroke-opacity:1; fill:none\" points=\"\n",
       "  235.283,308.801 254.18,308.801 \n",
       "  \"/>\n",
       "<path clip-path=\"url(#clip260)\" d=\"M187.338 1370.04 Q183.727 1370.04 181.899 1373.6 Q180.093 1377.14 180.093 1384.27 Q180.093 1391.38 181.899 1394.94 Q183.727 1398.49 187.338 1398.49 Q190.973 1398.49 192.778 1394.94 Q194.607 1391.38 194.607 1384.27 Q194.607 1377.14 192.778 1373.6 Q190.973 1370.04 187.338 1370.04 M187.338 1366.33 Q193.149 1366.33 196.204 1370.94 Q199.283 1375.52 199.283 1384.27 Q199.283 1393 196.204 1397.61 Q193.149 1402.19 187.338 1402.19 Q181.528 1402.19 178.45 1397.61 Q175.394 1393 175.394 1384.27 Q175.394 1375.52 178.45 1370.94 Q181.528 1366.33 187.338 1366.33 Z\" fill=\"#000000\" fill-rule=\"evenodd\" fill-opacity=\"1\" /><path clip-path=\"url(#clip260)\" d=\"M121.043 1039.1 L137.362 1039.1 L137.362 1043.04 L115.418 1043.04 L115.418 1039.1 Q118.08 1036.35 122.663 1031.72 Q127.269 1027.07 128.45 1025.72 Q130.695 1023.2 131.575 1021.47 Q132.478 1019.71 132.478 1018.02 Q132.478 1015.26 130.533 1013.53 Q128.612 1011.79 125.51 1011.79 Q123.311 1011.79 120.857 1012.55 Q118.427 1013.32 115.649 1014.87 L115.649 1010.15 Q118.473 1009.01 120.927 1008.43 Q123.38 1007.85 125.418 1007.85 Q130.788 1007.85 133.982 1010.54 Q137.177 1013.22 137.177 1017.72 Q137.177 1019.84 136.367 1021.77 Q135.579 1023.66 133.473 1026.26 Q132.894 1026.93 129.792 1030.15 Q126.691 1033.34 121.043 1039.1 Z\" fill=\"#000000\" fill-rule=\"evenodd\" fill-opacity=\"1\" /><path clip-path=\"url(#clip260)\" d=\"M157.177 1011.56 Q153.566 1011.56 151.737 1015.12 Q149.931 1018.66 149.931 1025.79 Q149.931 1032.9 151.737 1036.47 Q153.566 1040.01 157.177 1040.01 Q160.811 1040.01 162.616 1036.47 Q164.445 1032.9 164.445 1025.79 Q164.445 1018.66 162.616 1015.12 Q160.811 1011.56 157.177 1011.56 M157.177 1007.85 Q162.987 1007.85 166.042 1012.46 Q169.121 1017.04 169.121 1025.79 Q169.121 1034.52 166.042 1039.13 Q162.987 1043.71 157.177 1043.71 Q151.366 1043.71 148.288 1039.13 Q145.232 1034.52 145.232 1025.79 Q145.232 1017.04 148.288 1012.46 Q151.366 1007.85 157.177 1007.85 Z\" fill=\"#000000\" fill-rule=\"evenodd\" fill-opacity=\"1\" /><path clip-path=\"url(#clip260)\" d=\"M187.338 1011.56 Q183.727 1011.56 181.899 1015.12 Q180.093 1018.66 180.093 1025.79 Q180.093 1032.9 181.899 1036.47 Q183.727 1040.01 187.338 1040.01 Q190.973 1040.01 192.778 1036.47 Q194.607 1032.9 194.607 1025.79 Q194.607 1018.66 192.778 1015.12 Q190.973 1011.56 187.338 1011.56 M187.338 1007.85 Q193.149 1007.85 196.204 1012.46 Q199.283 1017.04 199.283 1025.79 Q199.283 1034.52 196.204 1039.13 Q193.149 1043.71 187.338 1043.71 Q181.528 1043.71 178.45 1039.13 Q175.394 1034.52 175.394 1025.79 Q175.394 1017.04 178.45 1012.46 Q181.528 1007.85 187.338 1007.85 Z\" fill=\"#000000\" fill-rule=\"evenodd\" fill-opacity=\"1\" /><path clip-path=\"url(#clip260)\" d=\"M129.862 654.074 L118.056 672.523 L129.862 672.523 L129.862 654.074 M128.635 650 L134.515 650 L134.515 672.523 L139.445 672.523 L139.445 676.412 L134.515 676.412 L134.515 684.56 L129.862 684.56 L129.862 676.412 L114.26 676.412 L114.26 671.898 L128.635 650 Z\" fill=\"#000000\" fill-rule=\"evenodd\" fill-opacity=\"1\" /><path clip-path=\"url(#clip260)\" d=\"M157.177 653.079 Q153.566 653.079 151.737 656.644 Q149.931 660.185 149.931 667.315 Q149.931 674.421 151.737 677.986 Q153.566 681.528 157.177 681.528 Q160.811 681.528 162.616 677.986 Q164.445 674.421 164.445 667.315 Q164.445 660.185 162.616 656.644 Q160.811 653.079 157.177 653.079 M157.177 649.375 Q162.987 649.375 166.042 653.982 Q169.121 658.565 169.121 667.315 Q169.121 676.042 166.042 680.648 Q162.987 685.231 157.177 685.231 Q151.366 685.231 148.288 680.648 Q145.232 676.042 145.232 667.315 Q145.232 658.565 148.288 653.982 Q151.366 649.375 157.177 649.375 Z\" fill=\"#000000\" fill-rule=\"evenodd\" fill-opacity=\"1\" /><path clip-path=\"url(#clip260)\" d=\"M187.338 653.079 Q183.727 653.079 181.899 656.644 Q180.093 660.185 180.093 667.315 Q180.093 674.421 181.899 677.986 Q183.727 681.528 187.338 681.528 Q190.973 681.528 192.778 677.986 Q194.607 674.421 194.607 667.315 Q194.607 660.185 192.778 656.644 Q190.973 653.079 187.338 653.079 M187.338 649.375 Q193.149 649.375 196.204 653.982 Q199.283 658.565 199.283 667.315 Q199.283 676.042 196.204 680.648 Q193.149 685.231 187.338 685.231 Q181.528 685.231 178.45 680.648 Q175.394 676.042 175.394 667.315 Q175.394 658.565 178.45 653.982 Q181.528 649.375 187.338 649.375 Z\" fill=\"#000000\" fill-rule=\"evenodd\" fill-opacity=\"1\" /><path clip-path=\"url(#clip260)\" d=\"M127.593 306.938 Q124.445 306.938 122.593 309.091 Q120.765 311.243 120.765 314.993 Q120.765 318.72 122.593 320.896 Q124.445 323.049 127.593 323.049 Q130.742 323.049 132.57 320.896 Q134.422 318.72 134.422 314.993 Q134.422 311.243 132.57 309.091 Q130.742 306.938 127.593 306.938 M136.876 292.285 L136.876 296.544 Q135.117 295.711 133.311 295.271 Q131.529 294.831 129.769 294.831 Q125.14 294.831 122.686 297.956 Q120.255 301.081 119.908 307.401 Q121.274 305.387 123.334 304.322 Q125.394 303.234 127.871 303.234 Q133.08 303.234 136.089 306.405 Q139.121 309.553 139.121 314.993 Q139.121 320.317 135.973 323.535 Q132.825 326.752 127.593 326.752 Q121.598 326.752 118.427 322.169 Q115.256 317.563 115.256 308.836 Q115.256 300.641 119.144 295.78 Q123.033 290.896 129.584 290.896 Q131.343 290.896 133.126 291.243 Q134.931 291.591 136.876 292.285 Z\" fill=\"#000000\" fill-rule=\"evenodd\" fill-opacity=\"1\" /><path clip-path=\"url(#clip260)\" d=\"M157.177 294.6 Q153.566 294.6 151.737 298.165 Q149.931 301.706 149.931 308.836 Q149.931 315.942 151.737 319.507 Q153.566 323.049 157.177 323.049 Q160.811 323.049 162.616 319.507 Q164.445 315.942 164.445 308.836 Q164.445 301.706 162.616 298.165 Q160.811 294.6 157.177 294.6 M157.177 290.896 Q162.987 290.896 166.042 295.503 Q169.121 300.086 169.121 308.836 Q169.121 317.563 166.042 322.169 Q162.987 326.752 157.177 326.752 Q151.366 326.752 148.288 322.169 Q145.232 317.563 145.232 308.836 Q145.232 300.086 148.288 295.503 Q151.366 290.896 157.177 290.896 Z\" fill=\"#000000\" fill-rule=\"evenodd\" fill-opacity=\"1\" /><path clip-path=\"url(#clip260)\" d=\"M187.338 294.6 Q183.727 294.6 181.899 298.165 Q180.093 301.706 180.093 308.836 Q180.093 315.942 181.899 319.507 Q183.727 323.049 187.338 323.049 Q190.973 323.049 192.778 319.507 Q194.607 315.942 194.607 308.836 Q194.607 301.706 192.778 298.165 Q190.973 294.6 187.338 294.6 M187.338 290.896 Q193.149 290.896 196.204 295.503 Q199.283 300.086 199.283 308.836 Q199.283 317.563 196.204 322.169 Q193.149 326.752 187.338 326.752 Q181.528 326.752 178.45 322.169 Q175.394 317.563 175.394 308.836 Q175.394 300.086 178.45 295.503 Q181.528 290.896 187.338 290.896 Z\" fill=\"#000000\" fill-rule=\"evenodd\" fill-opacity=\"1\" /><path clip-path=\"url(#clip260)\" d=\"M18.2347 1163.94 L28.3562 1163.94 L28.3562 1151.88 L32.9077 1151.88 L32.9077 1163.94 L52.2594 1163.94 Q56.6199 1163.94 57.8613 1162.76 Q59.1026 1161.56 59.1026 1157.89 L59.1026 1151.88 L64.0042 1151.88 L64.0042 1157.89 Q64.0042 1164.67 61.4897 1167.25 Q58.9434 1169.83 52.2594 1169.83 L32.9077 1169.83 L32.9077 1174.13 L28.3562 1174.13 L28.3562 1169.83 L18.2347 1169.83 L18.2347 1163.94 Z\" fill=\"#000000\" fill-rule=\"evenodd\" fill-opacity=\"1\" /><path clip-path=\"url(#clip260)\" d=\"M28.3562 1144.18 L28.3562 1138.32 L64.0042 1138.32 L64.0042 1144.18 L28.3562 1144.18 M14.479 1144.18 L14.479 1138.32 L21.895 1138.32 L21.895 1144.18 L14.479 1144.18 Z\" fill=\"#000000\" fill-rule=\"evenodd\" fill-opacity=\"1\" /><path clip-path=\"url(#clip260)\" d=\"M35.1993 1098.31 Q31.2526 1096.12 29.3747 1093.06 Q27.4968 1090 27.4968 1085.87 Q27.4968 1080.3 31.4117 1077.27 Q35.2948 1074.25 42.4881 1074.25 L64.0042 1074.25 L64.0042 1080.14 L42.679 1080.14 Q37.5546 1080.14 35.072 1081.95 Q32.5894 1083.77 32.5894 1087.49 Q32.5894 1092.04 35.6131 1094.68 Q38.6368 1097.33 43.8567 1097.33 L64.0042 1097.33 L64.0042 1103.21 L42.679 1103.21 Q37.5228 1103.21 35.072 1105.03 Q32.5894 1106.84 32.5894 1110.63 Q32.5894 1115.12 35.6449 1117.76 Q38.6686 1120.4 43.8567 1120.4 L64.0042 1120.4 L64.0042 1126.29 L28.3562 1126.29 L28.3562 1120.4 L33.8944 1120.4 Q30.616 1118.4 29.0564 1115.59 Q27.4968 1112.79 27.4968 1108.94 Q27.4968 1105.06 29.4702 1102.35 Q31.4436 1099.62 35.1993 1098.31 Z\" fill=\"#000000\" fill-rule=\"evenodd\" fill-opacity=\"1\" /><path clip-path=\"url(#clip260)\" d=\"M44.7161 1032.08 L47.5806 1032.08 L47.5806 1059 Q53.6281 1058.62 56.8109 1055.38 Q59.9619 1052.1 59.9619 1046.27 Q59.9619 1042.9 59.1344 1039.75 Q58.3069 1036.56 56.6518 1033.45 L62.1899 1033.45 Q63.5267 1036.6 64.227 1039.91 Q64.9272 1043.22 64.9272 1046.62 Q64.9272 1055.15 59.9619 1060.15 Q54.9967 1065.11 46.5303 1065.11 Q37.7774 1065.11 32.6531 1060.4 Q27.4968 1055.66 27.4968 1047.64 Q27.4968 1040.45 32.1438 1036.28 Q36.7589 1032.08 44.7161 1032.08 M42.9973 1037.93 Q38.1912 1038 35.3266 1040.64 Q32.4621 1043.25 32.4621 1047.58 Q32.4621 1052.48 35.2312 1055.44 Q38.0002 1058.37 43.0292 1058.81 L42.9973 1037.93 Z\" fill=\"#000000\" fill-rule=\"evenodd\" fill-opacity=\"1\" /><path clip-path=\"url(#clip260)\" d=\"M14.5426 987.676 Q21.8632 991.941 29.0246 994.01 Q36.186 996.079 43.5384 996.079 Q50.8908 996.079 58.1159 994.01 Q65.3091 991.909 72.5979 987.676 L72.5979 992.768 Q65.1182 997.543 57.8931 999.93 Q50.668 1002.29 43.5384 1002.29 Q36.4406 1002.29 29.2474 999.93 Q22.0542 997.575 14.5426 992.768 L14.5426 987.676 Z\" fill=\"#000000\" fill-rule=\"evenodd\" fill-opacity=\"1\" /><path clip-path=\"url(#clip260)\" d=\"M35.1993 948.559 Q31.2526 946.362 29.3747 943.307 Q27.4968 940.251 27.4968 936.114 Q27.4968 930.544 31.4117 927.52 Q35.2948 924.496 42.4881 924.496 L64.0042 924.496 L64.0042 930.385 L42.679 930.385 Q37.5546 930.385 35.072 932.199 Q32.5894 934.013 32.5894 937.737 Q32.5894 942.288 35.6131 944.93 Q38.6368 947.572 43.8567 947.572 L64.0042 947.572 L64.0042 953.46 L42.679 953.46 Q37.5228 953.46 35.072 955.274 Q32.5894 957.089 32.5894 960.876 Q32.5894 965.364 35.6449 968.006 Q38.6686 970.648 43.8567 970.648 L64.0042 970.648 L64.0042 976.536 L28.3562 976.536 L28.3562 970.648 L33.8944 970.648 Q30.616 968.642 29.0564 965.842 Q27.4968 963.041 27.4968 959.189 Q27.4968 955.306 29.4702 952.601 Q31.4436 949.864 35.1993 948.559 Z\" fill=\"#000000\" fill-rule=\"evenodd\" fill-opacity=\"1\" /><path clip-path=\"url(#clip260)\" d=\"M29.4065 890.09 L34.9447 890.09 Q33.6716 892.572 33.035 895.246 Q32.3984 897.919 32.3984 900.784 Q32.3984 905.145 33.7352 907.341 Q35.072 909.505 37.7456 909.505 Q39.7826 909.505 40.9603 907.945 Q42.1061 906.386 43.1565 901.675 L43.6021 899.67 Q44.9389 893.432 47.3897 890.822 Q49.8086 888.18 54.1691 888.18 Q59.1344 888.18 62.0308 892.127 Q64.9272 896.042 64.9272 902.917 Q64.9272 905.781 64.3543 908.9 Q63.8132 911.988 62.6992 915.425 L56.6518 915.425 Q58.3387 912.179 59.198 909.028 Q60.0256 905.877 60.0256 902.789 Q60.0256 898.651 58.6251 896.423 Q57.1929 894.195 54.6147 894.195 Q52.2276 894.195 50.9545 895.819 Q49.6813 897.41 48.5037 902.853 L48.0262 904.89 Q46.8804 910.333 44.5251 912.752 Q42.138 915.17 38.0002 915.17 Q32.9713 915.17 30.2341 911.606 Q27.4968 908.041 27.4968 901.484 Q27.4968 898.238 27.9743 895.373 Q28.4517 892.509 29.4065 890.09 Z\" fill=\"#000000\" fill-rule=\"evenodd\" fill-opacity=\"1\" /><path clip-path=\"url(#clip260)\" d=\"M55.9197 877.358 L55.9197 870.642 L61.3942 870.642 L71.5793 875.862 L71.5793 879.968 L61.3942 877.358 L55.9197 877.358 Z\" fill=\"#000000\" fill-rule=\"evenodd\" fill-opacity=\"1\" /><path clip-path=\"url(#clip260)\" d=\"M29.4065 814.688 L34.9447 814.688 Q33.6716 817.17 33.035 819.844 Q32.3984 822.518 32.3984 825.382 Q32.3984 829.743 33.7352 831.939 Q35.072 834.103 37.7456 834.103 Q39.7826 834.103 40.9603 832.544 Q42.1061 830.984 43.1565 826.273 L43.6021 824.268 Q44.9389 818.03 47.3897 815.42 Q49.8086 812.778 54.1691 812.778 Q59.1344 812.778 62.0308 816.725 Q64.9272 820.64 64.9272 827.515 Q64.9272 830.379 64.3543 833.498 Q63.8132 836.586 62.6992 840.023 L56.6518 840.023 Q58.3387 836.777 59.198 833.626 Q60.0256 830.475 60.0256 827.387 Q60.0256 823.25 58.6251 821.022 Q57.1929 818.794 54.6147 818.794 Q52.2276 818.794 50.9545 820.417 Q49.6813 822.008 48.5037 827.451 L48.0262 829.488 Q46.8804 834.931 44.5251 837.35 Q42.138 839.769 38.0002 839.769 Q32.9713 839.769 30.2341 836.204 Q27.4968 832.639 27.4968 826.082 Q27.4968 822.836 27.9743 819.971 Q28.4517 817.107 29.4065 814.688 Z\" fill=\"#000000\" fill-rule=\"evenodd\" fill-opacity=\"1\" /><path clip-path=\"url(#clip260)\" d=\"M42.4881 773.82 L64.0042 773.82 L64.0042 779.676 L42.679 779.676 Q37.6183 779.676 35.1038 781.65 Q32.5894 783.623 32.5894 787.57 Q32.5894 792.312 35.6131 795.05 Q38.6368 797.787 43.8567 797.787 L64.0042 797.787 L64.0042 803.675 L14.479 803.675 L14.479 797.787 L33.8944 797.787 Q30.6797 795.686 29.0883 792.853 Q27.4968 789.989 27.4968 786.265 Q27.4968 780.122 31.3163 776.971 Q35.1038 773.82 42.4881 773.82 Z\" fill=\"#000000\" fill-rule=\"evenodd\" fill-opacity=\"1\" /><path clip-path=\"url(#clip260)\" d=\"M32.4621 748.325 Q32.4621 753.036 36.1542 755.773 Q39.8145 758.51 46.212 758.51 Q52.6095 758.51 56.3017 755.805 Q59.9619 753.068 59.9619 748.325 Q59.9619 743.647 56.2698 740.909 Q52.5777 738.172 46.212 738.172 Q39.8781 738.172 36.186 740.909 Q32.4621 743.647 32.4621 748.325 M27.4968 748.325 Q27.4968 740.686 32.4621 736.326 Q37.4273 731.965 46.212 731.965 Q54.9649 731.965 59.9619 736.326 Q64.9272 740.686 64.9272 748.325 Q64.9272 755.996 59.9619 760.357 Q54.9649 764.685 46.212 764.685 Q37.4273 764.685 32.4621 760.357 Q27.4968 755.996 27.4968 748.325 Z\" fill=\"#000000\" fill-rule=\"evenodd\" fill-opacity=\"1\" /><path clip-path=\"url(#clip260)\" d=\"M33.8307 701.601 Q33.2578 702.588 33.0032 703.765 Q32.7167 704.911 32.7167 706.312 Q32.7167 711.277 35.9632 713.951 Q39.1779 716.592 45.2253 716.592 L64.0042 716.592 L64.0042 722.481 L28.3562 722.481 L28.3562 716.592 L33.8944 716.592 Q30.6479 714.746 29.0883 711.786 Q27.4968 708.826 27.4968 704.593 Q27.4968 703.988 27.5923 703.256 Q27.656 702.524 27.8151 701.633 L33.8307 701.601 Z\" fill=\"#000000\" fill-rule=\"evenodd\" fill-opacity=\"1\" /><path clip-path=\"url(#clip260)\" d=\"M18.2347 689.665 L28.3562 689.665 L28.3562 677.602 L32.9077 677.602 L32.9077 689.665 L52.2594 689.665 Q56.6199 689.665 57.8613 688.488 Q59.1026 687.278 59.1026 683.618 L59.1026 677.602 L64.0042 677.602 L64.0042 683.618 Q64.0042 690.397 61.4897 692.976 Q58.9434 695.554 52.2594 695.554 L32.9077 695.554 L32.9077 699.85 L28.3562 699.85 L28.3562 695.554 L18.2347 695.554 L18.2347 689.665 Z\" fill=\"#000000\" fill-rule=\"evenodd\" fill-opacity=\"1\" /><path clip-path=\"url(#clip260)\" d=\"M44.7161 639.408 L47.5806 639.408 L47.5806 666.335 Q53.6281 665.953 56.8109 662.707 Q59.9619 659.428 59.9619 653.604 Q59.9619 650.23 59.1344 647.079 Q58.3069 643.896 56.6518 640.777 L62.1899 640.777 Q63.5267 643.928 64.227 647.238 Q64.9272 650.548 64.9272 653.954 Q64.9272 662.484 59.9619 667.481 Q54.9967 672.446 46.5303 672.446 Q37.7774 672.446 32.6531 667.735 Q27.4968 662.993 27.4968 654.972 Q27.4968 647.779 32.1438 643.609 Q36.7589 639.408 44.7161 639.408 M42.9973 645.265 Q38.1912 645.328 35.3266 647.97 Q32.4621 650.58 32.4621 654.909 Q32.4621 659.81 35.2312 662.77 Q38.0002 665.698 43.0292 666.144 L42.9973 645.265 Z\" fill=\"#000000\" fill-rule=\"evenodd\" fill-opacity=\"1\" /><path clip-path=\"url(#clip260)\" d=\"M33.8307 609.139 Q33.2578 610.126 33.0032 611.303 Q32.7167 612.449 32.7167 613.85 Q32.7167 618.815 35.9632 621.489 Q39.1779 624.13 45.2253 624.13 L64.0042 624.13 L64.0042 630.019 L28.3562 630.019 L28.3562 624.13 L33.8944 624.13 Q30.6479 622.284 29.0883 619.324 Q27.4968 616.364 27.4968 612.131 Q27.4968 611.526 27.5923 610.794 Q27.656 610.062 27.8151 609.171 L33.8307 609.139 Z\" fill=\"#000000\" fill-rule=\"evenodd\" fill-opacity=\"1\" /><path clip-path=\"url(#clip260)\" d=\"M28.3562 582.276 L28.3562 576.419 L64.0042 576.419 L64.0042 582.276 L28.3562 582.276 M14.479 582.276 L14.479 576.419 L21.895 576.419 L21.895 582.276 L14.479 582.276 Z\" fill=\"#000000\" fill-rule=\"evenodd\" fill-opacity=\"1\" /><path clip-path=\"url(#clip260)\" d=\"M29.4065 541.44 L34.9447 541.44 Q33.6716 543.922 33.035 546.596 Q32.3984 549.27 32.3984 552.134 Q32.3984 556.495 33.7352 558.691 Q35.072 560.855 37.7456 560.855 Q39.7826 560.855 40.9603 559.296 Q42.1061 557.736 43.1565 553.025 L43.6021 551.02 Q44.9389 544.782 47.3897 542.172 Q49.8086 539.53 54.1691 539.53 Q59.1344 539.53 62.0308 543.477 Q64.9272 547.392 64.9272 554.267 Q64.9272 557.131 64.3543 560.251 Q63.8132 563.338 62.6992 566.775 L56.6518 566.775 Q58.3387 563.529 59.198 560.378 Q60.0256 557.227 60.0256 554.139 Q60.0256 550.002 58.6251 547.774 Q57.1929 545.546 54.6147 545.546 Q52.2276 545.546 50.9545 547.169 Q49.6813 548.76 48.5037 554.203 L48.0262 556.24 Q46.8804 561.683 44.5251 564.102 Q42.138 566.521 38.0002 566.521 Q32.9713 566.521 30.2341 562.956 Q27.4968 559.391 27.4968 552.834 Q27.4968 549.588 27.9743 546.723 Q28.4517 543.859 29.4065 541.44 Z\" fill=\"#000000\" fill-rule=\"evenodd\" fill-opacity=\"1\" /><path clip-path=\"url(#clip260)\" d=\"M46.212 483.894 Q39.7508 483.894 36.0905 486.567 Q32.3984 489.209 32.3984 493.856 Q32.3984 498.503 36.0905 501.177 Q39.7508 503.819 46.212 503.819 Q52.6732 503.819 56.3653 501.177 Q60.0256 498.503 60.0256 493.856 Q60.0256 489.209 56.3653 486.567 Q52.6732 483.894 46.212 483.894 M33.7671 503.819 Q30.5842 501.972 29.0564 499.172 Q27.4968 496.339 27.4968 492.424 Q27.4968 485.931 32.6531 481.889 Q37.8093 477.815 46.212 477.815 Q54.6147 477.815 59.771 481.889 Q64.9272 485.931 64.9272 492.424 Q64.9272 496.339 63.3994 499.172 Q61.8398 501.972 58.657 503.819 L64.0042 503.819 L64.0042 509.707 L14.479 509.707 L14.479 503.819 L33.7671 503.819 Z\" fill=\"#000000\" fill-rule=\"evenodd\" fill-opacity=\"1\" /><path clip-path=\"url(#clip260)\" d=\"M44.7161 437.615 L47.5806 437.615 L47.5806 464.542 Q53.6281 464.16 56.8109 460.914 Q59.9619 457.635 59.9619 451.811 Q59.9619 448.437 59.1344 445.286 Q58.3069 442.103 56.6518 438.984 L62.1899 438.984 Q63.5267 442.135 64.227 445.445 Q64.9272 448.755 64.9272 452.161 Q64.9272 460.691 59.9619 465.688 Q54.9967 470.653 46.5303 470.653 Q37.7774 470.653 32.6531 465.943 Q27.4968 461.2 27.4968 453.179 Q27.4968 445.986 32.1438 441.817 Q36.7589 437.615 44.7161 437.615 M42.9973 443.472 Q38.1912 443.535 35.3266 446.177 Q32.4621 448.787 32.4621 453.116 Q32.4621 458.017 35.2312 460.977 Q38.0002 463.906 43.0292 464.351 L42.9973 443.472 Z\" fill=\"#000000\" fill-rule=\"evenodd\" fill-opacity=\"1\" /><path clip-path=\"url(#clip260)\" d=\"M18.2347 422.21 L28.3562 422.21 L28.3562 410.147 L32.9077 410.147 L32.9077 422.21 L52.2594 422.21 Q56.6199 422.21 57.8613 421.033 Q59.1026 419.823 59.1026 416.163 L59.1026 410.147 L64.0042 410.147 L64.0042 416.163 Q64.0042 422.942 61.4897 425.52 Q58.9434 428.098 52.2594 428.098 L32.9077 428.098 L32.9077 432.395 L28.3562 432.395 L28.3562 428.098 L18.2347 428.098 L18.2347 422.21 Z\" fill=\"#000000\" fill-rule=\"evenodd\" fill-opacity=\"1\" /><path clip-path=\"url(#clip260)\" d=\"M18.2347 396.652 L28.3562 396.652 L28.3562 384.589 L32.9077 384.589 L32.9077 396.652 L52.2594 396.652 Q56.6199 396.652 57.8613 395.474 Q59.1026 394.265 59.1026 390.604 L59.1026 384.589 L64.0042 384.589 L64.0042 390.604 Q64.0042 397.384 61.4897 399.962 Q58.9434 402.54 52.2594 402.54 L32.9077 402.54 L32.9077 406.837 L28.3562 406.837 L28.3562 402.54 L18.2347 402.54 L18.2347 396.652 Z\" fill=\"#000000\" fill-rule=\"evenodd\" fill-opacity=\"1\" /><path clip-path=\"url(#clip260)\" d=\"M44.7161 346.395 L47.5806 346.395 L47.5806 373.322 Q53.6281 372.94 56.8109 369.693 Q59.9619 366.415 59.9619 360.59 Q59.9619 357.216 59.1344 354.065 Q58.3069 350.882 56.6518 347.763 L62.1899 347.763 Q63.5267 350.914 64.227 354.224 Q64.9272 357.535 64.9272 360.94 Q64.9272 369.47 59.9619 374.467 Q54.9967 379.433 46.5303 379.433 Q37.7774 379.433 32.6531 374.722 Q27.4968 369.98 27.4968 361.959 Q27.4968 354.766 32.1438 350.596 Q36.7589 346.395 44.7161 346.395 M42.9973 352.251 Q38.1912 352.315 35.3266 354.956 Q32.4621 357.566 32.4621 361.895 Q32.4621 366.797 35.2312 369.757 Q38.0002 372.685 43.0292 373.131 L42.9973 352.251 Z\" fill=\"#000000\" fill-rule=\"evenodd\" fill-opacity=\"1\" /><path clip-path=\"url(#clip260)\" d=\"M33.8307 316.126 Q33.2578 317.112 33.0032 318.29 Q32.7167 319.436 32.7167 320.836 Q32.7167 325.802 35.9632 328.475 Q39.1779 331.117 45.2253 331.117 L64.0042 331.117 L64.0042 337.005 L28.3562 337.005 L28.3562 331.117 L33.8944 331.117 Q30.6479 329.271 29.0883 326.311 Q27.4968 323.351 27.4968 319.118 Q27.4968 318.513 27.5923 317.781 Q27.656 317.049 27.8151 316.158 L33.8307 316.126 Z\" fill=\"#000000\" fill-rule=\"evenodd\" fill-opacity=\"1\" /><path clip-path=\"url(#clip260)\" d=\"M14.5426 310.906 L14.5426 305.813 Q22.0542 301.039 29.2474 298.684 Q36.4406 296.296 43.5384 296.296 Q50.668 296.296 57.8931 298.684 Q65.1182 301.039 72.5979 305.813 L72.5979 310.906 Q65.3091 306.673 58.1159 304.604 Q50.8908 302.503 43.5384 302.503 Q36.186 302.503 29.0246 304.604 Q21.8632 306.673 14.5426 310.906 Z\" fill=\"#000000\" fill-rule=\"evenodd\" fill-opacity=\"1\" /><path clip-path=\"url(#clip262)\" d=\"\n",
       "M351.748 1364.4 L351.748 1384.24 L665.838 1384.24 L665.838 1364.4 L351.748 1364.4 L351.748 1364.4  Z\n",
       "  \" fill=\"#009af9\" fill-rule=\"evenodd\" fill-opacity=\"1\"/>\n",
       "<polyline clip-path=\"url(#clip262)\" style=\"stroke:#000000; stroke-linecap:butt; stroke-linejoin:round; stroke-width:4; stroke-opacity:1; fill:none\" points=\"\n",
       "  351.748,1364.4 351.748,1384.24 665.838,1384.24 665.838,1364.4 351.748,1364.4 \n",
       "  \"/>\n",
       "<path clip-path=\"url(#clip262)\" d=\"\n",
       "M744.361 1363.63 L744.361 1384.24 L1058.45 1384.24 L1058.45 1363.63 L744.361 1363.63 L744.361 1363.63  Z\n",
       "  \" fill=\"#009af9\" fill-rule=\"evenodd\" fill-opacity=\"1\"/>\n",
       "<polyline clip-path=\"url(#clip262)\" style=\"stroke:#000000; stroke-linecap:butt; stroke-linejoin:round; stroke-width:4; stroke-opacity:1; fill:none\" points=\"\n",
       "  744.361,1363.63 744.361,1384.24 1058.45,1384.24 1058.45,1363.63 744.361,1363.63 \n",
       "  \"/>\n",
       "<path clip-path=\"url(#clip262)\" d=\"\n",
       "M1136.97 1375.28 L1136.97 1384.24 L1451.06 1384.24 L1451.06 1375.28 L1136.97 1375.28 L1136.97 1375.28  Z\n",
       "  \" fill=\"#009af9\" fill-rule=\"evenodd\" fill-opacity=\"1\"/>\n",
       "<polyline clip-path=\"url(#clip262)\" style=\"stroke:#000000; stroke-linecap:butt; stroke-linejoin:round; stroke-width:4; stroke-opacity:1; fill:none\" points=\"\n",
       "  1136.97,1375.28 1136.97,1384.24 1451.06,1384.24 1451.06,1375.28 1136.97,1375.28 \n",
       "  \"/>\n",
       "<path clip-path=\"url(#clip262)\" d=\"\n",
       "M1529.59 1376.53 L1529.59 1384.24 L1843.68 1384.24 L1843.68 1376.53 L1529.59 1376.53 L1529.59 1376.53  Z\n",
       "  \" fill=\"#009af9\" fill-rule=\"evenodd\" fill-opacity=\"1\"/>\n",
       "<polyline clip-path=\"url(#clip262)\" style=\"stroke:#000000; stroke-linecap:butt; stroke-linejoin:round; stroke-width:4; stroke-opacity:1; fill:none\" points=\"\n",
       "  1529.59,1376.53 1529.59,1384.24 1843.68,1384.24 1843.68,1376.53 1529.59,1376.53 \n",
       "  \"/>\n",
       "<path clip-path=\"url(#clip262)\" d=\"\n",
       "M1922.2 86.1857 L1922.2 1384.24 L2236.29 1384.24 L2236.29 86.1857 L1922.2 86.1857 L1922.2 86.1857  Z\n",
       "  \" fill=\"#009af9\" fill-rule=\"evenodd\" fill-opacity=\"1\"/>\n",
       "<polyline clip-path=\"url(#clip262)\" style=\"stroke:#000000; stroke-linecap:butt; stroke-linejoin:round; stroke-width:4; stroke-opacity:1; fill:none\" points=\"\n",
       "  1922.2,86.1857 1922.2,1384.24 2236.29,1384.24 2236.29,86.1857 1922.2,86.1857 \n",
       "  \"/>\n",
       "<circle clip-path=\"url(#clip262)\" style=\"fill:#009af9; stroke:none; fill-opacity:0\" cx=\"508.793\" cy=\"1364.4\" r=\"2\"/>\n",
       "<circle clip-path=\"url(#clip262)\" style=\"fill:#009af9; stroke:none; fill-opacity:0\" cx=\"901.406\" cy=\"1363.63\" r=\"2\"/>\n",
       "<circle clip-path=\"url(#clip262)\" style=\"fill:#009af9; stroke:none; fill-opacity:0\" cx=\"1294.02\" cy=\"1375.28\" r=\"2\"/>\n",
       "<circle clip-path=\"url(#clip262)\" style=\"fill:#009af9; stroke:none; fill-opacity:0\" cx=\"1686.63\" cy=\"1376.53\" r=\"2\"/>\n",
       "<circle clip-path=\"url(#clip262)\" style=\"fill:#009af9; stroke:none; fill-opacity:0\" cx=\"2079.25\" cy=\"86.1857\" r=\"2\"/>\n",
       "</svg>\n"
      ]
     },
     "execution_count": 73,
     "metadata": {},
     "output_type": "execute_result"
    }
   ],
   "source": [
    "results = [\n",
    "    \"my_sum (Julia)\" => 11.07,\n",
    "    \"c_sum (C)\" => 11.5,\n",
    "    \"sum (Julia)\" => 5.0,\n",
    "    \"my_fast_sum (Julia)\" => 4.3,\n",
    "    \"py_sum (Python)\" => 724.2,\n",
    "]\n",
    "\n",
    "bar(first.(results), last.(results), xlabel=\"function\", ylabel=\"time (ms, shorter is better)\", legend=nothing)"
   ]
  },
  {
   "cell_type": "markdown",
   "metadata": {
    "slideshow": {
     "slide_type": "subslide"
    }
   },
   "source": [
    "### What about Numpy or Cython?\n",
    "\n",
    "* Of course, there are faster ways to sum a vector of `double`s in Python than a `for` loop. \n",
    "* `numpy.sum()` is just as fast as Julia's `sum()` for large vectors...\n",
    "* ...but there are some caveats:\n",
    "  * NumPy is only efficient for a pre-determined set of numeric types. \n",
    "  * NumPy cannot be extended without switching into an entirely different programming language, build system, and code environment. \n",
    "  * So, if `numpy.sum()` happens to cover the cases you actually need, then go for it!\n",
    "  * But if you want to be able to write efficient code that does not happen to cover the specific set of functions and types in NumPy, then you need Julia. "
   ]
  },
  {
   "cell_type": "code",
   "execution_count": 74,
   "metadata": {
    "slideshow": {
     "slide_type": "subslide"
    }
   },
   "outputs": [],
   "source": [
    "struct Point{T}\n",
    "    x::T\n",
    "    y::T\n",
    "end\n",
    "\n",
    "function Base.zero(::Type{Point{T}}) where {T} \n",
    "    Point{T}(zero(T), zero(T))\n",
    "end\n",
    "    \n",
    "Base.:+(p1::Point, p2::Point) = Point(p1.x + p2.x, p1.y + p2.y)\n",
    "\n",
    "points = [Point(rand(), rand()) for _ in 1:10^7];"
   ]
  },
  {
   "cell_type": "code",
   "execution_count": 75,
   "metadata": {
    "slideshow": {
     "slide_type": "fragment"
    }
   },
   "outputs": [
    {
     "name": "stdout",
     "output_type": "stream",
     "text": [
      "  8.726 ms (0 allocations: 0 bytes)\n"
     ]
    },
    {
     "data": {
      "text/plain": [
       "Point{Float64}(5.000531081009785e6, 4.999826498361788e6)"
      ]
     },
     "execution_count": 75,
     "metadata": {},
     "output_type": "execute_result"
    }
   ],
   "source": [
    "@btime my_fast_sum($points)"
   ]
  },
  {
   "cell_type": "code",
   "execution_count": 76,
   "metadata": {
    "slideshow": {
     "slide_type": "subslide"
    }
   },
   "outputs": [
    {
     "name": "stdout",
     "output_type": "stream",
     "text": [
      "\t\u001b[0m.section\t\u001b[0m__TEXT\u001b[0m,\u001b[0m__text\u001b[0m,\u001b[0mregular\u001b[0m,\u001b[0mpure_instructions\n",
      "\u001b[90m; ┌ @ In[64]:1 within `my_fast_sum`\u001b[39m\n",
      "\t\u001b[96m\u001b[1mmovq\u001b[22m\u001b[39m\t\u001b[0m%rdi\u001b[0m, \u001b[0m%rax\n",
      "\u001b[90m; │ @ In[64]:8 within `my_fast_sum`\u001b[39m\n",
      "\u001b[90m; │┌ @ simdloop.jl:71 within `macro expansion`\u001b[39m\n",
      "\u001b[90m; ││┌ @ simdloop.jl:51 within `simd_inner_length`\u001b[39m\n",
      "\u001b[90m; │││┌ @ array.jl:215 within `length`\u001b[39m\n",
      "\t\u001b[96m\u001b[1mmovq\u001b[22m\u001b[39m\t\u001b[33m8\u001b[39m\u001b[33m(\u001b[39m\u001b[0m%rsi\u001b[33m)\u001b[39m\u001b[0m, \u001b[0m%rcx\n",
      "\u001b[90m; │└└└\u001b[39m\n",
      "\u001b[90m; │┌ @ simdloop.jl:72 within `macro expansion`\u001b[39m\n",
      "\u001b[90m; ││┌ @ int.jl:83 within `<`\u001b[39m\n",
      "\t\u001b[96m\u001b[1mtestq\u001b[22m\u001b[39m\t\u001b[0m%rcx\u001b[0m, \u001b[0m%rcx\n",
      "\u001b[90m; ││└\u001b[39m\n",
      "\t\u001b[96m\u001b[1mje\u001b[22m\u001b[39m\t\u001b[91mL33\u001b[39m\n",
      "\u001b[90m; │└\u001b[39m\n",
      "\u001b[90m; │┌ @ simdloop.jl within `macro expansion`\u001b[39m\n",
      "\t\u001b[96m\u001b[1mmovq\u001b[22m\u001b[39m\t\u001b[33m(\u001b[39m\u001b[0m%rsi\u001b[33m)\u001b[39m\u001b[0m, \u001b[0m%rdx\n",
      "\u001b[90m; │└\u001b[39m\n",
      "\u001b[90m; │┌ @ simdloop.jl:75 within `macro expansion`\u001b[39m\n",
      "\t\u001b[96m\u001b[1mcmpq\u001b[22m\u001b[39m\t\u001b[33m$16\u001b[39m\u001b[0m, \u001b[0m%rcx\n",
      "\t\u001b[96m\u001b[1mjae\u001b[22m\u001b[39m\t\u001b[91mL42\u001b[39m\n",
      "\u001b[90m; │└\u001b[39m\n",
      "\u001b[90m; │ @ simdloop.jl within `my_fast_sum`\u001b[39m\n",
      "\t\u001b[96m\u001b[1mvxorpd\u001b[22m\u001b[39m\t\u001b[0m%xmm0\u001b[0m, \u001b[0m%xmm0\u001b[0m, \u001b[0m%xmm0\n",
      "\t\u001b[96m\u001b[1mxorl\u001b[22m\u001b[39m\t\u001b[0m%r8d\u001b[0m, \u001b[0m%r8d\n",
      "\t\u001b[96m\u001b[1mjmp\u001b[22m\u001b[39m\t\u001b[91mL379\u001b[39m\n",
      "\u001b[91mL33:\u001b[39m\n",
      "\t\u001b[96m\u001b[1mvxorps\u001b[22m\u001b[39m\t\u001b[0m%xmm0\u001b[0m, \u001b[0m%xmm0\u001b[0m, \u001b[0m%xmm0\n",
      "\u001b[90m; │ @ In[64]:11 within `my_fast_sum`\u001b[39m\n",
      "\t\u001b[96m\u001b[1mvmovups\u001b[22m\u001b[39m\t\u001b[0m%xmm0\u001b[0m, \u001b[33m(\u001b[39m\u001b[0m%rax\u001b[33m)\u001b[39m\n",
      "\t\u001b[96m\u001b[1mretq\u001b[22m\u001b[39m\n",
      "\u001b[90m; │ @ In[64]:8 within `my_fast_sum`\u001b[39m\n",
      "\u001b[90m; │┌ @ simdloop.jl:75 within `macro expansion`\u001b[39m\n",
      "\u001b[91mL42:\u001b[39m\n",
      "\t\u001b[96m\u001b[1mmovq\u001b[22m\u001b[39m\t\u001b[0m%rcx\u001b[0m, \u001b[0m%r8\n",
      "\t\u001b[96m\u001b[1mandq\u001b[22m\u001b[39m\t\u001b[33m$-16\u001b[39m\u001b[0m, \u001b[0m%r8\n",
      "\t\u001b[96m\u001b[1mleaq\u001b[22m\u001b[39m\t\u001b[33m192\u001b[39m\u001b[33m(\u001b[39m\u001b[0m%rdx\u001b[33m)\u001b[39m\u001b[0m, \u001b[0m%rdi\n",
      "\t\u001b[96m\u001b[1mvxorpd\u001b[22m\u001b[39m\t\u001b[0m%xmm0\u001b[0m, \u001b[0m%xmm0\u001b[0m, \u001b[0m%xmm0\n",
      "\t\u001b[96m\u001b[1mvmovupd\u001b[22m\u001b[39m\t\u001b[0m%ymm0\u001b[0m, \u001b[33m-56\u001b[39m\u001b[33m(\u001b[39m\u001b[0m%rsp\u001b[33m)\u001b[39m\n",
      "\u001b[90m; │└\u001b[39m\n",
      "\u001b[90m; │┌ @ simdloop.jl:78 within `macro expansion`\u001b[39m\n",
      "\u001b[90m; ││┌ @ int.jl:87 within `+`\u001b[39m\n",
      "\t\u001b[96m\u001b[1mmovq\u001b[22m\u001b[39m\t\u001b[0m%r8\u001b[0m, \u001b[0m%rsi\n",
      "\t\u001b[96m\u001b[1mvxorpd\u001b[22m\u001b[39m\t\u001b[0m%xmm1\u001b[0m, \u001b[0m%xmm1\u001b[0m, \u001b[0m%xmm1\n",
      "\t\u001b[96m\u001b[1mvxorpd\u001b[22m\u001b[39m\t\u001b[0m%xmm2\u001b[0m, \u001b[0m%xmm2\u001b[0m, \u001b[0m%xmm2\n",
      "\t\u001b[96m\u001b[1mvxorpd\u001b[22m\u001b[39m\t\u001b[0m%xmm3\u001b[0m, \u001b[0m%xmm3\u001b[0m, \u001b[0m%xmm3\n",
      "\t\u001b[96m\u001b[1mvxorpd\u001b[22m\u001b[39m\t\u001b[0m%xmm4\u001b[0m, \u001b[0m%xmm4\u001b[0m, \u001b[0m%xmm4\n",
      "\t\u001b[96m\u001b[1mvxorpd\u001b[22m\u001b[39m\t\u001b[0m%xmm5\u001b[0m, \u001b[0m%xmm5\u001b[0m, \u001b[0m%xmm5\n",
      "\t\u001b[96m\u001b[1mvxorpd\u001b[22m\u001b[39m\t\u001b[0m%xmm6\u001b[0m, \u001b[0m%xmm6\u001b[0m, \u001b[0m%xmm6\n",
      "\t\u001b[96m\u001b[1mvxorpd\u001b[22m\u001b[39m\t\u001b[0m%xmm7\u001b[0m, \u001b[0m%xmm7\u001b[0m, \u001b[0m%xmm7\n",
      "\t\u001b[96m\u001b[1mnopw\u001b[22m\u001b[39m\t\u001b[0m%cs\u001b[0m:\u001b[33m(\u001b[39m\u001b[0m%rax\u001b[0m,\u001b[0m%rax\u001b[33m)\u001b[39m\n",
      "\u001b[90m; │└└\u001b[39m\n",
      "\u001b[90m; │┌ @ simdloop.jl:76 within `macro expansion`\u001b[39m\n",
      "\u001b[90m; ││┌ @ simdloop.jl:54 within `simd_index`\u001b[39m\n",
      "\u001b[90m; │││┌ @ array.jl:861 within `getindex`\u001b[39m\n",
      "\u001b[91mL112:\u001b[39m\n",
      "\t\u001b[96m\u001b[1mvmovupd\u001b[22m\u001b[39m\t\u001b[33m-192\u001b[39m\u001b[33m(\u001b[39m\u001b[0m%rdi\u001b[33m)\u001b[39m\u001b[0m, \u001b[0m%ymm8\n",
      "\t\u001b[96m\u001b[1mvmovupd\u001b[22m\u001b[39m\t\u001b[33m-160\u001b[39m\u001b[33m(\u001b[39m\u001b[0m%rdi\u001b[33m)\u001b[39m\u001b[0m, \u001b[0m%ymm9\n",
      "\t\u001b[96m\u001b[1mvmovupd\u001b[22m\u001b[39m\t\u001b[33m-128\u001b[39m\u001b[33m(\u001b[39m\u001b[0m%rdi\u001b[33m)\u001b[39m\u001b[0m, \u001b[0m%ymm10\n",
      "\t\u001b[96m\u001b[1mvmovupd\u001b[22m\u001b[39m\t\u001b[33m-96\u001b[39m\u001b[33m(\u001b[39m\u001b[0m%rdi\u001b[33m)\u001b[39m\u001b[0m, \u001b[0m%ymm11\n",
      "\t\u001b[96m\u001b[1mvmovupd\u001b[22m\u001b[39m\t\u001b[33m-32\u001b[39m\u001b[33m(\u001b[39m\u001b[0m%rdi\u001b[33m)\u001b[39m\u001b[0m, \u001b[0m%ymm12\n",
      "\t\u001b[96m\u001b[1mvmovupd\u001b[22m\u001b[39m\t\u001b[33m-64\u001b[39m\u001b[33m(\u001b[39m\u001b[0m%rdi\u001b[33m)\u001b[39m\u001b[0m, \u001b[0m%ymm13\n",
      "\t\u001b[96m\u001b[1mvmovupd\u001b[22m\u001b[39m\t\u001b[33m32\u001b[39m\u001b[33m(\u001b[39m\u001b[0m%rdi\u001b[33m)\u001b[39m\u001b[0m, \u001b[0m%ymm14\n",
      "\t\u001b[96m\u001b[1mvmovupd\u001b[22m\u001b[39m\t\u001b[33m(\u001b[39m\u001b[0m%rdi\u001b[33m)\u001b[39m\u001b[0m, \u001b[0m%ymm15\n",
      "\t\u001b[96m\u001b[1mvperm2f128\u001b[22m\u001b[39m\t\u001b[33m$49\u001b[39m\u001b[0m, \u001b[0m%ymm9\u001b[0m, \u001b[0m%ymm8\u001b[0m, \u001b[0m%ymm0 \u001b[0m## \u001b[0mymm0 \u001b[0m= \u001b[0mymm8\u001b[33m[\u001b[39m\u001b[33m2\u001b[39m\u001b[0m,\u001b[33m3\u001b[39m\u001b[33m]\u001b[39m\u001b[0m,\u001b[0mymm9\u001b[33m[\u001b[39m\u001b[33m2\u001b[39m\u001b[0m,\u001b[33m3\u001b[39m\u001b[33m]\u001b[39m\n",
      "\t\u001b[96m\u001b[1mvperm2f128\u001b[22m\u001b[39m\t\u001b[33m$32\u001b[39m\u001b[0m, \u001b[0m%ymm9\u001b[0m, \u001b[0m%ymm8\u001b[0m, \u001b[0m%ymm8 \u001b[0m## \u001b[0mymm8 \u001b[0m= \u001b[0mymm8\u001b[33m[\u001b[39m\u001b[33m0\u001b[39m\u001b[0m,\u001b[33m1\u001b[39m\u001b[33m]\u001b[39m\u001b[0m,\u001b[0mymm9\u001b[33m[\u001b[39m\u001b[33m0\u001b[39m\u001b[0m,\u001b[33m1\u001b[39m\u001b[33m]\u001b[39m\n",
      "\t\u001b[96m\u001b[1mvunpcklpd\u001b[22m\u001b[39m\t\u001b[0m%ymm0\u001b[0m, \u001b[0m%ymm8\u001b[0m, \u001b[0m%ymm9     \u001b[0m## \u001b[0mymm9 \u001b[0m= \u001b[0mymm8\u001b[33m[\u001b[39m\u001b[33m0\u001b[39m\u001b[33m]\u001b[39m\u001b[0m,\u001b[0mymm0\u001b[33m[\u001b[39m\u001b[33m0\u001b[39m\u001b[33m]\u001b[39m\u001b[0m,\u001b[0mymm8\u001b[33m[\u001b[39m\u001b[33m2\u001b[39m\u001b[33m]\u001b[39m\u001b[0m,\u001b[0mymm0\u001b[33m[\u001b[39m\u001b[33m2\u001b[39m\u001b[33m]\u001b[39m\n",
      "\u001b[90m; │└└└\u001b[39m\n",
      "\u001b[90m; │┌ @ simdloop.jl:77 within `macro expansion` @ In[64]:9\u001b[39m\n",
      "\u001b[90m; ││┌ @ In[74]:10 within `+` @ float.jl:399\u001b[39m\n",
      "\t\u001b[96m\u001b[1mvaddpd\u001b[22m\u001b[39m\t\u001b[0m%ymm4\u001b[0m, \u001b[0m%ymm9\u001b[0m, \u001b[0m%ymm4\n",
      "\u001b[90m; │└└\u001b[39m\n",
      "\u001b[90m; │┌ @ simdloop.jl:76 within `macro expansion`\u001b[39m\n",
      "\u001b[90m; ││┌ @ simdloop.jl:54 within `simd_index`\u001b[39m\n",
      "\u001b[90m; │││┌ @ array.jl:861 within `getindex`\u001b[39m\n",
      "\t\u001b[96m\u001b[1mvperm2f128\u001b[22m\u001b[39m\t\u001b[33m$49\u001b[39m\u001b[0m, \u001b[0m%ymm11\u001b[0m, \u001b[0m%ymm10\u001b[0m, \u001b[0m%ymm9 \u001b[0m## \u001b[0mymm9 \u001b[0m= \u001b[0mymm10\u001b[33m[\u001b[39m\u001b[33m2\u001b[39m\u001b[0m,\u001b[33m3\u001b[39m\u001b[33m]\u001b[39m\u001b[0m,\u001b[0mymm11\u001b[33m[\u001b[39m\u001b[33m2\u001b[39m\u001b[0m,\u001b[33m3\u001b[39m\u001b[33m]\u001b[39m\n",
      "\t\u001b[96m\u001b[1mvperm2f128\u001b[22m\u001b[39m\t\u001b[33m$32\u001b[39m\u001b[0m, \u001b[0m%ymm11\u001b[0m, \u001b[0m%ymm10\u001b[0m, \u001b[0m%ymm10 \u001b[0m## \u001b[0mymm10 \u001b[0m= \u001b[0mymm10\u001b[33m[\u001b[39m\u001b[33m0\u001b[39m\u001b[0m,\u001b[33m1\u001b[39m\u001b[33m]\u001b[39m\u001b[0m,\u001b[0mymm11\u001b[33m[\u001b[39m\u001b[33m0\u001b[39m\u001b[0m,\u001b[33m1\u001b[39m\u001b[33m]\u001b[39m\n",
      "\t\u001b[96m\u001b[1mvunpcklpd\u001b[22m\u001b[39m\t\u001b[0m%ymm9\u001b[0m, \u001b[0m%ymm10\u001b[0m, \u001b[0m%ymm11   \u001b[0m## \u001b[0mymm11 \u001b[0m= \u001b[0mymm10\u001b[33m[\u001b[39m\u001b[33m0\u001b[39m\u001b[33m]\u001b[39m\u001b[0m,\u001b[0mymm9\u001b[33m[\u001b[39m\u001b[33m0\u001b[39m\u001b[33m]\u001b[39m\u001b[0m,\u001b[0mymm10\u001b[33m[\u001b[39m\u001b[33m2\u001b[39m\u001b[33m]\u001b[39m\u001b[0m,\u001b[0mymm9\u001b[33m[\u001b[39m\u001b[33m2\u001b[39m\u001b[33m]\u001b[39m\n",
      "\u001b[90m; │└└└\u001b[39m\n",
      "\u001b[90m; │┌ @ simdloop.jl:77 within `macro expansion` @ In[64]:9\u001b[39m\n",
      "\u001b[90m; ││┌ @ In[74]:10 within `+` @ float.jl:399\u001b[39m\n",
      "\t\u001b[96m\u001b[1mvaddpd\u001b[22m\u001b[39m\t\u001b[0m%ymm5\u001b[0m, \u001b[0m%ymm11\u001b[0m, \u001b[0m%ymm5\n",
      "\u001b[90m; │└└\u001b[39m\n",
      "\u001b[90m; │┌ @ simdloop.jl:76 within `macro expansion`\u001b[39m\n",
      "\u001b[90m; ││┌ @ simdloop.jl:54 within `simd_index`\u001b[39m\n",
      "\u001b[90m; │││┌ @ array.jl:861 within `getindex`\u001b[39m\n",
      "\t\u001b[96m\u001b[1mvperm2f128\u001b[22m\u001b[39m\t\u001b[33m$49\u001b[39m\u001b[0m, \u001b[0m%ymm12\u001b[0m, \u001b[0m%ymm13\u001b[0m, \u001b[0m%ymm11 \u001b[0m## \u001b[0mymm11 \u001b[0m= \u001b[0mymm13\u001b[33m[\u001b[39m\u001b[33m2\u001b[39m\u001b[0m,\u001b[33m3\u001b[39m\u001b[33m]\u001b[39m\u001b[0m,\u001b[0mymm12\u001b[33m[\u001b[39m\u001b[33m2\u001b[39m\u001b[0m,\u001b[33m3\u001b[39m\u001b[33m]\u001b[39m\n",
      "\t\u001b[96m\u001b[1mvperm2f128\u001b[22m\u001b[39m\t\u001b[33m$32\u001b[39m\u001b[0m, \u001b[0m%ymm12\u001b[0m, \u001b[0m%ymm13\u001b[0m, \u001b[0m%ymm12 \u001b[0m## \u001b[0mymm12 \u001b[0m= \u001b[0mymm13\u001b[33m[\u001b[39m\u001b[33m0\u001b[39m\u001b[0m,\u001b[33m1\u001b[39m\u001b[33m]\u001b[39m\u001b[0m,\u001b[0mymm12\u001b[33m[\u001b[39m\u001b[33m0\u001b[39m\u001b[0m,\u001b[33m1\u001b[39m\u001b[33m]\u001b[39m\n",
      "\t\u001b[96m\u001b[1mvunpcklpd\u001b[22m\u001b[39m\t\u001b[0m%ymm11\u001b[0m, \u001b[0m%ymm12\u001b[0m, \u001b[0m%ymm13  \u001b[0m## \u001b[0mymm13 \u001b[0m= \u001b[0mymm12\u001b[33m[\u001b[39m\u001b[33m0\u001b[39m\u001b[33m]\u001b[39m\u001b[0m,\u001b[0mymm11\u001b[33m[\u001b[39m\u001b[33m0\u001b[39m\u001b[33m]\u001b[39m\u001b[0m,\u001b[0mymm12\u001b[33m[\u001b[39m\u001b[33m2\u001b[39m\u001b[33m]\u001b[39m\u001b[0m,\u001b[0mymm11\u001b[33m[\u001b[39m\u001b[33m2\u001b[39m\u001b[33m]\u001b[39m\n",
      "\u001b[90m; │└└└\u001b[39m\n",
      "\u001b[90m; │┌ @ simdloop.jl:77 within `macro expansion` @ In[64]:9\u001b[39m\n",
      "\u001b[90m; ││┌ @ In[74]:10 within `+` @ float.jl:399\u001b[39m\n",
      "\t\u001b[96m\u001b[1mvaddpd\u001b[22m\u001b[39m\t\u001b[0m%ymm6\u001b[0m, \u001b[0m%ymm13\u001b[0m, \u001b[0m%ymm6\n",
      "\u001b[90m; │└└\u001b[39m\n",
      "\u001b[90m; │┌ @ simdloop.jl:76 within `macro expansion`\u001b[39m\n",
      "\u001b[90m; ││┌ @ simdloop.jl:54 within `simd_index`\u001b[39m\n",
      "\u001b[90m; │││┌ @ array.jl:861 within `getindex`\u001b[39m\n",
      "\t\u001b[96m\u001b[1mvperm2f128\u001b[22m\u001b[39m\t\u001b[33m$49\u001b[39m\u001b[0m, \u001b[0m%ymm14\u001b[0m, \u001b[0m%ymm15\u001b[0m, \u001b[0m%ymm13 \u001b[0m## \u001b[0mymm13 \u001b[0m= \u001b[0mymm15\u001b[33m[\u001b[39m\u001b[33m2\u001b[39m\u001b[0m,\u001b[33m3\u001b[39m\u001b[33m]\u001b[39m\u001b[0m,\u001b[0mymm14\u001b[33m[\u001b[39m\u001b[33m2\u001b[39m\u001b[0m,\u001b[33m3\u001b[39m\u001b[33m]\u001b[39m\n",
      "\t\u001b[96m\u001b[1mvperm2f128\u001b[22m\u001b[39m\t\u001b[33m$32\u001b[39m\u001b[0m, \u001b[0m%ymm14\u001b[0m, \u001b[0m%ymm15\u001b[0m, \u001b[0m%ymm14 \u001b[0m## \u001b[0mymm14 \u001b[0m= \u001b[0mymm15\u001b[33m[\u001b[39m\u001b[33m0\u001b[39m\u001b[0m,\u001b[33m1\u001b[39m\u001b[33m]\u001b[39m\u001b[0m,\u001b[0mymm14\u001b[33m[\u001b[39m\u001b[33m0\u001b[39m\u001b[0m,\u001b[33m1\u001b[39m\u001b[33m]\u001b[39m\n",
      "\t\u001b[96m\u001b[1mvunpcklpd\u001b[22m\u001b[39m\t\u001b[0m%ymm13\u001b[0m, \u001b[0m%ymm14\u001b[0m, \u001b[0m%ymm15  \u001b[0m## \u001b[0mymm15 \u001b[0m= \u001b[0mymm14\u001b[33m[\u001b[39m\u001b[33m0\u001b[39m\u001b[33m]\u001b[39m\u001b[0m,\u001b[0mymm13\u001b[33m[\u001b[39m\u001b[33m0\u001b[39m\u001b[33m]\u001b[39m\u001b[0m,\u001b[0mymm14\u001b[33m[\u001b[39m\u001b[33m2\u001b[39m\u001b[33m]\u001b[39m\u001b[0m,\u001b[0mymm13\u001b[33m[\u001b[39m\u001b[33m2\u001b[39m\u001b[33m]\u001b[39m\n",
      "\u001b[90m; │└└└\u001b[39m\n",
      "\u001b[90m; │┌ @ simdloop.jl:77 within `macro expansion` @ In[64]:9\u001b[39m\n",
      "\u001b[90m; ││┌ @ In[74]:10 within `+` @ float.jl:399\u001b[39m\n",
      "\t\u001b[96m\u001b[1mvaddpd\u001b[22m\u001b[39m\t\u001b[0m%ymm7\u001b[0m, \u001b[0m%ymm15\u001b[0m, \u001b[0m%ymm7\n",
      "\u001b[90m; │└└\u001b[39m\n",
      "\u001b[90m; │┌ @ simdloop.jl:76 within `macro expansion`\u001b[39m\n",
      "\u001b[90m; ││┌ @ simdloop.jl:54 within `simd_index`\u001b[39m\n",
      "\u001b[90m; │││┌ @ array.jl:861 within `getindex`\u001b[39m\n",
      "\t\u001b[96m\u001b[1mvunpckhpd\u001b[22m\u001b[39m\t\u001b[0m%ymm0\u001b[0m, \u001b[0m%ymm8\u001b[0m, \u001b[0m%ymm0     \u001b[0m## \u001b[0mymm0 \u001b[0m= \u001b[0mymm8\u001b[33m[\u001b[39m\u001b[33m1\u001b[39m\u001b[33m]\u001b[39m\u001b[0m,\u001b[0mymm0\u001b[33m[\u001b[39m\u001b[33m1\u001b[39m\u001b[33m]\u001b[39m\u001b[0m,\u001b[0mymm8\u001b[33m[\u001b[39m\u001b[33m3\u001b[39m\u001b[33m]\u001b[39m\u001b[0m,\u001b[0mymm0\u001b[33m[\u001b[39m\u001b[33m3\u001b[39m\u001b[33m]\u001b[39m\n",
      "\t\u001b[96m\u001b[1mvmovupd\u001b[22m\u001b[39m\t\u001b[33m-56\u001b[39m\u001b[33m(\u001b[39m\u001b[0m%rsp\u001b[33m)\u001b[39m\u001b[0m, \u001b[0m%ymm8\n",
      "\u001b[90m; │└└└\u001b[39m\n",
      "\u001b[90m; │┌ @ simdloop.jl:77 within `macro expansion` @ In[64]:9\u001b[39m\n",
      "\u001b[90m; ││┌ @ In[74]:10 within `+` @ float.jl:399\u001b[39m\n",
      "\t\u001b[96m\u001b[1mvaddpd\u001b[22m\u001b[39m\t\u001b[0m%ymm0\u001b[0m, \u001b[0m%ymm8\u001b[0m, \u001b[0m%ymm8\n",
      "\t\u001b[96m\u001b[1mvmovupd\u001b[22m\u001b[39m\t\u001b[0m%ymm8\u001b[0m, \u001b[33m-56\u001b[39m\u001b[33m(\u001b[39m\u001b[0m%rsp\u001b[33m)\u001b[39m\n",
      "\u001b[90m; │└└\u001b[39m\n",
      "\u001b[90m; │┌ @ simdloop.jl:76 within `macro expansion`\u001b[39m\n",
      "\u001b[90m; ││┌ @ simdloop.jl:54 within `simd_index`\u001b[39m\n",
      "\u001b[90m; │││┌ @ array.jl:861 within `getindex`\u001b[39m\n",
      "\t\u001b[96m\u001b[1mvunpckhpd\u001b[22m\u001b[39m\t\u001b[0m%ymm9\u001b[0m, \u001b[0m%ymm10\u001b[0m, \u001b[0m%ymm0    \u001b[0m## \u001b[0mymm0 \u001b[0m= \u001b[0mymm10\u001b[33m[\u001b[39m\u001b[33m1\u001b[39m\u001b[33m]\u001b[39m\u001b[0m,\u001b[0mymm9\u001b[33m[\u001b[39m\u001b[33m1\u001b[39m\u001b[33m]\u001b[39m\u001b[0m,\u001b[0mymm10\u001b[33m[\u001b[39m\u001b[33m3\u001b[39m\u001b[33m]\u001b[39m\u001b[0m,\u001b[0mymm9\u001b[33m[\u001b[39m\u001b[33m3\u001b[39m\u001b[33m]\u001b[39m\n",
      "\u001b[90m; │└└└\u001b[39m\n",
      "\u001b[90m; │┌ @ simdloop.jl:77 within `macro expansion` @ In[64]:9\u001b[39m\n",
      "\u001b[90m; ││┌ @ In[74]:10 within `+` @ float.jl:399\u001b[39m\n",
      "\t\u001b[96m\u001b[1mvaddpd\u001b[22m\u001b[39m\t\u001b[0m%ymm0\u001b[0m, \u001b[0m%ymm1\u001b[0m, \u001b[0m%ymm1\n",
      "\u001b[90m; │└└\u001b[39m\n",
      "\u001b[90m; │┌ @ simdloop.jl:76 within `macro expansion`\u001b[39m\n",
      "\u001b[90m; ││┌ @ simdloop.jl:54 within `simd_index`\u001b[39m\n",
      "\u001b[90m; │││┌ @ array.jl:861 within `getindex`\u001b[39m\n",
      "\t\u001b[96m\u001b[1mvunpckhpd\u001b[22m\u001b[39m\t\u001b[0m%ymm11\u001b[0m, \u001b[0m%ymm12\u001b[0m, \u001b[0m%ymm0   \u001b[0m## \u001b[0mymm0 \u001b[0m= \u001b[0mymm12\u001b[33m[\u001b[39m\u001b[33m1\u001b[39m\u001b[33m]\u001b[39m\u001b[0m,\u001b[0mymm11\u001b[33m[\u001b[39m\u001b[33m1\u001b[39m\u001b[33m]\u001b[39m\u001b[0m,\u001b[0mymm12\u001b[33m[\u001b[39m\u001b[33m3\u001b[39m\u001b[33m]\u001b[39m\u001b[0m,\u001b[0mymm11\u001b[33m[\u001b[39m\u001b[33m3\u001b[39m\u001b[33m]\u001b[39m\n",
      "\u001b[90m; │└└└\u001b[39m\n"
     ]
    },
    {
     "name": "stdout",
     "output_type": "stream",
     "text": [
      "\u001b[90m; │┌ @ simdloop.jl:77 within `macro expansion` @ In[64]:9\u001b[39m\n",
      "\u001b[90m; ││┌ @ In[74]:10 within `+` @ float.jl:399\u001b[39m\n",
      "\t\u001b[96m\u001b[1mvaddpd\u001b[22m\u001b[39m\t\u001b[0m%ymm0\u001b[0m, \u001b[0m%ymm2\u001b[0m, \u001b[0m%ymm2\n",
      "\u001b[90m; │└└\u001b[39m\n",
      "\u001b[90m; │┌ @ simdloop.jl:76 within `macro expansion`\u001b[39m\n",
      "\u001b[90m; ││┌ @ simdloop.jl:54 within `simd_index`\u001b[39m\n",
      "\u001b[90m; │││┌ @ array.jl:861 within `getindex`\u001b[39m\n",
      "\t\u001b[96m\u001b[1mvunpckhpd\u001b[22m\u001b[39m\t\u001b[0m%ymm13\u001b[0m, \u001b[0m%ymm14\u001b[0m, \u001b[0m%ymm0   \u001b[0m## \u001b[0mymm0 \u001b[0m= \u001b[0mymm14\u001b[33m[\u001b[39m\u001b[33m1\u001b[39m\u001b[33m]\u001b[39m\u001b[0m,\u001b[0mymm13\u001b[33m[\u001b[39m\u001b[33m1\u001b[39m\u001b[33m]\u001b[39m\u001b[0m,\u001b[0mymm14\u001b[33m[\u001b[39m\u001b[33m3\u001b[39m\u001b[33m]\u001b[39m\u001b[0m,\u001b[0mymm13\u001b[33m[\u001b[39m\u001b[33m3\u001b[39m\u001b[33m]\u001b[39m\n",
      "\u001b[90m; │└└└\u001b[39m\n",
      "\u001b[90m; │┌ @ simdloop.jl:77 within `macro expansion` @ In[64]:9\u001b[39m\n",
      "\u001b[90m; ││┌ @ In[74]:10 within `+` @ float.jl:399\u001b[39m\n",
      "\t\u001b[96m\u001b[1mvaddpd\u001b[22m\u001b[39m\t\u001b[0m%ymm0\u001b[0m, \u001b[0m%ymm3\u001b[0m, \u001b[0m%ymm3\n",
      "\u001b[90m; │└└\u001b[39m\n",
      "\u001b[90m; │┌ @ simdloop.jl:78 within `macro expansion`\u001b[39m\n",
      "\u001b[90m; ││┌ @ int.jl:87 within `+`\u001b[39m\n",
      "\t\u001b[96m\u001b[1maddq\u001b[22m\u001b[39m\t\u001b[33m$256\u001b[39m\u001b[0m, \u001b[0m%rdi                      \u001b[0m## \u001b[0mimm \u001b[0m= \u001b[33m0x100\u001b[39m\n",
      "\t\u001b[96m\u001b[1maddq\u001b[22m\u001b[39m\t\u001b[33m$-16\u001b[39m\u001b[0m, \u001b[0m%rsi\n",
      "\t\u001b[96m\u001b[1mjne\u001b[22m\u001b[39m\t\u001b[91mL112\u001b[39m\n",
      "\u001b[90m; │└└\u001b[39m\n",
      "\u001b[90m; │┌ @ simdloop.jl:75 within `macro expansion`\u001b[39m\n",
      "\t\u001b[96m\u001b[1mvaddpd\u001b[22m\u001b[39m\t\u001b[0m%ymm4\u001b[0m, \u001b[0m%ymm5\u001b[0m, \u001b[0m%ymm0\n",
      "\t\u001b[96m\u001b[1mvaddpd\u001b[22m\u001b[39m\t\u001b[0m%ymm0\u001b[0m, \u001b[0m%ymm6\u001b[0m, \u001b[0m%ymm0\n",
      "\t\u001b[96m\u001b[1mvaddpd\u001b[22m\u001b[39m\t\u001b[0m%ymm0\u001b[0m, \u001b[0m%ymm7\u001b[0m, \u001b[0m%ymm0\n",
      "\t\u001b[96m\u001b[1mvextractf128\u001b[22m\u001b[39m\t\u001b[33m$1\u001b[39m\u001b[0m, \u001b[0m%ymm0\u001b[0m, \u001b[0m%xmm4\n",
      "\t\u001b[96m\u001b[1mvaddpd\u001b[22m\u001b[39m\t\u001b[0m%xmm4\u001b[0m, \u001b[0m%xmm0\u001b[0m, \u001b[0m%xmm0\n",
      "\t\u001b[96m\u001b[1mvpermilpd\u001b[22m\u001b[39m\t\u001b[33m$1\u001b[39m\u001b[0m, \u001b[0m%xmm0\u001b[0m, \u001b[0m%xmm4        \u001b[0m## \u001b[0mxmm4 \u001b[0m= \u001b[0mxmm0\u001b[33m[\u001b[39m\u001b[33m1\u001b[39m\u001b[0m,\u001b[33m0\u001b[39m\u001b[33m]\u001b[39m\n",
      "\t\u001b[96m\u001b[1mvaddpd\u001b[22m\u001b[39m\t\u001b[33m-56\u001b[39m\u001b[33m(\u001b[39m\u001b[0m%rsp\u001b[33m)\u001b[39m\u001b[0m, \u001b[0m%ymm1\u001b[0m, \u001b[0m%ymm1\n",
      "\t\u001b[96m\u001b[1mvaddpd\u001b[22m\u001b[39m\t\u001b[0m%ymm1\u001b[0m, \u001b[0m%ymm2\u001b[0m, \u001b[0m%ymm1\n",
      "\t\u001b[96m\u001b[1mvaddpd\u001b[22m\u001b[39m\t\u001b[0m%ymm1\u001b[0m, \u001b[0m%ymm3\u001b[0m, \u001b[0m%ymm1\n",
      "\t\u001b[96m\u001b[1mvextractf128\u001b[22m\u001b[39m\t\u001b[33m$1\u001b[39m\u001b[0m, \u001b[0m%ymm1\u001b[0m, \u001b[0m%xmm2\n",
      "\t\u001b[96m\u001b[1mvaddpd\u001b[22m\u001b[39m\t\u001b[0m%xmm2\u001b[0m, \u001b[0m%xmm1\u001b[0m, \u001b[0m%xmm1\n",
      "\t\u001b[96m\u001b[1mvpermilpd\u001b[22m\u001b[39m\t\u001b[33m$1\u001b[39m\u001b[0m, \u001b[0m%xmm1\u001b[0m, \u001b[0m%xmm2        \u001b[0m## \u001b[0mxmm2 \u001b[0m= \u001b[0mxmm1\u001b[33m[\u001b[39m\u001b[33m1\u001b[39m\u001b[0m,\u001b[33m0\u001b[39m\u001b[33m]\u001b[39m\n",
      "\t\u001b[96m\u001b[1mvaddpd\u001b[22m\u001b[39m\t\u001b[0m%xmm2\u001b[0m, \u001b[0m%xmm1\u001b[0m, \u001b[0m%xmm1\n",
      "\t\u001b[96m\u001b[1mvaddpd\u001b[22m\u001b[39m\t\u001b[0m%xmm4\u001b[0m, \u001b[0m%xmm0\u001b[0m, \u001b[0m%xmm0\n",
      "\t\u001b[96m\u001b[1mvunpcklpd\u001b[22m\u001b[39m\t\u001b[0m%xmm1\u001b[0m, \u001b[0m%xmm0\u001b[0m, \u001b[0m%xmm0     \u001b[0m## \u001b[0mxmm0 \u001b[0m= \u001b[0mxmm0\u001b[33m[\u001b[39m\u001b[33m0\u001b[39m\u001b[33m]\u001b[39m\u001b[0m,\u001b[0mxmm1\u001b[33m[\u001b[39m\u001b[33m0\u001b[39m\u001b[33m]\u001b[39m\n",
      "\t\u001b[96m\u001b[1mcmpq\u001b[22m\u001b[39m\t\u001b[0m%r8\u001b[0m, \u001b[0m%rcx\n",
      "\t\u001b[96m\u001b[1mje\u001b[22m\u001b[39m\t\u001b[91mL413\u001b[39m\n",
      "\u001b[91mL379:\u001b[39m\n",
      "\t\u001b[96m\u001b[1msubq\u001b[22m\u001b[39m\t\u001b[0m%r8\u001b[0m, \u001b[0m%rcx\n",
      "\t\u001b[96m\u001b[1mshlq\u001b[22m\u001b[39m\t\u001b[33m$4\u001b[39m\u001b[0m, \u001b[0m%r8\n",
      "\t\u001b[96m\u001b[1maddq\u001b[22m\u001b[39m\t\u001b[0m%r8\u001b[0m, \u001b[0m%rdx\n",
      "\t\u001b[96m\u001b[1mnopw\u001b[22m\u001b[39m\t\u001b[0m%cs\u001b[0m:\u001b[33m(\u001b[39m\u001b[0m%rax\u001b[0m,\u001b[0m%rax\u001b[33m)\u001b[39m\n",
      "\u001b[90m; │└\u001b[39m\n",
      "\u001b[90m; │┌ @ simdloop.jl:77 within `macro expansion` @ In[64]:9\u001b[39m\n",
      "\u001b[90m; ││┌ @ In[74]:10 within `+` @ float.jl:399\u001b[39m\n",
      "\u001b[91mL400:\u001b[39m\n",
      "\t\u001b[96m\u001b[1mvaddpd\u001b[22m\u001b[39m\t\u001b[33m(\u001b[39m\u001b[0m%rdx\u001b[33m)\u001b[39m\u001b[0m, \u001b[0m%xmm0\u001b[0m, \u001b[0m%xmm0\n",
      "\u001b[90m; │└└\u001b[39m\n",
      "\u001b[90m; │┌ @ simdloop.jl:75 within `macro expansion`\u001b[39m\n",
      "\u001b[90m; ││┌ @ int.jl:83 within `<`\u001b[39m\n",
      "\t\u001b[96m\u001b[1maddq\u001b[22m\u001b[39m\t\u001b[33m$16\u001b[39m\u001b[0m, \u001b[0m%rdx\n",
      "\t\u001b[96m\u001b[1mdecq\u001b[22m\u001b[39m\t\u001b[0m%rcx\n",
      "\u001b[90m; ││└\u001b[39m\n",
      "\t\u001b[96m\u001b[1mjne\u001b[22m\u001b[39m\t\u001b[91mL400\u001b[39m\n",
      "\u001b[90m; │└\u001b[39m\n",
      "\u001b[90m; │ @ In[64]:11 within `my_fast_sum`\u001b[39m\n",
      "\u001b[91mL413:\u001b[39m\n",
      "\t\u001b[96m\u001b[1mvmovupd\u001b[22m\u001b[39m\t\u001b[0m%xmm0\u001b[0m, \u001b[33m(\u001b[39m\u001b[0m%rax\u001b[33m)\u001b[39m\n",
      "\t\u001b[96m\u001b[1mvzeroupper\u001b[22m\u001b[39m\n",
      "\t\u001b[96m\u001b[1mretq\u001b[22m\u001b[39m\n",
      "\t\u001b[96m\u001b[1mnopw\u001b[22m\u001b[39m\t\u001b[0m%cs\u001b[0m:\u001b[33m(\u001b[39m\u001b[0m%rax\u001b[0m,\u001b[0m%rax\u001b[33m)\u001b[39m\n",
      "\u001b[90m; └\u001b[39m\n"
     ]
    }
   ],
   "source": [
    "@code_native my_fast_sum(points)"
   ]
  },
  {
   "cell_type": "markdown",
   "metadata": {
    "slideshow": {
     "slide_type": "slide"
    }
   },
   "source": [
    "# Bonus Features of Julia"
   ]
  },
  {
   "cell_type": "markdown",
   "metadata": {
    "slideshow": {
     "slide_type": "subslide"
    }
   },
   "source": [
    "## Asynchronous Tasks\n",
    "\n",
    "Julia supports asynchronous cooperative tasks, with `libuv` providing the backend. These tasks are great for handling operations like IO or network requests:"
   ]
  },
  {
   "cell_type": "code",
   "execution_count": 77,
   "metadata": {
    "slideshow": {
     "slide_type": "fragment"
    }
   },
   "outputs": [],
   "source": [
    "using HTTP: request"
   ]
  },
  {
   "cell_type": "code",
   "execution_count": 78,
   "metadata": {},
   "outputs": [
    {
     "name": "stdout",
     "output_type": "stream",
     "text": [
      "starting request 1\n",
      "starting request 2\n",
      "starting request 3\n"
     ]
    }
   ],
   "source": [
    "for i in 1:5\n",
    "    @async begin\n",
    "        println(\"starting request $i\")\n",
    "        r = request(\"GET\", \"https://jsonplaceholder.typicode.com/posts/$i\")\n",
    "        println(\"got response $i with status $(r.status)\")\n",
    "    end\n",
    "end\n",
    "        "
   ]
  },
  {
   "cell_type": "markdown",
   "metadata": {
    "slideshow": {
     "slide_type": "subslide"
    }
   },
   "source": [
    "## Multi-Threading\n",
    "\n",
    "\n",
    "Julia also supports parallel and distributed computing (see https://docs.julialang.org/en/v1/manual/parallel-computing/ for more). In addition, Julia 1.3 implemented a new feature, the Parallel Task Run-Time (PATR), which allows for *composable* multi-threading. It is now possible for a parallelized Julia function to call other parallelized code without over-subsubscribing the available processors. See \n",
    "https://julialang.org/blog/2019/07/multithreading/ for more. "
   ]
  },
  {
   "cell_type": "code",
   "execution_count": 79,
   "metadata": {
    "slideshow": {
     "slide_type": "fragment"
    }
   },
   "outputs": [
    {
     "name": "stdout",
     "output_type": "stream",
     "text": [
      "starting request 4\n",
      "starting request 5\n"
     ]
    },
    {
     "data": {
      "text/plain": [
       "fib (generic function with 1 method)"
      ]
     },
     "execution_count": 79,
     "metadata": {},
     "output_type": "execute_result"
    }
   ],
   "source": [
    "using Base.Threads: @spawn\n",
    "\n",
    "\n",
    "function fib(n::Int)\n",
    "    if n < 2\n",
    "        return n\n",
    "    end\n",
    "    # `@spawn` creates a new parallel task. Tasks are lightweight and can be\n",
    "    # created at will. The Julia Parallel Task Run-Time handles scheduling the\n",
    "    # tasks to native threads in a depth first manner. That means that you can\n",
    "    # write parallel code which calls other parallel code without over-subscribing\n",
    "    # your available processors. \n",
    "    t = @spawn fib(n - 2)\n",
    "    return fib(n - 1) + fetch(t)\n",
    "end "
   ]
  },
  {
   "cell_type": "code",
   "execution_count": 104,
   "metadata": {
    "slideshow": {
     "slide_type": "subslide"
    }
   },
   "outputs": [
    {
     "name": "stdout",
     "output_type": "stream",
     "text": [
      "Number of threads = 4\n",
      "Thread IDs: [1.0, 1.0, 1.0, 2.0, 2.0, 2.0, 3.0, 3.0, 4.0, 4.0]\n"
     ]
    }
   ],
   "source": [
    "println(\"Number of threads = $(Threads.nthreads())\")\n",
    "a = zeros(10)\n",
    "Threads.@threads for i = 1:10\n",
    "    a[i] = Threads.threadid()\n",
    "end\n",
    "println(\"Thread IDs: $a\")"
   ]
  },
  {
   "cell_type": "markdown",
   "metadata": {
    "slideshow": {
     "slide_type": "subslide"
    }
   },
   "source": [
    "## No Implicit Copying\n",
    "\n",
    "Values are never copied unless you intentionally copy or convert them. That means that functions can mutate their input arguments to efficiently do work in-place:"
   ]
  },
  {
   "cell_type": "code",
   "execution_count": 80,
   "metadata": {
    "slideshow": {
     "slide_type": "fragment"
    }
   },
   "outputs": [
    {
     "data": {
      "text/plain": [
       "invert!"
      ]
     },
     "execution_count": 80,
     "metadata": {},
     "output_type": "execute_result"
    }
   ],
   "source": [
    "\"\"\"\n",
    "Invert the sign of the vector `x`, operating in-place to avoid any memory allocation.\n",
    "\"\"\"\n",
    "function invert!(x::AbstractVector)\n",
    "    for i in eachindex(x)\n",
    "        x[i] = -x[i]\n",
    "    end\n",
    "end"
   ]
  },
  {
   "cell_type": "markdown",
   "metadata": {},
   "source": [
    "Note: the `!` in the function name is just a convention: it signals to readers of the code\n",
    "that the input argument `x` will be modified."
   ]
  },
  {
   "cell_type": "code",
   "execution_count": 81,
   "metadata": {
    "slideshow": {
     "slide_type": "subslide"
    }
   },
   "outputs": [
    {
     "data": {
      "text/plain": [
       "3-element Vector{Int64}:\n",
       " -1\n",
       " -2\n",
       " -3"
      ]
     },
     "execution_count": 81,
     "metadata": {},
     "output_type": "execute_result"
    }
   ],
   "source": [
    "x = [1, 2, 3]\n",
    "invert!(x)\n",
    "x"
   ]
  },
  {
   "cell_type": "code",
   "execution_count": 82,
   "metadata": {
    "slideshow": {
     "slide_type": "fragment"
    }
   },
   "outputs": [
    {
     "name": "stdout",
     "output_type": "stream",
     "text": [
      "  3.375 ns (0 allocations: 0 bytes)\n"
     ]
    }
   ],
   "source": [
    "@btime invert!($x)"
   ]
  },
  {
   "cell_type": "markdown",
   "metadata": {
    "slideshow": {
     "slide_type": "subslide"
    }
   },
   "source": [
    "## Anything Can Be a Value\n",
    "\n",
    "Julia has no special rules about what can or cannot be assigned to a variable or passed to a function. "
   ]
  },
  {
   "cell_type": "markdown",
   "metadata": {
    "slideshow": {
     "slide_type": "subslide"
    }
   },
   "source": [
    "### Functions are Values\n",
    "\n",
    "A Julia function is a value like any other, so passing functions around and implementing higher-order functions is trivial:"
   ]
  },
  {
   "cell_type": "code",
   "execution_count": 83,
   "metadata": {
    "slideshow": {
     "slide_type": "fragment"
    }
   },
   "outputs": [
    {
     "data": {
      "text/plain": [
       "map_reduce"
      ]
     },
     "execution_count": 83,
     "metadata": {},
     "output_type": "execute_result"
    }
   ],
   "source": [
    "\"\"\"\n",
    "map_reduce: apply `operator` to each element in `array` and reduce pairwise via `reduction`\n",
    "\"\"\"\n",
    "function map_reduce(operator, reduction, array, initial_value)\n",
    "    result = initial_value\n",
    "    for item in array\n",
    "        result = reduction(result, operator(item))\n",
    "    end\n",
    "    result\n",
    "end"
   ]
  },
  {
   "cell_type": "code",
   "execution_count": 84,
   "metadata": {
    "slideshow": {
     "slide_type": "fragment"
    }
   },
   "outputs": [
    {
     "data": {
      "text/plain": [
       "1.1350859243855171"
      ]
     },
     "execution_count": 84,
     "metadata": {},
     "output_type": "execute_result"
    }
   ],
   "source": [
    "map_reduce(sin, +, [1, 2, 3, 4], 0)"
   ]
  },
  {
   "cell_type": "markdown",
   "metadata": {
    "slideshow": {
     "slide_type": "subslide"
    }
   },
   "source": [
    "We can define `sum` in terms of `map_reduce`:"
   ]
  },
  {
   "cell_type": "code",
   "execution_count": 85,
   "metadata": {
    "slideshow": {
     "slide_type": "-"
    }
   },
   "outputs": [
    {
     "data": {
      "text/plain": [
       "fancy_sum (generic function with 1 method)"
      ]
     },
     "execution_count": 85,
     "metadata": {},
     "output_type": "execute_result"
    }
   ],
   "source": [
    "fancy_sum(x) = map_reduce(identity, +, x, zero(eltype(x)))"
   ]
  },
  {
   "cell_type": "markdown",
   "metadata": {
    "slideshow": {
     "slide_type": "fragment"
    }
   },
   "source": [
    "The performance is just as good as our hand-written `sum` loop:"
   ]
  },
  {
   "cell_type": "code",
   "execution_count": 86,
   "metadata": {
    "slideshow": {
     "slide_type": "-"
    }
   },
   "outputs": [
    {
     "name": "stdout",
     "output_type": "stream",
     "text": [
      "  11.179 ms (0 allocations: 0 bytes)\n"
     ]
    },
    {
     "data": {
      "text/plain": [
       "4.998941237371209e6"
      ]
     },
     "execution_count": 86,
     "metadata": {},
     "output_type": "execute_result"
    }
   ],
   "source": [
    "@btime fancy_sum($data)"
   ]
  },
  {
   "cell_type": "markdown",
   "metadata": {},
   "source": [
    "To get all the way down to 5ms, we'd need to apply the same `@inbounds` and `@simd` annotations.  "
   ]
  },
  {
   "cell_type": "markdown",
   "metadata": {
    "slideshow": {
     "slide_type": "subslide"
    }
   },
   "source": [
    "### Types are Values\n",
    "\n",
    "Types can also be passed around as values and bound to variables with no special rules. This makes implementing factories or constructors easy:"
   ]
  },
  {
   "cell_type": "code",
   "execution_count": 87,
   "metadata": {
    "slideshow": {
     "slide_type": "fragment"
    }
   },
   "outputs": [
    {
     "data": {
      "text/plain": [
       "empty_matrix (generic function with 1 method)"
      ]
     },
     "execution_count": 87,
     "metadata": {},
     "output_type": "execute_result"
    }
   ],
   "source": [
    "function empty_matrix(T::Type, rows::Integer, cols::Integer)\n",
    "    zeros(T, rows, cols)\n",
    "end"
   ]
  },
  {
   "cell_type": "code",
   "execution_count": 88,
   "metadata": {
    "slideshow": {
     "slide_type": "fragment"
    }
   },
   "outputs": [
    {
     "data": {
      "text/plain": [
       "3×3 Matrix{Int64}:\n",
       " 0  0  0\n",
       " 0  0  0\n",
       " 0  0  0"
      ]
     },
     "execution_count": 88,
     "metadata": {},
     "output_type": "execute_result"
    }
   ],
   "source": [
    "empty_matrix(Int, 3, 3)"
   ]
  },
  {
   "cell_type": "code",
   "execution_count": 89,
   "metadata": {
    "slideshow": {
     "slide_type": "fragment"
    }
   },
   "outputs": [
    {
     "data": {
      "text/plain": [
       "3×3 Matrix{Point{Float64}}:\n",
       " Point{Float64}(0.0, 0.0)  Point{Float64}(0.0, 0.0)  Point{Float64}(0.0, 0.0)\n",
       " Point{Float64}(0.0, 0.0)  Point{Float64}(0.0, 0.0)  Point{Float64}(0.0, 0.0)\n",
       " Point{Float64}(0.0, 0.0)  Point{Float64}(0.0, 0.0)  Point{Float64}(0.0, 0.0)"
      ]
     },
     "execution_count": 89,
     "metadata": {},
     "output_type": "execute_result"
    }
   ],
   "source": [
    "empty_matrix(Point{Float64}, 3, 3)"
   ]
  },
  {
   "cell_type": "markdown",
   "metadata": {
    "slideshow": {
     "slide_type": "subslide"
    }
   },
   "source": [
    "### Expressions are Values\n",
    "\n",
    "Even the expressions that representing Julia code are represented as values in Julia. You can create an expression with the `:()` operator, and you can inspect it just like any other object. "
   ]
  },
  {
   "cell_type": "code",
   "execution_count": 90,
   "metadata": {
    "slideshow": {
     "slide_type": "-"
    }
   },
   "outputs": [
    {
     "data": {
      "text/plain": [
       ":(1 + 2)"
      ]
     },
     "execution_count": 90,
     "metadata": {},
     "output_type": "execute_result"
    },
    {
     "name": "stdout",
     "output_type": "stream",
     "text": [
      "got response 1 with status 200\n",
      "got response 2 with status 200\n"
     ]
    }
   ],
   "source": [
    "expr = :(1 + 2)"
   ]
  },
  {
   "cell_type": "markdown",
   "metadata": {
    "slideshow": {
     "slide_type": "fragment"
    }
   },
   "source": [
    "An expression has a `head` indicating what type of expression it is and zero or more `args`:"
   ]
  },
  {
   "cell_type": "code",
   "execution_count": 91,
   "metadata": {
    "slideshow": {
     "slide_type": "-"
    }
   },
   "outputs": [
    {
     "name": "stdout",
     "output_type": "stream",
     "text": [
      "got response 3 with status 200\n",
      "got response 4 with status 200\n",
      "got response 5 with status 200\n"
     ]
    },
    {
     "data": {
      "text/plain": [
       ":call"
      ]
     },
     "execution_count": 91,
     "metadata": {},
     "output_type": "execute_result"
    }
   ],
   "source": [
    "expr.head"
   ]
  },
  {
   "cell_type": "code",
   "execution_count": 92,
   "metadata": {
    "slideshow": {
     "slide_type": "-"
    }
   },
   "outputs": [
    {
     "data": {
      "text/plain": [
       "3-element Vector{Any}:\n",
       "  :+\n",
       " 1\n",
       " 2"
      ]
     },
     "execution_count": 92,
     "metadata": {},
     "output_type": "execute_result"
    }
   ],
   "source": [
    "expr.args"
   ]
  },
  {
   "cell_type": "markdown",
   "metadata": {
    "slideshow": {
     "slide_type": "subslide"
    }
   },
   "source": [
    "## Metaprogramming\n",
    "\n",
    "Since expressions are just values, we can easily write functions to manipulate them:"
   ]
  },
  {
   "cell_type": "code",
   "execution_count": 93,
   "metadata": {
    "slideshow": {
     "slide_type": "fragment"
    }
   },
   "outputs": [
    {
     "data": {
      "text/plain": [
       "switch_to_subtraction!"
      ]
     },
     "execution_count": 93,
     "metadata": {},
     "output_type": "execute_result"
    }
   ],
   "source": [
    "switch_to_subtraction!(x::Any) = nothing\n",
    "\n",
    "\"\"\"\n",
    "Change all `+` function calls to `-` function calls. \n",
    "\n",
    "<sarcasm>\n",
    "Great for fixing sign errors in your code!\n",
    "</sarcasm>\n",
    "\"\"\"\n",
    "function switch_to_subtraction!(ex::Expr)\n",
    "    if ex.head == :call && ex.args[1] == :(+)\n",
    "        ex.args[1] = :(-)\n",
    "    end\n",
    "    for i in 2:length(ex.args)\n",
    "        switch_to_subtraction!(ex.args[i])\n",
    "    end\n",
    "end"
   ]
  },
  {
   "cell_type": "code",
   "execution_count": 94,
   "metadata": {
    "slideshow": {
     "slide_type": "subslide"
    }
   },
   "outputs": [
    {
     "data": {
      "text/plain": [
       ":((1 + 2) * (3 + 4) * sqrt(2))"
      ]
     },
     "execution_count": 94,
     "metadata": {},
     "output_type": "execute_result"
    }
   ],
   "source": [
    "expr = :((1 + 2) * (3 + 4) * sqrt(2))"
   ]
  },
  {
   "cell_type": "code",
   "execution_count": 95,
   "metadata": {
    "slideshow": {
     "slide_type": "fragment"
    }
   },
   "outputs": [
    {
     "data": {
      "text/plain": [
       ":((1 - 2) * (3 - 4) * sqrt(2))"
      ]
     },
     "execution_count": 95,
     "metadata": {},
     "output_type": "execute_result"
    }
   ],
   "source": [
    "switch_to_subtraction!(expr)\n",
    "\n",
    "expr"
   ]
  },
  {
   "cell_type": "markdown",
   "metadata": {
    "slideshow": {
     "slide_type": "subslide"
    }
   },
   "source": [
    "### Macros\n",
    "\n",
    "A macro is written just like a normal Julia function. The difference is that a macro operates on the *expression* itself, not on its value:"
   ]
  },
  {
   "cell_type": "code",
   "execution_count": 96,
   "metadata": {
    "slideshow": {
     "slide_type": "fragment"
    }
   },
   "outputs": [
    {
     "data": {
      "text/plain": [
       "@more_cats"
      ]
     },
     "execution_count": 96,
     "metadata": {},
     "output_type": "execute_result"
    }
   ],
   "source": [
    "\"\"\"\n",
    "Modify a given expression, replacing all string literals with \"cat\"\n",
    "\"\"\"\n",
    "macro more_cats(expr)\n",
    "    for i in eachindex(expr.args)\n",
    "        if expr.args[i] isa String\n",
    "            expr.args[i] = \"cat\"\n",
    "        end\n",
    "    end\n",
    "    return esc(expr)\n",
    "end"
   ]
  },
  {
   "cell_type": "markdown",
   "metadata": {
    "slideshow": {
     "slide_type": "fragment"
    }
   },
   "source": [
    "Macros are always called with the `@` prefix in Julia:"
   ]
  },
  {
   "cell_type": "code",
   "execution_count": 97,
   "metadata": {},
   "outputs": [
    {
     "name": "stdout",
     "output_type": "stream",
     "text": [
      "cat\n"
     ]
    }
   ],
   "source": [
    "@more_cats println(\"hello world\")"
   ]
  },
  {
   "cell_type": "markdown",
   "metadata": {
    "slideshow": {
     "slide_type": "subslide"
    }
   },
   "source": [
    "`@macroexpand` shows the code that another macro will generate:"
   ]
  },
  {
   "cell_type": "code",
   "execution_count": 98,
   "metadata": {
    "slideshow": {
     "slide_type": "-"
    }
   },
   "outputs": [
    {
     "data": {
      "text/plain": [
       ":(println(\"cat\"))"
      ]
     },
     "execution_count": 98,
     "metadata": {},
     "output_type": "execute_result"
    }
   ],
   "source": [
    "@macroexpand @more_cats println(\"hello world\")"
   ]
  },
  {
   "cell_type": "markdown",
   "metadata": {
    "slideshow": {
     "slide_type": "subslide"
    }
   },
   "source": [
    "### Actually Useful Julia Macros"
   ]
  },
  {
   "cell_type": "markdown",
   "metadata": {
    "slideshow": {
     "slide_type": "fragment"
    }
   },
   "source": [
    "`@show` : print out the *name* of a variable and its value. Great for quick debugging:"
   ]
  },
  {
   "cell_type": "code",
   "execution_count": 99,
   "metadata": {},
   "outputs": [
    {
     "name": "stdout",
     "output_type": "stream",
     "text": [
      "x = 5\n"
     ]
    },
    {
     "data": {
      "text/plain": [
       "5"
      ]
     },
     "execution_count": 99,
     "metadata": {},
     "output_type": "execute_result"
    }
   ],
   "source": [
    "x = 5\n",
    "@show x"
   ]
  },
  {
   "cell_type": "markdown",
   "metadata": {
    "slideshow": {
     "slide_type": "fragment"
    }
   },
   "source": [
    "`@time` measure the elapsed time of an expression and return the result of that expression:"
   ]
  },
  {
   "cell_type": "code",
   "execution_count": 100,
   "metadata": {},
   "outputs": [
    {
     "name": "stdout",
     "output_type": "stream",
     "text": [
      "  0.005889 seconds (6 allocations: 464 bytes)\n"
     ]
    },
    {
     "data": {
      "text/plain": [
       "1.772453850905516027298167483341145182797549456122387128213807789852911284591025"
      ]
     },
     "execution_count": 100,
     "metadata": {},
     "output_type": "execute_result"
    }
   ],
   "source": [
    "@time sqrt(big(π))"
   ]
  },
  {
   "cell_type": "markdown",
   "metadata": {
    "slideshow": {
     "slide_type": "subslide"
    }
   },
   "source": [
    "`@showprogress`: Time each iteration of a loop and estimate how much longer it will take to finish:"
   ]
  },
  {
   "cell_type": "code",
   "execution_count": 101,
   "metadata": {},
   "outputs": [],
   "source": [
    "using ProgressMeter: @showprogress"
   ]
  },
  {
   "cell_type": "code",
   "execution_count": 102,
   "metadata": {},
   "outputs": [
    {
     "name": "stderr",
     "output_type": "stream",
     "text": [
      "\u001b[32mProgress: 100%|█████████████████████████████████████████| Time: 0:00:03\u001b[39m\n"
     ]
    }
   ],
   "source": [
    "@showprogress for i in 1:100\n",
    "    sum(rand(10^7))\n",
    "end"
   ]
  },
  {
   "cell_type": "markdown",
   "metadata": {
    "slideshow": {
     "slide_type": "slide"
    }
   },
   "source": [
    "# What's Hard to Do in Julia?\n",
    "\n",
    "What is the compiler team working on making better? https://discourse.julialang.org/t/compiler-work-priorities/17623\n",
    "\n",
    "What are some subtle problems that the Julia team would like to fix?\n",
    "\n",
    "[![What's bad about Julia talk](img/bad_about_julia.png)](https://www.youtube.com/watch?v=TPuJsgyu87U)\n",
    "\n"
   ]
  },
  {
   "cell_type": "markdown",
   "metadata": {
    "slideshow": {
     "slide_type": "subslide"
    }
   },
   "source": [
    "## Compiler Latency\n",
    "\n",
    "* The JIT compiler runs each time it sees a function being called with a new input type. \n",
    "* That makes the first call to every function slow, since you have to wait for the JIT.\n",
    "  * This makes Julia awkward to use for things like shell scripts or AWS lambda"
   ]
  },
  {
   "cell_type": "markdown",
   "metadata": {
    "slideshow": {
     "slide_type": "subslide"
    }
   },
   "source": [
    "## Static Compilation\n",
    "\n",
    "* To avoid the JIT lag, you can compile a Julia package to a standalone executable using [PackageCompiler.jl](https://github.com/JuliaLang/PackageCompiler.jl), but:\n",
    "    * This workflow is pretty new, and you may run into interesting bugs\n",
    "    * The resulting libraries tend to be quite large"
   ]
  },
  {
   "cell_type": "markdown",
   "metadata": {
    "slideshow": {
     "slide_type": "subslide"
    }
   },
   "source": [
    "## Embedded Computing\n",
    "\n",
    "* It can be hard to run Julia on memory-limited systems, since you need the compiler living alongside your code. \n",
    "* Static compilation can help, but this isn't a well-developed workflow yet."
   ]
  },
  {
   "cell_type": "markdown",
   "metadata": {
    "slideshow": {
     "slide_type": "subslide"
    }
   },
   "source": [
    "## Static Analysis\n",
    "\n",
    "* There are some linting tools for Julia (like the `vscode-julia` extension for Visual Studio Code), but they are not as mature as languages like Python, C, Java, etc.\n",
    "* Static analysis of Julia is harder, since the language itself is dynamically typed. \n",
    "  * To be fair, static analysis of C++ is [undecidable](https://blog.reverberate.org/2013/08/parsing-c-is-literally-undecidable.html) but we still have tools that do a pretty good job most of the time. "
   ]
  },
  {
   "cell_type": "markdown",
   "metadata": {
    "slideshow": {
     "slide_type": "slide"
    }
   },
   "source": [
    "# Useful Julia Tools"
   ]
  },
  {
   "cell_type": "markdown",
   "metadata": {
    "slideshow": {
     "slide_type": "subslide"
    }
   },
   "source": [
    "## Juno IDE\n",
    "\n",
    "https://junolab.org/\n",
    "\n",
    "* Built-in debugger and profiler support\n",
    "* Inline evaluation of expressions\n",
    "* Docstring lookup and autocomplete\n",
    "\n",
    "\n",
    "<img src=\"img/juno.png\" width=\"700px\"></img>"
   ]
  },
  {
   "cell_type": "markdown",
   "metadata": {
    "slideshow": {
     "slide_type": "subslide"
    }
   },
   "source": [
    "## Julia-VSCode\n",
    "\n",
    "https://github.com/julia-vscode/julia-vscode\n",
    "\n",
    "* Code highlighting, snippets, linting, and completions\n",
    "* Integrated plot and table viewers\n",
    "* General extension support via the VSCode language server\n",
    "\n",
    "<img src=\"img/vscode.png\" width=\"700px\"></img>"
   ]
  },
  {
   "cell_type": "markdown",
   "metadata": {
    "slideshow": {
     "slide_type": "subslide"
    }
   },
   "source": [
    "## Flux.jl\n",
    "\n",
    "https://fluxml.ai/Flux.jl/stable/\n",
    "\n",
    "* Flexible library for machine learning built entirely in Julia\n",
    "* Feed-forward and recurrent neural nets\n",
    "* Gradients via automatic differentiation\n",
    "* GPU support via CuArrays.jl\n",
    "\n",
    "```julia\n",
    "m = Chain(\n",
    "  Dense(784, 32, σ),\n",
    "  Dense(32, 10), softmax\n",
    ")\n",
    "\n",
    "loss(x, y) = Flux.mse(m(x), y)\n",
    "ps = Flux.params(m)\n",
    "\n",
    "for i in 1:num_training_iters\n",
    "    Flux.train!(loss, ps, data, opt)\n",
    "end\n",
    "```"
   ]
  },
  {
   "cell_type": "markdown",
   "metadata": {
    "slideshow": {
     "slide_type": "subslide"
    }
   },
   "source": [
    "## DifferentialEquations.jl\n",
    "\n",
    "https://github.com/SciML/DifferentialEquations.jl\n",
    "\n",
    "* {stochastic | deterministic | ordinary | partial} differential equations\n",
    "* Automatic differentiation and sparsity detection\n",
    "* GPU support\n",
    "* Sensitivity analysis and parameter estimation\n",
    "* Access to pure-Julia solvers and existing C and Fortran solvers\n",
    "\n",
    "\n",
    "<img src=\"img/DifferentialEquations_Example.png\" width=\"500px\"></img>"
   ]
  },
  {
   "cell_type": "markdown",
   "metadata": {
    "slideshow": {
     "slide_type": "subslide"
    }
   },
   "source": [
    "## DataFrames.jl\n",
    "\n",
    "https://github.com/JuliaData/DataFrames.jl\n",
    "\n",
    "* In-memory tabular data\n",
    "* Joining, indexing, grouping, and split-apply-combine\n",
    "\n",
    "```julia\n",
    "julia> using DataFrames\n",
    "\n",
    "julia> df = DataFrame(A = 1:4, B = [\"M\", \"F\", \"F\", \"M\"])\n",
    "4×2 DataFrame\n",
    "│ Row │ A     │ B      │\n",
    "│     │ Int64 │ String │\n",
    "├─────┼───────┼────────┤\n",
    "│ 1   │ 1     │ M      │\n",
    "│ 2   │ 2     │ F      │\n",
    "│ 3   │ 3     │ F      │\n",
    "│ 4   │ 4     │ M      │\n",
    "```"
   ]
  },
  {
   "cell_type": "markdown",
   "metadata": {
    "slideshow": {
     "slide_type": "subslide"
    }
   },
   "source": [
    "## JuMP.jl\n",
    "\n",
    "https://github.com/JuliaOpt/JuMP.jl\n",
    "\n",
    "* Continuous and discrete optimization\n",
    "* Support for a wide variety of free and commercial solvers\n",
    "* Efficient high-level language for mathematical programming\n",
    "\n",
    "\n",
    "Example: Solving a simple model-predictive control problem as a quadratic program ([source](https://github.com/rdeits/DynamicWalking2018.jl/blob/master/notebooks/6.%20Optimization%20with%20JuMP.ipynb)):\n",
    "\n",
    "[![demo of a simple model-predictive control problem](img/mpc.gif)](https://github.com/rdeits/DynamicWalking2018.jl/blob/master/notebooks/6.%20Optimization%20with%20JuMP.ipynb)\n",
    "\n"
   ]
  },
  {
   "cell_type": "markdown",
   "metadata": {
    "slideshow": {
     "slide_type": "subslide"
    }
   },
   "source": [
    "### Cassette.jl\n",
    "\n",
    "https://www.youtube.com/watch?v=_E2zEzNEy-8\n",
    "\n",
    "\"Overdub\" Julia code: \n",
    "\n",
    "* Hook into the compiler to dynamically modify the behavior of existing functions in a given *context*\n",
    "* Building block for debuggers, automatic differentation, and more.\n",
    "\n",
    "<img src=\"img/cassette-logo.png\" width=\"600px\"/>"
   ]
  },
  {
   "cell_type": "markdown",
   "metadata": {
    "slideshow": {
     "slide_type": "slide"
    }
   },
   "source": [
    "# Where To Go Next?\n",
    "\n",
    "* Download Julia from https://julialang.org/\n",
    "* Check out the manual at https://docs.julialang.org/en/v1/\n",
    "* Ask questions on [discourse](https://discourse.julialang.org/) and [slack](https://slackinvite.julialang.org/)\n",
    "* Find interesting packages on [juliahub](https://juliahub.com/ui/Home)\n",
    "\n",
    "![triangulated background](img/julia-triangle-background.svg)\n",
    "\n",
    "[Logo by Cormullion and David P. Saunders](https://nbviewer.jupyter.org/github/dpsanders/JuliaCon2019_tshirt/blob/master/penroseiana.ipynb)"
   ]
  }
 ],
 "metadata": {
  "@webio": {
   "lastCommId": null,
   "lastKernelId": null
  },
  "celltoolbar": "Slideshow",
  "kernelspec": {
   "display_name": "julia 1.7.1",
   "language": "julia",
   "name": "julia-1.7"
  },
  "language_info": {
   "file_extension": ".jl",
   "mimetype": "application/julia",
   "name": "julia",
   "version": "1.7.1"
  }
 },
 "nbformat": 4,
 "nbformat_minor": 2
}
